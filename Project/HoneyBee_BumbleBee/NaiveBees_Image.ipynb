{
 "cells": [
  {
   "attachments": {},
   "cell_type": "markdown",
   "metadata": {},
   "source": [
    "# Classification of Honye bee or Bumble bee from Images"
   ]
  },
  {
   "cell_type": "code",
   "execution_count": null,
   "metadata": {},
   "outputs": [],
   "source": [
    "# Used to change filepaths\n",
    "from pathlib import Path\n",
    "\n",
    "# We set up matplotlib, pandas, and the display function\n",
    "%matplotlib inline\n",
    "import matplotlib.pyplot as plt\n",
    "from IPython.display import display\n",
    "import pandas as pd\n",
    "\n",
    "import numpy as np\n",
    "\n",
    "# import Image from PIL so we can use it later\n",
    "from PIL import Image\n",
    "\n",
    "# generate test_data\n",
    "test_data=np.random.beta(a=1, b=1, size=(100, 100, 3))\n",
    "\n",
    "# display the test_data\n",
    "plt.imshow(test_data)"
   ]
  },
  {
   "attachments": {},
   "cell_type": "markdown",
   "metadata": {},
   "source": [
    "Pillow is a very flexible image loading and manipulation library. It works with many different image formats, for example, .png, .jpg, .gif and more. For most image data, one can work with images using the Pillow library (which is imported as PIL)."
   ]
  },
  {
   "cell_type": "code",
   "execution_count": null,
   "metadata": {},
   "outputs": [],
   "source": [
    "# open the image\n",
    "img =Image.open('honey.jpg')\n",
    "\n",
    "# Get the image size\n",
    "img_size = img.size\n",
    "\n",
    "print(\"The image size is: {}\".format(img_size))\n",
    "\n",
    "# Just having the image as the last line in the cell will display it in the notebook\n",
    "img"
   ]
  },
  {
   "attachments": {},
   "cell_type": "markdown",
   "metadata": {},
   "source": [
    "### Image Augementation using crop, roate, transpost "
   ]
  },
  {
   "attachments": {},
   "cell_type": "markdown",
   "metadata": {},
   "source": [
    " img.crop() takes a tuple (left, upper, right, lower) as an argument, </br>\n",
    " img.rotate() takes an angle in degrees, </br>\n",
    " img.transpose() takes a method argument"
   ]
  },
  {
   "cell_type": "code",
   "execution_count": null,
   "metadata": {},
   "outputs": [],
   "source": [
    "# Crop the image to 25, 25, 75, 75\n",
    "img_cropped = img.crop((25, 25, 75, 75))\n",
    "display(img_cropped)\n",
    "\n",
    "# rotate the image by 45 degrees\n",
    "img_rotated = img.rotate(45)\n",
    "display(img_rotated)\n",
    "\n",
    "# flip the image left to right\n",
    "img_flipped = img.transpose(method=Image.FLIP_LEFT_RIGHT)\n",
    "display(img_flipped)"
   ]
  },
  {
   "attachments": {},
   "cell_type": "markdown",
   "metadata": {},
   "source": [
    "#### Image as arrays of data"
   ]
  },
  {
   "cell_type": "code",
   "execution_count": null,
   "metadata": {},
   "outputs": [],
   "source": [
    "# Turn our image object into a NumPy array\n",
    "img_data = np.array(img)\n",
    "\n",
    "# get the shape of the resulting array\n",
    "img_data_shape = img_data.shape\n",
    "\n",
    "print(\"Our NumPy array has the shape: {}\".format(img_data_shape))\n",
    "\n",
    "# plot the data with `imshow` \n",
    "plt.imshow(img_data)\n",
    "plt.show()\n",
    "\n",
    "# plot the red channel\n",
    "plt.imshow(img_data[:,:,0], cmap=plt.cm.Reds_r)\n",
    "plt.show()\n",
    "\n",
    "# plot the green channel\n",
    "plt.imshow(img_data[:,:,1], cmap=plt.cm.Greens_r)\n",
    "plt.show()\n",
    "\n",
    "# plot the blue channel\n",
    "plt.imshow(img_data[:,:,2], cmap=plt.cm.Blues_r)\n",
    "plt.show()"
   ]
  },
  {
   "attachments": {},
   "cell_type": "markdown",
   "metadata": {},
   "source": [
    "#### Explore the color channels to understand the images."
   ]
  },
  {
   "cell_type": "code",
   "execution_count": null,
   "metadata": {},
   "outputs": [],
   "source": [
    "def plot_kde(channel, color):\n",
    "    \n",
    "    \"\"\" Plots a kernel density estimate for the given data.\n",
    "        \n",
    "        `channel` must be a 2d array\n",
    "        `color` must be a color string, e.g. 'r', 'g', or 'b'\n",
    "    \"\"\"\n",
    "    data = channel.flatten()\n",
    "    return pd.Series(data).plot.density(c=color)\n",
    "\n",
    "# create the list of channels\n",
    "channels = ['r','g','b']\n",
    "    \n",
    "def plot_rgb(image_data):\n",
    "    # use enumerate to loop over colors and indexes\n",
    "    for ix, color in enumerate(channels):\n",
    "        channel_data = image_data[:, :, ix]\n",
    "        plot_kde(channel_data, color)\n",
    "\n",
    "    plt.show()\n",
    "    \n",
    "plot_rgb(img_data)"
   ]
  },
  {
   "attachments": {},
   "cell_type": "markdown",
   "metadata": {},
   "source": [
    "#### Comparison of two bees (1. Honey, 2. Bumble)"
   ]
  },
  {
   "cell_type": "code",
   "execution_count": null,
   "metadata": {},
   "outputs": [],
   "source": [
    "# load bee_12.jpg as honey\n",
    "honey =Image.open('honey.jpg')\n",
    "\n",
    "# display the honey bee image\n",
    "display(honey)\n",
    "\n",
    "# NumPy array of the honey bee image data\n",
    "honey_data = np.array(honey)\n",
    "\n",
    "# plot the rgb densities for the honey bee image\n",
    "plot_rgb(honey_data)"
   ]
  },
  {
   "cell_type": "code",
   "execution_count": null,
   "metadata": {},
   "outputs": [],
   "source": [
    "# load bee_3.jpg as bumble\n",
    "bumble = Image.open('bumble.jpg')\n",
    "\n",
    "# display the bumble bee image\n",
    "display(bumble)\n",
    "\n",
    "# NumPy array of the bumble bee image data\n",
    "bumble_data = np.array(bumble)\n",
    "\n",
    "# plot the rgb densities for the bumble bee image\n",
    "plot_rgb(bumble_data)"
   ]
  },
  {
   "attachments": {},
   "cell_type": "markdown",
   "metadata": {},
   "source": [
    "#### Convert the color to greyscale\n",
    "As the bees and flowers are all similar color, convert them to greyscale images to avoid the distraction. </br>\n",
    "Note! the channels number has been changed"
   ]
  },
  {
   "cell_type": "code",
   "execution_count": null,
   "metadata": {},
   "outputs": [],
   "source": [
    "# load bee_12.jpg as honey\n",
    "honey = Image.open('honey.jpg')\n",
    "\n",
    "# convert honey to grayscale\n",
    "honey_bw = honey.convert(\"L\")\n",
    "display(honey_bw)\n",
    "\n",
    "# convert the image to a NumPy array\n",
    "honey_bw_arr = np.array(honey_bw)\n",
    "\n",
    "# get the shape of the resulting array\n",
    "honey_bw_arr_shape = honey_bw_arr.shape\n",
    "print(\"Our NumPy array has the shape: {}\".format(honey_bw_arr_shape))\n",
    "\n",
    "# plot the array using matplotlib\n",
    "plt.imshow(honey_bw_arr, cmap=plt.cm.gray)\n",
    "plt.show()\n",
    "\n",
    "# plot the kde of the new black and white array\n",
    "plot_kde(honey_bw_arr, 'k')"
   ]
  },
  {
   "attachments": {},
   "cell_type": "markdown",
   "metadata": {},
   "source": [
    "Save the image after...</br>\n",
    "1. Flip the image left-to-right </br>\n",
    "2. clipping - by usin np.maximum function (smaller than 100, replace with 100) to reduce the range of values (Increase Image contrast) "
   ]
  },
  {
   "cell_type": "code",
   "execution_count": null,
   "metadata": {},
   "outputs": [],
   "source": [
    "# flip the image left-right with transpose\n",
    "honey_bw_flip = honey_bw.transpose(method=Image.FLIP_LEFT_RIGHT)\n",
    "\n",
    "# show the flipped image\n",
    "display(honey_bw_flip)\n",
    "\n",
    "# save the flipped image\n",
    "honey_bw_flip.save('bw_flipped.jpg')\n",
    "\n",
    "# create higher contrast by reducing range\n",
    "honey_hc_arr = np.maximum(honey_bw_arr, 100)\n",
    "\n",
    "# show the higher contrast version\n",
    "plt.imshow(honey_hc_arr, cmap=plt.cm.gray)\n",
    "\n",
    "# convert the NumPy array of high contrast to an Image\n",
    "honey_bw_hc = Image.fromarray(honey_hc_arr)\n",
    "\n",
    "# save the high contrast version\n",
    "honey_bw_hc.save('bw_hc.jpg')"
   ]
  },
  {
   "attachments": {},
   "cell_type": "markdown",
   "metadata": {},
   "source": [
    "### Making a Pipeline"
   ]
  },
  {
   "cell_type": "code",
   "execution_count": null,
   "metadata": {},
   "outputs": [],
   "source": [
    "image_paths = ['bee_1.jpg', 'bee_12.jpg', 'bee_2.jpg', 'bee_3.jpg']\n",
    "\n",
    "def process_image(path):\n",
    "    img = Image.open(path)\n",
    "\n",
    "    # create paths to save files to\n",
    "    bw_path = \"saved_images/bw_{}.jpg\".format(path.stem)\n",
    "    rcz_path = \"saved_images/rcz_{}.jpg\".format(path.stem)\n",
    "\n",
    "    print(\"Creating grayscale version of {} and saving to {}.\".format(path, bw_path))\n",
    "    bw = img.convert(\"L\")\n",
    "    bw.save(bw_path)\n",
    "\n",
    "    print(\"Creating rotated, cropped, and zoomed version of {} and saving to {}.\".format(path, rcz_path))\n",
    "    rcz = img.crop((25,25,75,75)).rotate(45).resize((100,100))\n",
    "    rcz.save(rcz_path)\n",
    "\n",
    "# for loop over image paths\n",
    "for img_path in image_paths:\n",
    "    process_image(Path(img_path))"
   ]
  }
 ],
 "metadata": {
  "language_info": {
   "name": "python"
  },
  "orig_nbformat": 4
 },
 "nbformat": 4,
 "nbformat_minor": 2
}
