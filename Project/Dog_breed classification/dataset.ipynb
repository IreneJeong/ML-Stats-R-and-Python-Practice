{
 "cells": [
  {
   "cell_type": "code",
   "execution_count": null,
   "metadata": {},
   "outputs": [],
   "source": [
    "import torchvision\n",
    "from torchvision import datasets, models, transforms\n",
    "from torch.utils.data import Dataset, DataLoader\n",
    "import numpy as np\n",
    "import pandas as pd\n",
    "import os\n",
    "from skimage import io, transform\n",
    "from PIL import Image"
   ]
  },
  {
   "cell_type": "code",
   "execution_count": null,
   "metadata": {},
   "outputs": [],
   "source": [
    "class DogsDataset(Dataset):\n",
    "\n",
    "\tdef __init__(self, csv_file='', root_dir=\"/\", transform=None, mode='train'):\n",
    "\t\t\"\"\"\n",
    "\t\tArgs:\n",
    "\t\t\tcsv_file (string): Path to the csv file with annotations.\n",
    "\t\t\troot_dir (string): Directory with all the images.\n",
    "\t\t\ttransform (callable, optional): Optional transform to be applied\n",
    "\t\t\t\ton a sample.\n",
    "\t\t\"\"\"\n",
    "\t\tself.NUM_CLASSES = 120\n",
    "\t\tself.mode = mode\n",
    "\t\t\n",
    "\t\tself.labels = self.parseData(csv_file)\n",
    "\t\tself.root_dir = root_dir\n",
    "\t\tself.transform = transform\n",
    "\n",
    "\tdef parseData(self, file_path):\n",
    "\t\tdata = pd.read_csv(file_path)\n",
    "\t\t#selected_breed_list = list(data.groupby('breed').count().sort_values(by='id', ascending=False).head(self.NUM_CLASSES).index)\n",
    "\t\t#data = data[data['breed'].isin(selected_breed_list)]\n",
    "\t\tdata['target'] = 1\n",
    "\t\t#data['rank'] = data.groupby('breed').rank()['id']\n",
    "\t\tif self.mode is 'train':\n",
    "\t\t\tdata_pivot = data.pivot('id', 'breed', 'target').reset_index().fillna(0)\n",
    "\t\telse:\n",
    "\t\t\tdata_pivot = data.pivot('id','target').reset_index().fillna(0)\n",
    "\t\t#data_pivot = data.pivot('id', 'breed').reset_index().fillna(0)\n",
    "\t\t#print(data_pivot['breed'].unique())\n",
    "\t\t\t\n",
    "\t\t\n",
    "\t\treturn data_pivot\n",
    "\n",
    "\tdef __len__(self):\n",
    "\t\treturn len(self.labels)\n",
    "\t\n",
    "\tdef __getitem__(self, idx):\n",
    "\t\timg_name = os.path.join(self.root_dir,\n",
    "\t\t\t\t\t\t\t\tself.labels.iloc[idx, 0]+'.jpg')\n",
    "\t\timage = Image.open(img_name)\n",
    "\t\t\n",
    "\t\tif self.mode is 'train':\n",
    "\t\t\tlabels = self.labels.iloc[idx, 1:].as_matrix().astype('float32')\n",
    "\t\t\tlabel = np.argmax(labels)\n",
    "\t\telse:\n",
    "\t\t\tlabel = self.labels.iloc[idx, 0]\n",
    "\t\t\t\n",
    "\t\tif self.transform:\n",
    "\t\t\timage = self.transform(image)\n",
    "\t\tsample = (image,label)\n",
    "#\t\tsample = (image, labels)\n",
    "\n",
    "\t\treturn sample"
   ]
  },
  {
   "cell_type": "code",
   "execution_count": null,
   "metadata": {},
   "outputs": [],
   "source": []
  }
 ],
 "metadata": {
  "kernelspec": {
   "display_name": "base",
   "language": "python",
   "name": "python3"
  },
  "language_info": {
   "name": "python",
   "version": "3.8.13"
  },
  "orig_nbformat": 4
 },
 "nbformat": 4,
 "nbformat_minor": 2
}
