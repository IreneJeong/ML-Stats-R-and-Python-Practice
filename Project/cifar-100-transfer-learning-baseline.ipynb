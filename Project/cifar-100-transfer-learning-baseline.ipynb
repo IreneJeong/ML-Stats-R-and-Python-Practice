{
 "cells": [
  {
   "attachments": {},
   "cell_type": "markdown",
   "id": "8a994cc1",
   "metadata": {
    "execution": {
     "iopub.execute_input": "2021-10-21T18:31:15.500138Z",
     "iopub.status.busy": "2021-10-21T18:31:15.499353Z",
     "iopub.status.idle": "2021-10-21T18:31:15.60131Z",
     "shell.execute_reply": "2021-10-21T18:31:15.600067Z",
     "shell.execute_reply.started": "2021-10-21T18:31:15.500024Z"
    },
    "papermill": {
     "duration": 0.012259,
     "end_time": "2022-12-19T13:41:30.656622",
     "exception": false,
     "start_time": "2022-12-19T13:41:30.644363",
     "status": "completed"
    },
    "tags": []
   },
   "source": [
    "<a id=\"top\"></a>\n",
    "\n",
    "<div class=\"list-group\" id=\"list-tab\" role=\"tablist\">\n",
    "<h3 class=\"list-group-item list-group-item-action active\" data-toggle=\"list\" style='color:white; background:#6A0DAD; border:0' role=\"tab\" aria-controls=\"home\"><center>Quick Navigation</center></h3>\n",
    "\n",
    "* [Introduction](#1)\n",
    "* [Import and Pre-Processing](#2)\n",
    "* [Build and Train model](#3)\n",
    "* [Evaluate Model](#4)"
   ]
  },
  {
   "attachments": {},
   "cell_type": "markdown",
   "id": "cb6a6ad9",
   "metadata": {
    "papermill": {
     "duration": 0.010469,
     "end_time": "2022-12-19T13:41:30.679506",
     "exception": false,
     "start_time": "2022-12-19T13:41:30.669037",
     "status": "completed"
    },
    "tags": []
   },
   "source": [
    "<a id=\"1\"></a>\n",
    "<h3 style='background:#6A0DAD; border:0; color:white'><center>Introduction<center><h3>"
   ]
  },
  {
   "cell_type": "markdown",
   "id": "e187a74a",
   "metadata": {
    "papermill": {
     "duration": 0.010543,
     "end_time": "2022-12-19T13:41:30.700753",
     "exception": false,
     "start_time": "2022-12-19T13:41:30.690210",
     "status": "completed"
    },
    "tags": []
   },
   "source": [
    "**CIFAR-100** is a dataset that contains 60,000 color images of 32x32 pixels with 3 channels, the dataset contains 20 superclasses and 100 object classes. The training dataset contains 50,000 images and the test dataset contains 10,000 images. More information on the dataset can be obtained from the link: https://www.cs.toronto.edu/~kriz/cifar.html\n",
    "\n",
    "This notebook provides a baseline for solving the problem of multi-label classification using Transfer Learning with Convolutional Neural Network in TensorFlow.\n",
    "\n",
    "Several images of bicycles from Google Search are used to predict the trained model."
   ]
  },
  {
   "attachments": {},
   "cell_type": "markdown",
   "id": "31deb238",
   "metadata": {
    "papermill": {
     "duration": 0.010516,
     "end_time": "2022-12-19T13:41:30.722115",
     "exception": false,
     "start_time": "2022-12-19T13:41:30.711599",
     "status": "completed"
    },
    "tags": []
   },
   "source": [
    "<a id=\"2\"></a>\n",
    "<h3 style='background:#6A0DAD; border:0; color:white'><center>Import and Pre-Processing<center><h3>"
   ]
  },
  {
   "cell_type": "code",
   "execution_count": 1,
   "id": "356318ae",
   "metadata": {
    "execution": {
     "iopub.execute_input": "2022-12-19T13:41:30.826821Z",
     "iopub.status.busy": "2022-12-19T13:41:30.826070Z",
     "iopub.status.idle": "2022-12-19T13:41:35.807939Z",
     "shell.execute_reply": "2022-12-19T13:41:35.807334Z",
     "shell.execute_reply.started": "2021-10-22T20:40:10.466813Z"
    },
    "papermill": {
     "duration": 5.0747,
     "end_time": "2022-12-19T13:41:35.808104",
     "exception": false,
     "start_time": "2022-12-19T13:41:30.733404",
     "status": "completed"
    },
    "tags": []
   },
   "outputs": [],
   "source": [
    "# Importing the required libraries and dataset\n",
    "import os\n",
    "import itertools\n",
    "os.environ['TF_CPP_MIN_LOG_LEVEL'] = '3' # Hide all TensorFlow debugging logs\n",
    "\n",
    "import numpy as np\n",
    "import matplotlib.pyplot as plt\n",
    "\n",
    "import tensorflow as tf\n",
    "from tensorflow.keras.preprocessing.image import ImageDataGenerator, load_img, img_to_array\n",
    "from tensorflow.keras.datasets import cifar100\n",
    "from tensorflow.keras.utils import to_categorical\n",
    "from tensorflow.keras.applications import efficientnet\n",
    "from tensorflow.keras.models import Sequential, Model, load_model\n",
    "from tensorflow.keras.layers import Activation, Conv2D, MaxPooling2D, Flatten, Dense, Dropout, BatchNormalization, GlobalAveragePooling2D \n",
    "from tensorflow.keras.callbacks import ModelCheckpoint, EarlyStopping, TensorBoard\n",
    "\n",
    "from sklearn.model_selection import train_test_split\n",
    "from sklearn.metrics import classification_report\n",
    "from sklearn.metrics import confusion_matrix"
   ]
  },
  {
   "cell_type": "code",
   "execution_count": 2,
   "id": "790f1ab5",
   "metadata": {
    "execution": {
     "iopub.execute_input": "2022-12-19T13:41:35.835256Z",
     "iopub.status.busy": "2022-12-19T13:41:35.834444Z",
     "iopub.status.idle": "2022-12-19T13:41:44.381739Z",
     "shell.execute_reply": "2022-12-19T13:41:44.381199Z",
     "shell.execute_reply.started": "2021-10-22T20:40:10.478127Z"
    },
    "papermill": {
     "duration": 8.562605,
     "end_time": "2022-12-19T13:41:44.381887",
     "exception": false,
     "start_time": "2022-12-19T13:41:35.819282",
     "status": "completed"
    },
    "tags": []
   },
   "outputs": [],
   "source": [
    "# Load dataset and pre-process data (Total data -> train and test)\n",
    "# In CIFAR-100, 50000 train + 10000 test\n",
    "(X_train, y_train), (X_test, y_test) = cifar100.load_data()\n",
    "\n",
    "# Normalize the images (0 to 1)\n",
    "X_train = X_train / 255.0\n",
    "X_test = X_test / 255.0"
   ]
  },
  {
   "cell_type": "code",
   "execution_count": 3,
   "id": "4b7e6983",
   "metadata": {},
   "outputs": [
    {
     "data": {
      "text/plain": [
       "(50000, 32, 32, 3)"
      ]
     },
     "execution_count": 3,
     "metadata": {},
     "output_type": "execute_result"
    }
   ],
   "source": [
    "X_train.shape"
   ]
  },
  {
   "cell_type": "code",
   "execution_count": 4,
   "id": "ea778e53",
   "metadata": {},
   "outputs": [
    {
     "data": {
      "text/plain": [
       "(50000, 1)"
      ]
     },
     "execution_count": 4,
     "metadata": {},
     "output_type": "execute_result"
    }
   ],
   "source": [
    "y_train.shape"
   ]
  },
  {
   "cell_type": "code",
   "execution_count": 5,
   "id": "b7b6b6e3",
   "metadata": {},
   "outputs": [
    {
     "data": {
      "text/plain": [
       "array([[[[1.        , 1.        , 1.        ],\n",
       "         [1.        , 1.        , 1.        ],\n",
       "         [1.        , 1.        , 1.        ],\n",
       "         ...,\n",
       "         [0.76470588, 0.80392157, 0.75686275],\n",
       "         [0.83137255, 0.87843137, 0.8       ],\n",
       "         [0.71372549, 0.76078431, 0.65490196]],\n",
       "\n",
       "        [[1.        , 1.        , 1.        ],\n",
       "         [0.99607843, 0.99607843, 0.99607843],\n",
       "         [0.99607843, 0.99607843, 0.99607843],\n",
       "         ...,\n",
       "         [0.66666667, 0.69019608, 0.58823529],\n",
       "         [0.63137255, 0.65882353, 0.50980392],\n",
       "         [0.57254902, 0.60392157, 0.44313725]],\n",
       "\n",
       "        [[1.        , 1.        , 1.        ],\n",
       "         [0.99607843, 0.99607843, 0.99607843],\n",
       "         [1.        , 1.        , 1.        ],\n",
       "         ...,\n",
       "         [0.74117647, 0.78039216, 0.6627451 ],\n",
       "         [0.65098039, 0.69803922, 0.50980392],\n",
       "         [0.4745098 , 0.52156863, 0.34117647]],\n",
       "\n",
       "        ...,\n",
       "\n",
       "        [[0.58039216, 0.7254902 , 0.30980392],\n",
       "         [0.55686275, 0.71372549, 0.22352941],\n",
       "         [0.54901961, 0.70196078, 0.23529412],\n",
       "         ...,\n",
       "         [0.11764706, 0.06666667, 0.00392157],\n",
       "         [0.25490196, 0.24313725, 0.05882353],\n",
       "         [0.29803922, 0.30196078, 0.07843137]],\n",
       "\n",
       "        [[0.47843137, 0.61568627, 0.25882353],\n",
       "         [0.47058824, 0.60784314, 0.22745098],\n",
       "         [0.49411765, 0.62745098, 0.27843137],\n",
       "         ...,\n",
       "         [0.08627451, 0.0627451 , 0.01176471],\n",
       "         [0.38039216, 0.43921569, 0.21960784],\n",
       "         [0.55294118, 0.63137255, 0.34117647]],\n",
       "\n",
       "        [[0.34117647, 0.47843137, 0.16078431],\n",
       "         [0.34509804, 0.47843137, 0.15294118],\n",
       "         [0.39607843, 0.5254902 , 0.21960784],\n",
       "         ...,\n",
       "         [0.13333333, 0.14117647, 0.03921569],\n",
       "         [0.41176471, 0.52156863, 0.23137255],\n",
       "         [0.54117647, 0.67843137, 0.30980392]]],\n",
       "\n",
       "\n",
       "       [[[1.        , 1.        , 1.        ],\n",
       "         [0.99215686, 0.99215686, 0.99215686],\n",
       "         [0.99215686, 0.99215686, 0.99215686],\n",
       "         ...,\n",
       "         [0.99215686, 0.99215686, 0.99215686],\n",
       "         [0.99215686, 0.99215686, 0.99215686],\n",
       "         [1.        , 1.        , 1.        ]],\n",
       "\n",
       "        [[1.        , 1.        , 1.        ],\n",
       "         [1.        , 1.        , 1.        ],\n",
       "         [1.        , 1.        , 1.        ],\n",
       "         ...,\n",
       "         [1.        , 1.        , 1.        ],\n",
       "         [1.        , 1.        , 1.        ],\n",
       "         [1.        , 1.        , 1.        ]],\n",
       "\n",
       "        [[1.        , 1.        , 1.        ],\n",
       "         [1.        , 1.        , 1.        ],\n",
       "         [1.        , 1.        , 1.        ],\n",
       "         ...,\n",
       "         [1.        , 1.        , 1.        ],\n",
       "         [1.        , 1.        , 1.        ],\n",
       "         [1.        , 1.        , 1.        ]],\n",
       "\n",
       "        ...,\n",
       "\n",
       "        [[1.        , 1.        , 1.        ],\n",
       "         [1.        , 1.        , 1.        ],\n",
       "         [1.        , 1.        , 1.        ],\n",
       "         ...,\n",
       "         [1.        , 1.        , 1.        ],\n",
       "         [1.        , 1.        , 1.        ],\n",
       "         [1.        , 1.        , 1.        ]],\n",
       "\n",
       "        [[1.        , 1.        , 1.        ],\n",
       "         [1.        , 1.        , 1.        ],\n",
       "         [1.        , 1.        , 1.        ],\n",
       "         ...,\n",
       "         [1.        , 1.        , 1.        ],\n",
       "         [1.        , 1.        , 1.        ],\n",
       "         [1.        , 1.        , 1.        ]],\n",
       "\n",
       "        [[1.        , 1.        , 1.        ],\n",
       "         [0.99215686, 0.99215686, 0.99215686],\n",
       "         [0.99215686, 0.99215686, 0.99215686],\n",
       "         ...,\n",
       "         [0.99215686, 0.99215686, 0.99215686],\n",
       "         [0.99215686, 0.99215686, 0.99215686],\n",
       "         [1.        , 1.        , 1.        ]]],\n",
       "\n",
       "\n",
       "       [[[0.98039216, 0.98039216, 0.97254902],\n",
       "         [0.97254902, 0.97647059, 0.95294118],\n",
       "         [0.96862745, 0.97254902, 0.9372549 ],\n",
       "         ...,\n",
       "         [0.98039216, 0.98039216, 0.96470588],\n",
       "         [0.98039216, 0.98039216, 0.96470588],\n",
       "         [0.97647059, 0.98039216, 0.96470588]],\n",
       "\n",
       "        [[0.98039216, 0.98431373, 0.96078431],\n",
       "         [0.97254902, 0.97647059, 0.93333333],\n",
       "         [0.96862745, 0.96862745, 0.91764706],\n",
       "         ...,\n",
       "         [0.98431373, 0.98431373, 0.94901961],\n",
       "         [0.98431373, 0.98823529, 0.95294118],\n",
       "         [0.98039216, 0.98431373, 0.95294118]],\n",
       "\n",
       "        [[0.98431373, 0.98431373, 0.95686275],\n",
       "         [0.98039216, 0.97254902, 0.92941176],\n",
       "         [0.98039216, 0.96078431, 0.91372549],\n",
       "         ...,\n",
       "         [0.98039216, 0.97647059, 0.93333333],\n",
       "         [0.98039216, 0.97647059, 0.94117647],\n",
       "         [0.98039216, 0.97647059, 0.94901961]],\n",
       "\n",
       "        ...,\n",
       "\n",
       "        [[0.86666667, 0.83529412, 0.74901961],\n",
       "         [0.86666667, 0.80784314, 0.69019608],\n",
       "         [0.88235294, 0.81176471, 0.70980392],\n",
       "         ...,\n",
       "         [0.78039216, 0.69019608, 0.5254902 ],\n",
       "         [0.81176471, 0.75686275, 0.64705882],\n",
       "         [0.91372549, 0.89803922, 0.88627451]],\n",
       "\n",
       "        [[0.88235294, 0.8745098 , 0.8       ],\n",
       "         [0.89019608, 0.85882353, 0.76862745],\n",
       "         [0.89803922, 0.84705882, 0.78431373],\n",
       "         ...,\n",
       "         [0.8       , 0.7254902 , 0.59215686],\n",
       "         [0.83137255, 0.78823529, 0.70588235],\n",
       "         [0.91764706, 0.90980392, 0.89411765]],\n",
       "\n",
       "        [[0.91372549, 0.91372549, 0.88627451],\n",
       "         [0.91764706, 0.90980392, 0.87843137],\n",
       "         [0.92156863, 0.90196078, 0.88235294],\n",
       "         ...,\n",
       "         [0.85882353, 0.81960784, 0.76078431],\n",
       "         [0.8745098 , 0.84705882, 0.81176471],\n",
       "         [0.90980392, 0.90196078, 0.89411765]]],\n",
       "\n",
       "\n",
       "       ...,\n",
       "\n",
       "\n",
       "       [[[0.97254902, 0.95686275, 0.94901961],\n",
       "         [0.94117647, 0.90980392, 0.8745098 ],\n",
       "         [0.9254902 , 0.90980392, 0.8745098 ],\n",
       "         ...,\n",
       "         [0.91372549, 0.89803922, 0.87058824],\n",
       "         [0.90196078, 0.89411765, 0.87058824],\n",
       "         [0.93333333, 0.92941176, 0.91372549]],\n",
       "\n",
       "        [[0.88235294, 0.83529412, 0.8       ],\n",
       "         [0.72941176, 0.65490196, 0.58431373],\n",
       "         [0.68627451, 0.62352941, 0.54901961],\n",
       "         ...,\n",
       "         [0.63921569, 0.58039216, 0.5254902 ],\n",
       "         [0.61176471, 0.56470588, 0.52156863],\n",
       "         [0.75294118, 0.72156863, 0.69019608]],\n",
       "\n",
       "        [[0.81960784, 0.76078431, 0.70196078],\n",
       "         [0.56470588, 0.47058824, 0.37254902],\n",
       "         [0.54509804, 0.45098039, 0.34117647],\n",
       "         ...,\n",
       "         [0.42745098, 0.3372549 , 0.2627451 ],\n",
       "         [0.42745098, 0.35294118, 0.29803922],\n",
       "         [0.61568627, 0.56862745, 0.52941176]],\n",
       "\n",
       "        ...,\n",
       "\n",
       "        [[0.63137255, 0.62352941, 0.6       ],\n",
       "         [0.15294118, 0.13333333, 0.10980392],\n",
       "         [0.10980392, 0.07843137, 0.05490196],\n",
       "         ...,\n",
       "         [0.36470588, 0.28235294, 0.20784314],\n",
       "         [0.33333333, 0.2627451 , 0.19607843],\n",
       "         [0.53333333, 0.49411765, 0.45098039]],\n",
       "\n",
       "        [[0.70980392, 0.70196078, 0.6745098 ],\n",
       "         [0.3372549 , 0.3254902 , 0.30196078],\n",
       "         [0.27843137, 0.26666667, 0.24313725],\n",
       "         ...,\n",
       "         [0.47843137, 0.40392157, 0.34901961],\n",
       "         [0.41176471, 0.36078431, 0.32156863],\n",
       "         [0.59215686, 0.56862745, 0.55294118]],\n",
       "\n",
       "        [[0.87843137, 0.8745098 , 0.85490196],\n",
       "         [0.70588235, 0.70588235, 0.68627451],\n",
       "         [0.67843137, 0.6745098 , 0.65490196],\n",
       "         ...,\n",
       "         [0.76862745, 0.73333333, 0.70588235],\n",
       "         [0.71764706, 0.69803922, 0.68235294],\n",
       "         [0.8       , 0.80392157, 0.80392157]]],\n",
       "\n",
       "\n",
       "       [[[0.61176471, 0.60392157, 0.5372549 ],\n",
       "         [0.59215686, 0.57254902, 0.48235294],\n",
       "         [0.59215686, 0.56470588, 0.49019608],\n",
       "         ...,\n",
       "         [0.60784314, 0.58823529, 0.50588235],\n",
       "         [0.59607843, 0.58039216, 0.49019608],\n",
       "         [0.72941176, 0.72156863, 0.63921569]],\n",
       "\n",
       "        [[0.43137255, 0.41568627, 0.30196078],\n",
       "         [0.45490196, 0.42352941, 0.24313725],\n",
       "         [0.44705882, 0.39607843, 0.22352941],\n",
       "         ...,\n",
       "         [0.45490196, 0.41568627, 0.23921569],\n",
       "         [0.43529412, 0.40392157, 0.21960784],\n",
       "         [0.5254902 , 0.50588235, 0.36078431]],\n",
       "\n",
       "        [[0.45490196, 0.43921569, 0.32156863],\n",
       "         [0.48627451, 0.4627451 , 0.25882353],\n",
       "         [0.50196078, 0.4627451 , 0.2627451 ],\n",
       "         ...,\n",
       "         [0.38823529, 0.32941176, 0.16862745],\n",
       "         [0.39607843, 0.34117647, 0.16862745],\n",
       "         [0.50588235, 0.4627451 , 0.3372549 ]],\n",
       "\n",
       "        ...,\n",
       "\n",
       "        [[0.42745098, 0.39607843, 0.29019608],\n",
       "         [0.43921569, 0.39215686, 0.21176471],\n",
       "         [0.4627451 , 0.41176471, 0.24313725],\n",
       "         ...,\n",
       "         [0.49411765, 0.44313725, 0.25490196],\n",
       "         [0.49411765, 0.43529412, 0.23921569],\n",
       "         [0.54117647, 0.48627451, 0.34901961]],\n",
       "\n",
       "        [[0.38431373, 0.36078431, 0.24705882],\n",
       "         [0.36470588, 0.32156863, 0.1372549 ],\n",
       "         [0.37647059, 0.3254902 , 0.14901961],\n",
       "         ...,\n",
       "         [0.43921569, 0.37647059, 0.18431373],\n",
       "         [0.42745098, 0.36078431, 0.17647059],\n",
       "         [0.49803922, 0.44313725, 0.31372549]],\n",
       "\n",
       "        [[0.66666667, 0.65490196, 0.56862745],\n",
       "         [0.62745098, 0.6       , 0.4627451 ],\n",
       "         [0.63921569, 0.59607843, 0.46666667],\n",
       "         ...,\n",
       "         [0.63137255, 0.59215686, 0.44705882],\n",
       "         [0.61176471, 0.56470588, 0.41960784],\n",
       "         [0.63921569, 0.60392157, 0.49411765]]],\n",
       "\n",
       "\n",
       "       [[[0.12156863, 0.2627451 , 0.47843137],\n",
       "         [0.11764706, 0.26666667, 0.48627451],\n",
       "         [0.12156863, 0.27058824, 0.49411765],\n",
       "         ...,\n",
       "         [0.1254902 , 0.2745098 , 0.50588235],\n",
       "         [0.1254902 , 0.2745098 , 0.49019608],\n",
       "         [0.1254902 , 0.27058824, 0.47843137]],\n",
       "\n",
       "        [[0.11372549, 0.26666667, 0.49411765],\n",
       "         [0.10980392, 0.27058824, 0.50196078],\n",
       "         [0.11764706, 0.27058824, 0.50980392],\n",
       "         ...,\n",
       "         [0.1254902 , 0.2745098 , 0.51372549],\n",
       "         [0.1254902 , 0.27058824, 0.49803922],\n",
       "         [0.12156863, 0.27058824, 0.48627451]],\n",
       "\n",
       "        [[0.11764706, 0.2627451 , 0.49411765],\n",
       "         [0.11372549, 0.26666667, 0.50196078],\n",
       "         [0.11764706, 0.27058824, 0.50980392],\n",
       "         ...,\n",
       "         [0.1254902 , 0.28235294, 0.51764706],\n",
       "         [0.12156863, 0.2745098 , 0.50980392],\n",
       "         [0.11764706, 0.27058824, 0.49803922]],\n",
       "\n",
       "        ...,\n",
       "\n",
       "        [[0.15294118, 0.16078431, 0.29803922],\n",
       "         [0.14901961, 0.16470588, 0.29803922],\n",
       "         [0.14901961, 0.17254902, 0.30588235],\n",
       "         ...,\n",
       "         [0.15294118, 0.17254902, 0.30980392],\n",
       "         [0.14901961, 0.16470588, 0.30196078],\n",
       "         [0.15294118, 0.16078431, 0.29803922]],\n",
       "\n",
       "        [[0.15686275, 0.15294118, 0.28627451],\n",
       "         [0.15294118, 0.15686275, 0.29019608],\n",
       "         [0.15294118, 0.16078431, 0.29803922],\n",
       "         ...,\n",
       "         [0.15294118, 0.16078431, 0.29803922],\n",
       "         [0.15686275, 0.16078431, 0.29019608],\n",
       "         [0.15686275, 0.15294118, 0.28627451]],\n",
       "\n",
       "        [[0.15686275, 0.15294118, 0.2745098 ],\n",
       "         [0.15686275, 0.15294118, 0.27843137],\n",
       "         [0.15686275, 0.15294118, 0.28235294],\n",
       "         ...,\n",
       "         [0.16078431, 0.14901961, 0.28235294],\n",
       "         [0.15294118, 0.14901961, 0.27058824],\n",
       "         [0.15686275, 0.14509804, 0.2627451 ]]]])"
      ]
     },
     "execution_count": 5,
     "metadata": {},
     "output_type": "execute_result"
    }
   ],
   "source": [
    "X_train"
   ]
  },
  {
   "cell_type": "code",
   "execution_count": 6,
   "id": "3461038a",
   "metadata": {},
   "outputs": [
    {
     "data": {
      "text/plain": [
       "array([[19],\n",
       "       [29],\n",
       "       [ 0],\n",
       "       ...,\n",
       "       [ 3],\n",
       "       [ 7],\n",
       "       [73]])"
      ]
     },
     "execution_count": 6,
     "metadata": {},
     "output_type": "execute_result"
    }
   ],
   "source": [
    "y_train"
   ]
  },
  {
   "cell_type": "code",
   "execution_count": 8,
   "id": "95202ac8",
   "metadata": {
    "execution": {
     "iopub.execute_input": "2022-12-19T13:41:44.457726Z",
     "iopub.status.busy": "2022-12-19T13:41:44.457186Z",
     "iopub.status.idle": "2022-12-19T13:41:44.532634Z",
     "shell.execute_reply": "2022-12-19T13:41:44.532016Z",
     "shell.execute_reply.started": "2021-10-22T20:40:11.649583Z"
    },
    "papermill": {
     "duration": 0.114961,
     "end_time": "2022-12-19T13:41:44.532761",
     "exception": false,
     "start_time": "2022-12-19T13:41:44.417800",
     "status": "completed"
    },
    "tags": []
   },
   "outputs": [],
   "source": [
    "# Split the data into test and validation data\n",
    "# test -> val and test (0.7 as test set)\n",
    "X_test, X_valid, y_test, y_valid = train_test_split(X_test, y_test, test_size=0.7)"
   ]
  },
  {
   "cell_type": "code",
   "execution_count": 9,
   "id": "42d35cbb",
   "metadata": {
    "execution": {
     "iopub.execute_input": "2022-12-19T13:41:44.607120Z",
     "iopub.status.busy": "2022-12-19T13:41:44.606324Z",
     "iopub.status.idle": "2022-12-19T13:41:44.608382Z",
     "shell.execute_reply": "2022-12-19T13:41:44.608747Z",
     "shell.execute_reply.started": "2021-10-22T20:40:11.731290Z"
    },
    "papermill": {
     "duration": 0.042263,
     "end_time": "2022-12-19T13:41:44.608877",
     "exception": false,
     "start_time": "2022-12-19T13:41:44.566614",
     "status": "completed"
    },
    "tags": []
   },
   "outputs": [],
   "source": [
    "# Dataset class labels\n",
    "labels =  ['apple', 'aquarium_fish', 'baby', 'bear', 'beaver', 'bed', 'bee', 'beetle', 'bicycle', 'bottle', 'bowl', 'boy', 'bridge', 'bus', 'butterfly', \n",
    "           'camel', 'can', 'castle', 'caterpillar', 'cattle', 'chair', 'chimpanzee', 'clock', 'cloud', 'cockroach', 'couch', 'crab', 'crocodile', 'cup', \n",
    "           'dinosaur', 'dolphin', 'elephant', 'flatfish', 'forest', 'fox', 'girl', 'hamster', 'house', 'kangaroo', 'computer_keyboard', \n",
    "           'lamp', 'lawn_mower', 'leopard', 'lion', 'lizard', 'lobster', 'man', 'maple_tree', 'motorcycle', 'mountain', 'mouse', 'mushroom', \n",
    "           'oak_tree', 'orange', 'orchid', 'otter', 'palm_tree', 'pear', 'pickup_truck', 'pine_tree', 'plain', 'plate', 'poppy', 'porcupine', 'possum', \n",
    "           'rabbit', 'raccoon', 'ray', 'road', 'rocket', 'rose', \n",
    "           'sea', 'seal', 'shark', 'shrew', 'skunk', 'skyscraper', 'snail', 'snake', 'spider', 'squirrel', 'streetcar', 'sunflower', 'sweet_pepper', \n",
    "           'table', 'tank', 'telephone', 'television', 'tiger', 'tractor', 'train', 'trout', 'tulip', 'turtle', \n",
    "           'wardrobe', 'whale', 'willow_tree', 'wolf', 'woman', 'worm']"
   ]
  },
  {
   "cell_type": "code",
   "execution_count": 17,
   "id": "b3af9d2a",
   "metadata": {},
   "outputs": [
    {
     "data": {
      "text/plain": [
       "array([0])"
      ]
     },
     "execution_count": 17,
     "metadata": {},
     "output_type": "execute_result"
    }
   ],
   "source": [
    "y_train[2]"
   ]
  },
  {
   "cell_type": "code",
   "execution_count": 18,
   "id": "7ffd8d0d",
   "metadata": {},
   "outputs": [
    {
     "data": {
      "text/plain": [
       "0"
      ]
     },
     "execution_count": 18,
     "metadata": {},
     "output_type": "execute_result"
    }
   ],
   "source": [
    "y_train[2].astype(int)[0]"
   ]
  },
  {
   "cell_type": "code",
   "execution_count": 19,
   "id": "e4438962",
   "metadata": {},
   "outputs": [
    {
     "data": {
      "text/plain": [
       "'apple'"
      ]
     },
     "execution_count": 19,
     "metadata": {},
     "output_type": "execute_result"
    }
   ],
   "source": [
    "labels[y_train[2].astype(int)[0]]"
   ]
  },
  {
   "cell_type": "code",
   "execution_count": 20,
   "id": "8c9dcce2",
   "metadata": {
    "execution": {
     "iopub.execute_input": "2022-12-19T13:41:44.679791Z",
     "iopub.status.busy": "2022-12-19T13:41:44.679066Z",
     "iopub.status.idle": "2022-12-19T13:41:45.116749Z",
     "shell.execute_reply": "2022-12-19T13:41:45.117979Z",
     "shell.execute_reply.started": "2021-10-22T20:40:11.740586Z"
    },
    "papermill": {
     "duration": 0.47556,
     "end_time": "2022-12-19T13:41:45.118209",
     "exception": false,
     "start_time": "2022-12-19T13:41:44.642649",
     "status": "completed"
    },
    "tags": []
   },
   "outputs": [
    {
     "data": {
      "image/png": "[encoded data removed]",
      "text/plain": [
       "<Figure size 2000x300 with 10 Axes>"
      ]
     },
     "metadata": {},
     "output_type": "display_data"
    }
   ],
   "source": [
    "# Visualize several images and their classes from the training set\n",
    "plt.figure(figsize=(20, 3))\n",
    "\n",
    "for i in range(10):\n",
    "    plt.subplot(1, 10, i + 1)\n",
    "    plt.xticks([])\n",
    "    plt.yticks([])\n",
    "    plt.grid(False)\n",
    "    plt.imshow(X_train[i], cmap=\"gray\")\n",
    "    plt.xlabel(labels[y_train[i].astype(int)[0]])\n",
    "    \n",
    "plt.show()"
   ]
  },
  {
   "cell_type": "code",
   "execution_count": 21,
   "id": "91fdfc2f",
   "metadata": {
    "execution": {
     "iopub.execute_input": "2022-12-19T13:41:45.199977Z",
     "iopub.status.busy": "2022-12-19T13:41:45.198958Z",
     "iopub.status.idle": "2022-12-19T13:41:45.214185Z",
     "shell.execute_reply": "2022-12-19T13:41:45.213714Z",
     "shell.execute_reply.started": "2021-10-22T20:40:12.162168Z"
    },
    "papermill": {
     "duration": 0.058308,
     "end_time": "2022-12-19T13:41:45.214305",
     "exception": false,
     "start_time": "2022-12-19T13:41:45.155997",
     "status": "completed"
    },
    "tags": []
   },
   "outputs": [],
   "source": [
    "# Convert labels to one hot encoding matrix (only the y labels)\n",
    "y_train = to_categorical(y_train, 100)\n",
    "y_test = to_categorical(y_test, 100) \n",
    "y_valid = to_categorical(y_valid, 100)"
   ]
  },
  {
   "cell_type": "code",
   "execution_count": 22,
   "id": "b4cbee89",
   "metadata": {},
   "outputs": [
    {
     "data": {
      "text/plain": [
       "array([[0., 0., 0., ..., 0., 0., 0.],\n",
       "       [0., 0., 0., ..., 0., 0., 0.],\n",
       "       [1., 0., 0., ..., 0., 0., 0.],\n",
       "       ...,\n",
       "       [0., 0., 0., ..., 0., 0., 0.],\n",
       "       [0., 0., 0., ..., 0., 0., 0.],\n",
       "       [0., 0., 0., ..., 0., 0., 0.]], dtype=float32)"
      ]
     },
     "execution_count": 22,
     "metadata": {},
     "output_type": "execute_result"
    }
   ],
   "source": [
    "y_train"
   ]
  },
  {
   "attachments": {},
   "cell_type": "markdown",
   "id": "efb8e657",
   "metadata": {
    "papermill": {
     "duration": 0.037189,
     "end_time": "2022-12-19T13:41:45.289174",
     "exception": false,
     "start_time": "2022-12-19T13:41:45.251985",
     "status": "completed"
    },
    "tags": []
   },
   "source": [
    "<a id=\"3\"></a>\n",
    "<h3 style='background:violet; border:0; color:white'><center>Build and Train model<center><h3>"
   ]
  },
  {
   "cell_type": "code",
   "execution_count": 23,
   "id": "abe98029",
   "metadata": {
    "execution": {
     "iopub.execute_input": "2022-12-19T13:41:45.370339Z",
     "iopub.status.busy": "2022-12-19T13:41:45.369649Z",
     "iopub.status.idle": "2022-12-19T13:41:45.371763Z",
     "shell.execute_reply": "2022-12-19T13:41:45.372177Z",
     "shell.execute_reply.started": "2021-10-22T20:40:12.176682Z"
    },
    "papermill": {
     "duration": 0.045819,
     "end_time": "2022-12-19T13:41:45.372304",
     "exception": false,
     "start_time": "2022-12-19T13:41:45.326485",
     "status": "completed"
    },
    "tags": []
   },
   "outputs": [],
   "source": [
    "# Function for model building\n",
    "def build_model(input_shape, n_classes):\n",
    "    \"\"\"\n",
    "    Build model from DenseNet. \n",
    "    Retrain last 5 layers and adds 2 Dense layers.\n",
    "    :param input_shape: shape of single image\n",
    "    :param n_classes: number of classes for prediction\n",
    "    :return model: compiled model\n",
    "    \"\"\"\n",
    "    base_model = efficientnet.EfficientNetB0(input_shape=input_shape,\n",
    "                                      weights=\"imagenet\",\n",
    "                                      include_top=False,\n",
    "                                      classes=len(labels))\n",
    "    \n",
    "    \"\"\"\n",
    "    instance of the EfficientNetB0 model is being created using the efficientnet package. \n",
    "    The EfficientNetB0 model is a pre-trained convolutional neural network that has been trained on the ImageNet dataset.\n",
    "    \n",
    "    By setting this to \"imagenet\", the model is initialized with the weights pre-trained on the ImageNet dataset. \n",
    "    \n",
    "    The include_top argument specifies whether or not to include the top (output) layer of the model. In this case, it is set to False, \n",
    "    which means that the top layer will not be included. This is useful when using the pre-trained model as a feature extractor, \n",
    "    where the output of the model is used as input to another model.\n",
    "    \"\"\"\n",
    "\n",
    "    model = Sequential()\n",
    "    model.add(base_model)\n",
    "    model.add(GlobalAveragePooling2D())\n",
    "    # reduces the dimensionality of the output from the base_model by averaging over the spatial dimensions. \n",
    "    # This layer acts as a bridge between the convolutional layers of the base_model and the fully connected layers that follow.\n",
    "    model.add(Dropout(0.5))\n",
    "    # A Dropout() layer is added after the GlobalAveragePooling2D() layer to prevent overfitting by randomly dropping out some of the neuron activations during training.\n",
    "    model.add(Dense(n_classes, activation='softmax'))\n",
    "    \n",
    "    model.compile(optimizer='adam', loss='categorical_crossentropy', metrics=['accuracy'])\n",
    "\n",
    "    return model"
   ]
  },
  {
   "cell_type": "code",
   "execution_count": 24,
   "id": "de1c7e12",
   "metadata": {
    "execution": {
     "iopub.execute_input": "2022-12-19T13:41:45.453127Z",
     "iopub.status.busy": "2022-12-19T13:41:45.452505Z",
     "iopub.status.idle": "2022-12-19T13:41:51.565751Z",
     "shell.execute_reply": "2022-12-19T13:41:51.566180Z",
     "shell.execute_reply.started": "2021-10-22T20:40:12.186453Z"
    },
    "papermill": {
     "duration": 6.156885,
     "end_time": "2022-12-19T13:41:51.566346",
     "exception": false,
     "start_time": "2022-12-19T13:41:45.409461",
     "status": "completed"
    },
    "tags": []
   },
   "outputs": [
    {
     "name": "stdout",
     "output_type": "stream",
     "text": [
      "Downloading data from https://storage.googleapis.com/keras-applications/efficientnetb0_notop.h5\n",
      "16705208/16705208 [==============================] - 1s 0us/step\n",
      "Model: \"sequential\"\n",
      "_________________________________________________________________\n",
      " Layer (type)                Output Shape              Param #   \n",
      "=================================================================\n",
      " efficientnetb0 (Functional)  (None, 1, 1, 1280)       4049571   \n",
      "                                                                 \n",
      " global_average_pooling2d (G  (None, 1280)             0         \n",
      " lobalAveragePooling2D)                                          \n",
      "                                                                 \n",
      " dropout (Dropout)           (None, 1280)              0         \n",
      "                                                                 \n",
      " dense (Dense)               (None, 100)               128100    \n",
      "                                                                 \n",
      "=================================================================\n",
      "Total params: 4,177,671\n",
      "Trainable params: 4,135,648\n",
      "Non-trainable params: 42,023\n",
      "_________________________________________________________________\n"
     ]
    }
   ],
   "source": [
    "# Build model and get summary\n",
    "model = build_model(input_shape=(32, 32, 3), n_classes=len(labels)) # Input_shape (32,32,3)\n",
    "model.summary() "
   ]
  },
  {
   "attachments": {},
   "cell_type": "markdown",
   "id": "26070e96",
   "metadata": {},
   "source": [
    "##### Data Augmentation"
   ]
  },
  {
   "cell_type": "code",
   "execution_count": 25,
   "id": "04ce9f8b",
   "metadata": {
    "execution": {
     "iopub.execute_input": "2022-12-19T13:41:51.655840Z",
     "iopub.status.busy": "2022-12-19T13:41:51.653704Z",
     "iopub.status.idle": "2022-12-19T13:41:52.112328Z",
     "shell.execute_reply": "2022-12-19T13:41:52.111805Z",
     "shell.execute_reply.started": "2021-10-22T20:40:14.515055Z"
    },
    "papermill": {
     "duration": 0.503633,
     "end_time": "2022-12-19T13:41:52.112456",
     "exception": false,
     "start_time": "2022-12-19T13:41:51.608823",
     "status": "completed"
    },
    "tags": []
   },
   "outputs": [],
   "source": [
    "# Generate augmented images\n",
    "datagen = ImageDataGenerator(\n",
    "    height_shift_range=0.2,\n",
    "    width_shift_range=0.2,\n",
    "    shear_range=0.2,\n",
    "    zoom_range=0.2,\n",
    "    rotation_range=40,\n",
    "    horizontal_flip=True,\n",
    "    vertical_flip=True,\n",
    "    fill_mode='nearest',\n",
    ")\n",
    "\n",
    "datagen.fit(X_train)\n",
    "# compute the internal statistics of the data augmentation (such as mean and standard deviation) based on the training data before the actual data augmentation is performed."
   ]
  },
  {
   "cell_type": "code",
   "execution_count": 35,
   "id": "71d9a95c",
   "metadata": {
    "execution": {
     "iopub.execute_input": "2022-12-19T13:41:52.205614Z",
     "iopub.status.busy": "2022-12-19T13:41:52.204478Z",
     "iopub.status.idle": "2022-12-19T14:02:42.984103Z",
     "shell.execute_reply": "2022-12-19T14:02:42.984497Z",
     "shell.execute_reply.started": "2021-10-22T20:40:15.001033Z"
    },
    "papermill": {
     "duration": 1250.828322,
     "end_time": "2022-12-19T14:02:42.984658",
     "exception": false,
     "start_time": "2022-12-19T13:41:52.156336",
     "status": "completed"
    },
    "tags": []
   },
   "outputs": [],
   "source": [
    "# Set checkpointer and train model\n",
    "model_checkpointer = ModelCheckpoint('cifar100_best_model(eff).h5', monitor='val_accuracy', mode='max', verbose=1, save_best_only=True)"
   ]
  },
  {
   "cell_type": "code",
   "execution_count": null,
   "id": "11d14fe7",
   "metadata": {},
   "outputs": [],
   "source": [
    "early_stopping_callback = tf.keras.callbacks.EarlyStopping(\n",
    "    monitor='val_accuracy', mode=\"max\", verbose=1, patience=15, restore_best_weights=True\n",
    ")\n",
    "hist = model.fit(   \n",
    "    datagen.flow(X_train, y_train, batch_size=128, shuffle=True), epochs=150,verbose=1,\n",
    "    steps_per_epoch=train_steps_per_epoch,\n",
    "    validation_data=(X_valid, y_valid),\n",
    "    callbacks = [early_stopping_callback],\n",
    "    verbose=1\n",
    ")\n",
    "\n",
    "model.save('./models/EfficientNetB7_xx.h5py')"
   ]
  },
  {
   "cell_type": "code",
   "execution_count": null,
   "id": "f0ca9f25",
   "metadata": {},
   "outputs": [],
   "source": [
    "# Define the CSVLogger callback to save the training history in CSV format\n",
    "csv_logger = CSVLogger('training_history.csv', append=True, separator=';')"
   ]
  },
  {
   "cell_type": "code",
   "execution_count": 40,
   "id": "6a7e90a9",
   "metadata": {},
   "outputs": [
    {
     "name": "stdout",
     "output_type": "stream",
     "text": [
      "Epoch 1/150\n",
      "391/391 [==============================] - ETA: 0s - loss: 2.6253 - accuracy: 0.3257\n",
      "Epoch 1: val_accuracy did not improve from 0.03300\n",
      "{'loss': 2.62526535987854, 'accuracy': 0.3256799876689911, 'val_loss': 6.436041831970215, 'val_accuracy': 0.012857142835855484}\n",
      "391/391 [==============================] - 177s 452ms/step - loss: 2.6253 - accuracy: 0.3257 - val_loss: 6.4360 - val_accuracy: 0.0129\n",
      "Epoch 2/150\n",
      "391/391 [==============================] - ETA: 0s - loss: 2.5263 - accuracy: 0.3480\n",
      "Epoch 2: val_accuracy did not improve from 0.03300\n",
      "{'loss': 2.5262610912323, 'accuracy': 0.34804001450538635, 'val_loss': 15.84585952758789, 'val_accuracy': 0.009142857044935226}\n",
      "391/391 [==============================] - 187s 477ms/step - loss: 2.5263 - accuracy: 0.3480 - val_loss: 15.8459 - val_accuracy: 0.0091\n",
      "Epoch 3/150\n",
      "391/391 [==============================] - ETA: 0s - loss: 2.4327 - accuracy: 0.3671\n",
      "Epoch 3: val_accuracy did not improve from 0.03300\n",
      "{'loss': 2.4327003955841064, 'accuracy': 0.36706000566482544, 'val_loss': 10.616300582885742, 'val_accuracy': 0.009714285843074322}\n",
      "391/391 [==============================] - 199s 510ms/step - loss: 2.4327 - accuracy: 0.3671 - val_loss: 10.6163 - val_accuracy: 0.0097\n",
      "Epoch 4/150\n",
      "391/391 [==============================] - ETA: 0s - loss: 2.3657 - accuracy: 0.3800\n",
      "Epoch 4: val_accuracy did not improve from 0.03300\n",
      "{'loss': 2.3657078742980957, 'accuracy': 0.3800399899482727, 'val_loss': 7.164875507354736, 'val_accuracy': 0.020571429282426834}\n",
      "391/391 [==============================] - 211s 538ms/step - loss: 2.3657 - accuracy: 0.3800 - val_loss: 7.1649 - val_accuracy: 0.0206\n",
      "Epoch 5/150\n",
      "391/391 [==============================] - ETA: 0s - loss: 2.3015 - accuracy: 0.3917\n",
      "Epoch 5: val_accuracy did not improve from 0.03300\n",
      "{'loss': 2.301518201828003, 'accuracy': 0.39169999957084656, 'val_loss': 6.337214469909668, 'val_accuracy': 0.017571428790688515}\n",
      "391/391 [==============================] - 212s 543ms/step - loss: 2.3015 - accuracy: 0.3917 - val_loss: 6.3372 - val_accuracy: 0.0176\n",
      "Epoch 6/150\n",
      "391/391 [==============================] - ETA: 0s - loss: 2.2548 - accuracy: 0.4016\n",
      "Epoch 6: val_accuracy did not improve from 0.03300\n",
      "{'loss': 2.254795551300049, 'accuracy': 0.4016000032424927, 'val_loss': 123.74024963378906, 'val_accuracy': 0.010714286006987095}\n",
      "391/391 [==============================] - 205s 524ms/step - loss: 2.2548 - accuracy: 0.4016 - val_loss: 123.7402 - val_accuracy: 0.0107\n",
      "Epoch 7/150\n",
      "391/391 [==============================] - ETA: 0s - loss: 2.1985 - accuracy: 0.4148\n",
      "Epoch 7: val_accuracy did not improve from 0.03300\n",
      "{'loss': 2.1985185146331787, 'accuracy': 0.41481998562812805, 'val_loss': 8.100964546203613, 'val_accuracy': 0.015428571030497551}\n",
      "391/391 [==============================] - 202s 515ms/step - loss: 2.1985 - accuracy: 0.4148 - val_loss: 8.1010 - val_accuracy: 0.0154\n",
      "Epoch 8/150\n",
      "391/391 [==============================] - ETA: 0s - loss: 2.1519 - accuracy: 0.4234\n",
      "Epoch 8: val_accuracy did not improve from 0.03300\n",
      "{'loss': 2.151928186416626, 'accuracy': 0.42344000935554504, 'val_loss': 8.117436408996582, 'val_accuracy': 0.01042857114225626}\n",
      "391/391 [==============================] - 192s 491ms/step - loss: 2.1519 - accuracy: 0.4234 - val_loss: 8.1174 - val_accuracy: 0.0104\n",
      "Epoch 9/150\n",
      "391/391 [==============================] - ETA: 0s - loss: 2.1156 - accuracy: 0.4313\n",
      "Epoch 9: val_accuracy did not improve from 0.03300\n",
      "{'loss': 2.1155760288238525, 'accuracy': 0.4312799870967865, 'val_loss': 8.62862491607666, 'val_accuracy': 0.013571428135037422}\n",
      "391/391 [==============================] - 188s 480ms/step - loss: 2.1156 - accuracy: 0.4313 - val_loss: 8.6286 - val_accuracy: 0.0136\n",
      "Epoch 10/150\n",
      "391/391 [==============================] - ETA: 0s - loss: 2.0862 - accuracy: 0.4381\n",
      "Epoch 10: val_accuracy did not improve from 0.03300\n",
      "{'loss': 2.0861880779266357, 'accuracy': 0.43810001015663147, 'val_loss': 8.820902824401855, 'val_accuracy': 0.008714285679161549}\n",
      "391/391 [==============================] - 220s 562ms/step - loss: 2.0862 - accuracy: 0.4381 - val_loss: 8.8209 - val_accuracy: 0.0087\n",
      "Epoch 11/150\n",
      "391/391 [==============================] - ETA: 0s - loss: 2.0510 - accuracy: 0.4454\n",
      "Epoch 11: val_accuracy did not improve from 0.03300\n",
      "{'loss': 2.05096697807312, 'accuracy': 0.4453999996185303, 'val_loss': 12.612861633300781, 'val_accuracy': 0.010999999940395355}\n",
      "391/391 [==============================] - 207s 530ms/step - loss: 2.0510 - accuracy: 0.4454 - val_loss: 12.6129 - val_accuracy: 0.0110\n",
      "Epoch 12/150\n",
      "391/391 [==============================] - ETA: 0s - loss: 2.0128 - accuracy: 0.4545\n",
      "Epoch 12: val_accuracy did not improve from 0.03300\n",
      "{'loss': 2.0127933025360107, 'accuracy': 0.45451998710632324, 'val_loss': 85.91139221191406, 'val_accuracy': 0.00985714327543974}\n",
      "391/391 [==============================] - 186s 475ms/step - loss: 2.0128 - accuracy: 0.4545 - val_loss: 85.9114 - val_accuracy: 0.0099\n",
      "Epoch 13/150\n",
      "391/391 [==============================] - ETA: 0s - loss: 1.9880 - accuracy: 0.4609\n",
      "Epoch 13: val_accuracy did not improve from 0.03300\n",
      "{'loss': 1.9880331754684448, 'accuracy': 0.46094000339508057, 'val_loss': 11.288968086242676, 'val_accuracy': 0.009285714477300644}\n",
      "391/391 [==============================] - 220s 563ms/step - loss: 1.9880 - accuracy: 0.4609 - val_loss: 11.2890 - val_accuracy: 0.0093\n",
      "Epoch 14/150\n",
      "391/391 [==============================] - ETA: 0s - loss: 1.9537 - accuracy: 0.4702\n",
      "Epoch 14: val_accuracy did not improve from 0.03300\n",
      "{'loss': 1.9536736011505127, 'accuracy': 0.47016000747680664, 'val_loss': 5.379732608795166, 'val_accuracy': 0.01342857163399458}\n",
      "391/391 [==============================] - 209s 535ms/step - loss: 1.9537 - accuracy: 0.4702 - val_loss: 5.3797 - val_accuracy: 0.0134\n",
      "Epoch 15/150\n",
      "391/391 [==============================] - ETA: 0s - loss: 1.9299 - accuracy: 0.4740\n",
      "Epoch 15: val_accuracy did not improve from 0.03300\n",
      "{'loss': 1.9299113750457764, 'accuracy': 0.47398000955581665, 'val_loss': 5.640087604522705, 'val_accuracy': 0.012857142835855484}\n",
      "391/391 [==============================] - 206s 527ms/step - loss: 1.9299 - accuracy: 0.4740 - val_loss: 5.6401 - val_accuracy: 0.0129\n",
      "Epoch 16/150\n",
      "391/391 [==============================] - ETA: 0s - loss: 1.9058 - accuracy: 0.4785\n",
      "Epoch 16: val_accuracy did not improve from 0.03300\n",
      "{'loss': 1.9057542085647583, 'accuracy': 0.478520005941391, 'val_loss': 8.133050918579102, 'val_accuracy': 0.015571428462862968}\n",
      "391/391 [==============================] - 197s 505ms/step - loss: 1.9058 - accuracy: 0.4785 - val_loss: 8.1331 - val_accuracy: 0.0156\n",
      "Epoch 17/150\n",
      "391/391 [==============================] - ETA: 0s - loss: 1.8863 - accuracy: 0.4834\n",
      "Epoch 17: val_accuracy did not improve from 0.03300\n",
      "{'loss': 1.8863240480422974, 'accuracy': 0.48339998722076416, 'val_loss': 5.814734935760498, 'val_accuracy': 0.013571428135037422}\n",
      "391/391 [==============================] - 211s 539ms/step - loss: 1.8863 - accuracy: 0.4834 - val_loss: 5.8147 - val_accuracy: 0.0136\n",
      "Epoch 18/150\n",
      "391/391 [==============================] - ETA: 0s - loss: 1.8648 - accuracy: 0.4908\n",
      "Epoch 18: val_accuracy did not improve from 0.03300\n",
      "{'loss': 1.864758014678955, 'accuracy': 0.4907599985599518, 'val_loss': 345.1649169921875, 'val_accuracy': 0.011714286170899868}\n",
      "391/391 [==============================] - 187s 477ms/step - loss: 1.8648 - accuracy: 0.4908 - val_loss: 345.1649 - val_accuracy: 0.0117\n",
      "Epoch 19/150\n",
      "391/391 [==============================] - ETA: 0s - loss: 1.8465 - accuracy: 0.4967\n",
      "Epoch 19: val_accuracy did not improve from 0.03300\n",
      "{'loss': 1.8464925289154053, 'accuracy': 0.4966599941253662, 'val_loss': 7.296809673309326, 'val_accuracy': 0.012857142835855484}\n",
      "391/391 [==============================] - 197s 503ms/step - loss: 1.8465 - accuracy: 0.4967 - val_loss: 7.2968 - val_accuracy: 0.0129\n",
      "Epoch 19: early stopping\n"
     ]
    }
   ],
   "source": [
    "from keras.callbacks import Callback\n",
    "# Define a callback to print the training history after each epoch\n",
    "class PrintHistory(Callback):\n",
    "    def on_epoch_end(self, epoch, logs):\n",
    "        print(logs)\n",
    "\n",
    "# Train the model and pass both callbacks to the `fit` method\n",
    "history = model.fit(datagen.flow(X_train, y_train, batch_size=128, shuffle=True),\n",
    "                    validation_data=(X_valid, y_valid), epochs=150, verbose=1,\n",
    "                    callbacks=[EarlyStopping(monitor='val_accuracy', mode='max', verbose=1, patience=15),\n",
    "                               model_checkpointer, csv_logger, PrintHistory()])\n"
   ]
  },
  {
   "cell_type": "code",
   "execution_count": 30,
   "id": "19e3accc",
   "metadata": {},
   "outputs": [
    {
     "name": "stdout",
     "output_type": "stream",
     "text": [
      "(50000, 32, 32, 3) (50000, 100)\n",
      "(7000, 32, 32, 3) (7000, 100)\n"
     ]
    }
   ],
   "source": [
    "print(X_train.shape, y_train.shape)\n",
    "print(X_valid.shape, y_valid.shape)"
   ]
  },
  {
   "cell_type": "code",
   "execution_count": 34,
   "id": "240595d0",
   "metadata": {},
   "outputs": [
    {
     "name": "stdout",
     "output_type": "stream",
     "text": [
      "Epoch 1/150\n",
      "391/391 [==============================] - ETA: 0s - loss: 3.0023 - accuracy: 0.2504\n",
      "Epoch 1: val_accuracy improved from -inf to 0.00914, saving model to cifar100_best_model(eff).h5\n"
     ]
    },
    {
     "ename": "TypeError",
     "evalue": "Unable to serialize [2.0896919 2.1128857 2.1081853] to JSON. Unrecognized type <class 'tensorflow.python.framework.ops.EagerTensor'>.",
     "output_type": "error",
     "traceback": [
      "\u001b[0;31m---------------------------------------------------------------------------\u001b[0m",
      "\u001b[0;31mTypeError\u001b[0m                                 Traceback (most recent call last)",
      "\u001b[0;32m/var/folders/0x/n51_7s_n09dfndljqk4rv2zr0000gn/T/ipykernel_80730/3742851723.py\u001b[0m in \u001b[0;36m<module>\u001b[0;34m\u001b[0m\n\u001b[1;32m      7\u001b[0m \u001b[0mhistory_callback\u001b[0m \u001b[0;34m=\u001b[0m \u001b[0mPrintHistory\u001b[0m\u001b[0;34m(\u001b[0m\u001b[0;34m)\u001b[0m\u001b[0;34m\u001b[0m\u001b[0;34m\u001b[0m\u001b[0m\n\u001b[1;32m      8\u001b[0m \u001b[0;34m\u001b[0m\u001b[0m\n\u001b[0;32m----> 9\u001b[0;31m history = model.fit(datagen.flow(X_train, y_train, batch_size=128, shuffle=True), # Data Augmentation: 128 images at once(batch), Shiffle randomly to be fed, (images, labels)\n\u001b[0m\u001b[1;32m     10\u001b[0m                     \u001b[0mvalidation_data\u001b[0m\u001b[0;34m=\u001b[0m\u001b[0;34m(\u001b[0m\u001b[0mX_valid\u001b[0m\u001b[0;34m,\u001b[0m \u001b[0my_valid\u001b[0m\u001b[0;34m)\u001b[0m\u001b[0;34m,\u001b[0m \u001b[0mepochs\u001b[0m\u001b[0;34m=\u001b[0m\u001b[0;36m150\u001b[0m\u001b[0;34m,\u001b[0m \u001b[0mverbose\u001b[0m\u001b[0;34m=\u001b[0m\u001b[0;36m1\u001b[0m\u001b[0;34m,\u001b[0m\u001b[0;34m\u001b[0m\u001b[0;34m\u001b[0m\u001b[0m\n\u001b[1;32m     11\u001b[0m                     callbacks=[EarlyStopping(monitor='val_accuracy', mode='max', verbose=1, patience=15),\n",
      "\u001b[0;32m~/opt/anaconda3/lib/python3.8/site-packages/keras/utils/traceback_utils.py\u001b[0m in \u001b[0;36merror_handler\u001b[0;34m(*args, **kwargs)\u001b[0m\n\u001b[1;32m     68\u001b[0m             \u001b[0;31m# To get the full stack trace, call:\u001b[0m\u001b[0;34m\u001b[0m\u001b[0;34m\u001b[0m\u001b[0;34m\u001b[0m\u001b[0m\n\u001b[1;32m     69\u001b[0m             \u001b[0;31m# `tf.debugging.disable_traceback_filtering()`\u001b[0m\u001b[0;34m\u001b[0m\u001b[0;34m\u001b[0m\u001b[0;34m\u001b[0m\u001b[0m\n\u001b[0;32m---> 70\u001b[0;31m             \u001b[0;32mraise\u001b[0m \u001b[0me\u001b[0m\u001b[0;34m.\u001b[0m\u001b[0mwith_traceback\u001b[0m\u001b[0;34m(\u001b[0m\u001b[0mfiltered_tb\u001b[0m\u001b[0;34m)\u001b[0m \u001b[0;32mfrom\u001b[0m \u001b[0;32mNone\u001b[0m\u001b[0;34m\u001b[0m\u001b[0;34m\u001b[0m\u001b[0m\n\u001b[0m\u001b[1;32m     71\u001b[0m         \u001b[0;32mfinally\u001b[0m\u001b[0;34m:\u001b[0m\u001b[0;34m\u001b[0m\u001b[0;34m\u001b[0m\u001b[0m\n\u001b[1;32m     72\u001b[0m             \u001b[0;32mdel\u001b[0m \u001b[0mfiltered_tb\u001b[0m\u001b[0;34m\u001b[0m\u001b[0;34m\u001b[0m\u001b[0m\n",
      "\u001b[0;32m~/opt/anaconda3/lib/python3.8/json/__init__.py\u001b[0m in \u001b[0;36mdumps\u001b[0;34m(obj, skipkeys, ensure_ascii, check_circular, allow_nan, cls, indent, separators, default, sort_keys, **kw)\u001b[0m\n\u001b[1;32m    232\u001b[0m     \u001b[0;32mif\u001b[0m \u001b[0mcls\u001b[0m \u001b[0;32mis\u001b[0m \u001b[0;32mNone\u001b[0m\u001b[0;34m:\u001b[0m\u001b[0;34m\u001b[0m\u001b[0;34m\u001b[0m\u001b[0m\n\u001b[1;32m    233\u001b[0m         \u001b[0mcls\u001b[0m \u001b[0;34m=\u001b[0m \u001b[0mJSONEncoder\u001b[0m\u001b[0;34m\u001b[0m\u001b[0;34m\u001b[0m\u001b[0m\n\u001b[0;32m--> 234\u001b[0;31m     return cls(\n\u001b[0m\u001b[1;32m    235\u001b[0m         \u001b[0mskipkeys\u001b[0m\u001b[0;34m=\u001b[0m\u001b[0mskipkeys\u001b[0m\u001b[0;34m,\u001b[0m \u001b[0mensure_ascii\u001b[0m\u001b[0;34m=\u001b[0m\u001b[0mensure_ascii\u001b[0m\u001b[0;34m,\u001b[0m\u001b[0;34m\u001b[0m\u001b[0;34m\u001b[0m\u001b[0m\n\u001b[1;32m    236\u001b[0m         \u001b[0mcheck_circular\u001b[0m\u001b[0;34m=\u001b[0m\u001b[0mcheck_circular\u001b[0m\u001b[0;34m,\u001b[0m \u001b[0mallow_nan\u001b[0m\u001b[0;34m=\u001b[0m\u001b[0mallow_nan\u001b[0m\u001b[0;34m,\u001b[0m \u001b[0mindent\u001b[0m\u001b[0;34m=\u001b[0m\u001b[0mindent\u001b[0m\u001b[0;34m,\u001b[0m\u001b[0;34m\u001b[0m\u001b[0;34m\u001b[0m\u001b[0m\n",
      "\u001b[0;32m~/opt/anaconda3/lib/python3.8/json/encoder.py\u001b[0m in \u001b[0;36mencode\u001b[0;34m(self, o)\u001b[0m\n\u001b[1;32m    197\u001b[0m         \u001b[0;31m# exceptions aren't as detailed.  The list call should be roughly\u001b[0m\u001b[0;34m\u001b[0m\u001b[0;34m\u001b[0m\u001b[0;34m\u001b[0m\u001b[0m\n\u001b[1;32m    198\u001b[0m         \u001b[0;31m# equivalent to the PySequence_Fast that ''.join() would do.\u001b[0m\u001b[0;34m\u001b[0m\u001b[0;34m\u001b[0m\u001b[0;34m\u001b[0m\u001b[0m\n\u001b[0;32m--> 199\u001b[0;31m         \u001b[0mchunks\u001b[0m \u001b[0;34m=\u001b[0m \u001b[0mself\u001b[0m\u001b[0;34m.\u001b[0m\u001b[0miterencode\u001b[0m\u001b[0;34m(\u001b[0m\u001b[0mo\u001b[0m\u001b[0;34m,\u001b[0m \u001b[0m_one_shot\u001b[0m\u001b[0;34m=\u001b[0m\u001b[0;32mTrue\u001b[0m\u001b[0;34m)\u001b[0m\u001b[0;34m\u001b[0m\u001b[0;34m\u001b[0m\u001b[0m\n\u001b[0m\u001b[1;32m    200\u001b[0m         \u001b[0;32mif\u001b[0m \u001b[0;32mnot\u001b[0m \u001b[0misinstance\u001b[0m\u001b[0;34m(\u001b[0m\u001b[0mchunks\u001b[0m\u001b[0;34m,\u001b[0m \u001b[0;34m(\u001b[0m\u001b[0mlist\u001b[0m\u001b[0;34m,\u001b[0m \u001b[0mtuple\u001b[0m\u001b[0;34m)\u001b[0m\u001b[0;34m)\u001b[0m\u001b[0;34m:\u001b[0m\u001b[0;34m\u001b[0m\u001b[0;34m\u001b[0m\u001b[0m\n\u001b[1;32m    201\u001b[0m             \u001b[0mchunks\u001b[0m \u001b[0;34m=\u001b[0m \u001b[0mlist\u001b[0m\u001b[0;34m(\u001b[0m\u001b[0mchunks\u001b[0m\u001b[0;34m)\u001b[0m\u001b[0;34m\u001b[0m\u001b[0;34m\u001b[0m\u001b[0m\n",
      "\u001b[0;32m~/opt/anaconda3/lib/python3.8/json/encoder.py\u001b[0m in \u001b[0;36miterencode\u001b[0;34m(self, o, _one_shot)\u001b[0m\n\u001b[1;32m    255\u001b[0m                 \u001b[0mself\u001b[0m\u001b[0;34m.\u001b[0m\u001b[0mkey_separator\u001b[0m\u001b[0;34m,\u001b[0m \u001b[0mself\u001b[0m\u001b[0;34m.\u001b[0m\u001b[0mitem_separator\u001b[0m\u001b[0;34m,\u001b[0m \u001b[0mself\u001b[0m\u001b[0;34m.\u001b[0m\u001b[0msort_keys\u001b[0m\u001b[0;34m,\u001b[0m\u001b[0;34m\u001b[0m\u001b[0;34m\u001b[0m\u001b[0m\n\u001b[1;32m    256\u001b[0m                 self.skipkeys, _one_shot)\n\u001b[0;32m--> 257\u001b[0;31m         \u001b[0;32mreturn\u001b[0m \u001b[0m_iterencode\u001b[0m\u001b[0;34m(\u001b[0m\u001b[0mo\u001b[0m\u001b[0;34m,\u001b[0m \u001b[0;36m0\u001b[0m\u001b[0;34m)\u001b[0m\u001b[0;34m\u001b[0m\u001b[0;34m\u001b[0m\u001b[0m\n\u001b[0m\u001b[1;32m    258\u001b[0m \u001b[0;34m\u001b[0m\u001b[0m\n\u001b[1;32m    259\u001b[0m def _make_iterencode(markers, _default, _encoder, _indent, _floatstr,\n",
      "\u001b[0;31mTypeError\u001b[0m: Unable to serialize [2.0896919 2.1128857 2.1081853] to JSON. Unrecognized type <class 'tensorflow.python.framework.ops.EagerTensor'>."
     ]
    }
   ],
   "source": [
    "from keras.callbacks import Callback\n",
    "\n",
    "class PrintHistory(Callback):\n",
    "    def on_epoch_end(self, epoch, logs=None):\n",
    "        print(logs)\n",
    "        \n",
    "history_callback = PrintHistory()\n",
    "\n",
    "history = model.fit(datagen.flow(X_train, y_train, batch_size=128, shuffle=True), # Data Augmentation: 128 images at once(batch), Shiffle randomly to be fed, (images, labels)\n",
    "                    validation_data=(X_valid, y_valid), epochs=150, verbose=1,  \n",
    "                    callbacks=[EarlyStopping(monitor='val_accuracy', mode='max', verbose=1, patience=15),\n",
    "                               ModelCheckpoint('cifar100_best_model(eff).h5', monitor='val_accuracy', mode='max', verbose=1, save_best_only=True),\n",
    "                               history_callback])\n",
    "                    # The callbacks argument specifies a list of functions to be called during training, \n",
    "                    # such as the EarlyStopping callback, which can be used to stop training early if the validation accuracy stops improving."
   ]
  },
  {
   "attachments": {},
   "cell_type": "markdown",
   "id": "a4a0086b",
   "metadata": {
    "execution": {
     "iopub.execute_input": "2021-10-21T18:54:03.264537Z",
     "iopub.status.busy": "2021-10-21T18:54:03.263846Z",
     "iopub.status.idle": "2021-10-21T18:54:03.365666Z",
     "shell.execute_reply": "2021-10-21T18:54:03.364593Z",
     "shell.execute_reply.started": "2021-10-21T18:54:03.264421Z"
    },
    "papermill": {
     "duration": 2.965926,
     "end_time": "2022-12-19T14:02:48.957083",
     "exception": false,
     "start_time": "2022-12-19T14:02:45.991157",
     "status": "completed"
    },
    "tags": []
   },
   "source": [
    "<a id=\"4\"></a>\n",
    "<h3 style='background:purple; border:0; color:white'><center>Evaluate Model<center><h3>"
   ]
  },
  {
   "cell_type": "code",
   "execution_count": 41,
   "id": "cf3a37e0",
   "metadata": {
    "execution": {
     "iopub.execute_input": "2022-12-19T14:02:55.251340Z",
     "iopub.status.busy": "2022-12-19T14:02:55.250677Z",
     "iopub.status.idle": "2022-12-19T14:02:55.582843Z",
     "shell.execute_reply": "2022-12-19T14:02:55.583234Z",
     "shell.execute_reply.started": "2021-10-22T20:44:17.590195Z"
    },
    "papermill": {
     "duration": 3.381704,
     "end_time": "2022-12-19T14:02:55.583393",
     "exception": false,
     "start_time": "2022-12-19T14:02:52.201689",
     "status": "completed"
    },
    "tags": []
   },
   "outputs": [
    {
     "data": {
      "image/png": "[encoded data removed]",
      "text/plain": [
       "<Figure size 640x480 with 2 Axes>"
      ]
     },
     "metadata": {},
     "output_type": "display_data"
    }
   ],
   "source": [
    "# Show Loss and Accuracy Plots\n",
    "fig, ax = plt.subplots(2, 1)\n",
    "\n",
    "ax[0].plot(history.history['loss'], color='b', label=\"Training Loss\")\n",
    "ax[0].plot(history.history['val_loss'], color='r', label=\"validation Loss\",axes=ax[0])\n",
    "legend = ax[0].legend(loc='best', shadow=True)\n",
    "\n",
    "ax[1].plot(history.history['accuracy'], color='b', label=\"Training Accuracy\")\n",
    "ax[1].plot(history.history['val_accuracy'], color='r', label=\"Validation Accuracy\")\n",
    "legend = ax[1].legend(loc='best', shadow=True)"
   ]
  },
  {
   "cell_type": "code",
   "execution_count": 12,
   "id": "ceb17003",
   "metadata": {
    "execution": {
     "iopub.execute_input": "2022-12-19T14:03:01.636306Z",
     "iopub.status.busy": "2022-12-19T14:03:01.635420Z",
     "iopub.status.idle": "2022-12-19T14:03:02.992736Z",
     "shell.execute_reply": "2022-12-19T14:03:02.992107Z",
     "shell.execute_reply.started": "2021-10-22T20:44:17.596864Z"
    },
    "papermill": {
     "duration": 4.388846,
     "end_time": "2022-12-19T14:03:02.992910",
     "exception": false,
     "start_time": "2022-12-19T14:02:58.604064",
     "status": "completed"
    },
    "tags": []
   },
   "outputs": [
    {
     "name": "stdout",
     "output_type": "stream",
     "text": [
      "94/94 [==============================] - 1s 13ms/step - loss: 12.2518 - accuracy: 0.0117\n",
      "Evaluation Score: 1 %\n"
     ]
    }
   ],
   "source": [
    "# Evaluate model on validation data\n",
    "_, evaluation_score = model.evaluate(X_test, y_test)\n",
    "print(f'Evaluation Score: {int(evaluation_score * 100)} %')"
   ]
  },
  {
   "cell_type": "code",
   "execution_count": 13,
   "id": "28292885",
   "metadata": {
    "execution": {
     "iopub.execute_input": "2022-12-19T14:03:09.036122Z",
     "iopub.status.busy": "2022-12-19T14:03:09.035239Z",
     "iopub.status.idle": "2022-12-19T14:03:11.092253Z",
     "shell.execute_reply": "2022-12-19T14:03:11.093196Z",
     "shell.execute_reply.started": "2021-10-22T20:44:17.602336Z"
    },
    "papermill": {
     "duration": 5.074583,
     "end_time": "2022-12-19T14:03:11.093391",
     "exception": false,
     "start_time": "2022-12-19T14:03:06.018808",
     "status": "completed"
    },
    "tags": []
   },
   "outputs": [
    {
     "name": "stdout",
     "output_type": "stream",
     "text": [
      "              precision    recall  f1-score   support\n",
      "\n",
      "           0       0.00      0.00      0.00        25\n",
      "           1       0.00      0.00      0.00        27\n",
      "           2       0.00      0.00      0.00        28\n",
      "           3       0.00      0.00      0.00        23\n",
      "           4       0.00      0.00      0.00        34\n",
      "           5       0.00      0.00      0.00        30\n",
      "           6       0.00      0.00      0.00        37\n",
      "           7       0.00      0.00      0.00        31\n",
      "           8       0.00      0.00      0.00        40\n",
      "           9       0.00      0.00      0.00        28\n",
      "          10       0.00      0.00      0.00        29\n",
      "          11       0.00      0.00      0.00        26\n",
      "          12       0.00      0.00      0.00        30\n",
      "          13       0.00      0.00      0.00        35\n",
      "          14       0.00      0.00      0.00        28\n",
      "          15       0.00      0.00      0.00        24\n",
      "          16       0.00      0.00      0.00        29\n",
      "          17       0.00      0.00      0.00        32\n",
      "          18       0.00      0.00      0.00        34\n",
      "          19       0.00      0.00      0.00        27\n",
      "          20       0.00      0.00      0.00        28\n",
      "          21       0.00      0.00      0.00        27\n",
      "          22       0.00      0.00      0.00        32\n",
      "          23       0.00      0.00      0.00        25\n",
      "          24       0.00      0.00      0.00        29\n",
      "          25       0.00      0.00      0.00        33\n",
      "          26       0.00      0.00      0.00        28\n",
      "          27       0.00      0.00      0.00        31\n",
      "          28       0.00      0.00      0.00        25\n",
      "          29       0.00      0.00      0.00        30\n",
      "          30       0.00      0.00      0.00        27\n",
      "          31       0.00      0.00      0.00        31\n",
      "          32       0.00      0.00      0.00        32\n",
      "          33       0.00      0.00      0.00        29\n",
      "          34       0.00      0.00      0.00        29\n",
      "          35       0.00      0.00      0.00        29\n",
      "          36       0.00      0.00      0.00        24\n",
      "          37       0.00      0.00      0.00        32\n",
      "          38       0.00      0.00      0.00        31\n",
      "          39       0.00      0.00      0.00        36\n",
      "          40       0.00      0.00      0.00        31\n",
      "          41       0.00      0.00      0.00        28\n",
      "          42       0.00      0.00      0.00        33\n",
      "          43       0.00      0.00      0.00        28\n",
      "          44       0.00      0.00      0.00        36\n",
      "          45       0.00      0.00      0.00        32\n",
      "          46       0.00      0.00      0.00        27\n",
      "          47       0.00      0.00      0.00        30\n",
      "          48       0.00      0.00      0.00        27\n",
      "          49       0.00      0.00      0.00        40\n",
      "          50       0.00      0.00      0.00        29\n",
      "          51       0.00      0.00      0.00        30\n",
      "          52       0.00      0.00      0.00        30\n",
      "          53       0.00      0.00      0.00        32\n",
      "          54       0.00      0.00      0.00        23\n",
      "          55       0.00      0.00      0.00        33\n",
      "          56       0.00      0.00      0.00        33\n",
      "          57       0.00      0.00      0.00        20\n",
      "          58       0.00      0.00      0.00        28\n",
      "          59       0.00      0.00      0.00        34\n",
      "          60       0.00      0.00      0.00        26\n",
      "          61       0.00      0.00      0.00        33\n",
      "          62       0.00      0.00      0.00        33\n",
      "          63       0.00      0.00      0.00        34\n",
      "          64       0.00      0.00      0.00        31\n",
      "          65       0.00      0.00      0.00        26\n",
      "          66       0.00      0.00      0.00        31\n",
      "          67       0.00      0.00      0.00        32\n",
      "          68       0.00      0.00      0.00        29\n",
      "          69       0.00      0.00      0.00        30\n",
      "          70       0.00      0.00      0.00        27\n",
      "          71       0.01      0.10      0.01        29\n",
      "          72       0.00      0.00      0.00        31\n",
      "          73       0.00      0.00      0.00        26\n",
      "          74       0.00      0.00      0.00        34\n",
      "          75       0.00      0.00      0.00        28\n",
      "          76       0.00      0.00      0.00        25\n",
      "          77       0.00      0.00      0.00        38\n",
      "          78       0.00      0.00      0.00        30\n",
      "          79       0.00      0.00      0.00        27\n",
      "          80       0.00      0.00      0.00        36\n",
      "          81       0.00      0.00      0.00        27\n",
      "          82       0.00      0.00      0.00        29\n",
      "          83       0.00      0.00      0.00        21\n",
      "          84       0.00      0.00      0.00        29\n",
      "          85       0.00      0.00      0.00        34\n",
      "          86       0.00      0.00      0.00        20\n",
      "          87       0.00      0.00      0.00        29\n",
      "          88       0.00      0.00      0.00        35\n",
      "          89       0.00      0.00      0.00        29\n",
      "          90       0.00      0.00      0.00        37\n",
      "          91       0.00      0.00      0.00        31\n",
      "          92       0.00      0.00      0.00        28\n",
      "          93       0.00      0.00      0.00        35\n",
      "          94       0.00      0.00      0.00        30\n",
      "          95       0.00      0.00      0.00        37\n",
      "          96       0.00      0.00      0.00        33\n",
      "          97       0.00      0.00      0.00        31\n",
      "          98       0.00      0.00      0.00        24\n",
      "          99       0.01      0.89      0.02        36\n",
      "\n",
      "    accuracy                           0.01      3000\n",
      "   macro avg       0.00      0.01      0.00      3000\n",
      "weighted avg       0.00      0.01      0.00      3000\n",
      "\n"
     ]
    },
    {
     "name": "stderr",
     "output_type": "stream",
     "text": [
      "/opt/conda/lib/python3.7/site-packages/sklearn/metrics/_classification.py:1221: UndefinedMetricWarning: Precision and F-score are ill-defined and being set to 0.0 in labels with no predicted samples. Use `zero_division` parameter to control this behavior.\n",
      "  _warn_prf(average, modifier, msg_start, len(result))\n"
     ]
    }
   ],
   "source": [
    "# Get classification report\n",
    "pred = np.argmax(model.predict(X_test), axis=1)\n",
    "test_y = np.argmax(y_test, axis=1)\n",
    "\n",
    "print(classification_report(test_y, pred, labels=list(range(len(labels)))))"
   ]
  }
 ],
 "metadata": {
  "kernelspec": {
   "display_name": "Python 3",
   "language": "python",
   "name": "python3"
  },
  "language_info": {
   "codemirror_mode": {
    "name": "ipython",
    "version": 3
   },
   "file_extension": ".py",
   "mimetype": "text/x-python",
   "name": "python",
   "nbconvert_exporter": "python",
   "pygments_lexer": "ipython3",
   "version": "3.8.13"
  },
  "papermill": {
   "default_parameters": {},
   "duration": 1314.123575,
   "end_time": "2022-12-19T14:03:18.543867",
   "environment_variables": {},
   "exception": null,
   "input_path": "__notebook__.ipynb",
   "output_path": "__notebook__.ipynb",
   "parameters": {},
   "start_time": "2022-12-19T13:41:24.420292",
   "version": "2.3.3"
  }
 },
 "nbformat": 4,
 "nbformat_minor": 5
}
