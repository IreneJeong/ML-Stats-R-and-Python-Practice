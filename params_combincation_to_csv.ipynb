{
 "cells": [
  {
   "cell_type": "code",
   "execution_count": 1,
   "metadata": {},
   "outputs": [],
   "source": [
    "import itertools\n",
    "import csv\n",
    "\n",
    "# Define parameter values\n",
    "data = ['Cifar-10', 'Cifar-100']\n",
    "epochs = [20, 30, 40, 50]\n",
    "lr = [0.01, 0.001, 0.0001, 0.00001]\n",
    "batch_size = [128, 256, 512]\n",
    "optimizer = ['RMSprop', 'Adam', 'SGD']\n",
    "validation_split = [0.2, 0.3, 0.4, 0.5]\n",
    "model = ['SImple CNN', 'Complex CNN', 'CNN with BN', 'TL - EB0', 'TL - SAM', 'TL - ViT']\n",
    "kernel_size = [(3,3), (5,5)]\n",
    "data_augmentation = ['Y', 'N']\n",
    "\n",
    "# Generate all possible combinations of parameters\n",
    "params = itertools.product(data, epochs, lr, batch_size, optimizer, validation_split, model, kernel_size, data_augmentation)\n",
    "\n",
    "# Write the results to a CSV file\n",
    "with open('params.csv', 'w', newline='') as f:\n",
    "    writer = csv.writer(f)\n",
    "    writer.writerow(['Data', 'Epochs', 'Lr', 'Batch Size', 'Optimizer', 'Validation', 'Model', 'Kernel size', 'Data Aug'])\n",
    "    for p in params:\n",
    "        writer.writerow(p)\n"
   ]
  }
 ],
 "metadata": {
  "kernelspec": {
   "display_name": "base",
   "language": "python",
   "name": "python3"
  },
  "language_info": {
   "codemirror_mode": {
    "name": "ipython",
    "version": 3
   },
   "file_extension": ".py",
   "mimetype": "text/x-python",
   "name": "python",
   "nbconvert_exporter": "python",
   "pygments_lexer": "ipython3",
   "version": "3.8.13"
  },
  "orig_nbformat": 4
 },
 "nbformat": 4,
 "nbformat_minor": 2
}
