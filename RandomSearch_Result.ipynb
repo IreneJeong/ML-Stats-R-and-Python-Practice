Fitting 3 folds for each of 10 candidates, totalling 30 fits
[CV 1/3; 1/10] START Conv2d_filters=256, No_of_CONV_and_Maxpool_layers=3, No_of_Dense_Layers=2, No_of_Units_in_dense_layers=256, No_of_batch_norm=False, batch_size=512, decay=0.01, dropout=0.8, epochs=30, l1=0.01, l2=0.001, learning_rate=0.01, momentum=0.2, optimizer=Adam, validation_split=0.1
Epoch 1/30
59/59 [==============================] - 554s 9s/step - loss: 3.0144 - accuracy: 0.0988 - val_loss: 2.5558 - val_accuracy: 0.1056
Epoch 2/30
59/59 [==============================] - 583s 10s/step - loss: 2.4383 - accuracy: 0.1023 - val_loss: 2.3703 - val_accuracy: 0.1056
Epoch 3/30
59/59 [==============================] - 576s 10s/step - loss: 2.3471 - accuracy: 0.0994 - val_loss: 2.3311 - val_accuracy: 0.1056
Epoch 4/30
59/59 [==============================] - 587s 10s/step - loss: 2.3235 - accuracy: 0.0994 - val_loss: 2.3178 - val_accuracy: 0.1056
Epoch 5/30
59/59 [==============================] - 578s 10s/step - loss: 2.3145 - accuracy: 0.1023 - val_loss: 2.3121 - val_accuracy: 0.1056
Epoch 6/30
59/59 [==============================] - 569s 10s/step - loss: 2.3103 - accuracy: 0.1023 - val_loss: 2.3090 - val_accuracy: 0.1056
Epoch 7/30
59/59 [==============================] - 567s 10s/step - loss: 2.3080 - accuracy: 0.1023 - val_loss: 2.3072 - val_accuracy: 0.1056
Epoch 8/30
59/59 [==============================] - 544s 9s/step - loss: 2.3066 - accuracy: 0.1023 - val_loss: 2.3061 - val_accuracy: 0.1056
Epoch 9/30
59/59 [==============================] - 545s 9s/step - loss: 2.3057 - accuracy: 0.1000 - val_loss: 2.3054 - val_accuracy: 0.1056
Epoch 10/30
59/59 [==============================] - 535s 9s/step - loss: 2.3050 - accuracy: 0.1007 - val_loss: 2.3049 - val_accuracy: 0.1056
Epoch 11/30
59/59 [==============================] - 503s 9s/step - loss: 2.3046 - accuracy: 0.1023 - val_loss: 2.3045 - val_accuracy: 0.1056
Epoch 12/30
59/59 [==============================] - 500s 8s/step - loss: 2.3042 - accuracy: 0.1003 - val_loss: 2.3042 - val_accuracy: 0.1056
Epoch 13/30
59/59 [==============================] - 445s 8s/step - loss: 2.3039 - accuracy: 0.1023 - val_loss: 2.3039 - val_accuracy: 0.1056
Epoch 14/30
59/59 [==============================] - 410s 7s/step - loss: 2.3037 - accuracy: 0.1023 - val_loss: 2.3038 - val_accuracy: 0.1056
Epoch 15/30
59/59 [==============================] - 411s 7s/step - loss: 2.3036 - accuracy: 0.1023 - val_loss: 2.3036 - val_accuracy: 0.1056
Epoch 16/30
59/59 [==============================] - 409s 7s/step - loss: 2.3034 - accuracy: 0.1023 - val_loss: 2.3036 - val_accuracy: 0.1056
Epoch 17/30
59/59 [==============================] - 410s 7s/step - loss: 2.3033 - accuracy: 0.1023 - val_loss: 2.3034 - val_accuracy: 0.1056
Epoch 18/30
59/59 [==============================] - 410s 7s/step - loss: 2.3032 - accuracy: 0.1023 - val_loss: 2.3034 - val_accuracy: 0.1056
Epoch 19/30
59/59 [==============================] - 411s 7s/step - loss: 2.3031 - accuracy: 0.1023 - val_loss: 2.3032 - val_accuracy: 0.1056
Epoch 20/30
59/59 [==============================] - 407s 7s/step - loss: 2.3031 - accuracy: 0.1023 - val_loss: 2.3032 - val_accuracy: 0.1056
Epoch 21/30
59/59 [==============================] - 407s 7s/step - loss: 2.3030 - accuracy: 0.1023 - val_loss: 2.3031 - val_accuracy: 0.1056
Epoch 22/30
59/59 [==============================] - 413s 7s/step - loss: 2.3030 - accuracy: 0.1023 - val_loss: 2.3031 - val_accuracy: 0.1056
Epoch 23/30
59/59 [==============================] - 409s 7s/step - loss: 2.3029 - accuracy: 0.1023 - val_loss: 2.3030 - val_accuracy: 0.1056
Epoch 24/30
59/59 [==============================] - 418s 7s/step - loss: 2.3029 - accuracy: 0.1023 - val_loss: 2.3030 - val_accuracy: 0.1056
Epoch 25/30
59/59 [==============================] - 408s 7s/step - loss: 2.3028 - accuracy: 0.1023 - val_loss: 2.3030 - val_accuracy: 0.1056
Epoch 26/30
59/59 [==============================] - 409s 7s/step - loss: 2.3028 - accuracy: 0.1023 - val_loss: 2.3029 - val_accuracy: 0.1056
Epoch 27/30
59/59 [==============================] - 415s 7s/step - loss: 2.3028 - accuracy: 0.1023 - val_loss: 2.3029 - val_accuracy: 0.1056
Epoch 28/30
59/59 [==============================] - 411s 7s/step - loss: 2.3028 - accuracy: 0.1023 - val_loss: 2.3029 - val_accuracy: 0.1056
Epoch 29/30
59/59 [==============================] - 408s 7s/step - loss: 2.3027 - accuracy: 0.1023 - val_loss: 2.3029 - val_accuracy: 0.1056
Epoch 30/30
59/59 [==============================] - 419s 7s/step - loss: 2.3027 - accuracy: 0.1023 - val_loss: 2.3029 - val_accuracy: 0.1056
33/33 [==============================] - 81s 2s/step - loss: 2.3030 - accuracy: 0.0947
[CV 1/3; 1/10] END Conv2d_filters=256, No_of_CONV_and_Maxpool_layers=3, No_of_Dense_Layers=2, No_of_Units_in_dense_layers=256, No_of_batch_norm=False, batch_size=512, decay=0.01, dropout=0.8, epochs=30, l1=0.01, l2=0.001, learning_rate=0.01, momentum=0.2, optimizer=Adam, validation_split=0.1;, score=0.095 total time=235.9min
[CV 2/3; 1/10] START Conv2d_filters=256, No_of_CONV_and_Maxpool_layers=3, No_of_Dense_Layers=2, No_of_Units_in_dense_layers=256, No_of_batch_norm=False, batch_size=512, decay=0.01, dropout=0.8, epochs=30, l1=0.01, l2=0.001, learning_rate=0.01, momentum=0.2, optimizer=Adam, validation_split=0.1
Epoch 1/30
59/59 [==============================] - 415s 7s/step - loss: 3.0090 - accuracy: 0.0960 - val_loss: 2.5628 - val_accuracy: 0.1038
Epoch 2/30
59/59 [==============================] - 409s 7s/step - loss: 2.4410 - accuracy: 0.0991 - val_loss: 2.3707 - val_accuracy: 0.0960
Epoch 3/30
59/59 [==============================] - 407s 7s/step - loss: 2.3462 - accuracy: 0.0992 - val_loss: 2.3299 - val_accuracy: 0.0960
Epoch 4/30
59/59 [==============================] - 411s 7s/step - loss: 2.3218 - accuracy: 0.0975 - val_loss: 2.3164 - val_accuracy: 0.1026
Epoch 5/30
59/59 [==============================] - 407s 7s/step - loss: 2.3129 - accuracy: 0.0991 - val_loss: 2.3107 - val_accuracy: 0.1026
Epoch 6/30
59/59 [==============================] - 412s 7s/step - loss: 2.3088 - accuracy: 0.0985 - val_loss: 2.3081 - val_accuracy: 0.0960
Epoch 7/30
59/59 [==============================] - 412s 7s/step - loss: 2.3067 - accuracy: 0.0978 - val_loss: 2.3064 - val_accuracy: 0.1026
Epoch 8/30
59/59 [==============================] - 409s 7s/step - loss: 2.3055 - accuracy: 0.0981 - val_loss: 2.3055 - val_accuracy: 0.0948
Epoch 9/30
59/59 [==============================] - 408s 7s/step - loss: 2.3047 - accuracy: 0.0987 - val_loss: 2.3049 - val_accuracy: 0.1026
Epoch 10/30
59/59 [==============================] - 413s 7s/step - loss: 2.3042 - accuracy: 0.1001 - val_loss: 2.3046 - val_accuracy: 0.0960
Epoch 11/30
59/59 [==============================] - 411s 7s/step - loss: 2.3038 - accuracy: 0.0984 - val_loss: 2.3042 - val_accuracy: 0.0948
Epoch 12/30
59/59 [==============================] - 409s 7s/step - loss: 2.3036 - accuracy: 0.0999 - val_loss: 2.3040 - val_accuracy: 0.0960
Epoch 13/30
59/59 [==============================] - 412s 7s/step - loss: 2.3034 - accuracy: 0.1013 - val_loss: 2.3038 - val_accuracy: 0.0960
Epoch 14/30
59/59 [==============================] - 412s 7s/step - loss: 2.3033 - accuracy: 0.1005 - val_loss: 2.3037 - val_accuracy: 0.0948
Epoch 15/30
59/59 [==============================] - 410s 7s/step - loss: 2.3031 - accuracy: 0.0993 - val_loss: 2.3036 - val_accuracy: 0.0960
Epoch 16/30
59/59 [==============================] - 412s 7s/step - loss: 2.3030 - accuracy: 0.1007 - val_loss: 2.3036 - val_accuracy: 0.0948
Epoch 17/30
59/59 [==============================] - 410s 7s/step - loss: 2.3030 - accuracy: 0.0978 - val_loss: 2.3034 - val_accuracy: 0.0960
Epoch 18/30
59/59 [==============================] - 409s 7s/step - loss: 2.3029 - accuracy: 0.0993 - val_loss: 2.3035 - val_accuracy: 0.0948
Epoch 19/30
59/59 [==============================] - 414s 7s/step - loss: 2.3029 - accuracy: 0.1005 - val_loss: 2.3033 - val_accuracy: 0.0960
Epoch 20/30
59/59 [==============================] - 410s 7s/step - loss: 2.3028 - accuracy: 0.0986 - val_loss: 2.3033 - val_accuracy: 0.0948
Epoch 21/30
59/59 [==============================] - 408s 7s/step - loss: 2.3028 - accuracy: 0.1012 - val_loss: 2.3032 - val_accuracy: 0.0948
Epoch 22/30
59/59 [==============================] - 409s 7s/step - loss: 2.3028 - accuracy: 0.0985 - val_loss: 2.3033 - val_accuracy: 0.0960
Epoch 23/30
59/59 [==============================] - 409s 7s/step - loss: 2.3027 - accuracy: 0.1013 - val_loss: 2.3032 - val_accuracy: 0.0960
Epoch 24/30
59/59 [==============================] - 410s 7s/step - loss: 2.3027 - accuracy: 0.1013 - val_loss: 2.3032 - val_accuracy: 0.0960
Epoch 25/30
59/59 [==============================] - 409s 7s/step - loss: 2.3027 - accuracy: 0.1007 - val_loss: 2.3032 - val_accuracy: 0.0948
Epoch 26/30
59/59 [==============================] - 408s 7s/step - loss: 2.3027 - accuracy: 0.1003 - val_loss: 2.3031 - val_accuracy: 0.0960
Epoch 27/30
59/59 [==============================] - 407s 7s/step - loss: 2.3027 - accuracy: 0.1013 - val_loss: 2.3032 - val_accuracy: 0.0960
Epoch 28/30
59/59 [==============================] - 417s 7s/step - loss: 2.3026 - accuracy: 0.0992 - val_loss: 2.3032 - val_accuracy: 0.0948
Epoch 29/30
59/59 [==============================] - 411s 7s/step - loss: 2.3026 - accuracy: 0.1009 - val_loss: 2.3031 - val_accuracy: 0.0960
Epoch 30/30
59/59 [==============================] - 410s 7s/step - loss: 2.3026 - accuracy: 0.1003 - val_loss: 2.3031 - val_accuracy: 0.0948
33/33 [==============================] - 82s 2s/step - loss: 2.3029 - accuracy: 0.0988
[CV 2/3; 1/10] END Conv2d_filters=256, No_of_CONV_and_Maxpool_layers=3, No_of_Dense_Layers=2, No_of_Units_in_dense_layers=256, No_of_batch_norm=False, batch_size=512, decay=0.01, dropout=0.8, epochs=30, l1=0.01, l2=0.001, learning_rate=0.01, momentum=0.2, optimizer=Adam, validation_split=0.1;, score=0.099 total time=206.5min
[CV 3/3; 1/10] START Conv2d_filters=256, No_of_CONV_and_Maxpool_layers=3, No_of_Dense_Layers=2, No_of_Units_in_dense_layers=256, No_of_batch_norm=False, batch_size=512, decay=0.01, dropout=0.8, epochs=30, l1=0.01, l2=0.001, learning_rate=0.01, momentum=0.2, optimizer=Adam, validation_split=0.1
Epoch 1/30
59/59 [==============================] - 410s 7s/step - loss: 2.9753 - accuracy: 0.0983 - val_loss: 2.5336 - val_accuracy: 0.0942
Epoch 2/30
59/59 [==============================] - 409s 7s/step - loss: 2.4199 - accuracy: 0.0999 - val_loss: 2.3561 - val_accuracy: 0.0987
Epoch 3/30
59/59 [==============================] - 409s 7s/step - loss: 2.3357 - accuracy: 0.1005 - val_loss: 2.3221 - val_accuracy: 0.0966
Epoch 4/30
59/59 [==============================] - 408s 7s/step - loss: 2.3160 - accuracy: 0.0990 - val_loss: 2.3118 - val_accuracy: 0.0966
Epoch 5/30
59/59 [==============================] - 407s 7s/step - loss: 2.3093 - accuracy: 0.1014 - val_loss: 2.3077 - val_accuracy: 0.0966
Epoch 6/30
59/59 [==============================] - 410s 7s/step - loss: 2.3064 - accuracy: 0.0991 - val_loss: 2.3057 - val_accuracy: 0.0966
Epoch 7/30
59/59 [==============================] - 410s 7s/step - loss: 2.3050 - accuracy: 0.1014 - val_loss: 2.3047 - val_accuracy: 0.0966
Epoch 8/30
59/59 [==============================] - 420s 7s/step - loss: 2.3042 - accuracy: 0.0997 - val_loss: 2.3042 - val_accuracy: 0.0966
Epoch 9/30
59/59 [==============================] - 423s 7s/step - loss: 2.3037 - accuracy: 0.1000 - val_loss: 2.3037 - val_accuracy: 0.0942
Epoch 10/30
59/59 [==============================] - 445s 8s/step - loss: 2.3034 - accuracy: 0.0985 - val_loss: 2.3036 - val_accuracy: 0.0966
Epoch 11/30
59/59 [==============================] - 410s 7s/step - loss: 2.3032 - accuracy: 0.1014 - val_loss: 2.3034 - val_accuracy: 0.0966
Epoch 12/30
59/59 [==============================] - 413s 7s/step - loss: 2.3031 - accuracy: 0.0996 - val_loss: 2.3033 - val_accuracy: 0.0942
Epoch 13/30
59/59 [==============================] - 410s 7s/step - loss: 2.3030 - accuracy: 0.0990 - val_loss: 2.3032 - val_accuracy: 0.0966
Epoch 14/30
59/59 [==============================] - 493s 8s/step - loss: 2.3029 - accuracy: 0.1014 - val_loss: 2.3031 - val_accuracy: 0.0966
Epoch 15/30
59/59 [==============================] - 547s 9s/step - loss: 2.3028 - accuracy: 0.1014 - val_loss: 2.3031 - val_accuracy: 0.0966
Epoch 16/30
59/59 [==============================] - 486s 8s/step - loss: 2.3028 - accuracy: 0.0983 - val_loss: 2.3031 - val_accuracy: 0.0966
Epoch 17/30
59/59 [==============================] - 412s 7s/step - loss: 2.3028 - accuracy: 0.1014 - val_loss: 2.3031 - val_accuracy: 0.0966
Epoch 18/30
59/59 [==============================] - 409s 7s/step - loss: 2.3027 - accuracy: 0.1014 - val_loss: 2.3030 - val_accuracy: 0.0966
Epoch 19/30
59/59 [==============================] - 414s 7s/step - loss: 2.3027 - accuracy: 0.1014 - val_loss: 2.3030 - val_accuracy: 0.0966
Epoch 20/30
59/59 [==============================] - 409s 7s/step - loss: 2.3027 - accuracy: 0.1014 - val_loss: 2.3030 - val_accuracy: 0.0966
Epoch 21/30
59/59 [==============================] - 409s 7s/step - loss: 2.3027 - accuracy: 0.1014 - val_loss: 2.3030 - val_accuracy: 0.0966
Epoch 22/30
59/59 [==============================] - 505s 9s/step - loss: 2.3027 - accuracy: 0.1014 - val_loss: 2.3029 - val_accuracy: 0.0966
Epoch 23/30
59/59 [==============================] - 560s 10s/step - loss: 2.3026 - accuracy: 0.1014 - val_loss: 2.3029 - val_accuracy: 0.0966
Epoch 24/30
59/59 [==============================] - 565s 10s/step - loss: 2.3026 - accuracy: 0.1014 - val_loss: 2.3029 - val_accuracy: 0.0966
Epoch 25/30
59/59 [==============================] - 595s 10s/step - loss: 2.3027 - accuracy: 0.1014 - val_loss: 2.3029 - val_accuracy: 0.0966
Epoch 26/30
59/59 [==============================] - 560s 10s/step - loss: 2.3026 - accuracy: 0.1014 - val_loss: 2.3029 - val_accuracy: 0.0966
Epoch 27/30
59/59 [==============================] - 610s 10s/step - loss: 2.3026 - accuracy: 0.1014 - val_loss: 2.3029 - val_accuracy: 0.0966
Epoch 28/30
59/59 [==============================] - 610s 10s/step - loss: 2.3026 - accuracy: 0.1014 - val_loss: 2.3029 - val_accuracy: 0.0966
Epoch 29/30
59/59 [==============================] - 464s 8s/step - loss: 2.3026 - accuracy: 0.1014 - val_loss: 2.3029 - val_accuracy: 0.0966
Epoch 30/30
59/59 [==============================] - 528s 9s/step - loss: 2.3026 - accuracy: 0.1014 - val_loss: 2.3029 - val_accuracy: 0.0966
33/33 [==============================] - 122s 4s/step - loss: 2.3027 - accuracy: 0.0982
[CV 3/3; 1/10] END Conv2d_filters=256, No_of_CONV_and_Maxpool_layers=3, No_of_Dense_Layers=2, No_of_Units_in_dense_layers=256, No_of_batch_norm=False, batch_size=512, decay=0.01, dropout=0.8, epochs=30, l1=0.01, l2=0.001, learning_rate=0.01, momentum=0.2, optimizer=Adam, validation_split=0.1;, score=0.098 total time=234.7min
[CV 1/3; 2/10] START Conv2d_filters=128, No_of_CONV_and_Maxpool_layers=3, No_of_Dense_Layers=5, No_of_Units_in_dense_layers=512, No_of_batch_norm=True, batch_size=128, decay=0.01, dropout=0, epochs=50, l1=0.0001, l2=0.0001, learning_rate=0.001, momentum=0.5, optimizer=Adam, validation_split=0.1
Epoch 1/50
235/235 [==============================] - 196s 823ms/step - loss: 2.0617 - accuracy: 0.1909 - val_loss: 1.8602 - val_accuracy: 0.2510
Epoch 2/50
235/235 [==============================] - 177s 753ms/step - loss: 1.7283 - accuracy: 0.3260 - val_loss: 1.5969 - val_accuracy: 0.3857
Epoch 3/50
235/235 [==============================] - 175s 746ms/step - loss: 1.5380 - accuracy: 0.4037 - val_loss: 1.4959 - val_accuracy: 0.4388
Epoch 4/50
235/235 [==============================] - 176s 749ms/step - loss: 1.4188 - accuracy: 0.4581 - val_loss: 1.4677 - val_accuracy: 0.4421
Epoch 5/50
235/235 [==============================] - 185s 789ms/step - loss: 1.3294 - accuracy: 0.5036 - val_loss: 1.3706 - val_accuracy: 0.4991
Epoch 6/50
235/235 [==============================] - 184s 783ms/step - loss: 1.2638 - accuracy: 0.5351 - val_loss: 1.3297 - val_accuracy: 0.5183
Epoch 7/50
235/235 [==============================] - 184s 784ms/step - loss: 1.2029 - accuracy: 0.5578 - val_loss: 1.3069 - val_accuracy: 0.5366
Epoch 8/50
235/235 [==============================] - 193s 823ms/step - loss: 1.1565 - accuracy: 0.5784 - val_loss: 1.2867 - val_accuracy: 0.5417
Epoch 9/50
235/235 [==============================] - 188s 801ms/step - loss: 1.1162 - accuracy: 0.5927 - val_loss: 1.2739 - val_accuracy: 0.5498
Epoch 10/50
235/235 [==============================] - 183s 779ms/step - loss: 1.0819 - accuracy: 0.6046 - val_loss: 1.2631 - val_accuracy: 0.5609
Epoch 11/50
235/235 [==============================] - 190s 807ms/step - loss: 1.0511 - accuracy: 0.6179 - val_loss: 1.2387 - val_accuracy: 0.5678
Epoch 12/50
235/235 [==============================] - 176s 750ms/step - loss: 1.0196 - accuracy: 0.6301 - val_loss: 1.2409 - val_accuracy: 0.5684
Epoch 13/50
235/235 [==============================] - 179s 761ms/step - loss: 0.9947 - accuracy: 0.6389 - val_loss: 1.2421 - val_accuracy: 0.5756
Epoch 14/50
235/235 [==============================] - 192s 816ms/step - loss: 0.9728 - accuracy: 0.6478 - val_loss: 1.2420 - val_accuracy: 0.5819
Epoch 15/50
235/235 [==============================] - 186s 793ms/step - loss: 0.9483 - accuracy: 0.6576 - val_loss: 1.2436 - val_accuracy: 0.5843
Epoch 16/50
235/235 [==============================] - 190s 808ms/step - loss: 0.9281 - accuracy: 0.6647 - val_loss: 1.2645 - val_accuracy: 0.5786
Epoch 17/50
235/235 [==============================] - 190s 810ms/step - loss: 0.9099 - accuracy: 0.6746 - val_loss: 1.2621 - val_accuracy: 0.5807
Epoch 18/50
235/235 [==============================] - 190s 809ms/step - loss: 0.8895 - accuracy: 0.6783 - val_loss: 1.2572 - val_accuracy: 0.5879
Epoch 19/50
235/235 [==============================] - 188s 799ms/step - loss: 0.8754 - accuracy: 0.6855 - val_loss: 1.2553 - val_accuracy: 0.5951
Epoch 20/50
235/235 [==============================] - 175s 743ms/step - loss: 0.8544 - accuracy: 0.6946 - val_loss: 1.2725 - val_accuracy: 0.5897
Epoch 21/50
235/235 [==============================] - 185s 787ms/step - loss: 0.8434 - accuracy: 0.6978 - val_loss: 1.2801 - val_accuracy: 0.5909
Epoch 22/50
235/235 [==============================] - 191s 811ms/step - loss: 0.8257 - accuracy: 0.7061 - val_loss: 1.2850 - val_accuracy: 0.5954
Epoch 23/50
235/235 [==============================] - 192s 817ms/step - loss: 0.8141 - accuracy: 0.7099 - val_loss: 1.3073 - val_accuracy: 0.5942
Epoch 24/50
235/235 [==============================] - 185s 787ms/step - loss: 0.8014 - accuracy: 0.7165 - val_loss: 1.3526 - val_accuracy: 0.5816
Epoch 25/50
235/235 [==============================] - 173s 737ms/step - loss: 0.7874 - accuracy: 0.7216 - val_loss: 1.3260 - val_accuracy: 0.5915
Epoch 26/50
235/235 [==============================] - 176s 749ms/step - loss: 0.7742 - accuracy: 0.7274 - val_loss: 1.3236 - val_accuracy: 0.5903
Epoch 27/50
235/235 [==============================] - 177s 755ms/step - loss: 0.7647 - accuracy: 0.7317 - val_loss: 1.3355 - val_accuracy: 0.5963
Epoch 28/50
235/235 [==============================] - 176s 748ms/step - loss: 0.7524 - accuracy: 0.7376 - val_loss: 1.3439 - val_accuracy: 0.5966
Epoch 29/50
235/235 [==============================] - 187s 795ms/step - loss: 0.7409 - accuracy: 0.7416 - val_loss: 1.3398 - val_accuracy: 0.5972
Epoch 30/50
235/235 [==============================] - 171s 726ms/step - loss: 0.7299 - accuracy: 0.7452 - val_loss: 1.3804 - val_accuracy: 0.5879
Epoch 31/50
235/235 [==============================] - 175s 744ms/step - loss: 0.7198 - accuracy: 0.7510 - val_loss: 1.3690 - val_accuracy: 0.5939
Epoch 32/50
235/235 [==============================] - 173s 735ms/step - loss: 0.7094 - accuracy: 0.7538 - val_loss: 1.3921 - val_accuracy: 0.5915
Epoch 33/50
235/235 [==============================] - 171s 727ms/step - loss: 0.7013 - accuracy: 0.7584 - val_loss: 1.4035 - val_accuracy: 0.5891
Epoch 34/50
235/235 [==============================] - 162s 690ms/step - loss: 0.6926 - accuracy: 0.7633 - val_loss: 1.4080 - val_accuracy: 0.5930
Epoch 35/50
235/235 [==============================] - 188s 799ms/step - loss: 0.6824 - accuracy: 0.7661 - val_loss: 1.4269 - val_accuracy: 0.5894
Epoch 36/50
235/235 [==============================] - 200s 850ms/step - loss: 0.6747 - accuracy: 0.7700 - val_loss: 1.4206 - val_accuracy: 0.5894
Epoch 37/50
235/235 [==============================] - 156s 663ms/step - loss: 0.6659 - accuracy: 0.7743 - val_loss: 1.4381 - val_accuracy: 0.5957
Epoch 38/50
235/235 [==============================] - 155s 661ms/step - loss: 0.6573 - accuracy: 0.7771 - val_loss: 1.4618 - val_accuracy: 0.5948
Epoch 39/50
235/235 [==============================] - 156s 665ms/step - loss: 0.6498 - accuracy: 0.7817 - val_loss: 1.4676 - val_accuracy: 0.5909
Epoch 40/50
235/235 [==============================] - 170s 723ms/step - loss: 0.6423 - accuracy: 0.7841 - val_loss: 1.4791 - val_accuracy: 0.5969
Epoch 41/50
235/235 [==============================] - 185s 789ms/step - loss: 0.6350 - accuracy: 0.7856 - val_loss: 1.4961 - val_accuracy: 0.5957
Epoch 42/50
235/235 [==============================] - 167s 712ms/step - loss: 0.6270 - accuracy: 0.7920 - val_loss: 1.4936 - val_accuracy: 0.5939
Epoch 43/50
235/235 [==============================] - 146s 620ms/step - loss: 0.6201 - accuracy: 0.7959 - val_loss: 1.5014 - val_accuracy: 0.5948
Epoch 44/50
235/235 [==============================] - 144s 612ms/step - loss: 0.6139 - accuracy: 0.7965 - val_loss: 1.5157 - val_accuracy: 0.5957
Epoch 45/50
235/235 [==============================] - 131s 556ms/step - loss: 0.6067 - accuracy: 0.8009 - val_loss: 1.5258 - val_accuracy: 0.5942
Epoch 46/50
235/235 [==============================] - 133s 565ms/step - loss: 0.5989 - accuracy: 0.8044 - val_loss: 1.5398 - val_accuracy: 0.5957
Epoch 47/50
235/235 [==============================] - 150s 637ms/step - loss: 0.5924 - accuracy: 0.8064 - val_loss: 1.5578 - val_accuracy: 0.5897
Epoch 48/50
235/235 [==============================] - 150s 640ms/step - loss: 0.5879 - accuracy: 0.8090 - val_loss: 1.5722 - val_accuracy: 0.5903
Epoch 49/50
235/235 [==============================] - 130s 555ms/step - loss: 0.5805 - accuracy: 0.8125 - val_loss: 1.5727 - val_accuracy: 0.5921
Epoch 50/50
235/235 [==============================] - 128s 544ms/step - loss: 0.5757 - accuracy: 0.8142 - val_loss: 1.5974 - val_accuracy: 0.5921
131/131 [==============================] - 26s 197ms/step - loss: 1.6878 - accuracy: 0.5768
[CV 1/3; 2/10] END Conv2d_filters=128, No_of_CONV_and_Maxpool_layers=3, No_of_Dense_Layers=5, No_of_Units_in_dense_layers=512, No_of_batch_norm=True, batch_size=128, decay=0.01, dropout=0, epochs=50, l1=0.0001, l2=0.0001, learning_rate=0.001, momentum=0.5, optimizer=Adam, validation_split=0.1;, score=0.577 total time=145.1min
[CV 2/3; 2/10] START Conv2d_filters=128, No_of_CONV_and_Maxpool_layers=3, No_of_Dense_Layers=5, No_of_Units_in_dense_layers=512, No_of_batch_norm=True, batch_size=128, decay=0.01, dropout=0, epochs=50, l1=0.0001, l2=0.0001, learning_rate=0.001, momentum=0.5, optimizer=Adam, validation_split=0.1
Epoch 1/50
235/235 [==============================] - 128s 541ms/step - loss: 2.0440 - accuracy: 0.1975 - val_loss: 1.9149 - val_accuracy: 0.2636
Epoch 2/50
235/235 [==============================] - 128s 545ms/step - loss: 1.7209 - accuracy: 0.3251 - val_loss: 1.5884 - val_accuracy: 0.3935
Epoch 3/50
235/235 [==============================] - 129s 547ms/step - loss: 1.5010 - accuracy: 0.4270 - val_loss: 1.4556 - val_accuracy: 0.4670
Epoch 4/50
235/235 [==============================] - 128s 547ms/step - loss: 1.3473 - accuracy: 0.5016 - val_loss: 1.3314 - val_accuracy: 0.5258
Epoch 5/50
235/235 [==============================] - 127s 541ms/step - loss: 1.2390 - accuracy: 0.5530 - val_loss: 1.2695 - val_accuracy: 0.5438
Epoch 6/50
235/235 [==============================] - 127s 541ms/step - loss: 1.1592 - accuracy: 0.5870 - val_loss: 1.2042 - val_accuracy: 0.5741
Epoch 7/50
235/235 [==============================] - 127s 542ms/step - loss: 1.1059 - accuracy: 0.6049 - val_loss: 1.1895 - val_accuracy: 0.5810
Epoch 8/50
235/235 [==============================] - 128s 545ms/step - loss: 1.0428 - accuracy: 0.6318 - val_loss: 1.1627 - val_accuracy: 0.5972
Epoch 9/50
235/235 [==============================] - 128s 547ms/step - loss: 1.0019 - accuracy: 0.6465 - val_loss: 1.1329 - val_accuracy: 0.6104
Epoch 10/50
235/235 [==============================] - 128s 544ms/step - loss: 0.9609 - accuracy: 0.6630 - val_loss: 1.1368 - val_accuracy: 0.6083
Epoch 11/50
235/235 [==============================] - 128s 545ms/step - loss: 0.9223 - accuracy: 0.6810 - val_loss: 1.1171 - val_accuracy: 0.6248
Epoch 12/50
235/235 [==============================] - 128s 544ms/step - loss: 0.8876 - accuracy: 0.6945 - val_loss: 1.1196 - val_accuracy: 0.6188
Epoch 13/50
235/235 [==============================] - 128s 546ms/step - loss: 0.8581 - accuracy: 0.7041 - val_loss: 1.1287 - val_accuracy: 0.6248
Epoch 14/50
235/235 [==============================] - 128s 543ms/step - loss: 0.8280 - accuracy: 0.7186 - val_loss: 1.1332 - val_accuracy: 0.6245
Epoch 15/50
235/235 [==============================] - 128s 544ms/step - loss: 0.8061 - accuracy: 0.7260 - val_loss: 1.1342 - val_accuracy: 0.6296
Epoch 16/50
235/235 [==============================] - 129s 547ms/step - loss: 0.7770 - accuracy: 0.7386 - val_loss: 1.1314 - val_accuracy: 0.6287
Epoch 17/50
235/235 [==============================] - 129s 548ms/step - loss: 0.7586 - accuracy: 0.7439 - val_loss: 1.1648 - val_accuracy: 0.6260
Epoch 18/50
235/235 [==============================] - 128s 546ms/step - loss: 0.7376 - accuracy: 0.7529 - val_loss: 1.1473 - val_accuracy: 0.6356
Epoch 19/50
235/235 [==============================] - 128s 547ms/step - loss: 0.7180 - accuracy: 0.7616 - val_loss: 1.1517 - val_accuracy: 0.6374
Epoch 20/50
235/235 [==============================] - 128s 545ms/step - loss: 0.7004 - accuracy: 0.7684 - val_loss: 1.1614 - val_accuracy: 0.6341
Epoch 21/50
235/235 [==============================] - 130s 553ms/step - loss: 0.6818 - accuracy: 0.7752 - val_loss: 1.1727 - val_accuracy: 0.6377
Epoch 22/50
235/235 [==============================] - 129s 550ms/step - loss: 0.6678 - accuracy: 0.7813 - val_loss: 1.1860 - val_accuracy: 0.6371
Epoch 23/50
235/235 [==============================] - 129s 547ms/step - loss: 0.6512 - accuracy: 0.7865 - val_loss: 1.1945 - val_accuracy: 0.6380
Epoch 24/50
235/235 [==============================] - 129s 551ms/step - loss: 0.6364 - accuracy: 0.7947 - val_loss: 1.2116 - val_accuracy: 0.6392
Epoch 25/50
235/235 [==============================] - 130s 552ms/step - loss: 0.6205 - accuracy: 0.8002 - val_loss: 1.2284 - val_accuracy: 0.6350
Epoch 26/50
235/235 [==============================] - 130s 555ms/step - loss: 0.6075 - accuracy: 0.8069 - val_loss: 1.2417 - val_accuracy: 0.6374
Epoch 27/50
235/235 [==============================] - 130s 553ms/step - loss: 0.5948 - accuracy: 0.8119 - val_loss: 1.2407 - val_accuracy: 0.6416
Epoch 28/50
235/235 [==============================] - 129s 551ms/step - loss: 0.5821 - accuracy: 0.8169 - val_loss: 1.2620 - val_accuracy: 0.6350
Epoch 29/50
235/235 [==============================] - 130s 555ms/step - loss: 0.5707 - accuracy: 0.8211 - val_loss: 1.2665 - val_accuracy: 0.6419
Epoch 30/50
235/235 [==============================] - 137s 585ms/step - loss: 0.5584 - accuracy: 0.8261 - val_loss: 1.2927 - val_accuracy: 0.6365
Epoch 31/50
235/235 [==============================] - 138s 589ms/step - loss: 0.5483 - accuracy: 0.8306 - val_loss: 1.3188 - val_accuracy: 0.6377
Epoch 32/50
235/235 [==============================] - 152s 648ms/step - loss: 0.5380 - accuracy: 0.8360 - val_loss: 1.3046 - val_accuracy: 0.6392
Epoch 33/50
235/235 [==============================] - 181s 768ms/step - loss: 0.5256 - accuracy: 0.8411 - val_loss: 1.3361 - val_accuracy: 0.6353
Epoch 34/50
235/235 [==============================] - 179s 764ms/step - loss: 0.5194 - accuracy: 0.8432 - val_loss: 1.3338 - val_accuracy: 0.6428
Epoch 35/50
235/235 [==============================] - 175s 743ms/step - loss: 0.5075 - accuracy: 0.8470 - val_loss: 1.3514 - val_accuracy: 0.6398
Epoch 36/50
235/235 [==============================] - 190s 809ms/step - loss: 0.4987 - accuracy: 0.8521 - val_loss: 1.3803 - val_accuracy: 0.6368
Epoch 37/50
235/235 [==============================] - 182s 775ms/step - loss: 0.4900 - accuracy: 0.8555 - val_loss: 1.3818 - val_accuracy: 0.6404
Epoch 38/50
235/235 [==============================] - 164s 699ms/step - loss: 0.4806 - accuracy: 0.8595 - val_loss: 1.3935 - val_accuracy: 0.6404
Epoch 39/50
235/235 [==============================] - 158s 674ms/step - loss: 0.4709 - accuracy: 0.8621 - val_loss: 1.4159 - val_accuracy: 0.6368
Epoch 40/50
235/235 [==============================] - 165s 703ms/step - loss: 0.4632 - accuracy: 0.8661 - val_loss: 1.4352 - val_accuracy: 0.6362
Epoch 41/50
235/235 [==============================] - 160s 682ms/step - loss: 0.4573 - accuracy: 0.8680 - val_loss: 1.4461 - val_accuracy: 0.6383
Epoch 42/50
235/235 [==============================] - 162s 691ms/step - loss: 0.4478 - accuracy: 0.8722 - val_loss: 1.4514 - val_accuracy: 0.6401
Epoch 43/50
235/235 [==============================] - 165s 701ms/step - loss: 0.4401 - accuracy: 0.8775 - val_loss: 1.4693 - val_accuracy: 0.6368
Epoch 44/50
235/235 [==============================] - 160s 682ms/step - loss: 0.4325 - accuracy: 0.8790 - val_loss: 1.4895 - val_accuracy: 0.6371
Epoch 45/50
235/235 [==============================] - 161s 684ms/step - loss: 0.4258 - accuracy: 0.8819 - val_loss: 1.5090 - val_accuracy: 0.6359
Epoch 46/50
235/235 [==============================] - 159s 675ms/step - loss: 0.4183 - accuracy: 0.8843 - val_loss: 1.5180 - val_accuracy: 0.6374
Epoch 47/50
235/235 [==============================] - 171s 729ms/step - loss: 0.4116 - accuracy: 0.8889 - val_loss: 1.5253 - val_accuracy: 0.6356
Epoch 48/50
235/235 [==============================] - 176s 750ms/step - loss: 0.4044 - accuracy: 0.8906 - val_loss: 1.5506 - val_accuracy: 0.6329
Epoch 49/50
235/235 [==============================] - 176s 751ms/step - loss: 0.3985 - accuracy: 0.8929 - val_loss: 1.5608 - val_accuracy: 0.6317
Epoch 50/50
235/235 [==============================] - 165s 701ms/step - loss: 0.3911 - accuracy: 0.8974 - val_loss: 1.5807 - val_accuracy: 0.6323
131/131 [==============================] - 30s 228ms/step - loss: 1.6550 - accuracy: 0.6243
[CV 2/3; 2/10] END Conv2d_filters=128, No_of_CONV_and_Maxpool_layers=3, No_of_Dense_Layers=5, No_of_Units_in_dense_layers=512, No_of_batch_norm=True, batch_size=128, decay=0.01, dropout=0, epochs=50, l1=0.0001, l2=0.0001, learning_rate=0.001, momentum=0.5, optimizer=Adam, validation_split=0.1;, score=0.624 total time=120.6min
[CV 3/3; 2/10] START Conv2d_filters=128, No_of_CONV_and_Maxpool_layers=3, No_of_Dense_Layers=5, No_of_Units_in_dense_layers=512, No_of_batch_norm=True, batch_size=128, decay=0.01, dropout=0, epochs=50, l1=0.0001, l2=0.0001, learning_rate=0.001, momentum=0.5, optimizer=Adam, validation_split=0.1
Epoch 1/50
235/235 [==============================] - 159s 674ms/step - loss: 2.1136 - accuracy: 0.1717 - val_loss: 1.8874 - val_accuracy: 0.2118
Epoch 2/50
235/235 [==============================] - 168s 714ms/step - loss: 1.8309 - accuracy: 0.2561 - val_loss: 1.7513 - val_accuracy: 0.2837
Epoch 3/50
235/235 [==============================] - 166s 707ms/step - loss: 1.6329 - accuracy: 0.3620 - val_loss: 1.5956 - val_accuracy: 0.3881
Epoch 4/50
235/235 [==============================] - 169s 721ms/step - loss: 1.4950 - accuracy: 0.4238 - val_loss: 1.5108 - val_accuracy: 0.4100
Epoch 5/50
235/235 [==============================] - 171s 730ms/step - loss: 1.3989 - accuracy: 0.4685 - val_loss: 1.3997 - val_accuracy: 0.4724
Epoch 6/50
235/235 [==============================] - 168s 716ms/step - loss: 1.3131 - accuracy: 0.5005 - val_loss: 1.3439 - val_accuracy: 0.4904
Epoch 7/50
235/235 [==============================] - 192s 816ms/step - loss: 1.2357 - accuracy: 0.5323 - val_loss: 1.3144 - val_accuracy: 0.5132
Epoch 8/50
235/235 [==============================] - 182s 774ms/step - loss: 1.1772 - accuracy: 0.5592 - val_loss: 1.2715 - val_accuracy: 0.5378
Epoch 9/50
235/235 [==============================] - 158s 674ms/step - loss: 1.1233 - accuracy: 0.5862 - val_loss: 1.2548 - val_accuracy: 0.5414
Epoch 10/50
235/235 [==============================] - 156s 663ms/step - loss: 1.0783 - accuracy: 0.6031 - val_loss: 1.2205 - val_accuracy: 0.5618
Epoch 11/50
235/235 [==============================] - 156s 665ms/step - loss: 1.0377 - accuracy: 0.6196 - val_loss: 1.2033 - val_accuracy: 0.5690
Epoch 12/50
235/235 [==============================] - 151s 644ms/step - loss: 1.0087 - accuracy: 0.6354 - val_loss: 1.2175 - val_accuracy: 0.5606
Epoch 13/50
235/235 [==============================] - 129s 548ms/step - loss: 0.9771 - accuracy: 0.6461 - val_loss: 1.2056 - val_accuracy: 0.5759
Epoch 14/50
235/235 [==============================] - 127s 542ms/step - loss: 0.9518 - accuracy: 0.6576 - val_loss: 1.1946 - val_accuracy: 0.5897
Epoch 15/50
235/235 [==============================] - 128s 544ms/step - loss: 0.9294 - accuracy: 0.6661 - val_loss: 1.1735 - val_accuracy: 0.5966
Epoch 16/50
235/235 [==============================] - 127s 542ms/step - loss: 0.9053 - accuracy: 0.6774 - val_loss: 1.1838 - val_accuracy: 0.5948
Epoch 17/50
235/235 [==============================] - 126s 538ms/step - loss: 0.8873 - accuracy: 0.6839 - val_loss: 1.1824 - val_accuracy: 0.5972
Epoch 18/50
235/235 [==============================] - 127s 540ms/step - loss: 0.8630 - accuracy: 0.6935 - val_loss: 1.1845 - val_accuracy: 0.6014
Epoch 19/50
235/235 [==============================] - 127s 541ms/step - loss: 0.8484 - accuracy: 0.7000 - val_loss: 1.1997 - val_accuracy: 0.5948
Epoch 20/50
235/235 [==============================] - 128s 545ms/step - loss: 0.8327 - accuracy: 0.7064 - val_loss: 1.1813 - val_accuracy: 0.6062
Epoch 21/50
235/235 [==============================] - 127s 543ms/step - loss: 0.8144 - accuracy: 0.7136 - val_loss: 1.1818 - val_accuracy: 0.6014
Epoch 22/50
235/235 [==============================] - 127s 539ms/step - loss: 0.7997 - accuracy: 0.7203 - val_loss: 1.2021 - val_accuracy: 0.5969
Epoch 23/50
235/235 [==============================] - 127s 542ms/step - loss: 0.7846 - accuracy: 0.7262 - val_loss: 1.1957 - val_accuracy: 0.6098
Epoch 24/50
235/235 [==============================] - 127s 540ms/step - loss: 0.7715 - accuracy: 0.7299 - val_loss: 1.1997 - val_accuracy: 0.6119
Epoch 25/50
235/235 [==============================] - 127s 542ms/step - loss: 0.7584 - accuracy: 0.7367 - val_loss: 1.2138 - val_accuracy: 0.6044
Epoch 26/50
235/235 [==============================] - 127s 539ms/step - loss: 0.7458 - accuracy: 0.7422 - val_loss: 1.2139 - val_accuracy: 0.6125
Epoch 27/50
235/235 [==============================] - 128s 544ms/step - loss: 0.7329 - accuracy: 0.7475 - val_loss: 1.2189 - val_accuracy: 0.6104
Epoch 28/50
235/235 [==============================] - 129s 547ms/step - loss: 0.7218 - accuracy: 0.7511 - val_loss: 1.2205 - val_accuracy: 0.6164
Epoch 29/50
235/235 [==============================] - 129s 549ms/step - loss: 0.7134 - accuracy: 0.7552 - val_loss: 1.2337 - val_accuracy: 0.6164
Epoch 30/50
235/235 [==============================] - 128s 546ms/step - loss: 0.7018 - accuracy: 0.7600 - val_loss: 1.2395 - val_accuracy: 0.6116
Epoch 31/50
235/235 [==============================] - 128s 545ms/step - loss: 0.6901 - accuracy: 0.7668 - val_loss: 1.2385 - val_accuracy: 0.6152
Epoch 32/50
235/235 [==============================] - 127s 543ms/step - loss: 0.6798 - accuracy: 0.7694 - val_loss: 1.2480 - val_accuracy: 0.6131
Epoch 33/50
235/235 [==============================] - 127s 542ms/step - loss: 0.6713 - accuracy: 0.7733 - val_loss: 1.2759 - val_accuracy: 0.6059
Epoch 34/50
235/235 [==============================] - 127s 542ms/step - loss: 0.6630 - accuracy: 0.7771 - val_loss: 1.2649 - val_accuracy: 0.6158
Epoch 35/50
235/235 [==============================] - 128s 544ms/step - loss: 0.6530 - accuracy: 0.7811 - val_loss: 1.2808 - val_accuracy: 0.6122
Epoch 36/50
235/235 [==============================] - 128s 544ms/step - loss: 0.6468 - accuracy: 0.7821 - val_loss: 1.2928 - val_accuracy: 0.6131
Epoch 37/50
235/235 [==============================] - 130s 555ms/step - loss: 0.6354 - accuracy: 0.7889 - val_loss: 1.2919 - val_accuracy: 0.6143
Epoch 38/50
235/235 [==============================] - 138s 586ms/step - loss: 0.6272 - accuracy: 0.7918 - val_loss: 1.2926 - val_accuracy: 0.6194
Epoch 39/50
235/235 [==============================] - 142s 603ms/step - loss: 0.6190 - accuracy: 0.7973 - val_loss: 1.2980 - val_accuracy: 0.6104
Epoch 40/50
235/235 [==============================] - 140s 595ms/step - loss: 0.6129 - accuracy: 0.7972 - val_loss: 1.3274 - val_accuracy: 0.6140
Epoch 41/50
235/235 [==============================] - 138s 588ms/step - loss: 0.6057 - accuracy: 0.8008 - val_loss: 1.3311 - val_accuracy: 0.6122
Epoch 42/50
235/235 [==============================] - 139s 593ms/step - loss: 0.5991 - accuracy: 0.8046 - val_loss: 1.3243 - val_accuracy: 0.6158
Epoch 43/50
235/235 [==============================] - 143s 608ms/step - loss: 0.5892 - accuracy: 0.8070 - val_loss: 1.3326 - val_accuracy: 0.6161
Epoch 44/50
235/235 [==============================] - 134s 572ms/step - loss: 0.5830 - accuracy: 0.8103 - val_loss: 1.3459 - val_accuracy: 0.6161
Epoch 45/50
235/235 [==============================] - 137s 585ms/step - loss: 0.5753 - accuracy: 0.8147 - val_loss: 1.3525 - val_accuracy: 0.6116
Epoch 46/50
235/235 [==============================] - 130s 553ms/step - loss: 0.5697 - accuracy: 0.8166 - val_loss: 1.3585 - val_accuracy: 0.6125
Epoch 47/50
235/235 [==============================] - 130s 552ms/step - loss: 0.5637 - accuracy: 0.8171 - val_loss: 1.3758 - val_accuracy: 0.6110
Epoch 48/50
235/235 [==============================] - 128s 547ms/step - loss: 0.5572 - accuracy: 0.8203 - val_loss: 1.3821 - val_accuracy: 0.6152
Epoch 49/50
235/235 [==============================] - 128s 546ms/step - loss: 0.5515 - accuracy: 0.8226 - val_loss: 1.3813 - val_accuracy: 0.6176
Epoch 50/50
235/235 [==============================] - 132s 560ms/step - loss: 0.5456 - accuracy: 0.8254 - val_loss: 1.3862 - val_accuracy: 0.6155
131/131 [==============================] - 27s 206ms/step - loss: 1.3945 - accuracy: 0.6265
[CV 3/3; 2/10] END Conv2d_filters=128, No_of_CONV_and_Maxpool_layers=3, No_of_Dense_Layers=5, No_of_Units_in_dense_layers=512, No_of_batch_norm=True, batch_size=128, decay=0.01, dropout=0, epochs=50, l1=0.0001, l2=0.0001, learning_rate=0.001, momentum=0.5, optimizer=Adam, validation_split=0.1;, score=0.626 total time=116.3min
[CV 1/3; 3/10] START Conv2d_filters=32, No_of_CONV_and_Maxpool_layers=2, No_of_Dense_Layers=5, No_of_Units_in_dense_layers=512, No_of_batch_norm=False, batch_size=512, decay=0.01, dropout=0.5, epochs=20, l1=0.01, l2=0.0001, learning_rate=1, momentum=0.9, optimizer=sgd, validation_split=0.2
Epoch 1/20
53/53 [==============================] - 26s 464ms/step - loss: 2.9600 - accuracy: 0.0996 - val_loss: 2.8869 - val_accuracy: 0.0963
Epoch 2/20
53/53 [==============================] - 24s 458ms/step - loss: 2.8512 - accuracy: 0.1007 - val_loss: 2.8206 - val_accuracy: 0.0963
Epoch 3/20
53/53 [==============================] - 24s 463ms/step - loss: 2.7936 - accuracy: 0.1002 - val_loss: 2.7693 - val_accuracy: 0.0963
Epoch 4/20
53/53 [==============================] - 25s 465ms/step - loss: 2.7526 - accuracy: 0.0991 - val_loss: 2.7335 - val_accuracy: 0.1036
Epoch 5/20
53/53 [==============================] - 25s 468ms/step - loss: 2.7219 - accuracy: 0.0984 - val_loss: 2.7085 - val_accuracy: 0.0946
Epoch 6/20
53/53 [==============================] - 24s 463ms/step - loss: 2.6969 - accuracy: 0.0985 - val_loss: 2.6851 - val_accuracy: 0.1036
Epoch 7/20
53/53 [==============================] - 25s 466ms/step - loss: 2.6771 - accuracy: 0.0968 - val_loss: 2.6662 - val_accuracy: 0.0999
Epoch 8/20
53/53 [==============================] - 25s 466ms/step - loss: 2.6591 - accuracy: 0.1008 - val_loss: 2.6512 - val_accuracy: 0.0978
Epoch 9/20
53/53 [==============================] - 25s 466ms/step - loss: 2.6449 - accuracy: 0.0977 - val_loss: 2.6372 - val_accuracy: 0.1053
Epoch 10/20
53/53 [==============================] - 25s 464ms/step - loss: 2.6325 - accuracy: 0.0978 - val_loss: 2.6251 - val_accuracy: 0.1005
Epoch 11/20
53/53 [==============================] - 23s 436ms/step - loss: 2.6211 - accuracy: 0.0996 - val_loss: 2.6155 - val_accuracy: 0.1005
Epoch 12/20
53/53 [==============================] - 23s 433ms/step - loss: 2.6110 - accuracy: 0.0998 - val_loss: 2.6055 - val_accuracy: 0.1053
Epoch 13/20
53/53 [==============================] - 23s 432ms/step - loss: 2.6025 - accuracy: 0.0969 - val_loss: 2.5974 - val_accuracy: 0.1053
Epoch 14/20
53/53 [==============================] - 23s 432ms/step - loss: 2.5939 - accuracy: 0.0995 - val_loss: 2.5899 - val_accuracy: 0.0963
Epoch 15/20
53/53 [==============================] - 23s 431ms/step - loss: 2.5869 - accuracy: 0.0960 - val_loss: 2.5831 - val_accuracy: 0.0963
Epoch 16/20
53/53 [==============================] - 23s 427ms/step - loss: 2.5799 - accuracy: 0.0982 - val_loss: 2.5765 - val_accuracy: 0.0978
Epoch 17/20
53/53 [==============================] - 22s 423ms/step - loss: 2.5738 - accuracy: 0.1013 - val_loss: 2.5700 - val_accuracy: 0.1053
Epoch 18/20
53/53 [==============================] - 23s 426ms/step - loss: 2.5679 - accuracy: 0.0973 - val_loss: 2.5644 - val_accuracy: 0.0978
Epoch 19/20
53/53 [==============================] - 23s 427ms/step - loss: 2.5626 - accuracy: 0.0992 - val_loss: 2.5593 - val_accuracy: 0.0999
Epoch 20/20
53/53 [==============================] - 23s 428ms/step - loss: 2.5577 - accuracy: 0.1011 - val_loss: 2.5547 - val_accuracy: 0.0963
33/33 [==============================] - 5s 152ms/step - loss: 2.5548 - accuracy: 0.1005
[CV 1/3; 3/10] END Conv2d_filters=32, No_of_CONV_and_Maxpool_layers=2, No_of_Dense_Layers=5, No_of_Units_in_dense_layers=512, No_of_batch_norm=False, batch_size=512, decay=0.01, dropout=0.5, epochs=20, l1=0.01, l2=0.0001, learning_rate=1, momentum=0.9, optimizer=sgd, validation_split=0.2;, score=0.100 total time= 8.0min
[CV 2/3; 3/10] START Conv2d_filters=32, No_of_CONV_and_Maxpool_layers=2, No_of_Dense_Layers=5, No_of_Units_in_dense_layers=512, No_of_batch_norm=False, batch_size=512, decay=0.01, dropout=0.5, epochs=20, l1=0.01, l2=0.0001, learning_rate=1, momentum=0.9, optimizer=sgd, validation_split=0.2
Epoch 1/20
53/53 [==============================] - 24s 433ms/step - loss: 3.2819 - accuracy: 0.1004 - val_loss: 3.1944 - val_accuracy: 0.0946
Epoch 2/20
53/53 [==============================] - 22s 418ms/step - loss: 3.1436 - accuracy: 0.1001 - val_loss: 3.0954 - val_accuracy: 0.0946
Epoch 3/20
53/53 [==============================] - 22s 425ms/step - loss: 3.0561 - accuracy: 0.0987 - val_loss: 3.0174 - val_accuracy: 0.1053
Epoch 4/20
53/53 [==============================] - 22s 422ms/step - loss: 2.9923 - accuracy: 0.1015 - val_loss: 2.9656 - val_accuracy: 0.1005
Epoch 5/20
53/53 [==============================] - 22s 421ms/step - loss: 2.9451 - accuracy: 0.0959 - val_loss: 2.9244 - val_accuracy: 0.1020
Epoch 6/20
53/53 [==============================] - 22s 423ms/step - loss: 2.9067 - accuracy: 0.1000 - val_loss: 2.8900 - val_accuracy: 0.0963
Epoch 7/20
53/53 [==============================] - 22s 422ms/step - loss: 2.8763 - accuracy: 0.1025 - val_loss: 2.8623 - val_accuracy: 0.0963
Epoch 8/20
53/53 [==============================] - 22s 421ms/step - loss: 2.8501 - accuracy: 0.0987 - val_loss: 2.8367 - val_accuracy: 0.0999
Epoch 9/20
53/53 [==============================] - 22s 424ms/step - loss: 2.8278 - accuracy: 0.0969 - val_loss: 2.8163 - val_accuracy: 0.1020
Epoch 10/20
53/53 [==============================] - 23s 427ms/step - loss: 2.8080 - accuracy: 0.0996 - val_loss: 2.7992 - val_accuracy: 0.1036
Epoch 11/20
53/53 [==============================] - 22s 422ms/step - loss: 2.7908 - accuracy: 0.1015 - val_loss: 2.7832 - val_accuracy: 0.0976
Epoch 12/20
53/53 [==============================] - 22s 422ms/step - loss: 2.7754 - accuracy: 0.0991 - val_loss: 2.7684 - val_accuracy: 0.0946
Epoch 13/20
53/53 [==============================] - 23s 428ms/step - loss: 2.7620 - accuracy: 0.0993 - val_loss: 2.7556 - val_accuracy: 0.0976
Epoch 14/20
53/53 [==============================] - 22s 425ms/step - loss: 2.7495 - accuracy: 0.0999 - val_loss: 2.7431 - val_accuracy: 0.0963
Epoch 15/20
53/53 [==============================] - 22s 421ms/step - loss: 2.7383 - accuracy: 0.0979 - val_loss: 2.7334 - val_accuracy: 0.1036
Epoch 16/20
53/53 [==============================] - 23s 432ms/step - loss: 2.7278 - accuracy: 0.1029 - val_loss: 2.7238 - val_accuracy: 0.0946
Epoch 17/20
53/53 [==============================] - 23s 433ms/step - loss: 2.7183 - accuracy: 0.0981 - val_loss: 2.7131 - val_accuracy: 0.1020
Epoch 18/20
53/53 [==============================] - 22s 419ms/step - loss: 2.7094 - accuracy: 0.0971 - val_loss: 2.7051 - val_accuracy: 0.0999
Epoch 19/20
53/53 [==============================] - 23s 426ms/step - loss: 2.7011 - accuracy: 0.0959 - val_loss: 2.6970 - val_accuracy: 0.0999
Epoch 20/20
53/53 [==============================] - 23s 429ms/step - loss: 2.6936 - accuracy: 0.0968 - val_loss: 2.6900 - val_accuracy: 0.0978
33/33 [==============================] - 6s 163ms/step - loss: 2.6898 - accuracy: 0.1006
[CV 2/3; 3/10] END Conv2d_filters=32, No_of_CONV_and_Maxpool_layers=2, No_of_Dense_Layers=5, No_of_Units_in_dense_layers=512, No_of_batch_norm=False, batch_size=512, decay=0.01, dropout=0.5, epochs=20, l1=0.01, l2=0.0001, learning_rate=1, momentum=0.9, optimizer=sgd, validation_split=0.2;, score=0.101 total time= 7.6min
[CV 3/3; 3/10] START Conv2d_filters=32, No_of_CONV_and_Maxpool_layers=2, No_of_Dense_Layers=5, No_of_Units_in_dense_layers=512, No_of_batch_norm=False, batch_size=512, decay=0.01, dropout=0.5, epochs=20, l1=0.01, l2=0.0001, learning_rate=1, momentum=0.9, optimizer=sgd, validation_split=0.2
Epoch 1/20
53/53 [==============================] - 25s 438ms/step - loss: 2.6008 - accuracy: 0.0974 - val_loss: 2.5503 - val_accuracy: 0.0942
Epoch 2/20
53/53 [==============================] - 23s 429ms/step - loss: 2.5364 - accuracy: 0.0998 - val_loss: 2.5205 - val_accuracy: 0.0942
Epoch 3/20
53/53 [==============================] - 23s 430ms/step - loss: 2.5117 - accuracy: 0.1006 - val_loss: 2.5004 - val_accuracy: 0.1006
Epoch 4/20
53/53 [==============================] - 23s 429ms/step - loss: 2.4937 - accuracy: 0.0984 - val_loss: 2.4863 - val_accuracy: 0.0942
Epoch 5/20
53/53 [==============================] - 23s 433ms/step - loss: 2.4804 - accuracy: 0.0976 - val_loss: 2.4735 - val_accuracy: 0.0993
Epoch 6/20
53/53 [==============================] - 23s 433ms/step - loss: 2.4696 - accuracy: 0.0994 - val_loss: 2.4671 - val_accuracy: 0.0993
Epoch 7/20
53/53 [==============================] - 23s 436ms/step - loss: 2.4610 - accuracy: 0.1009 - val_loss: 2.4567 - val_accuracy: 0.0912
Epoch 8/20
53/53 [==============================] - 23s 430ms/step - loss: 2.4539 - accuracy: 0.1018 - val_loss: 2.4510 - val_accuracy: 0.1002
Epoch 9/20
53/53 [==============================] - 23s 430ms/step - loss: 2.4480 - accuracy: 0.0980 - val_loss: 2.4446 - val_accuracy: 0.0912
Epoch 10/20
53/53 [==============================] - 23s 434ms/step - loss: 2.4421 - accuracy: 0.0996 - val_loss: 2.4414 - val_accuracy: 0.0942
Epoch 11/20
53/53 [==============================] - 23s 431ms/step - loss: 2.4373 - accuracy: 0.1002 - val_loss: 2.4349 - val_accuracy: 0.1006
Epoch 12/20
53/53 [==============================] - 23s 432ms/step - loss: 2.4331 - accuracy: 0.0978 - val_loss: 2.4313 - val_accuracy: 0.1012
Epoch 13/20
53/53 [==============================] - 23s 438ms/step - loss: 2.4292 - accuracy: 0.0975 - val_loss: 2.4266 - val_accuracy: 0.1002
Epoch 14/20
53/53 [==============================] - 24s 449ms/step - loss: 2.4257 - accuracy: 0.0969 - val_loss: 2.4247 - val_accuracy: 0.0946
Epoch 15/20
53/53 [==============================] - 23s 443ms/step - loss: 2.4225 - accuracy: 0.1002 - val_loss: 2.4220 - val_accuracy: 0.0942
Epoch 16/20
53/53 [==============================] - 24s 452ms/step - loss: 2.4200 - accuracy: 0.0975 - val_loss: 2.4190 - val_accuracy: 0.0942
Epoch 17/20
53/53 [==============================] - 24s 455ms/step - loss: 2.4174 - accuracy: 0.0979 - val_loss: 2.4158 - val_accuracy: 0.1006
Epoch 18/20
53/53 [==============================] - 23s 443ms/step - loss: 2.4147 - accuracy: 0.1012 - val_loss: 2.4134 - val_accuracy: 0.1006
Epoch 19/20
53/53 [==============================] - 23s 429ms/step - loss: 2.4123 - accuracy: 0.0993 - val_loss: 2.4113 - val_accuracy: 0.1006
Epoch 20/20
53/53 [==============================] - 23s 442ms/step - loss: 2.4104 - accuracy: 0.0991 - val_loss: 2.4101 - val_accuracy: 0.0942
33/33 [==============================] - 5s 154ms/step - loss: 2.4094 - accuracy: 0.0993
[CV 3/3; 3/10] END Conv2d_filters=32, No_of_CONV_and_Maxpool_layers=2, No_of_Dense_Layers=5, No_of_Units_in_dense_layers=512, No_of_batch_norm=False, batch_size=512, decay=0.01, dropout=0.5, epochs=20, l1=0.01, l2=0.0001, learning_rate=1, momentum=0.9, optimizer=sgd, validation_split=0.2;, score=0.099 total time= 7.8min
[CV 1/3; 4/10] START Conv2d_filters=256, No_of_CONV_and_Maxpool_layers=2, No_of_Dense_Layers=4, No_of_Units_in_dense_layers=128, No_of_batch_norm=True, batch_size=256, decay=1e-06, dropout=0.8, epochs=30, l1=0.001, l2=0.001, learning_rate=0.001, momentum=0.2, optimizer=Adam, validation_split=0.1
Epoch 1/30
118/118 [==============================] - 392s 3s/step - loss: 2.8127 - accuracy: 0.0986 - val_loss: 2.6401 - val_accuracy: 0.1056
Epoch 2/30
118/118 [==============================] - 390s 3s/step - loss: 2.5345 - accuracy: 0.1023 - val_loss: 2.4511 - val_accuracy: 0.1056
Epoch 3/30
118/118 [==============================] - 392s 3s/step - loss: 2.4047 - accuracy: 0.1005 - val_loss: 2.3689 - val_accuracy: 0.1056
Epoch 4/30
118/118 [==============================] - 389s 3s/step - loss: 2.3489 - accuracy: 0.1003 - val_loss: 2.3334 - val_accuracy: 0.1056
Epoch 5/30
118/118 [==============================] - 392s 3s/step - loss: 2.3244 - accuracy: 0.1023 - val_loss: 2.3175 - val_accuracy: 0.1056
Epoch 6/30
118/118 [==============================] - 390s 3s/step - loss: 2.3133 - accuracy: 0.1023 - val_loss: 2.3101 - val_accuracy: 0.1056
Epoch 7/30
118/118 [==============================] - 391s 3s/step - loss: 2.3080 - accuracy: 0.1023 - val_loss: 2.3065 - val_accuracy: 0.1056
Epoch 8/30
118/118 [==============================] - 391s 3s/step - loss: 2.3054 - accuracy: 0.1012 - val_loss: 2.3047 - val_accuracy: 0.1056
Epoch 9/30
118/118 [==============================] - 389s 3s/step - loss: 2.3041 - accuracy: 0.0998 - val_loss: 2.3038 - val_accuracy: 0.1056
Epoch 10/30
118/118 [==============================] - 392s 3s/step - loss: 2.3034 - accuracy: 0.0999 - val_loss: 2.3034 - val_accuracy: 0.1056
Epoch 11/30
118/118 [==============================] - 390s 3s/step - loss: 2.3030 - accuracy: 0.1023 - val_loss: 2.3030 - val_accuracy: 0.1056
Epoch 12/30
118/118 [==============================] - 394s 3s/step - loss: 2.3029 - accuracy: 0.1002 - val_loss: 2.3029 - val_accuracy: 0.1056
Epoch 13/30
118/118 [==============================] - 392s 3s/step - loss: 2.3027 - accuracy: 0.1023 - val_loss: 2.3028 - val_accuracy: 0.1056
Epoch 14/30
118/118 [==============================] - 394s 3s/step - loss: 2.3027 - accuracy: 0.1023 - val_loss: 2.3028 - val_accuracy: 0.1056
Epoch 15/30
118/118 [==============================] - 397s 3s/step - loss: 2.3026 - accuracy: 0.1023 - val_loss: 2.3027 - val_accuracy: 0.1056
Epoch 16/30
118/118 [==============================] - 427s 4s/step - loss: 2.3026 - accuracy: 0.1023 - val_loss: 2.3028 - val_accuracy: 0.1056
Epoch 17/30
118/118 [==============================] - 423s 4s/step - loss: 2.3026 - accuracy: 0.1023 - val_loss: 2.3026 - val_accuracy: 0.1056
Epoch 18/30
118/118 [==============================] - 430s 4s/step - loss: 2.3026 - accuracy: 0.1016 - val_loss: 2.3027 - val_accuracy: 0.1056
Epoch 19/30
118/118 [==============================] - 401s 3s/step - loss: 2.3026 - accuracy: 0.1023 - val_loss: 2.3026 - val_accuracy: 0.1056
Epoch 20/30
118/118 [==============================] - 406s 3s/step - loss: 2.3026 - accuracy: 0.1023 - val_loss: 2.3026 - val_accuracy: 0.1056
Epoch 21/30
118/118 [==============================] - 417s 4s/step - loss: 2.3026 - accuracy: 0.1016 - val_loss: 2.3026 - val_accuracy: 0.1056
Epoch 22/30
118/118 [==============================] - 406s 3s/step - loss: 2.3026 - accuracy: 0.1023 - val_loss: 2.3027 - val_accuracy: 0.1056
Epoch 23/30
118/118 [==============================] - 432s 4s/step - loss: 2.3026 - accuracy: 0.1017 - val_loss: 2.3027 - val_accuracy: 0.1056
Epoch 24/30
118/118 [==============================] - 491s 4s/step - loss: 2.3026 - accuracy: 0.1023 - val_loss: 2.3027 - val_accuracy: 0.1056
Epoch 25/30
118/118 [==============================] - 503s 4s/step - loss: 2.3026 - accuracy: 0.1023 - val_loss: 2.3028 - val_accuracy: 0.1056
Epoch 26/30
118/118 [==============================] - 496s 4s/step - loss: 2.3026 - accuracy: 0.1023 - val_loss: 2.3028 - val_accuracy: 0.1056
Epoch 27/30
118/118 [==============================] - 501s 4s/step - loss: 2.3026 - accuracy: 0.1010 - val_loss: 2.3027 - val_accuracy: 0.1056
Epoch 28/30
118/118 [==============================] - 514s 4s/step - loss: 2.3026 - accuracy: 0.1012 - val_loss: 2.3028 - val_accuracy: 0.1056
Epoch 29/30
118/118 [==============================] - 514s 4s/step - loss: 2.3026 - accuracy: 0.1023 - val_loss: 2.3027 - val_accuracy: 0.1056
Epoch 30/30
118/118 [==============================] - 527s 4s/step - loss: 2.3026 - accuracy: 0.1023 - val_loss: 2.3027 - val_accuracy: 0.1056
66/66 [==============================] - 99s 2s/step - loss: 2.3029 - accuracy: 0.0947
[CV 1/3; 4/10] END Conv2d_filters=256, No_of_CONV_and_Maxpool_layers=2, No_of_Dense_Layers=4, No_of_Units_in_dense_layers=128, No_of_batch_norm=True, batch_size=256, decay=1e-06, dropout=0.8, epochs=30, l1=0.001, l2=0.001, learning_rate=0.001, momentum=0.2, optimizer=Adam, validation_split=0.1;, score=0.095 total time=214.4min
[CV 2/3; 4/10] START Conv2d_filters=256, No_of_CONV_and_Maxpool_layers=2, No_of_Dense_Layers=4, No_of_Units_in_dense_layers=128, No_of_batch_norm=True, batch_size=256, decay=1e-06, dropout=0.8, epochs=30, l1=0.001, l2=0.001, learning_rate=0.001, momentum=0.2, optimizer=Adam, validation_split=0.1
Epoch 1/30
118/118 [==============================] - 515s 4s/step - loss: 2.8264 - accuracy: 0.0988 - val_loss: 2.6594 - val_accuracy: 0.1038
Epoch 2/30
118/118 [==============================] - 536s 5s/step - loss: 2.5563 - accuracy: 0.0995 - val_loss: 2.4734 - val_accuracy: 0.0960
Epoch 3/30
118/118 [==============================] - 489s 4s/step - loss: 2.4245 - accuracy: 0.0990 - val_loss: 2.3861 - val_accuracy: 0.0960
Epoch 4/30
118/118 [==============================] - 408s 3s/step - loss: 2.3629 - accuracy: 0.0986 - val_loss: 2.3449 - val_accuracy: 0.0960
Epoch 5/30
118/118 [==============================] - 419s 4s/step - loss: 2.3335 - accuracy: 0.0996 - val_loss: 2.3249 - val_accuracy: 0.0948
Epoch 6/30
118/118 [==============================] - 418s 4s/step - loss: 2.3189 - accuracy: 0.0981 - val_loss: 2.3148 - val_accuracy: 0.0960
Epoch 7/30
118/118 [==============================] - 420s 4s/step - loss: 2.3114 - accuracy: 0.0973 - val_loss: 2.3095 - val_accuracy: 0.1038
Epoch 8/30
118/118 [==============================] - 448s 4s/step - loss: 2.3075 - accuracy: 0.0987 - val_loss: 2.3066 - val_accuracy: 0.0960
Epoch 9/30
118/118 [==============================] - 461s 4s/step - loss: 2.3053 - accuracy: 0.0997 - val_loss: 2.3050 - val_accuracy: 0.1026
Epoch 10/30
118/118 [==============================] - 419s 4s/step - loss: 2.3041 - accuracy: 0.0977 - val_loss: 2.3043 - val_accuracy: 0.0948
Epoch 11/30
118/118 [==============================] - 425s 4s/step - loss: 2.3035 - accuracy: 0.0981 - val_loss: 2.3037 - val_accuracy: 0.0948
Epoch 12/30
118/118 [==============================] - 433s 4s/step - loss: 2.3031 - accuracy: 0.0991 - val_loss: 2.3034 - val_accuracy: 0.0960
Epoch 13/30
118/118 [==============================] - 391s 3s/step - loss: 2.3029 - accuracy: 0.0986 - val_loss: 2.3032 - val_accuracy: 0.0960
Epoch 14/30
118/118 [==============================] - 446s 4s/step - loss: 2.3028 - accuracy: 0.1011 - val_loss: 2.3032 - val_accuracy: 0.0948
Epoch 15/30
118/118 [==============================] - 544s 5s/step - loss: 2.3027 - accuracy: 0.0962 - val_loss: 2.3031 - val_accuracy: 0.0948
Epoch 16/30
118/118 [==============================] - 583s 5s/step - loss: 2.3027 - accuracy: 0.0997 - val_loss: 2.3031 - val_accuracy: 0.0960
Epoch 17/30
118/118 [==============================] - 481s 4s/step - loss: 2.3026 - accuracy: 0.0993 - val_loss: 2.3030 - val_accuracy: 0.0960
Epoch 18/30
118/118 [==============================] - 555s 5s/step - loss: 2.3027 - accuracy: 0.0984 - val_loss: 2.3031 - val_accuracy: 0.0948
Epoch 19/30
118/118 [==============================] - 553s 5s/step - loss: 2.3026 - accuracy: 0.0980 - val_loss: 2.3029 - val_accuracy: 0.0960
Epoch 20/30
118/118 [==============================] - 535s 5s/step - loss: 2.3026 - accuracy: 0.0988 - val_loss: 2.3030 - val_accuracy: 0.0948
Epoch 21/30
118/118 [==============================] - 486s 4s/step - loss: 2.3026 - accuracy: 0.0974 - val_loss: 2.3030 - val_accuracy: 0.0960
Epoch 22/30
118/118 [==============================] - 580s 5s/step - loss: 2.3026 - accuracy: 0.1001 - val_loss: 2.3031 - val_accuracy: 0.0960
Epoch 23/30
118/118 [==============================] - 548s 5s/step - loss: 2.3026 - accuracy: 0.1001 - val_loss: 2.3031 - val_accuracy: 0.0960
Epoch 24/30
118/118 [==============================] - 591s 5s/step - loss: 2.3026 - accuracy: 0.0997 - val_loss: 2.3030 - val_accuracy: 0.1026
Epoch 25/30
118/118 [==============================] - 532s 5s/step - loss: 2.3026 - accuracy: 0.1008 - val_loss: 2.3031 - val_accuracy: 0.0948
Epoch 26/30
118/118 [==============================] - 502s 4s/step - loss: 2.3026 - accuracy: 0.1009 - val_loss: 2.3031 - val_accuracy: 0.1026
Epoch 27/30
118/118 [==============================] - 480s 4s/step - loss: 2.3026 - accuracy: 0.0986 - val_loss: 2.3031 - val_accuracy: 0.1026
Epoch 28/30
118/118 [==============================] - 474s 4s/step - loss: 2.3026 - accuracy: 0.1004 - val_loss: 2.3031 - val_accuracy: 0.0948
Epoch 29/30
118/118 [==============================] - 473s 4s/step - loss: 2.3026 - accuracy: 0.0997 - val_loss: 2.3030 - val_accuracy: 0.0948
Epoch 30/30
118/118 [==============================] - 471s 4s/step - loss: 2.3026 - accuracy: 0.1012 - val_loss: 2.3031 - val_accuracy: 0.0948
66/66 [==============================] - 94s 1s/step - loss: 2.3028 - accuracy: 0.0988
[CV 2/3; 4/10] END Conv2d_filters=256, No_of_CONV_and_Maxpool_layers=2, No_of_Dense_Layers=4, No_of_Units_in_dense_layers=128, No_of_batch_norm=True, batch_size=256, decay=1e-06, dropout=0.8, epochs=30, l1=0.001, l2=0.001, learning_rate=0.001, momentum=0.2, optimizer=Adam, validation_split=0.1;, score=0.099 total time=245.2min
[CV 3/3; 4/10] START Conv2d_filters=256, No_of_CONV_and_Maxpool_layers=2, No_of_Dense_Layers=4, No_of_Units_in_dense_layers=128, No_of_batch_norm=True, batch_size=256, decay=1e-06, dropout=0.8, epochs=30, l1=0.001, l2=0.001, learning_rate=0.001, momentum=0.2, optimizer=Adam, validation_split=0.1
Epoch 1/30
118/118 [==============================] - 453s 4s/step - loss: 2.8222 - accuracy: 0.0978 - val_loss: 2.6538 - val_accuracy: 0.0942
Epoch 2/30
118/118 [==============================] - 388s 3s/step - loss: 2.5484 - accuracy: 0.1010 - val_loss: 2.4645 - val_accuracy: 0.0966
Epoch 3/30
118/118 [==============================] - 385s 3s/step - loss: 2.4164 - accuracy: 0.0985 - val_loss: 2.3787 - val_accuracy: 0.0966
Epoch 4/30
118/118 [==============================] - 386s 3s/step - loss: 2.3569 - accuracy: 0.1001 - val_loss: 2.3400 - val_accuracy: 0.0966
Epoch 5/30
118/118 [==============================] - 386s 3s/step - loss: 2.3296 - accuracy: 0.1014 - val_loss: 2.3218 - val_accuracy: 0.0966
Epoch 6/30
118/118 [==============================] - 384s 3s/step - loss: 2.3166 - accuracy: 0.0986 - val_loss: 2.3127 - val_accuracy: 0.0966
Epoch 7/30
118/118 [==============================] - 384s 3s/step - loss: 2.3101 - accuracy: 0.1014 - val_loss: 2.3082 - val_accuracy: 0.0966
Epoch 8/30
118/118 [==============================] - 384s 3s/step - loss: 2.3067 - accuracy: 0.0988 - val_loss: 2.3060 - val_accuracy: 0.0942
Epoch 9/30
118/118 [==============================] - 385s 3s/step - loss: 2.3049 - accuracy: 0.1008 - val_loss: 2.3045 - val_accuracy: 0.0942
Epoch 10/30
118/118 [==============================] - 384s 3s/step - loss: 2.3040 - accuracy: 0.0996 - val_loss: 2.3040 - val_accuracy: 0.0966
Epoch 11/30
118/118 [==============================] - 383s 3s/step - loss: 2.3034 - accuracy: 0.1014 - val_loss: 2.3034 - val_accuracy: 0.0966
Epoch 12/30
118/118 [==============================] - 384s 3s/step - loss: 2.3031 - accuracy: 0.1012 - val_loss: 2.3031 - val_accuracy: 0.0942
Epoch 13/30
118/118 [==============================] - 384s 3s/step - loss: 2.3029 - accuracy: 0.0999 - val_loss: 2.3031 - val_accuracy: 0.0966
Epoch 14/30
118/118 [==============================] - 383s 3s/step - loss: 2.3028 - accuracy: 0.1014 - val_loss: 2.3029 - val_accuracy: 0.0966
Epoch 15/30
118/118 [==============================] - 383s 3s/step - loss: 2.3027 - accuracy: 0.1014 - val_loss: 2.3029 - val_accuracy: 0.0966
Epoch 16/30
118/118 [==============================] - 386s 3s/step - loss: 2.3027 - accuracy: 0.0994 - val_loss: 2.3029 - val_accuracy: 0.0966
Epoch 17/30
118/118 [==============================] - 383s 3s/step - loss: 2.3027 - accuracy: 0.1002 - val_loss: 2.3029 - val_accuracy: 0.0966
Epoch 18/30
118/118 [==============================] - 385s 3s/step - loss: 2.3027 - accuracy: 0.1014 - val_loss: 2.3029 - val_accuracy: 0.0966
Epoch 19/30
118/118 [==============================] - 384s 3s/step - loss: 2.3026 - accuracy: 0.0980 - val_loss: 2.3028 - val_accuracy: 0.0966
Epoch 20/30
118/118 [==============================] - 385s 3s/step - loss: 2.3026 - accuracy: 0.1014 - val_loss: 2.3028 - val_accuracy: 0.0966
Epoch 21/30
118/118 [==============================] - 385s 3s/step - loss: 2.3026 - accuracy: 0.0990 - val_loss: 2.3029 - val_accuracy: 0.0966
Epoch 22/30
118/118 [==============================] - 383s 3s/step - loss: 2.3026 - accuracy: 0.1014 - val_loss: 2.3028 - val_accuracy: 0.0966
Epoch 23/30
118/118 [==============================] - 385s 3s/step - loss: 2.3026 - accuracy: 0.0989 - val_loss: 2.3029 - val_accuracy: 0.0966
Epoch 24/30
118/118 [==============================] - 384s 3s/step - loss: 2.3026 - accuracy: 0.0992 - val_loss: 2.3029 - val_accuracy: 0.0966
Epoch 25/30
118/118 [==============================] - 386s 3s/step - loss: 2.3027 - accuracy: 0.1014 - val_loss: 2.3030 - val_accuracy: 0.0966
Epoch 26/30
118/118 [==============================] - 384s 3s/step - loss: 2.3026 - accuracy: 0.0977 - val_loss: 2.3030 - val_accuracy: 0.0966
Epoch 27/30
118/118 [==============================] - 386s 3s/step - loss: 2.3026 - accuracy: 0.1014 - val_loss: 2.3030 - val_accuracy: 0.0966
Epoch 28/30
118/118 [==============================] - 383s 3s/step - loss: 2.3026 - accuracy: 0.1005 - val_loss: 2.3029 - val_accuracy: 0.0966
Epoch 29/30
118/118 [==============================] - 383s 3s/step - loss: 2.3026 - accuracy: 0.1014 - val_loss: 2.3029 - val_accuracy: 0.0966
Epoch 30/30
118/118 [==============================] - 384s 3s/step - loss: 2.3026 - accuracy: 0.1014 - val_loss: 2.3030 - val_accuracy: 0.0966
66/66 [==============================] - 77s 1s/step - loss: 2.3027 - accuracy: 0.0982
[CV 3/3; 4/10] END Conv2d_filters=256, No_of_CONV_and_Maxpool_layers=2, No_of_Dense_Layers=4, No_of_Units_in_dense_layers=128, No_of_batch_norm=True, batch_size=256, decay=1e-06, dropout=0.8, epochs=30, l1=0.001, l2=0.001, learning_rate=0.001, momentum=0.2, optimizer=Adam, validation_split=0.1;, score=0.098 total time=194.6min
[CV 1/3; 5/10] START Conv2d_filters=128, No_of_CONV_and_Maxpool_layers=2, No_of_Dense_Layers=3, No_of_Units_in_dense_layers=128, No_of_batch_norm=False, batch_size=256, decay=0.01, dropout=0, epochs=40, l1=0.0001, l2=0.001, learning_rate=0.01, momentum=0.2, optimizer=Adam, validation_split=0.2
Epoch 1/40
105/105 [==============================] - 101s 959ms/step - loss: 2.3866 - accuracy: 0.1682 - val_loss: 2.1308 - val_accuracy: 0.2481
Epoch 2/40
105/105 [==============================] - 100s 957ms/step - loss: 1.9741 - accuracy: 0.2990 - val_loss: 1.8844 - val_accuracy: 0.3267
Epoch 3/40
105/105 [==============================] - 100s 958ms/step - loss: 1.7269 - accuracy: 0.3822 - val_loss: 1.6447 - val_accuracy: 0.4273
Epoch 4/40
105/105 [==============================] - 102s 971ms/step - loss: 1.5760 - accuracy: 0.4443 - val_loss: 1.6144 - val_accuracy: 0.4464
Epoch 5/40
105/105 [==============================] - 102s 968ms/step - loss: 1.4923 - accuracy: 0.4777 - val_loss: 1.4796 - val_accuracy: 0.4884
Epoch 6/40
105/105 [==============================] - 101s 960ms/step - loss: 1.4124 - accuracy: 0.5128 - val_loss: 1.4528 - val_accuracy: 0.5007
Epoch 7/40
105/105 [==============================] - 101s 963ms/step - loss: 1.3557 - accuracy: 0.5332 - val_loss: 1.3898 - val_accuracy: 0.5232
Epoch 8/40
105/105 [==============================] - 101s 962ms/step - loss: 1.3089 - accuracy: 0.5515 - val_loss: 1.3796 - val_accuracy: 0.5278
Epoch 9/40
105/105 [==============================] - 101s 960ms/step - loss: 1.2694 - accuracy: 0.5661 - val_loss: 1.3487 - val_accuracy: 0.5368
Epoch 10/40
105/105 [==============================] - 101s 964ms/step - loss: 1.2273 - accuracy: 0.5799 - val_loss: 1.3180 - val_accuracy: 0.5530
Epoch 11/40
105/105 [==============================] - 101s 963ms/step - loss: 1.1907 - accuracy: 0.5947 - val_loss: 1.2819 - val_accuracy: 0.5617
Epoch 12/40
105/105 [==============================] - 101s 963ms/step - loss: 1.1735 - accuracy: 0.6010 - val_loss: 1.2798 - val_accuracy: 0.5638
Epoch 13/40
105/105 [==============================] - 101s 959ms/step - loss: 1.1482 - accuracy: 0.6098 - val_loss: 1.2799 - val_accuracy: 0.5665
Epoch 14/40
105/105 [==============================] - 100s 957ms/step - loss: 1.1237 - accuracy: 0.6164 - val_loss: 1.2455 - val_accuracy: 0.5811
Epoch 15/40
105/105 [==============================] - 101s 960ms/step - loss: 1.1032 - accuracy: 0.6284 - val_loss: 1.2385 - val_accuracy: 0.5799
Epoch 16/40
105/105 [==============================] - 101s 965ms/step - loss: 1.0829 - accuracy: 0.6358 - val_loss: 1.2355 - val_accuracy: 0.5835
Epoch 17/40
105/105 [==============================] - 102s 972ms/step - loss: 1.0664 - accuracy: 0.6430 - val_loss: 1.2329 - val_accuracy: 0.5886
Epoch 18/40
105/105 [==============================] - 101s 963ms/step - loss: 1.0479 - accuracy: 0.6493 - val_loss: 1.2429 - val_accuracy: 0.5809
Epoch 19/40
105/105 [==============================] - 101s 962ms/step - loss: 1.0339 - accuracy: 0.6523 - val_loss: 1.2416 - val_accuracy: 0.5881
Epoch 20/40
105/105 [==============================] - 101s 958ms/step - loss: 1.0252 - accuracy: 0.6574 - val_loss: 1.2313 - val_accuracy: 0.5896
Epoch 21/40
105/105 [==============================] - 101s 963ms/step - loss: 1.0066 - accuracy: 0.6647 - val_loss: 1.2270 - val_accuracy: 0.5986
Epoch 22/40
105/105 [==============================] - 101s 958ms/step - loss: 0.9904 - accuracy: 0.6701 - val_loss: 1.2243 - val_accuracy: 0.5949
Epoch 23/40
105/105 [==============================] - 101s 964ms/step - loss: 0.9776 - accuracy: 0.6752 - val_loss: 1.2214 - val_accuracy: 0.6006
Epoch 24/40
105/105 [==============================] - 101s 958ms/step - loss: 0.9630 - accuracy: 0.6791 - val_loss: 1.2198 - val_accuracy: 0.6022
Epoch 25/40
105/105 [==============================] - 101s 960ms/step - loss: 0.9536 - accuracy: 0.6835 - val_loss: 1.2315 - val_accuracy: 0.5988
Epoch 26/40
105/105 [==============================] - 101s 967ms/step - loss: 0.9444 - accuracy: 0.6866 - val_loss: 1.2393 - val_accuracy: 0.5934
Epoch 27/40
105/105 [==============================] - 101s 963ms/step - loss: 0.9319 - accuracy: 0.6919 - val_loss: 1.2301 - val_accuracy: 0.6031
Epoch 28/40
105/105 [==============================] - 101s 962ms/step - loss: 0.9188 - accuracy: 0.6968 - val_loss: 1.2483 - val_accuracy: 0.5971
Epoch 29/40
105/105 [==============================] - 100s 957ms/step - loss: 0.9124 - accuracy: 0.6981 - val_loss: 1.2438 - val_accuracy: 0.5991
Epoch 30/40
105/105 [==============================] - 102s 977ms/step - loss: 0.9012 - accuracy: 0.7031 - val_loss: 1.2561 - val_accuracy: 0.5989
Epoch 31/40
105/105 [==============================] - 102s 971ms/step - loss: 0.8950 - accuracy: 0.7062 - val_loss: 1.2389 - val_accuracy: 0.6042
Epoch 32/40
105/105 [==============================] - 101s 963ms/step - loss: 0.8830 - accuracy: 0.7121 - val_loss: 1.2463 - val_accuracy: 0.6001
Epoch 33/40
105/105 [==============================] - 101s 966ms/step - loss: 0.8740 - accuracy: 0.7164 - val_loss: 1.2488 - val_accuracy: 0.6030
Epoch 34/40
105/105 [==============================] - 101s 965ms/step - loss: 0.8651 - accuracy: 0.7164 - val_loss: 1.2503 - val_accuracy: 0.6030
Epoch 35/40
105/105 [==============================] - 101s 966ms/step - loss: 0.8566 - accuracy: 0.7213 - val_loss: 1.2520 - val_accuracy: 0.6055
Epoch 36/40
105/105 [==============================] - 101s 964ms/step - loss: 0.8480 - accuracy: 0.7238 - val_loss: 1.2566 - val_accuracy: 0.6055
Epoch 37/40
105/105 [==============================] - 101s 966ms/step - loss: 0.8445 - accuracy: 0.7256 - val_loss: 1.2619 - val_accuracy: 0.6024
Epoch 38/40
105/105 [==============================] - 102s 971ms/step - loss: 0.8321 - accuracy: 0.7309 - val_loss: 1.2719 - val_accuracy: 0.6060
Epoch 39/40
105/105 [==============================] - 100s 956ms/step - loss: 0.8236 - accuracy: 0.7336 - val_loss: 1.2806 - val_accuracy: 0.6016
Epoch 40/40
105/105 [==============================] - 101s 963ms/step - loss: 0.8226 - accuracy: 0.7321 - val_loss: 1.2769 - val_accuracy: 0.6051
66/66 [==============================] - 23s 344ms/step - loss: 1.2819 - accuracy: 0.6043
[CV 1/3; 5/10] END Conv2d_filters=128, No_of_CONV_and_Maxpool_layers=2, No_of_Dense_Layers=3, No_of_Units_in_dense_layers=128, No_of_batch_norm=False, batch_size=256, decay=0.01, dropout=0, epochs=40, l1=0.0001, l2=0.001, learning_rate=0.01, momentum=0.2, optimizer=Adam, validation_split=0.2;, score=0.604 total time=67.8min
[CV 2/3; 5/10] START Conv2d_filters=128, No_of_CONV_and_Maxpool_layers=2, No_of_Dense_Layers=3, No_of_Units_in_dense_layers=128, No_of_batch_norm=False, batch_size=256, decay=0.01, dropout=0, epochs=40, l1=0.0001, l2=0.001, learning_rate=0.01, momentum=0.2, optimizer=Adam, validation_split=0.2
Epoch 1/40
105/105 [==============================] - 102s 955ms/step - loss: 2.4623 - accuracy: 0.1557 - val_loss: 2.1802 - val_accuracy: 0.2137
Epoch 2/40
105/105 [==============================] - 100s 957ms/step - loss: 2.0106 - accuracy: 0.2664 - val_loss: 1.9658 - val_accuracy: 0.2760
Epoch 3/40
105/105 [==============================] - 100s 954ms/step - loss: 1.8544 - accuracy: 0.3161 - val_loss: 1.7884 - val_accuracy: 0.3390
Epoch 4/40
105/105 [==============================] - 100s 955ms/step - loss: 1.7509 - accuracy: 0.3517 - val_loss: 1.7277 - val_accuracy: 0.3606
Epoch 5/40
105/105 [==============================] - 100s 958ms/step - loss: 1.6607 - accuracy: 0.3922 - val_loss: 1.6155 - val_accuracy: 0.4129
Epoch 6/40
105/105 [==============================] - 103s 979ms/step - loss: 1.5964 - accuracy: 0.4231 - val_loss: 1.5964 - val_accuracy: 0.4188
Epoch 7/40
105/105 [==============================] - 102s 970ms/step - loss: 1.5548 - accuracy: 0.4380 - val_loss: 1.5534 - val_accuracy: 0.4381
Epoch 8/40
105/105 [==============================] - 102s 973ms/step - loss: 1.5116 - accuracy: 0.4574 - val_loss: 1.5172 - val_accuracy: 0.4525
Epoch 9/40
105/105 [==============================] - 102s 976ms/step - loss: 1.4840 - accuracy: 0.4686 - val_loss: 1.5140 - val_accuracy: 0.4578
Epoch 10/40
105/105 [==============================] - 101s 966ms/step - loss: 1.4569 - accuracy: 0.4747 - val_loss: 1.4830 - val_accuracy: 0.4672
Epoch 11/40
105/105 [==============================] - 101s 961ms/step - loss: 1.4333 - accuracy: 0.4822 - val_loss: 1.4680 - val_accuracy: 0.4722
Epoch 12/40
105/105 [==============================] - 101s 966ms/step - loss: 1.4173 - accuracy: 0.4886 - val_loss: 1.4896 - val_accuracy: 0.4702
Epoch 13/40
105/105 [==============================] - 101s 961ms/step - loss: 1.3965 - accuracy: 0.4998 - val_loss: 1.4594 - val_accuracy: 0.4818
Epoch 14/40
105/105 [==============================] - 101s 965ms/step - loss: 1.3789 - accuracy: 0.5074 - val_loss: 1.4152 - val_accuracy: 0.4966
Epoch 15/40
105/105 [==============================] - 101s 964ms/step - loss: 1.3634 - accuracy: 0.5125 - val_loss: 1.4141 - val_accuracy: 0.4960
Epoch 16/40
105/105 [==============================] - 101s 960ms/step - loss: 1.3499 - accuracy: 0.5188 - val_loss: 1.3869 - val_accuracy: 0.5148
Epoch 17/40
105/105 [==============================] - 101s 965ms/step - loss: 1.3326 - accuracy: 0.5257 - val_loss: 1.3658 - val_accuracy: 0.5170
Epoch 18/40
105/105 [==============================] - 101s 960ms/step - loss: 1.3212 - accuracy: 0.5299 - val_loss: 1.3964 - val_accuracy: 0.5067
Epoch 19/40
105/105 [==============================] - 101s 964ms/step - loss: 1.3089 - accuracy: 0.5364 - val_loss: 1.3485 - val_accuracy: 0.5272
Epoch 20/40
105/105 [==============================] - 101s 963ms/step - loss: 1.2997 - accuracy: 0.5392 - val_loss: 1.3417 - val_accuracy: 0.5296
Epoch 21/40
105/105 [==============================] - 101s 963ms/step - loss: 1.2911 - accuracy: 0.5459 - val_loss: 1.3442 - val_accuracy: 0.5280
Epoch 22/40
105/105 [==============================] - 102s 970ms/step - loss: 1.2760 - accuracy: 0.5486 - val_loss: 1.3299 - val_accuracy: 0.5284
Epoch 23/40
105/105 [==============================] - 102s 976ms/step - loss: 1.2722 - accuracy: 0.5502 - val_loss: 1.3223 - val_accuracy: 0.5377
Epoch 24/40
105/105 [==============================] - 101s 960ms/step - loss: 1.2656 - accuracy: 0.5514 - val_loss: 1.3222 - val_accuracy: 0.5334
Epoch 25/40
105/105 [==============================] - 101s 960ms/step - loss: 1.2603 - accuracy: 0.5562 - val_loss: 1.3203 - val_accuracy: 0.5326
Epoch 26/40
105/105 [==============================] - 101s 961ms/step - loss: 1.2504 - accuracy: 0.5578 - val_loss: 1.3171 - val_accuracy: 0.5376
Epoch 27/40
105/105 [==============================] - 101s 963ms/step - loss: 1.2460 - accuracy: 0.5614 - val_loss: 1.3103 - val_accuracy: 0.5419
Epoch 28/40
105/105 [==============================] - 101s 964ms/step - loss: 1.2416 - accuracy: 0.5635 - val_loss: 1.3055 - val_accuracy: 0.5403
Epoch 29/40
105/105 [==============================] - 101s 966ms/step - loss: 1.2338 - accuracy: 0.5639 - val_loss: 1.2991 - val_accuracy: 0.5391
Epoch 30/40
105/105 [==============================] - 102s 969ms/step - loss: 1.2289 - accuracy: 0.5667 - val_loss: 1.3061 - val_accuracy: 0.5394
Epoch 31/40
105/105 [==============================] - 101s 962ms/step - loss: 1.2254 - accuracy: 0.5693 - val_loss: 1.3019 - val_accuracy: 0.5428
Epoch 32/40
105/105 [==============================] - 101s 965ms/step - loss: 1.2198 - accuracy: 0.5719 - val_loss: 1.2980 - val_accuracy: 0.5461
Epoch 33/40
105/105 [==============================] - 101s 961ms/step - loss: 1.2164 - accuracy: 0.5717 - val_loss: 1.2891 - val_accuracy: 0.5440
Epoch 34/40
105/105 [==============================] - 102s 969ms/step - loss: 1.2129 - accuracy: 0.5746 - val_loss: 1.3044 - val_accuracy: 0.5397
Epoch 35/40
105/105 [==============================] - 102s 971ms/step - loss: 1.2102 - accuracy: 0.5761 - val_loss: 1.2836 - val_accuracy: 0.5503
Epoch 36/40
105/105 [==============================] - 101s 967ms/step - loss: 1.2049 - accuracy: 0.5757 - val_loss: 1.2842 - val_accuracy: 0.5494
Epoch 37/40
105/105 [==============================] - 101s 961ms/step - loss: 1.1990 - accuracy: 0.5803 - val_loss: 1.2833 - val_accuracy: 0.5472
Epoch 38/40
105/105 [==============================] - 101s 961ms/step - loss: 1.1956 - accuracy: 0.5804 - val_loss: 1.2870 - val_accuracy: 0.5452
Epoch 39/40
105/105 [==============================] - 101s 965ms/step - loss: 1.1908 - accuracy: 0.5814 - val_loss: 1.2776 - val_accuracy: 0.5466
Epoch 40/40
105/105 [==============================] - 101s 962ms/step - loss: 1.1867 - accuracy: 0.5845 - val_loss: 1.2781 - val_accuracy: 0.5511
66/66 [==============================] - 23s 345ms/step - loss: 1.2915 - accuracy: 0.5453
[CV 2/3; 5/10] END Conv2d_filters=128, No_of_CONV_and_Maxpool_layers=2, No_of_Dense_Layers=3, No_of_Units_in_dense_layers=128, No_of_batch_norm=False, batch_size=256, decay=0.01, dropout=0, epochs=40, l1=0.0001, l2=0.001, learning_rate=0.01, momentum=0.2, optimizer=Adam, validation_split=0.2;, score=0.545 total time=67.9min
[CV 3/3; 5/10] START Conv2d_filters=128, No_of_CONV_and_Maxpool_layers=2, No_of_Dense_Layers=3, No_of_Units_in_dense_layers=128, No_of_batch_norm=False, batch_size=256, decay=0.01, dropout=0, epochs=40, l1=0.0001, l2=0.001, learning_rate=0.01, momentum=0.2, optimizer=Adam, validation_split=0.2
Epoch 1/40
105/105 [==============================] - 101s 954ms/step - loss: 2.5025 - accuracy: 0.1027 - val_loss: 2.3873 - val_accuracy: 0.1134
Epoch 2/40
105/105 [==============================] - 101s 959ms/step - loss: 2.1747 - accuracy: 0.1768 - val_loss: 2.0739 - val_accuracy: 0.1944
Epoch 3/40
105/105 [==============================] - 100s 954ms/step - loss: 2.0379 - accuracy: 0.2093 - val_loss: 2.0256 - val_accuracy: 0.2254
Epoch 4/40
105/105 [==============================] - 100s 957ms/step - loss: 1.9739 - accuracy: 0.2378 - val_loss: 1.9789 - val_accuracy: 0.2394
Epoch 5/40
105/105 [==============================] - 100s 952ms/step - loss: 1.9111 - accuracy: 0.2740 - val_loss: 1.9170 - val_accuracy: 0.2818
Epoch 6/40
105/105 [==============================] - 101s 961ms/step - loss: 1.8041 - accuracy: 0.3143 - val_loss: 1.8380 - val_accuracy: 0.3133
Epoch 7/40
105/105 [==============================] - 101s 962ms/step - loss: 1.7203 - accuracy: 0.3448 - val_loss: 1.7033 - val_accuracy: 0.3496
Epoch 8/40
105/105 [==============================] - 101s 962ms/step - loss: 1.6680 - accuracy: 0.3651 - val_loss: 1.6951 - val_accuracy: 0.3513
Epoch 9/40
105/105 [==============================] - 101s 962ms/step - loss: 1.6352 - accuracy: 0.3780 - val_loss: 1.6401 - val_accuracy: 0.3825
Epoch 10/40
105/105 [==============================] - 100s 957ms/step - loss: 1.5878 - accuracy: 0.4023 - val_loss: 1.5945 - val_accuracy: 0.4012
Epoch 11/40
105/105 [==============================] - 100s 957ms/step - loss: 1.5545 - accuracy: 0.4181 - val_loss: 1.5702 - val_accuracy: 0.4071
Epoch 12/40
105/105 [==============================] - 100s 955ms/step - loss: 1.5217 - accuracy: 0.4339 - val_loss: 1.5477 - val_accuracy: 0.4188
Epoch 13/40
105/105 [==============================] - 102s 972ms/step - loss: 1.4942 - accuracy: 0.4445 - val_loss: 1.5257 - val_accuracy: 0.4300
Epoch 14/40
105/105 [==============================] - 102s 973ms/step - loss: 1.4696 - accuracy: 0.4608 - val_loss: 1.5115 - val_accuracy: 0.4387
Epoch 15/40
105/105 [==============================] - 101s 960ms/step - loss: 1.4493 - accuracy: 0.4692 - val_loss: 1.4930 - val_accuracy: 0.4473
Epoch 16/40
105/105 [==============================] - 101s 961ms/step - loss: 1.4371 - accuracy: 0.4764 - val_loss: 1.4850 - val_accuracy: 0.4566
Epoch 17/40
105/105 [==============================] - 100s 957ms/step - loss: 1.4100 - accuracy: 0.4862 - val_loss: 1.4752 - val_accuracy: 0.4617
Epoch 18/40
105/105 [==============================] - 101s 961ms/step - loss: 1.3900 - accuracy: 0.4992 - val_loss: 1.4577 - val_accuracy: 0.4737
Epoch 19/40
105/105 [==============================] - 101s 958ms/step - loss: 1.3758 - accuracy: 0.5037 - val_loss: 1.4405 - val_accuracy: 0.4834
Epoch 20/40
105/105 [==============================] - 101s 960ms/step - loss: 1.3591 - accuracy: 0.5117 - val_loss: 1.4418 - val_accuracy: 0.4797
Epoch 21/40
105/105 [==============================] - 101s 961ms/step - loss: 1.3483 - accuracy: 0.5169 - val_loss: 1.4235 - val_accuracy: 0.4885
Epoch 22/40
105/105 [==============================] - 101s 963ms/step - loss: 1.3298 - accuracy: 0.5235 - val_loss: 1.4189 - val_accuracy: 0.4945
Epoch 23/40
105/105 [==============================] - 101s 962ms/step - loss: 1.3184 - accuracy: 0.5277 - val_loss: 1.4061 - val_accuracy: 0.5008
Epoch 24/40
105/105 [==============================] - 101s 961ms/step - loss: 1.3090 - accuracy: 0.5327 - val_loss: 1.4068 - val_accuracy: 0.5016
Epoch 25/40
105/105 [==============================] - 101s 958ms/step - loss: 1.2980 - accuracy: 0.5375 - val_loss: 1.4026 - val_accuracy: 0.5047
Epoch 26/40
105/105 [==============================] - 100s 957ms/step - loss: 1.2857 - accuracy: 0.5443 - val_loss: 1.4006 - val_accuracy: 0.5026
Epoch 27/40
105/105 [==============================] - 101s 961ms/step - loss: 1.2752 - accuracy: 0.5441 - val_loss: 1.3836 - val_accuracy: 0.5101
Epoch 28/40
105/105 [==============================] - 100s 957ms/step - loss: 1.2668 - accuracy: 0.5496 - val_loss: 1.3962 - val_accuracy: 0.5118
Epoch 29/40
105/105 [==============================] - 101s 962ms/step - loss: 1.2564 - accuracy: 0.5550 - val_loss: 1.3971 - val_accuracy: 0.5083
Epoch 30/40
105/105 [==============================] - 101s 963ms/step - loss: 1.2528 - accuracy: 0.5557 - val_loss: 1.3735 - val_accuracy: 0.5130
Epoch 31/40
105/105 [==============================] - 101s 959ms/step - loss: 1.2414 - accuracy: 0.5607 - val_loss: 1.3772 - val_accuracy: 0.5127
Epoch 32/40
105/105 [==============================] - 101s 962ms/step - loss: 1.2345 - accuracy: 0.5615 - val_loss: 1.3772 - val_accuracy: 0.5158
Epoch 33/40
105/105 [==============================] - 100s 955ms/step - loss: 1.2270 - accuracy: 0.5658 - val_loss: 1.3745 - val_accuracy: 0.5178
Epoch 34/40
105/105 [==============================] - 101s 966ms/step - loss: 1.2206 - accuracy: 0.5671 - val_loss: 1.3690 - val_accuracy: 0.5229
Epoch 35/40
105/105 [==============================] - 101s 964ms/step - loss: 1.2127 - accuracy: 0.5704 - val_loss: 1.3659 - val_accuracy: 0.5233
Epoch 36/40
105/105 [==============================] - 101s 964ms/step - loss: 1.2056 - accuracy: 0.5726 - val_loss: 1.3669 - val_accuracy: 0.5214
Epoch 37/40
105/105 [==============================] - 102s 970ms/step - loss: 1.2049 - accuracy: 0.5769 - val_loss: 1.3598 - val_accuracy: 0.5263
Epoch 38/40
105/105 [==============================] - 101s 959ms/step - loss: 1.1948 - accuracy: 0.5773 - val_loss: 1.3617 - val_accuracy: 0.5221
Epoch 39/40
105/105 [==============================] - 101s 962ms/step - loss: 1.1890 - accuracy: 0.5794 - val_loss: 1.3586 - val_accuracy: 0.5266
Epoch 40/40
105/105 [==============================] - 101s 962ms/step - loss: 1.1853 - accuracy: 0.5837 - val_loss: 1.3538 - val_accuracy: 0.5269
66/66 [==============================] - 24s 354ms/step - loss: 1.3466 - accuracy: 0.5327
[CV 3/3; 5/10] END Conv2d_filters=128, No_of_CONV_and_Maxpool_layers=2, No_of_Dense_Layers=3, No_of_Units_in_dense_layers=128, No_of_batch_norm=False, batch_size=256, decay=0.01, dropout=0, epochs=40, l1=0.0001, l2=0.001, learning_rate=0.01, momentum=0.2, optimizer=Adam, validation_split=0.2;, score=0.533 total time=67.6min
[CV 1/3; 6/10] START Conv2d_filters=128, No_of_CONV_and_Maxpool_layers=2, No_of_Dense_Layers=4, No_of_Units_in_dense_layers=512, No_of_batch_norm=True, batch_size=256, decay=1e-06, dropout=0.8, epochs=30, l1=0.01, l2=0.001, learning_rate=0.01, momentum=0.9, optimizer=Adam, validation_split=0.1
Epoch 1/30
118/118 [==============================] - 114s 961ms/step - loss: 4.2238 - accuracy: 0.0968 - val_loss: 2.5338 - val_accuracy: 0.1056
Epoch 2/30
118/118 [==============================] - 113s 954ms/step - loss: 2.3786 - accuracy: 0.0990 - val_loss: 2.3179 - val_accuracy: 0.1035
Epoch 3/30
118/118 [==============================] - 114s 965ms/step - loss: 2.3087 - accuracy: 0.0989 - val_loss: 2.3040 - val_accuracy: 0.1056
Epoch 4/30
118/118 [==============================] - 113s 960ms/step - loss: 2.3039 - accuracy: 0.0993 - val_loss: 2.3037 - val_accuracy: 0.1056
Epoch 5/30
118/118 [==============================] - 120s 1s/step - loss: 2.3032 - accuracy: 0.1010 - val_loss: 2.3025 - val_accuracy: 0.1092
Epoch 6/30
118/118 [==============================] - 131s 1s/step - loss: 2.3033 - accuracy: 0.0967 - val_loss: 2.3031 - val_accuracy: 0.0960
Epoch 7/30
118/118 [==============================] - 147s 1s/step - loss: 2.3031 - accuracy: 0.0978 - val_loss: 2.3040 - val_accuracy: 0.0978
Epoch 8/30
118/118 [==============================] - 148s 1s/step - loss: 2.3030 - accuracy: 0.0997 - val_loss: 2.3035 - val_accuracy: 0.0978
Epoch 9/30
118/118 [==============================] - 155s 1s/step - loss: 2.3032 - accuracy: 0.0991 - val_loss: 2.3030 - val_accuracy: 0.1035
Epoch 10/30
118/118 [==============================] - 157s 1s/step - loss: 2.3030 - accuracy: 0.1018 - val_loss: 2.3030 - val_accuracy: 0.1056
Epoch 11/30
118/118 [==============================] - 143s 1s/step - loss: 2.3029 - accuracy: 0.1021 - val_loss: 2.3029 - val_accuracy: 0.1026
Epoch 12/30
118/118 [==============================] - 139s 1s/step - loss: 2.3031 - accuracy: 0.1018 - val_loss: 2.3019 - val_accuracy: 0.1035
Epoch 13/30
118/118 [==============================] - 139s 1s/step - loss: 2.3030 - accuracy: 0.0987 - val_loss: 2.3043 - val_accuracy: 0.0984
Epoch 14/30
118/118 [==============================] - 139s 1s/step - loss: 2.3031 - accuracy: 0.1004 - val_loss: 2.3033 - val_accuracy: 0.1056
Epoch 15/30
118/118 [==============================] - 139s 1s/step - loss: 2.3032 - accuracy: 0.1002 - val_loss: 2.3035 - val_accuracy: 0.0885
Epoch 16/30
118/118 [==============================] - 142s 1s/step - loss: 2.3033 - accuracy: 0.1009 - val_loss: 2.3022 - val_accuracy: 0.1056
Epoch 17/30
118/118 [==============================] - 139s 1s/step - loss: 2.3032 - accuracy: 0.0965 - val_loss: 2.3034 - val_accuracy: 0.0885
Epoch 18/30
118/118 [==============================] - 138s 1s/step - loss: 2.3031 - accuracy: 0.1000 - val_loss: 2.3024 - val_accuracy: 0.1056
Epoch 19/30
118/118 [==============================] - 138s 1s/step - loss: 2.3032 - accuracy: 0.0999 - val_loss: 2.3025 - val_accuracy: 0.1056
Epoch 20/30
118/118 [==============================] - 138s 1s/step - loss: 2.3032 - accuracy: 0.0977 - val_loss: 2.3027 - val_accuracy: 0.0960
Epoch 21/30
118/118 [==============================] - 139s 1s/step - loss: 2.3030 - accuracy: 0.0992 - val_loss: 2.3028 - val_accuracy: 0.1056
Epoch 22/30
118/118 [==============================] - 138s 1s/step - loss: 2.3030 - accuracy: 0.0995 - val_loss: 2.3036 - val_accuracy: 0.1056
Epoch 23/30
118/118 [==============================] - 138s 1s/step - loss: 2.3030 - accuracy: 0.0997 - val_loss: 2.3025 - val_accuracy: 0.1056
Epoch 24/30
118/118 [==============================] - 139s 1s/step - loss: 2.3030 - accuracy: 0.1007 - val_loss: 2.3043 - val_accuracy: 0.0885
Epoch 25/30
118/118 [==============================] - 150s 1s/step - loss: 2.3031 - accuracy: 0.0989 - val_loss: 2.3022 - val_accuracy: 0.1038
Epoch 26/30
118/118 [==============================] - 141s 1s/step - loss: 2.3029 - accuracy: 0.1019 - val_loss: 2.3045 - val_accuracy: 0.0885
Epoch 27/30
118/118 [==============================] - 141s 1s/step - loss: 2.3032 - accuracy: 0.0993 - val_loss: 2.3032 - val_accuracy: 0.1056
Epoch 28/30
118/118 [==============================] - 141s 1s/step - loss: 2.3031 - accuracy: 0.1023 - val_loss: 2.3036 - val_accuracy: 0.0984
Epoch 29/30
118/118 [==============================] - 151s 1s/step - loss: 2.3032 - accuracy: 0.0976 - val_loss: 2.3036 - val_accuracy: 0.0885
Epoch 30/30
118/118 [==============================] - 149s 1s/step - loss: 2.3031 - accuracy: 0.1000 - val_loss: 2.3032 - val_accuracy: 0.0978
66/66 [==============================] - 30s 448ms/step - loss: 2.3028 - accuracy: 0.0994
[CV 1/3; 6/10] END Conv2d_filters=128, No_of_CONV_and_Maxpool_layers=2, No_of_Dense_Layers=4, No_of_Units_in_dense_layers=512, No_of_batch_norm=True, batch_size=256, decay=1e-06, dropout=0.8, epochs=30, l1=0.01, l2=0.001, learning_rate=0.01, momentum=0.9, optimizer=Adam, validation_split=0.1;, score=0.099 total time=69.4min
[CV 2/3; 6/10] START Conv2d_filters=128, No_of_CONV_and_Maxpool_layers=2, No_of_Dense_Layers=4, No_of_Units_in_dense_layers=512, No_of_batch_norm=True, batch_size=256, decay=1e-06, dropout=0.8, epochs=30, l1=0.01, l2=0.001, learning_rate=0.01, momentum=0.9, optimizer=Adam, validation_split=0.1
Epoch 1/30
118/118 [==============================] - 151s 1s/step - loss: 4.4372 - accuracy: 0.0987 - val_loss: 2.6347 - val_accuracy: 0.0960
Epoch 2/30
118/118 [==============================] - 151s 1s/step - loss: 2.4192 - accuracy: 0.0994 - val_loss: 2.3282 - val_accuracy: 0.0948
Epoch 3/30
118/118 [==============================] - 150s 1s/step - loss: 2.3130 - accuracy: 0.1010 - val_loss: 2.3059 - val_accuracy: 0.1026
Epoch 4/30
118/118 [==============================] - 148s 1s/step - loss: 2.3042 - accuracy: 0.0983 - val_loss: 2.3031 - val_accuracy: 0.1026
Epoch 5/30
118/118 [==============================] - 154s 1s/step - loss: 2.3033 - accuracy: 0.0995 - val_loss: 2.3036 - val_accuracy: 0.0978
Epoch 6/30
118/118 [==============================] - 157s 1s/step - loss: 2.3031 - accuracy: 0.1006 - val_loss: 2.3031 - val_accuracy: 0.1026
Epoch 7/30
118/118 [==============================] - 150s 1s/step - loss: 2.3031 - accuracy: 0.1000 - val_loss: 2.3038 - val_accuracy: 0.0978
Epoch 8/30
118/118 [==============================] - 163s 1s/step - loss: 2.3031 - accuracy: 0.1002 - val_loss: 2.3037 - val_accuracy: 0.0885
Epoch 9/30
118/118 [==============================] - 160s 1s/step - loss: 2.3031 - accuracy: 0.1005 - val_loss: 2.3038 - val_accuracy: 0.0948
Epoch 10/30
118/118 [==============================] - 157s 1s/step - loss: 2.3031 - accuracy: 0.0967 - val_loss: 2.3025 - val_accuracy: 0.0948
Epoch 11/30
118/118 [==============================] - 160s 1s/step - loss: 2.3030 - accuracy: 0.0984 - val_loss: 2.3029 - val_accuracy: 0.0960
Epoch 12/30
118/118 [==============================] - 131s 1s/step - loss: 2.3031 - accuracy: 0.1000 - val_loss: 2.3022 - val_accuracy: 0.1092
Epoch 13/30
118/118 [==============================] - 121s 1s/step - loss: 2.3030 - accuracy: 0.0983 - val_loss: 2.3047 - val_accuracy: 0.0984
Epoch 14/30
118/118 [==============================] - 117s 993ms/step - loss: 2.3031 - accuracy: 0.1006 - val_loss: 2.3035 - val_accuracy: 0.0885
Epoch 15/30
118/118 [==============================] - 117s 990ms/step - loss: 2.3032 - accuracy: 0.0972 - val_loss: 2.3035 - val_accuracy: 0.1026
Epoch 16/30
118/118 [==============================] - 116s 986ms/step - loss: 2.3030 - accuracy: 0.1018 - val_loss: 2.3028 - val_accuracy: 0.0960
Epoch 17/30
118/118 [==============================] - 117s 988ms/step - loss: 2.3031 - accuracy: 0.1001 - val_loss: 2.3032 - val_accuracy: 0.0960
Epoch 18/30
118/118 [==============================] - 116s 988ms/step - loss: 2.3032 - accuracy: 0.0991 - val_loss: 2.3019 - val_accuracy: 0.1026
Epoch 19/30
118/118 [==============================] - 116s 982ms/step - loss: 2.3031 - accuracy: 0.0962 - val_loss: 2.3031 - val_accuracy: 0.0948
Epoch 20/30
118/118 [==============================] - 117s 994ms/step - loss: 2.3030 - accuracy: 0.1008 - val_loss: 2.3031 - val_accuracy: 0.0960
Epoch 21/30
118/118 [==============================] - 116s 982ms/step - loss: 2.3031 - accuracy: 0.0983 - val_loss: 2.3044 - val_accuracy: 0.0978
Epoch 22/30
118/118 [==============================] - 116s 979ms/step - loss: 2.3029 - accuracy: 0.0997 - val_loss: 2.3037 - val_accuracy: 0.0978
Epoch 23/30
118/118 [==============================] - 116s 983ms/step - loss: 2.3031 - accuracy: 0.0988 - val_loss: 2.3030 - val_accuracy: 0.1056
Epoch 24/30
118/118 [==============================] - 116s 983ms/step - loss: 2.3031 - accuracy: 0.0971 - val_loss: 2.3040 - val_accuracy: 0.1026
Epoch 25/30
118/118 [==============================] - 115s 976ms/step - loss: 2.3031 - accuracy: 0.0978 - val_loss: 2.3030 - val_accuracy: 0.1092
Epoch 26/30
118/118 [==============================] - 116s 982ms/step - loss: 2.3031 - accuracy: 0.1010 - val_loss: 2.3047 - val_accuracy: 0.0885
Epoch 27/30
118/118 [==============================] - 115s 979ms/step - loss: 2.3031 - accuracy: 0.0997 - val_loss: 2.3032 - val_accuracy: 0.0960
Epoch 28/30
118/118 [==============================] - 116s 985ms/step - loss: 2.3032 - accuracy: 0.1002 - val_loss: 2.3035 - val_accuracy: 0.0960
Epoch 29/30
118/118 [==============================] - 116s 982ms/step - loss: 2.3030 - accuracy: 0.0961 - val_loss: 2.3037 - val_accuracy: 0.0978
Epoch 30/30
118/118 [==============================] - 116s 988ms/step - loss: 2.3030 - accuracy: 0.1005 - val_loss: 2.3037 - val_accuracy: 0.0960
66/66 [==============================] - 24s 354ms/step - loss: 2.3032 - accuracy: 0.0985
[CV 2/3; 6/10] END Conv2d_filters=128, No_of_CONV_and_Maxpool_layers=2, No_of_Dense_Layers=4, No_of_Units_in_dense_layers=512, No_of_batch_norm=True, batch_size=256, decay=1e-06, dropout=0.8, epochs=30, l1=0.01, l2=0.001, learning_rate=0.01, momentum=0.9, optimizer=Adam, validation_split=0.1;, score=0.099 total time=65.9min
[CV 3/3; 6/10] START Conv2d_filters=128, No_of_CONV_and_Maxpool_layers=2, No_of_Dense_Layers=4, No_of_Units_in_dense_layers=512, No_of_batch_norm=True, batch_size=256, decay=1e-06, dropout=0.8, epochs=30, l1=0.01, l2=0.001, learning_rate=0.01, momentum=0.9, optimizer=Adam, validation_split=0.1
Epoch 1/30
118/118 [==============================] - 117s 984ms/step - loss: 4.1441 - accuracy: 0.0978 - val_loss: 2.5131 - val_accuracy: 0.0942
Epoch 2/30
118/118 [==============================] - 116s 982ms/step - loss: 2.3698 - accuracy: 0.1006 - val_loss: 2.3150 - val_accuracy: 0.0951
Epoch 3/30
118/118 [==============================] - 116s 983ms/step - loss: 2.3072 - accuracy: 0.0989 - val_loss: 2.3047 - val_accuracy: 0.0906
Epoch 4/30
118/118 [==============================] - 115s 972ms/step - loss: 2.3036 - accuracy: 0.1001 - val_loss: 2.3041 - val_accuracy: 0.0942
Epoch 5/30
118/118 [==============================] - 115s 976ms/step - loss: 2.3034 - accuracy: 0.0956 - val_loss: 2.3030 - val_accuracy: 0.1056
Epoch 6/30
118/118 [==============================] - 115s 976ms/step - loss: 2.3032 - accuracy: 0.0967 - val_loss: 2.3031 - val_accuracy: 0.0966
Epoch 7/30
118/118 [==============================] - 115s 976ms/step - loss: 2.3032 - accuracy: 0.0982 - val_loss: 2.3028 - val_accuracy: 0.0942
Epoch 8/30
118/118 [==============================] - 115s 976ms/step - loss: 2.3031 - accuracy: 0.1007 - val_loss: 2.3031 - val_accuracy: 0.1056
Epoch 9/30
118/118 [==============================] - 115s 972ms/step - loss: 2.3031 - accuracy: 0.0963 - val_loss: 2.3038 - val_accuracy: 0.0906
Epoch 10/30
118/118 [==============================] - 116s 980ms/step - loss: 2.3032 - accuracy: 0.0996 - val_loss: 2.3043 - val_accuracy: 0.0966
Epoch 11/30
118/118 [==============================] - 115s 976ms/step - loss: 2.3031 - accuracy: 0.1010 - val_loss: 2.3028 - val_accuracy: 0.0987
Epoch 12/30
118/118 [==============================] - 116s 980ms/step - loss: 2.3031 - accuracy: 0.1016 - val_loss: 2.3030 - val_accuracy: 0.1056
Epoch 13/30
118/118 [==============================] - 115s 976ms/step - loss: 2.3031 - accuracy: 0.0977 - val_loss: 2.3034 - val_accuracy: 0.0966
Epoch 14/30
118/118 [==============================] - 115s 972ms/step - loss: 2.3031 - accuracy: 0.0975 - val_loss: 2.3033 - val_accuracy: 0.0966
Epoch 15/30
118/118 [==============================] - 116s 983ms/step - loss: 2.3031 - accuracy: 0.1014 - val_loss: 2.3027 - val_accuracy: 0.0942
Epoch 16/30
118/118 [==============================] - 116s 984ms/step - loss: 2.3032 - accuracy: 0.1012 - val_loss: 2.3036 - val_accuracy: 0.0987
Epoch 17/30
118/118 [==============================] - 115s 973ms/step - loss: 2.3033 - accuracy: 0.0986 - val_loss: 2.3024 - val_accuracy: 0.1119
Epoch 18/30
118/118 [==============================] - 116s 980ms/step - loss: 2.3032 - accuracy: 0.0999 - val_loss: 2.3032 - val_accuracy: 0.0951
Epoch 19/30
118/118 [==============================] - 115s 976ms/step - loss: 2.3031 - accuracy: 0.0998 - val_loss: 2.3026 - val_accuracy: 0.0966
Epoch 20/30
118/118 [==============================] - 116s 980ms/step - loss: 2.3031 - accuracy: 0.0981 - val_loss: 2.3029 - val_accuracy: 0.0966
Epoch 21/30
118/118 [==============================] - 115s 977ms/step - loss: 2.3032 - accuracy: 0.0994 - val_loss: 2.3033 - val_accuracy: 0.0906
Epoch 22/30
118/118 [==============================] - 115s 974ms/step - loss: 2.3031 - accuracy: 0.1018 - val_loss: 2.3036 - val_accuracy: 0.0942
Epoch 23/30
118/118 [==============================] - 116s 983ms/step - loss: 2.3031 - accuracy: 0.0984 - val_loss: 2.3032 - val_accuracy: 0.0966
Epoch 24/30
118/118 [==============================] - 115s 978ms/step - loss: 2.3030 - accuracy: 0.0994 - val_loss: 2.3036 - val_accuracy: 0.0966
Epoch 25/30
118/118 [==============================] - 116s 985ms/step - loss: 2.3030 - accuracy: 0.1013 - val_loss: 2.3049 - val_accuracy: 0.0951
Epoch 26/30
118/118 [==============================] - 115s 975ms/step - loss: 2.3032 - accuracy: 0.0999 - val_loss: 2.3034 - val_accuracy: 0.0966
Epoch 27/30
118/118 [==============================] - 115s 976ms/step - loss: 2.3032 - accuracy: 0.0992 - val_loss: 2.3034 - val_accuracy: 0.0906
Epoch 28/30
118/118 [==============================] - 114s 965ms/step - loss: 2.3031 - accuracy: 0.0979 - val_loss: 2.3032 - val_accuracy: 0.0987
Epoch 29/30
118/118 [==============================] - 114s 968ms/step - loss: 2.3030 - accuracy: 0.0997 - val_loss: 2.3037 - val_accuracy: 0.0942
Epoch 30/30
118/118 [==============================] - 115s 971ms/step - loss: 2.3031 - accuracy: 0.0980 - val_loss: 2.3029 - val_accuracy: 0.0906
66/66 [==============================] - 23s 353ms/step - loss: 2.3027 - accuracy: 0.1014
[CV 3/3; 6/10] END Conv2d_filters=128, No_of_CONV_and_Maxpool_layers=2, No_of_Dense_Layers=4, No_of_Units_in_dense_layers=512, No_of_batch_norm=True, batch_size=256, decay=1e-06, dropout=0.8, epochs=30, l1=0.01, l2=0.001, learning_rate=0.01, momentum=0.9, optimizer=Adam, validation_split=0.1;, score=0.101 total time=58.0min
[CV 1/3; 7/10] START Conv2d_filters=64, No_of_CONV_and_Maxpool_layers=3, No_of_Dense_Layers=3, No_of_Units_in_dense_layers=128, No_of_batch_norm=False, batch_size=512, decay=0.0001, dropout=0, epochs=50, l1=0.01, l2=0.0001, learning_rate=0.1, momentum=0.2, optimizer=Adam, validation_split=0.1
Epoch 1/50
59/59 [==============================] - 41s 680ms/step - loss: 35.8298 - accuracy: 0.1026 - val_loss: 2.5440 - val_accuracy: 0.1035
Epoch 2/50
59/59 [==============================] - 40s 671ms/step - loss: 2.5124 - accuracy: 0.1015 - val_loss: 2.4978 - val_accuracy: 0.0978
Epoch 3/50
59/59 [==============================] - 40s 672ms/step - loss: 2.4876 - accuracy: 0.1010 - val_loss: 2.4781 - val_accuracy: 0.1026
Epoch 4/50
59/59 [==============================] - 40s 683ms/step - loss: 2.4755 - accuracy: 0.0983 - val_loss: 2.4693 - val_accuracy: 0.0978
Epoch 5/50
59/59 [==============================] - 40s 672ms/step - loss: 2.4655 - accuracy: 0.1015 - val_loss: 2.4585 - val_accuracy: 0.1038
Epoch 6/50
59/59 [==============================] - 40s 679ms/step - loss: 2.4579 - accuracy: 0.1006 - val_loss: 2.4564 - val_accuracy: 0.1026
Epoch 7/50
59/59 [==============================] - 41s 689ms/step - loss: 2.4518 - accuracy: 0.0995 - val_loss: 2.4506 - val_accuracy: 0.0960
Epoch 8/50
59/59 [==============================] - 40s 676ms/step - loss: 2.4463 - accuracy: 0.0997 - val_loss: 2.4445 - val_accuracy: 0.0948
Epoch 9/50
59/59 [==============================] - 43s 734ms/step - loss: 2.4424 - accuracy: 0.1007 - val_loss: 2.4399 - val_accuracy: 0.0885
Epoch 10/50
59/59 [==============================] - 55s 926ms/step - loss: 2.4373 - accuracy: 0.1009 - val_loss: 2.4350 - val_accuracy: 0.1038
Epoch 11/50
59/59 [==============================] - 56s 951ms/step - loss: 2.4336 - accuracy: 0.1032 - val_loss: 2.4310 - val_accuracy: 0.1026
Epoch 12/50
59/59 [==============================] - 56s 950ms/step - loss: 2.4309 - accuracy: 0.1006 - val_loss: 2.4270 - val_accuracy: 0.1056
Epoch 13/50
59/59 [==============================] - 56s 943ms/step - loss: 2.4279 - accuracy: 0.0990 - val_loss: 2.4284 - val_accuracy: 0.0885
Epoch 14/50
59/59 [==============================] - 64s 1s/step - loss: 2.4253 - accuracy: 0.0989 - val_loss: 2.4255 - val_accuracy: 0.0948
Epoch 15/50
59/59 [==============================] - 62s 1s/step - loss: 2.4234 - accuracy: 0.0991 - val_loss: 2.4251 - val_accuracy: 0.0960
Epoch 16/50
59/59 [==============================] - 54s 920ms/step - loss: 2.4223 - accuracy: 0.1029 - val_loss: 2.4174 - val_accuracy: 0.1035
Epoch 17/50
59/59 [==============================] - 49s 830ms/step - loss: 2.4194 - accuracy: 0.0997 - val_loss: 2.4200 - val_accuracy: 0.0885
Epoch 18/50
59/59 [==============================] - 42s 704ms/step - loss: 2.4169 - accuracy: 0.1009 - val_loss: 2.4151 - val_accuracy: 0.1056
Epoch 19/50
59/59 [==============================] - 44s 740ms/step - loss: 2.4148 - accuracy: 0.0984 - val_loss: 2.4159 - val_accuracy: 0.0984
Epoch 20/50
59/59 [==============================] - 48s 823ms/step - loss: 2.4139 - accuracy: 0.1002 - val_loss: 2.4139 - val_accuracy: 0.0960
Epoch 21/50
59/59 [==============================] - 48s 811ms/step - loss: 2.4113 - accuracy: 0.1029 - val_loss: 2.4093 - val_accuracy: 0.1056
Epoch 22/50
59/59 [==============================] - 47s 801ms/step - loss: 2.4093 - accuracy: 0.1013 - val_loss: 2.4094 - val_accuracy: 0.0978
Epoch 23/50
59/59 [==============================] - 46s 789ms/step - loss: 2.4081 - accuracy: 0.1004 - val_loss: 2.4074 - val_accuracy: 0.0885
Epoch 24/50
59/59 [==============================] - 49s 828ms/step - loss: 2.4067 - accuracy: 0.0981 - val_loss: 2.4069 - val_accuracy: 0.1035
Epoch 25/50
59/59 [==============================] - 48s 820ms/step - loss: 2.4047 - accuracy: 0.1006 - val_loss: 2.4035 - val_accuracy: 0.1035
Epoch 26/50
59/59 [==============================] - 51s 873ms/step - loss: 2.4032 - accuracy: 0.1012 - val_loss: 2.4038 - val_accuracy: 0.0885
Epoch 27/50
59/59 [==============================] - 51s 861ms/step - loss: 2.4032 - accuracy: 0.0996 - val_loss: 2.4017 - val_accuracy: 0.0885
Epoch 28/50
59/59 [==============================] - 52s 881ms/step - loss: 2.4014 - accuracy: 0.0981 - val_loss: 2.4027 - val_accuracy: 0.0984
Epoch 29/50
59/59 [==============================] - 54s 919ms/step - loss: 2.4008 - accuracy: 0.1004 - val_loss: 2.3993 - val_accuracy: 0.1056
Epoch 30/50
59/59 [==============================] - 51s 865ms/step - loss: 2.3985 - accuracy: 0.0958 - val_loss: 2.3990 - val_accuracy: 0.0960
Epoch 31/50
59/59 [==============================] - 47s 784ms/step - loss: 2.3992 - accuracy: 0.0985 - val_loss: 2.3981 - val_accuracy: 0.0960
Epoch 32/50
59/59 [==============================] - 45s 765ms/step - loss: 2.3971 - accuracy: 0.0997 - val_loss: 2.3965 - val_accuracy: 0.0978
Epoch 33/50
59/59 [==============================] - 45s 763ms/step - loss: 2.3949 - accuracy: 0.1001 - val_loss: 2.3948 - val_accuracy: 0.0885
Epoch 34/50
59/59 [==============================] - 48s 822ms/step - loss: 2.3946 - accuracy: 0.1000 - val_loss: 2.3940 - val_accuracy: 0.1038
Epoch 35/50
59/59 [==============================] - 46s 772ms/step - loss: 2.3936 - accuracy: 0.1033 - val_loss: 2.3914 - val_accuracy: 0.0984
Epoch 36/50
59/59 [==============================] - 55s 936ms/step - loss: 2.3918 - accuracy: 0.1002 - val_loss: 2.3919 - val_accuracy: 0.1035
Epoch 37/50
59/59 [==============================] - 47s 793ms/step - loss: 2.3914 - accuracy: 0.1003 - val_loss: 2.3894 - val_accuracy: 0.0885
Epoch 38/50
59/59 [==============================] - 48s 812ms/step - loss: 2.3899 - accuracy: 0.0953 - val_loss: 2.3900 - val_accuracy: 0.1056
Epoch 39/50
59/59 [==============================] - 46s 789ms/step - loss: 2.3889 - accuracy: 0.1003 - val_loss: 2.3906 - val_accuracy: 0.0885
Epoch 40/50
59/59 [==============================] - 43s 734ms/step - loss: 2.3883 - accuracy: 0.0981 - val_loss: 2.3941 - val_accuracy: 0.1056
Epoch 41/50
59/59 [==============================] - 48s 813ms/step - loss: 2.3875 - accuracy: 0.0995 - val_loss: 2.3886 - val_accuracy: 0.0948
Epoch 42/50
59/59 [==============================] - 49s 840ms/step - loss: 2.3858 - accuracy: 0.1035 - val_loss: 2.3855 - val_accuracy: 0.1038
Epoch 43/50
59/59 [==============================] - 47s 794ms/step - loss: 2.3859 - accuracy: 0.1005 - val_loss: 2.3844 - val_accuracy: 0.1038
Epoch 44/50
59/59 [==============================] - 46s 774ms/step - loss: 2.3844 - accuracy: 0.0993 - val_loss: 2.3837 - val_accuracy: 0.0978
Epoch 45/50
59/59 [==============================] - 45s 769ms/step - loss: 2.3837 - accuracy: 0.0985 - val_loss: 2.3820 - val_accuracy: 0.1092
Epoch 46/50
59/59 [==============================] - 46s 783ms/step - loss: 2.3829 - accuracy: 0.0958 - val_loss: 2.3829 - val_accuracy: 0.1035
Epoch 47/50
59/59 [==============================] - 45s 761ms/step - loss: 2.3820 - accuracy: 0.1000 - val_loss: 2.3794 - val_accuracy: 0.0960
Epoch 48/50
59/59 [==============================] - 47s 805ms/step - loss: 2.3803 - accuracy: 0.0982 - val_loss: 2.3785 - val_accuracy: 0.1056
Epoch 49/50
59/59 [==============================] - 46s 784ms/step - loss: 2.3805 - accuracy: 0.1008 - val_loss: 2.3775 - val_accuracy: 0.0978
Epoch 50/50
59/59 [==============================] - 45s 756ms/step - loss: 2.3791 - accuracy: 0.1001 - val_loss: 2.3779 - val_accuracy: 0.0978
33/33 [==============================] - 11s 340ms/step - loss: 2.3774 - accuracy: 0.0994
[CV 1/3; 7/10] END Conv2d_filters=64, No_of_CONV_and_Maxpool_layers=3, No_of_Dense_Layers=3, No_of_Units_in_dense_layers=128, No_of_batch_norm=False, batch_size=512, decay=0.0001, dropout=0, epochs=50, l1=0.01, l2=0.0001, learning_rate=0.1, momentum=0.2, optimizer=Adam, validation_split=0.1;, score=0.099 total time=39.9min
[CV 2/3; 7/10] START Conv2d_filters=64, No_of_CONV_and_Maxpool_layers=3, No_of_Dense_Layers=3, No_of_Units_in_dense_layers=128, No_of_batch_norm=False, batch_size=512, decay=0.0001, dropout=0, epochs=50, l1=0.01, l2=0.0001, learning_rate=0.1, momentum=0.2, optimizer=Adam, validation_split=0.1
Epoch 1/50
59/59 [==============================] - 46s 767ms/step - loss: 50.6206 - accuracy: 0.0981 - val_loss: 2.5652 - val_accuracy: 0.0960
Epoch 2/50
59/59 [==============================] - 45s 766ms/step - loss: 2.5512 - accuracy: 0.0997 - val_loss: 2.5433 - val_accuracy: 0.1035
Epoch 3/50
59/59 [==============================] - 45s 768ms/step - loss: 2.5387 - accuracy: 0.0973 - val_loss: 2.5312 - val_accuracy: 0.0948
Epoch 4/50
59/59 [==============================] - 45s 760ms/step - loss: 2.5279 - accuracy: 0.1001 - val_loss: 2.5225 - val_accuracy: 0.0978
Epoch 5/50
59/59 [==============================] - 47s 791ms/step - loss: 2.5209 - accuracy: 0.0971 - val_loss: 2.5238 - val_accuracy: 0.1038
Epoch 6/50
59/59 [==============================] - 43s 731ms/step - loss: 2.5140 - accuracy: 0.0992 - val_loss: 2.5095 - val_accuracy: 0.1026
Epoch 7/50
59/59 [==============================] - 43s 733ms/step - loss: 2.5083 - accuracy: 0.1006 - val_loss: 2.5078 - val_accuracy: 0.1035
Epoch 8/50
59/59 [==============================] - 45s 760ms/step - loss: 2.5035 - accuracy: 0.1026 - val_loss: 2.5020 - val_accuracy: 0.0885
Epoch 9/50
59/59 [==============================] - 45s 767ms/step - loss: 2.4989 - accuracy: 0.1025 - val_loss: 2.4980 - val_accuracy: 0.0978
Epoch 10/50
59/59 [==============================] - 44s 738ms/step - loss: 2.4945 - accuracy: 0.1016 - val_loss: 2.4924 - val_accuracy: 0.1038
Epoch 11/50
59/59 [==============================] - 45s 761ms/step - loss: 2.4911 - accuracy: 0.1000 - val_loss: 2.4904 - val_accuracy: 0.0960
Epoch 12/50
59/59 [==============================] - 44s 752ms/step - loss: 2.4881 - accuracy: 0.1006 - val_loss: 2.4850 - val_accuracy: 0.0948
Epoch 13/50
59/59 [==============================] - 45s 764ms/step - loss: 2.4846 - accuracy: 0.1002 - val_loss: 2.4869 - val_accuracy: 0.0948
Epoch 14/50
59/59 [==============================] - 45s 761ms/step - loss: 2.4815 - accuracy: 0.1020 - val_loss: 2.4814 - val_accuracy: 0.0885
Epoch 15/50
59/59 [==============================] - 46s 777ms/step - loss: 2.4790 - accuracy: 0.0999 - val_loss: 2.4774 - val_accuracy: 0.0960
Epoch 16/50
59/59 [==============================] - 46s 776ms/step - loss: 2.4757 - accuracy: 0.1001 - val_loss: 2.4730 - val_accuracy: 0.1026
Epoch 17/50
59/59 [==============================] - 46s 787ms/step - loss: 2.4737 - accuracy: 0.0993 - val_loss: 2.4744 - val_accuracy: 0.0885
Epoch 18/50
59/59 [==============================] - 47s 789ms/step - loss: 2.4718 - accuracy: 0.1006 - val_loss: 2.4679 - val_accuracy: 0.1035
Epoch 19/50
59/59 [==============================] - 48s 814ms/step - loss: 2.4685 - accuracy: 0.0988 - val_loss: 2.4694 - val_accuracy: 0.0948
Epoch 20/50
59/59 [==============================] - 48s 809ms/step - loss: 2.4658 - accuracy: 0.1006 - val_loss: 2.4676 - val_accuracy: 0.0960
Epoch 21/50
59/59 [==============================] - 46s 775ms/step - loss: 2.4642 - accuracy: 0.1003 - val_loss: 2.4625 - val_accuracy: 0.0978
Epoch 22/50
59/59 [==============================] - 43s 724ms/step - loss: 2.4614 - accuracy: 0.0997 - val_loss: 2.4598 - val_accuracy: 0.0978
Epoch 23/50
59/59 [==============================] - 41s 704ms/step - loss: 2.4598 - accuracy: 0.0992 - val_loss: 2.4582 - val_accuracy: 0.1056
Epoch 24/50
59/59 [==============================] - 42s 718ms/step - loss: 2.4571 - accuracy: 0.1015 - val_loss: 2.4596 - val_accuracy: 0.0948
Epoch 25/50
59/59 [==============================] - 44s 748ms/step - loss: 2.4557 - accuracy: 0.1007 - val_loss: 2.4535 - val_accuracy: 0.1092
Epoch 26/50
59/59 [==============================] - 45s 769ms/step - loss: 2.4540 - accuracy: 0.1004 - val_loss: 2.4539 - val_accuracy: 0.0885
Epoch 27/50
59/59 [==============================] - 43s 727ms/step - loss: 2.4514 - accuracy: 0.1003 - val_loss: 2.4522 - val_accuracy: 0.0960
Epoch 28/50
59/59 [==============================] - 44s 753ms/step - loss: 2.4501 - accuracy: 0.1008 - val_loss: 2.4483 - val_accuracy: 0.1038
Epoch 29/50
59/59 [==============================] - 44s 751ms/step - loss: 2.4479 - accuracy: 0.0966 - val_loss: 2.4457 - val_accuracy: 0.1056
Epoch 30/50
59/59 [==============================] - 45s 768ms/step - loss: 2.4464 - accuracy: 0.0973 - val_loss: 2.4450 - val_accuracy: 0.1026
Epoch 31/50
59/59 [==============================] - 46s 788ms/step - loss: 2.4446 - accuracy: 0.0991 - val_loss: 2.4435 - val_accuracy: 0.1056
Epoch 32/50
59/59 [==============================] - 46s 777ms/step - loss: 2.4432 - accuracy: 0.0989 - val_loss: 2.4431 - val_accuracy: 0.0978
Epoch 33/50
59/59 [==============================] - 47s 790ms/step - loss: 2.4410 - accuracy: 0.1004 - val_loss: 2.4400 - val_accuracy: 0.0960
Epoch 34/50
59/59 [==============================] - 47s 799ms/step - loss: 2.4393 - accuracy: 0.1000 - val_loss: 2.4371 - val_accuracy: 0.1038
Epoch 35/50
59/59 [==============================] - 47s 804ms/step - loss: 2.4376 - accuracy: 0.1001 - val_loss: 2.4350 - val_accuracy: 0.0984
Epoch 36/50
59/59 [==============================] - 47s 801ms/step - loss: 2.4363 - accuracy: 0.1003 - val_loss: 2.4371 - val_accuracy: 0.0960
Epoch 37/50
59/59 [==============================] - 47s 796ms/step - loss: 2.4352 - accuracy: 0.0971 - val_loss: 2.4352 - val_accuracy: 0.1035
Epoch 38/50
59/59 [==============================] - 50s 843ms/step - loss: 2.4340 - accuracy: 0.1012 - val_loss: 2.4323 - val_accuracy: 0.1092
Epoch 39/50
59/59 [==============================] - 45s 762ms/step - loss: 2.4311 - accuracy: 0.0996 - val_loss: 2.4293 - val_accuracy: 0.1092
Epoch 40/50
59/59 [==============================] - 45s 757ms/step - loss: 2.4301 - accuracy: 0.0985 - val_loss: 2.4289 - val_accuracy: 0.1056
Epoch 41/50
59/59 [==============================] - 44s 748ms/step - loss: 2.4298 - accuracy: 0.0982 - val_loss: 2.4293 - val_accuracy: 0.0948
Epoch 42/50
59/59 [==============================] - 47s 792ms/step - loss: 2.4279 - accuracy: 0.0998 - val_loss: 2.4264 - val_accuracy: 0.1035
Epoch 43/50
59/59 [==============================] - 44s 742ms/step - loss: 2.4266 - accuracy: 0.0989 - val_loss: 2.4254 - val_accuracy: 0.1038
Epoch 44/50
59/59 [==============================] - 45s 761ms/step - loss: 2.4248 - accuracy: 0.0997 - val_loss: 2.4232 - val_accuracy: 0.0960
Epoch 45/50
59/59 [==============================] - 44s 754ms/step - loss: 2.4229 - accuracy: 0.1002 - val_loss: 2.4210 - val_accuracy: 0.1092
Epoch 46/50
59/59 [==============================] - 46s 773ms/step - loss: 2.4218 - accuracy: 0.0989 - val_loss: 2.4208 - val_accuracy: 0.0960
Epoch 47/50
59/59 [==============================] - 45s 771ms/step - loss: 2.4204 - accuracy: 0.1013 - val_loss: 2.4173 - val_accuracy: 0.1035
Epoch 48/50
59/59 [==============================] - 44s 751ms/step - loss: 2.4188 - accuracy: 0.0966 - val_loss: 2.4171 - val_accuracy: 0.1026
Epoch 49/50
59/59 [==============================] - 45s 759ms/step - loss: 2.4182 - accuracy: 0.0974 - val_loss: 2.4161 - val_accuracy: 0.1038
Epoch 50/50
59/59 [==============================] - 44s 741ms/step - loss: 2.4169 - accuracy: 0.0987 - val_loss: 2.4148 - val_accuracy: 0.1092
33/33 [==============================] - 10s 284ms/step - loss: 2.4161 - accuracy: 0.0999
[CV 2/3; 7/10] END Conv2d_filters=64, No_of_CONV_and_Maxpool_layers=3, No_of_Dense_Layers=3, No_of_Units_in_dense_layers=128, No_of_batch_norm=False, batch_size=512, decay=0.0001, dropout=0, epochs=50, l1=0.01, l2=0.0001, learning_rate=0.1, momentum=0.2, optimizer=Adam, validation_split=0.1;, score=0.100 total time=37.9min
[CV 3/3; 7/10] START Conv2d_filters=64, No_of_CONV_and_Maxpool_layers=3, No_of_Dense_Layers=3, No_of_Units_in_dense_layers=128, No_of_batch_norm=False, batch_size=512, decay=0.0001, dropout=0, epochs=50, l1=0.01, l2=0.0001, learning_rate=0.1, momentum=0.2, optimizer=Adam, validation_split=0.1
Epoch 1/50
59/59 [==============================] - 44s 734ms/step - loss: 40.3744 - accuracy: 0.0955 - val_loss: 2.4253 - val_accuracy: 0.0942
Epoch 2/50
59/59 [==============================] - 43s 730ms/step - loss: 2.4145 - accuracy: 0.1015 - val_loss: 2.4081 - val_accuracy: 0.0951
Epoch 3/50
59/59 [==============================] - 43s 735ms/step - loss: 2.4053 - accuracy: 0.1000 - val_loss: 2.4028 - val_accuracy: 0.0942
Epoch 4/50
59/59 [==============================] - 44s 742ms/step - loss: 2.4000 - accuracy: 0.0984 - val_loss: 2.3980 - val_accuracy: 0.1080
Epoch 5/50
59/59 [==============================] - 43s 737ms/step - loss: 2.3981 - accuracy: 0.1001 - val_loss: 2.3925 - val_accuracy: 0.1119
Epoch 6/50
59/59 [==============================] - 44s 740ms/step - loss: 2.3951 - accuracy: 0.1001 - val_loss: 2.3950 - val_accuracy: 0.0966
Epoch 7/50
59/59 [==============================] - 44s 742ms/step - loss: 2.3931 - accuracy: 0.0996 - val_loss: 2.3915 - val_accuracy: 0.0951
Epoch 8/50
59/59 [==============================] - 45s 767ms/step - loss: 2.3908 - accuracy: 0.1030 - val_loss: 2.3875 - val_accuracy: 0.1119
Epoch 9/50
59/59 [==============================] - 44s 744ms/step - loss: 2.3896 - accuracy: 0.0992 - val_loss: 2.3900 - val_accuracy: 0.0951
Epoch 10/50
59/59 [==============================] - 45s 758ms/step - loss: 2.3876 - accuracy: 0.0998 - val_loss: 2.3867 - val_accuracy: 0.0966
Epoch 11/50
59/59 [==============================] - 45s 755ms/step - loss: 2.3863 - accuracy: 0.0999 - val_loss: 2.3848 - val_accuracy: 0.0939
Epoch 12/50
59/59 [==============================] - 44s 742ms/step - loss: 2.3840 - accuracy: 0.0989 - val_loss: 2.3849 - val_accuracy: 0.1056
Epoch 13/50
59/59 [==============================] - 45s 756ms/step - loss: 2.3830 - accuracy: 0.0993 - val_loss: 2.3842 - val_accuracy: 0.0939
Epoch 14/50
59/59 [==============================] - 44s 749ms/step - loss: 2.3814 - accuracy: 0.0991 - val_loss: 2.3827 - val_accuracy: 0.0951
Epoch 15/50
59/59 [==============================] - 46s 782ms/step - loss: 2.3804 - accuracy: 0.0999 - val_loss: 2.3804 - val_accuracy: 0.0942
Epoch 16/50
59/59 [==============================] - 44s 750ms/step - loss: 2.3789 - accuracy: 0.1036 - val_loss: 2.3791 - val_accuracy: 0.0951
Epoch 17/50
59/59 [==============================] - 45s 758ms/step - loss: 2.3779 - accuracy: 0.1013 - val_loss: 2.3751 - val_accuracy: 0.1119
Epoch 18/50
59/59 [==============================] - 42s 718ms/step - loss: 2.3775 - accuracy: 0.1006 - val_loss: 2.3753 - val_accuracy: 0.0942
Epoch 19/50
59/59 [==============================] - 42s 708ms/step - loss: 2.3756 - accuracy: 0.0980 - val_loss: 2.3786 - val_accuracy: 0.0987
Epoch 20/50
59/59 [==============================] - 44s 754ms/step - loss: 2.3751 - accuracy: 0.0962 - val_loss: 2.3720 - val_accuracy: 0.0966
Epoch 21/50
59/59 [==============================] - 45s 769ms/step - loss: 2.3735 - accuracy: 0.0998 - val_loss: 2.3714 - val_accuracy: 0.0966
Epoch 22/50
59/59 [==============================] - 43s 727ms/step - loss: 2.3720 - accuracy: 0.1008 - val_loss: 2.3721 - val_accuracy: 0.1119
Epoch 23/50
59/59 [==============================] - 44s 742ms/step - loss: 2.3711 - accuracy: 0.0999 - val_loss: 2.3705 - val_accuracy: 0.0966
Epoch 24/50
59/59 [==============================] - 43s 735ms/step - loss: 2.3702 - accuracy: 0.1032 - val_loss: 2.3687 - val_accuracy: 0.0966
Epoch 25/50
59/59 [==============================] - 43s 727ms/step - loss: 2.3683 - accuracy: 0.1014 - val_loss: 2.3681 - val_accuracy: 0.1056
Epoch 26/50
59/59 [==============================] - 42s 718ms/step - loss: 2.3681 - accuracy: 0.1015 - val_loss: 2.3678 - val_accuracy: 0.1056
Epoch 27/50
59/59 [==============================] - 41s 697ms/step - loss: 2.3680 - accuracy: 0.0989 - val_loss: 2.3669 - val_accuracy: 0.0951
Epoch 28/50
59/59 [==============================] - 44s 741ms/step - loss: 2.3662 - accuracy: 0.0980 - val_loss: 2.3662 - val_accuracy: 0.0942
Epoch 29/50
59/59 [==============================] - 43s 727ms/step - loss: 2.3649 - accuracy: 0.0980 - val_loss: 2.3656 - val_accuracy: 0.0942
Epoch 30/50
59/59 [==============================] - 44s 750ms/step - loss: 2.3648 - accuracy: 0.0974 - val_loss: 2.3657 - val_accuracy: 0.0906
Epoch 31/50
59/59 [==============================] - 42s 720ms/step - loss: 2.3640 - accuracy: 0.0994 - val_loss: 2.3661 - val_accuracy: 0.0987
Epoch 32/50
59/59 [==============================] - 42s 720ms/step - loss: 2.3636 - accuracy: 0.0976 - val_loss: 2.3625 - val_accuracy: 0.1119
Epoch 33/50
59/59 [==============================] - 41s 704ms/step - loss: 2.3624 - accuracy: 0.0991 - val_loss: 2.3597 - val_accuracy: 0.0951
Epoch 34/50
59/59 [==============================] - 40s 685ms/step - loss: 2.3602 - accuracy: 0.1011 - val_loss: 2.3588 - val_accuracy: 0.1080
Epoch 35/50
59/59 [==============================] - 40s 687ms/step - loss: 2.3602 - accuracy: 0.1004 - val_loss: 2.3609 - val_accuracy: 0.0942
Epoch 36/50
59/59 [==============================] - 41s 694ms/step - loss: 2.3597 - accuracy: 0.0969 - val_loss: 2.3607 - val_accuracy: 0.0987
Epoch 37/50
59/59 [==============================] - 41s 691ms/step - loss: 2.3584 - accuracy: 0.0998 - val_loss: 2.3588 - val_accuracy: 0.0939
Epoch 38/50
59/59 [==============================] - 41s 701ms/step - loss: 2.3571 - accuracy: 0.1019 - val_loss: 2.3580 - val_accuracy: 0.0966
Epoch 39/50
59/59 [==============================] - 42s 717ms/step - loss: 2.3566 - accuracy: 0.0992 - val_loss: 2.3588 - val_accuracy: 0.0939
Epoch 40/50
59/59 [==============================] - 45s 760ms/step - loss: 2.3567 - accuracy: 0.0990 - val_loss: 2.3582 - val_accuracy: 0.0942
Epoch 41/50
59/59 [==============================] - 44s 753ms/step - loss: 2.3550 - accuracy: 0.0991 - val_loss: 2.3538 - val_accuracy: 0.1119
Epoch 42/50
59/59 [==============================] - 44s 751ms/step - loss: 2.3547 - accuracy: 0.0966 - val_loss: 2.3557 - val_accuracy: 0.0951
Epoch 43/50
59/59 [==============================] - 44s 752ms/step - loss: 2.3538 - accuracy: 0.1019 - val_loss: 2.3509 - val_accuracy: 0.1056
Epoch 44/50
59/59 [==============================] - 43s 729ms/step - loss: 2.3528 - accuracy: 0.0997 - val_loss: 2.3504 - val_accuracy: 0.1080
Epoch 45/50
59/59 [==============================] - 44s 744ms/step - loss: 2.3521 - accuracy: 0.1021 - val_loss: 2.3529 - val_accuracy: 0.0966
Epoch 46/50
59/59 [==============================] - 43s 731ms/step - loss: 2.3517 - accuracy: 0.0996 - val_loss: 2.3528 - val_accuracy: 0.0987
Epoch 47/50
59/59 [==============================] - 43s 725ms/step - loss: 2.3507 - accuracy: 0.0969 - val_loss: 2.3533 - val_accuracy: 0.1056
Epoch 48/50
59/59 [==============================] - 44s 747ms/step - loss: 2.3505 - accuracy: 0.0970 - val_loss: 2.3474 - val_accuracy: 0.0939
Epoch 49/50
59/59 [==============================] - 46s 773ms/step - loss: 2.3504 - accuracy: 0.0980 - val_loss: 2.3490 - val_accuracy: 0.1056
Epoch 50/50
59/59 [==============================] - 45s 772ms/step - loss: 2.3489 - accuracy: 0.0972 - val_loss: 2.3487 - val_accuracy: 0.0942
33/33 [==============================] - 10s 297ms/step - loss: 2.3480 - accuracy: 0.0998
[CV 3/3; 7/10] END Conv2d_filters=64, No_of_CONV_and_Maxpool_layers=3, No_of_Dense_Layers=3, No_of_Units_in_dense_layers=128, No_of_batch_norm=False, batch_size=512, decay=0.0001, dropout=0, epochs=50, l1=0.01, l2=0.0001, learning_rate=0.1, momentum=0.2, optimizer=Adam, validation_split=0.1;, score=0.100 total time=36.3min
[CV 1/3; 8/10] START Conv2d_filters=64, No_of_CONV_and_Maxpool_layers=2, No_of_Dense_Layers=2, No_of_Units_in_dense_layers=512, No_of_batch_norm=False, batch_size=128, decay=0.0001, dropout=0.5, epochs=50, l1=0.001, l2=0.001, learning_rate=1, momentum=0.9, optimizer=sgd, validation_split=0.2
Epoch 1/50
209/209 [==============================] - 60s 284ms/step - loss: 2.4996 - accuracy: 0.0999 - val_loss: 2.3176 - val_accuracy: 0.0946
Epoch 2/50
209/209 [==============================] - 61s 291ms/step - loss: 2.3216 - accuracy: 0.0996 - val_loss: 2.3221 - val_accuracy: 0.0978
Epoch 3/50
209/209 [==============================] - 53s 256ms/step - loss: 2.3172 - accuracy: 0.1012 - val_loss: 2.3243 - val_accuracy: 0.1053
Epoch 4/50
209/209 [==============================] - 52s 251ms/step - loss: 2.3186 - accuracy: 0.1016 - val_loss: 2.3365 - val_accuracy: 0.0976
Epoch 5/50
209/209 [==============================] - 53s 253ms/step - loss: 2.3192 - accuracy: 0.1024 - val_loss: 2.3124 - val_accuracy: 0.0963
Epoch 6/50
209/209 [==============================] - 53s 255ms/step - loss: 2.3176 - accuracy: 0.1011 - val_loss: 2.3261 - val_accuracy: 0.1023
Epoch 7/50
209/209 [==============================] - 53s 252ms/step - loss: 2.3162 - accuracy: 0.0990 - val_loss: 2.3316 - val_accuracy: 0.1005
Epoch 8/50
209/209 [==============================] - 58s 278ms/step - loss: 2.3211 - accuracy: 0.0980 - val_loss: 2.3303 - val_accuracy: 0.0946
Epoch 9/50
209/209 [==============================] - 66s 318ms/step - loss: 2.3195 - accuracy: 0.1022 - val_loss: 2.3115 - val_accuracy: 0.1053
Epoch 10/50
209/209 [==============================] - 65s 313ms/step - loss: 2.3171 - accuracy: 0.1001 - val_loss: 2.3175 - val_accuracy: 0.1053
Epoch 11/50
209/209 [==============================] - 63s 302ms/step - loss: 2.3156 - accuracy: 0.0998 - val_loss: 2.3196 - val_accuracy: 0.0946
Epoch 12/50
209/209 [==============================] - 64s 305ms/step - loss: 2.3164 - accuracy: 0.0992 - val_loss: 2.3415 - val_accuracy: 0.0999
Epoch 13/50
209/209 [==============================] - 56s 270ms/step - loss: 2.3182 - accuracy: 0.1004 - val_loss: 2.3097 - val_accuracy: 0.0999
Epoch 14/50
209/209 [==============================] - 55s 262ms/step - loss: 2.3201 - accuracy: 0.0985 - val_loss: 2.3150 - val_accuracy: 0.0963
Epoch 15/50
209/209 [==============================] - 55s 265ms/step - loss: 2.3147 - accuracy: 0.0992 - val_loss: 2.3083 - val_accuracy: 0.0963
Epoch 16/50
209/209 [==============================] - 55s 264ms/step - loss: 2.3163 - accuracy: 0.0984 - val_loss: 2.3177 - val_accuracy: 0.1020
Epoch 17/50
209/209 [==============================] - 54s 258ms/step - loss: 2.3144 - accuracy: 0.0999 - val_loss: 2.3116 - val_accuracy: 0.1023
Epoch 18/50
209/209 [==============================] - 53s 253ms/step - loss: 2.3160 - accuracy: 0.1022 - val_loss: 2.3118 - val_accuracy: 0.1005
Epoch 19/50
209/209 [==============================] - 53s 252ms/step - loss: 2.3144 - accuracy: 0.1011 - val_loss: 2.3187 - val_accuracy: 0.0946
Epoch 20/50
209/209 [==============================] - 53s 256ms/step - loss: 2.3159 - accuracy: 0.0976 - val_loss: 2.3113 - val_accuracy: 0.0976
Epoch 21/50
209/209 [==============================] - 53s 255ms/step - loss: 2.3165 - accuracy: 0.0997 - val_loss: 2.3184 - val_accuracy: 0.1020
Epoch 22/50
209/209 [==============================] - 52s 249ms/step - loss: 2.3166 - accuracy: 0.0981 - val_loss: 2.3069 - val_accuracy: 0.1053
Epoch 23/50
209/209 [==============================] - 53s 252ms/step - loss: 2.3143 - accuracy: 0.1029 - val_loss: 2.3122 - val_accuracy: 0.0976
Epoch 24/50
209/209 [==============================] - 53s 253ms/step - loss: 2.3158 - accuracy: 0.0965 - val_loss: 2.3129 - val_accuracy: 0.1020
Epoch 25/50
209/209 [==============================] - 53s 252ms/step - loss: 2.3148 - accuracy: 0.1003 - val_loss: 2.3121 - val_accuracy: 0.1023
Epoch 26/50
209/209 [==============================] - 53s 254ms/step - loss: 2.3164 - accuracy: 0.0989 - val_loss: 2.3144 - val_accuracy: 0.1053
Epoch 27/50
209/209 [==============================] - 53s 255ms/step - loss: 2.3137 - accuracy: 0.1010 - val_loss: 2.3153 - val_accuracy: 0.1020
Epoch 28/50
209/209 [==============================] - 54s 258ms/step - loss: 2.3116 - accuracy: 0.1038 - val_loss: 2.3138 - val_accuracy: 0.0976
Epoch 29/50
209/209 [==============================] - 53s 255ms/step - loss: 2.3136 - accuracy: 0.0976 - val_loss: 2.3155 - val_accuracy: 0.0976
Epoch 30/50
209/209 [==============================] - 53s 254ms/step - loss: 2.3150 - accuracy: 0.1005 - val_loss: 2.3207 - val_accuracy: 0.1023
Epoch 31/50
209/209 [==============================] - 52s 250ms/step - loss: 2.3144 - accuracy: 0.0992 - val_loss: 2.3271 - val_accuracy: 0.0976
Epoch 32/50
209/209 [==============================] - 54s 257ms/step - loss: 2.3128 - accuracy: 0.1022 - val_loss: 2.3079 - val_accuracy: 0.0976
Epoch 33/50
209/209 [==============================] - 53s 251ms/step - loss: 2.3111 - accuracy: 0.1014 - val_loss: 2.3206 - val_accuracy: 0.0978
Epoch 34/50
209/209 [==============================] - 53s 252ms/step - loss: 2.3136 - accuracy: 0.1009 - val_loss: 2.3071 - val_accuracy: 0.1023
Epoch 35/50
209/209 [==============================] - 53s 255ms/step - loss: 2.3137 - accuracy: 0.0995 - val_loss: 2.3056 - val_accuracy: 0.1036
Epoch 36/50
209/209 [==============================] - 53s 252ms/step - loss: 2.3131 - accuracy: 0.0987 - val_loss: 2.3143 - val_accuracy: 0.0978
Epoch 37/50
209/209 [==============================] - 53s 252ms/step - loss: 2.3116 - accuracy: 0.0997 - val_loss: 2.3180 - val_accuracy: 0.1053
Epoch 38/50
209/209 [==============================] - 52s 251ms/step - loss: 2.3131 - accuracy: 0.0999 - val_loss: 2.3101 - val_accuracy: 0.0978
Epoch 39/50
209/209 [==============================] - 53s 255ms/step - loss: 2.3127 - accuracy: 0.1016 - val_loss: 2.3056 - val_accuracy: 0.1036
Epoch 40/50
209/209 [==============================] - 53s 253ms/step - loss: 2.3135 - accuracy: 0.1007 - val_loss: 2.3103 - val_accuracy: 0.0976
Epoch 41/50
209/209 [==============================] - 53s 255ms/step - loss: 2.3138 - accuracy: 0.0997 - val_loss: 2.3121 - val_accuracy: 0.0976
Epoch 42/50
209/209 [==============================] - 53s 253ms/step - loss: 2.3126 - accuracy: 0.1008 - val_loss: 2.3139 - val_accuracy: 0.1053
Epoch 43/50
209/209 [==============================] - 55s 262ms/step - loss: 2.3129 - accuracy: 0.0972 - val_loss: 2.3162 - val_accuracy: 0.0978
Epoch 44/50
209/209 [==============================] - 53s 253ms/step - loss: 2.3123 - accuracy: 0.1019 - val_loss: 2.3078 - val_accuracy: 0.1053
Epoch 45/50
209/209 [==============================] - 54s 256ms/step - loss: 2.3120 - accuracy: 0.0990 - val_loss: 2.3063 - val_accuracy: 0.1053
Epoch 46/50
209/209 [==============================] - 53s 253ms/step - loss: 2.3116 - accuracy: 0.0996 - val_loss: 2.3109 - val_accuracy: 0.1036
Epoch 47/50
209/209 [==============================] - 53s 252ms/step - loss: 2.3112 - accuracy: 0.0990 - val_loss: 2.3132 - val_accuracy: 0.1053
Epoch 48/50
209/209 [==============================] - 53s 253ms/step - loss: 2.3130 - accuracy: 0.1012 - val_loss: 2.3148 - val_accuracy: 0.0976
Epoch 49/50
209/209 [==============================] - 53s 254ms/step - loss: 2.3126 - accuracy: 0.1000 - val_loss: 2.3229 - val_accuracy: 0.1005
Epoch 50/50
209/209 [==============================] - 53s 252ms/step - loss: 2.3128 - accuracy: 0.1007 - val_loss: 2.3081 - val_accuracy: 0.0978
131/131 [==============================] - 13s 95ms/step - loss: 2.3088 - accuracy: 0.1012
[CV 1/3; 8/10] END Conv2d_filters=64, No_of_CONV_and_Maxpool_layers=2, No_of_Dense_Layers=2, No_of_Units_in_dense_layers=512, No_of_batch_norm=False, batch_size=128, decay=0.0001, dropout=0.5, epochs=50, l1=0.001, l2=0.001, learning_rate=1, momentum=0.9, optimizer=sgd, validation_split=0.2;, score=0.101 total time=45.7min
[CV 2/3; 8/10] START Conv2d_filters=64, No_of_CONV_and_Maxpool_layers=2, No_of_Dense_Layers=2, No_of_Units_in_dense_layers=512, No_of_batch_norm=False, batch_size=128, decay=0.0001, dropout=0.5, epochs=50, l1=0.001, l2=0.001, learning_rate=1, momentum=0.9, optimizer=sgd, validation_split=0.2
Epoch 1/50
209/209 [==============================] - 53s 251ms/step - loss: 2.5025 - accuracy: 0.0975 - val_loss: 2.3090 - val_accuracy: 0.1036
Epoch 2/50
209/209 [==============================] - 52s 249ms/step - loss: 2.3184 - accuracy: 0.1015 - val_loss: 2.3283 - val_accuracy: 0.1005
Epoch 3/50
209/209 [==============================] - 52s 249ms/step - loss: 2.3208 - accuracy: 0.0992 - val_loss: 2.3276 - val_accuracy: 0.1020
Epoch 4/50
209/209 [==============================] - 52s 250ms/step - loss: 2.3214 - accuracy: 0.0987 - val_loss: 2.3203 - val_accuracy: 0.0976
Epoch 5/50
209/209 [==============================] - 55s 262ms/step - loss: 2.3222 - accuracy: 0.1000 - val_loss: 2.3176 - val_accuracy: 0.1005
Epoch 6/50
209/209 [==============================] - 54s 258ms/step - loss: 2.3195 - accuracy: 0.0977 - val_loss: 2.3148 - val_accuracy: 0.0999
Epoch 7/50
209/209 [==============================] - 52s 249ms/step - loss: 2.3162 - accuracy: 0.1010 - val_loss: 2.3193 - val_accuracy: 0.1020
Epoch 8/50
209/209 [==============================] - 52s 250ms/step - loss: 2.3166 - accuracy: 0.1016 - val_loss: 2.3178 - val_accuracy: 0.0946
Epoch 9/50
209/209 [==============================] - 54s 260ms/step - loss: 2.3165 - accuracy: 0.0999 - val_loss: 2.3133 - val_accuracy: 0.0946
Epoch 10/50
209/209 [==============================] - 52s 251ms/step - loss: 2.3158 - accuracy: 0.1045 - val_loss: 2.3186 - val_accuracy: 0.1020
Epoch 11/50
209/209 [==============================] - 52s 250ms/step - loss: 2.3181 - accuracy: 0.1026 - val_loss: 2.3227 - val_accuracy: 0.0946
Epoch 12/50
209/209 [==============================] - 53s 253ms/step - loss: 2.3193 - accuracy: 0.0981 - val_loss: 2.3198 - val_accuracy: 0.0999
Epoch 13/50
209/209 [==============================] - 52s 250ms/step - loss: 2.3190 - accuracy: 0.1016 - val_loss: 2.3218 - val_accuracy: 0.0976
Epoch 14/50
209/209 [==============================] - 52s 250ms/step - loss: 2.3161 - accuracy: 0.1016 - val_loss: 2.3229 - val_accuracy: 0.1023
Epoch 15/50
209/209 [==============================] - 52s 248ms/step - loss: 2.3139 - accuracy: 0.1006 - val_loss: 2.3282 - val_accuracy: 0.1023
Epoch 16/50
209/209 [==============================] - 58s 279ms/step - loss: 2.3194 - accuracy: 0.0971 - val_loss: 2.3072 - val_accuracy: 0.0978
Epoch 17/50
209/209 [==============================] - 66s 318ms/step - loss: 2.3139 - accuracy: 0.1005 - val_loss: 2.3199 - val_accuracy: 0.1023
Epoch 18/50
209/209 [==============================] - 58s 276ms/step - loss: 2.3164 - accuracy: 0.1013 - val_loss: 2.3235 - val_accuracy: 0.0976
Epoch 19/50
209/209 [==============================] - 57s 274ms/step - loss: 2.3177 - accuracy: 0.1027 - val_loss: 2.3308 - val_accuracy: 0.0946
Epoch 20/50
209/209 [==============================] - 55s 265ms/step - loss: 2.3175 - accuracy: 0.0992 - val_loss: 2.3112 - val_accuracy: 0.1020
Epoch 21/50
209/209 [==============================] - 55s 265ms/step - loss: 2.3124 - accuracy: 0.1001 - val_loss: 2.3240 - val_accuracy: 0.1036
Epoch 22/50
209/209 [==============================] - 59s 284ms/step - loss: 2.3154 - accuracy: 0.0999 - val_loss: 2.3233 - val_accuracy: 0.0946
Epoch 23/50
209/209 [==============================] - 59s 283ms/step - loss: 2.3174 - accuracy: 0.1004 - val_loss: 2.3147 - val_accuracy: 0.1036
Epoch 24/50
209/209 [==============================] - 62s 299ms/step - loss: 2.3164 - accuracy: 0.0987 - val_loss: 2.3106 - val_accuracy: 0.1020
Epoch 25/50
209/209 [==============================] - 63s 304ms/step - loss: 2.3161 - accuracy: 0.0999 - val_loss: 2.3123 - val_accuracy: 0.1053
Epoch 26/50
209/209 [==============================] - 65s 313ms/step - loss: 2.3152 - accuracy: 0.0981 - val_loss: 2.3089 - val_accuracy: 0.1020
Epoch 27/50
209/209 [==============================] - 61s 292ms/step - loss: 2.3163 - accuracy: 0.0964 - val_loss: 2.3155 - val_accuracy: 0.1020
Epoch 28/50
209/209 [==============================] - 62s 297ms/step - loss: 2.3159 - accuracy: 0.1002 - val_loss: 2.3122 - val_accuracy: 0.0976
Epoch 29/50
209/209 [==============================] - 61s 290ms/step - loss: 2.3154 - accuracy: 0.1011 - val_loss: 2.3165 - val_accuracy: 0.0978
Epoch 30/50
209/209 [==============================] - 67s 321ms/step - loss: 2.3122 - accuracy: 0.1007 - val_loss: 2.3131 - val_accuracy: 0.1036
Epoch 31/50
209/209 [==============================] - 57s 270ms/step - loss: 2.3149 - accuracy: 0.0970 - val_loss: 2.3239 - val_accuracy: 0.1036
Epoch 32/50
209/209 [==============================] - 59s 281ms/step - loss: 2.3139 - accuracy: 0.1049 - val_loss: 2.3079 - val_accuracy: 0.0978
Epoch 33/50
209/209 [==============================] - 59s 281ms/step - loss: 2.3125 - accuracy: 0.1011 - val_loss: 2.3152 - val_accuracy: 0.0946
Epoch 34/50
209/209 [==============================] - 56s 268ms/step - loss: 2.3149 - accuracy: 0.0996 - val_loss: 2.3106 - val_accuracy: 0.1020
Epoch 35/50
209/209 [==============================] - 58s 280ms/step - loss: 2.3135 - accuracy: 0.0994 - val_loss: 2.3126 - val_accuracy: 0.0976
Epoch 36/50
209/209 [==============================] - 60s 286ms/step - loss: 2.3159 - accuracy: 0.1015 - val_loss: 2.3132 - val_accuracy: 0.1036
Epoch 37/50
209/209 [==============================] - 58s 279ms/step - loss: 2.3120 - accuracy: 0.0992 - val_loss: 2.3141 - val_accuracy: 0.0976
Epoch 38/50
209/209 [==============================] - 71s 339ms/step - loss: 2.3113 - accuracy: 0.0983 - val_loss: 2.3088 - val_accuracy: 0.0946
Epoch 39/50
209/209 [==============================] - 65s 312ms/step - loss: 2.3105 - accuracy: 0.1024 - val_loss: 2.3112 - val_accuracy: 0.1036
Epoch 40/50
209/209 [==============================] - 68s 328ms/step - loss: 2.3127 - accuracy: 0.1019 - val_loss: 2.3223 - val_accuracy: 0.0946
Epoch 41/50
209/209 [==============================] - 55s 261ms/step - loss: 2.3132 - accuracy: 0.0993 - val_loss: 2.3130 - val_accuracy: 0.1053
Epoch 42/50
209/209 [==============================] - 51s 245ms/step - loss: 2.3123 - accuracy: 0.1029 - val_loss: 2.3228 - val_accuracy: 0.0978
Epoch 43/50
209/209 [==============================] - 51s 245ms/step - loss: 2.3121 - accuracy: 0.1028 - val_loss: 2.3182 - val_accuracy: 0.0946
Epoch 44/50
209/209 [==============================] - 50s 240ms/step - loss: 2.3132 - accuracy: 0.0962 - val_loss: 2.3133 - val_accuracy: 0.0963
Epoch 45/50
209/209 [==============================] - 50s 239ms/step - loss: 2.3138 - accuracy: 0.1004 - val_loss: 2.3053 - val_accuracy: 0.0976
Epoch 46/50
209/209 [==============================] - 49s 234ms/step - loss: 2.3116 - accuracy: 0.1028 - val_loss: 2.3102 - val_accuracy: 0.1005
Epoch 47/50
209/209 [==============================] - 50s 241ms/step - loss: 2.3107 - accuracy: 0.1024 - val_loss: 2.3136 - val_accuracy: 0.1005
Epoch 48/50
209/209 [==============================] - 49s 234ms/step - loss: 2.3116 - accuracy: 0.1007 - val_loss: 2.3149 - val_accuracy: 0.0976
Epoch 49/50
209/209 [==============================] - 50s 237ms/step - loss: 2.3134 - accuracy: 0.0992 - val_loss: 2.3044 - val_accuracy: 0.1005
Epoch 50/50
209/209 [==============================] - 48s 230ms/step - loss: 2.3106 - accuracy: 0.0989 - val_loss: 2.3122 - val_accuracy: 0.0963
131/131 [==============================] - 11s 83ms/step - loss: 2.3113 - accuracy: 0.1010
[CV 2/3; 8/10] END Conv2d_filters=64, No_of_CONV_and_Maxpool_layers=2, No_of_Dense_Layers=2, No_of_Units_in_dense_layers=512, No_of_batch_norm=False, batch_size=128, decay=0.0001, dropout=0.5, epochs=50, l1=0.001, l2=0.001, learning_rate=1, momentum=0.9, optimizer=sgd, validation_split=0.2;, score=0.101 total time=47.1min
[CV 3/3; 8/10] START Conv2d_filters=64, No_of_CONV_and_Maxpool_layers=2, No_of_Dense_Layers=2, No_of_Units_in_dense_layers=512, No_of_batch_norm=False, batch_size=128, decay=0.0001, dropout=0.5, epochs=50, l1=0.001, l2=0.001, learning_rate=1, momentum=0.9, optimizer=sgd, validation_split=0.2
Epoch 1/50
209/209 [==============================] - 51s 242ms/step - loss: 2.5043 - accuracy: 0.1003 - val_loss: 2.3128 - val_accuracy: 0.0942
Epoch 2/50
209/209 [==============================] - 53s 253ms/step - loss: 2.3221 - accuracy: 0.0997 - val_loss: 2.3189 - val_accuracy: 0.1012
Epoch 3/50
209/209 [==============================] - 55s 264ms/step - loss: 2.3226 - accuracy: 0.0965 - val_loss: 2.3084 - val_accuracy: 0.1012
Epoch 4/50
209/209 [==============================] - 54s 258ms/step - loss: 2.3185 - accuracy: 0.1002 - val_loss: 2.3094 - val_accuracy: 0.1012
Epoch 5/50
209/209 [==============================] - 54s 257ms/step - loss: 2.3173 - accuracy: 0.1009 - val_loss: 2.3091 - val_accuracy: 0.1006
Epoch 6/50
209/209 [==============================] - 55s 264ms/step - loss: 2.3188 - accuracy: 0.0992 - val_loss: 2.3178 - val_accuracy: 0.0993
Epoch 7/50
209/209 [==============================] - 56s 269ms/step - loss: 2.3159 - accuracy: 0.1021 - val_loss: 2.3325 - val_accuracy: 0.0942
Epoch 8/50
209/209 [==============================] - 62s 299ms/step - loss: 2.3159 - accuracy: 0.1007 - val_loss: 2.3098 - val_accuracy: 0.0946
Epoch 9/50
209/209 [==============================] - 60s 286ms/step - loss: 2.3167 - accuracy: 0.1009 - val_loss: 2.3074 - val_accuracy: 0.1086
Epoch 10/50
209/209 [==============================] - 59s 280ms/step - loss: 2.3191 - accuracy: 0.1011 - val_loss: 2.3122 - val_accuracy: 0.1002
Epoch 11/50
209/209 [==============================] - 60s 286ms/step - loss: 2.3173 - accuracy: 0.1013 - val_loss: 2.3300 - val_accuracy: 0.1002
Epoch 12/50
209/209 [==============================] - 57s 273ms/step - loss: 2.3208 - accuracy: 0.0998 - val_loss: 2.3287 - val_accuracy: 0.1006
Epoch 13/50
209/209 [==============================] - 56s 269ms/step - loss: 2.3178 - accuracy: 0.0975 - val_loss: 2.3078 - val_accuracy: 0.1090
Epoch 14/50
209/209 [==============================] - 53s 256ms/step - loss: 2.3131 - accuracy: 0.1024 - val_loss: 2.3165 - val_accuracy: 0.1006
Epoch 15/50
209/209 [==============================] - 54s 260ms/step - loss: 2.3167 - accuracy: 0.0985 - val_loss: 2.3423 - val_accuracy: 0.0942
Epoch 16/50
209/209 [==============================] - 54s 259ms/step - loss: 2.3203 - accuracy: 0.0973 - val_loss: 2.3138 - val_accuracy: 0.1090
Epoch 17/50
209/209 [==============================] - 52s 251ms/step - loss: 2.3157 - accuracy: 0.1023 - val_loss: 2.3128 - val_accuracy: 0.0912
Epoch 18/50
209/209 [==============================] - 53s 254ms/step - loss: 2.3148 - accuracy: 0.1024 - val_loss: 2.3276 - val_accuracy: 0.0942
Epoch 19/50
209/209 [==============================] - 64s 306ms/step - loss: 2.3169 - accuracy: 0.0979 - val_loss: 2.3077 - val_accuracy: 0.1002
Epoch 20/50
209/209 [==============================] - 68s 324ms/step - loss: 2.3143 - accuracy: 0.1032 - val_loss: 2.3140 - val_accuracy: 0.1006
Epoch 21/50
209/209 [==============================] - 68s 324ms/step - loss: 2.3174 - accuracy: 0.1018 - val_loss: 2.3153 - val_accuracy: 0.0912
Epoch 22/50
209/209 [==============================] - 69s 331ms/step - loss: 2.3145 - accuracy: 0.0993 - val_loss: 2.3214 - val_accuracy: 0.1002
Epoch 23/50
209/209 [==============================] - 67s 323ms/step - loss: 2.3147 - accuracy: 0.1001 - val_loss: 2.3113 - val_accuracy: 0.1006
Epoch 24/50
209/209 [==============================] - 53s 255ms/step - loss: 2.3130 - accuracy: 0.1000 - val_loss: 2.3057 - val_accuracy: 0.1009
Epoch 25/50
209/209 [==============================] - 65s 310ms/step - loss: 2.3174 - accuracy: 0.1008 - val_loss: 2.3396 - val_accuracy: 0.0912
Epoch 26/50
209/209 [==============================] - 68s 325ms/step - loss: 2.3147 - accuracy: 0.0996 - val_loss: 2.3225 - val_accuracy: 0.0946
Epoch 27/50
209/209 [==============================] - 66s 317ms/step - loss: 2.3136 - accuracy: 0.1021 - val_loss: 2.3069 - val_accuracy: 0.0993
Epoch 28/50
209/209 [==============================] - 60s 286ms/step - loss: 2.3155 - accuracy: 0.0998 - val_loss: 2.3157 - val_accuracy: 0.1009
Epoch 29/50
209/209 [==============================] - 61s 294ms/step - loss: 2.3124 - accuracy: 0.1011 - val_loss: 2.3088 - val_accuracy: 0.1012
Epoch 30/50
209/209 [==============================] - 60s 289ms/step - loss: 2.3122 - accuracy: 0.0998 - val_loss: 2.3207 - val_accuracy: 0.0912
Epoch 31/50
209/209 [==============================] - 62s 299ms/step - loss: 2.3157 - accuracy: 0.0983 - val_loss: 2.3093 - val_accuracy: 0.1009
Epoch 32/50
209/209 [==============================] - 66s 315ms/step - loss: 2.3124 - accuracy: 0.1014 - val_loss: 2.3236 - val_accuracy: 0.0942
Epoch 33/50
209/209 [==============================] - 62s 296ms/step - loss: 2.3134 - accuracy: 0.0997 - val_loss: 2.3167 - val_accuracy: 0.0946
Epoch 34/50
209/209 [==============================] - 62s 298ms/step - loss: 2.3147 - accuracy: 0.0986 - val_loss: 2.3056 - val_accuracy: 0.1090
Epoch 35/50
209/209 [==============================] - 64s 305ms/step - loss: 2.3133 - accuracy: 0.0990 - val_loss: 2.3106 - val_accuracy: 0.1012
Epoch 36/50
209/209 [==============================] - 66s 314ms/step - loss: 2.3126 - accuracy: 0.0984 - val_loss: 2.3231 - val_accuracy: 0.0946
Epoch 37/50
209/209 [==============================] - 64s 307ms/step - loss: 2.3131 - accuracy: 0.0983 - val_loss: 2.3115 - val_accuracy: 0.1006
Epoch 38/50
209/209 [==============================] - 62s 297ms/step - loss: 2.3132 - accuracy: 0.0977 - val_loss: 2.3061 - val_accuracy: 0.1086
Epoch 39/50
209/209 [==============================] - 64s 305ms/step - loss: 2.3113 - accuracy: 0.0996 - val_loss: 2.3124 - val_accuracy: 0.0912
Epoch 40/50
209/209 [==============================] - 60s 289ms/step - loss: 2.3122 - accuracy: 0.1007 - val_loss: 2.3090 - val_accuracy: 0.0946
Epoch 41/50
209/209 [==============================] - 59s 281ms/step - loss: 2.3120 - accuracy: 0.1011 - val_loss: 2.3188 - val_accuracy: 0.0942
Epoch 42/50
209/209 [==============================] - 58s 275ms/step - loss: 2.3136 - accuracy: 0.1014 - val_loss: 2.3156 - val_accuracy: 0.1009
Epoch 43/50
209/209 [==============================] - 59s 282ms/step - loss: 2.3111 - accuracy: 0.1005 - val_loss: 2.3103 - val_accuracy: 0.0942
Epoch 44/50
209/209 [==============================] - 57s 274ms/step - loss: 2.3130 - accuracy: 0.1000 - val_loss: 2.3155 - val_accuracy: 0.0993
Epoch 45/50
209/209 [==============================] - 64s 306ms/step - loss: 2.3131 - accuracy: 0.0945 - val_loss: 2.3115 - val_accuracy: 0.1002
Epoch 46/50
209/209 [==============================] - 63s 301ms/step - loss: 2.3131 - accuracy: 0.0978 - val_loss: 2.3068 - val_accuracy: 0.1009
Epoch 47/50
209/209 [==============================] - 58s 277ms/step - loss: 2.3103 - accuracy: 0.0999 - val_loss: 2.3081 - val_accuracy: 0.0912
Epoch 48/50
209/209 [==============================] - 58s 277ms/step - loss: 2.3108 - accuracy: 0.1013 - val_loss: 2.3216 - val_accuracy: 0.1009
Epoch 49/50
209/209 [==============================] - 59s 283ms/step - loss: 2.3106 - accuracy: 0.0992 - val_loss: 2.3138 - val_accuracy: 0.0993
Epoch 50/50
209/209 [==============================] - 58s 279ms/step - loss: 2.3117 - accuracy: 0.0974 - val_loss: 2.3081 - val_accuracy: 0.1012
131/131 [==============================] - 15s 112ms/step - loss: 2.3077 - accuracy: 0.1013
[CV 3/3; 8/10] END Conv2d_filters=64, No_of_CONV_and_Maxpool_layers=2, No_of_Dense_Layers=2, No_of_Units_in_dense_layers=512, No_of_batch_norm=False, batch_size=128, decay=0.0001, dropout=0.5, epochs=50, l1=0.001, l2=0.001, learning_rate=1, momentum=0.9, optimizer=sgd, validation_split=0.2;, score=0.101 total time=50.2min
[CV 1/3; 9/10] START Conv2d_filters=256, No_of_CONV_and_Maxpool_layers=2, No_of_Dense_Layers=2, No_of_Units_in_dense_layers=512, No_of_batch_norm=False, batch_size=256, decay=1e-06, dropout=0.5, epochs=20, l1=0.0001, l2=0.0001, learning_rate=0.001, momentum=0.9, optimizer=Adam, validation_split=0.2
Epoch 1/20
105/105 [==============================] - 575s 5s/step - loss: 2.2306 - accuracy: 0.1956 - val_loss: 1.8964 - val_accuracy: 0.3073
Epoch 2/20
105/105 [==============================] - 590s 6s/step - loss: 1.7684 - accuracy: 0.3591 - val_loss: 1.5610 - val_accuracy: 0.4477
Epoch 3/20
105/105 [==============================] - 535s 5s/step - loss: 1.5275 - accuracy: 0.4598 - val_loss: 1.4400 - val_accuracy: 0.4966
Epoch 4/20
105/105 [==============================] - 535s 5s/step - loss: 1.4256 - accuracy: 0.5078 - val_loss: 1.2575 - val_accuracy: 0.5769
Epoch 5/20
105/105 [==============================] - 607s 6s/step - loss: 1.3474 - accuracy: 0.5426 - val_loss: 1.2521 - val_accuracy: 0.5836
Epoch 6/20
105/105 [==============================] - 570s 5s/step - loss: 1.2788 - accuracy: 0.5666 - val_loss: 1.2410 - val_accuracy: 0.5895
Epoch 7/20
105/105 [==============================] - 625s 6s/step - loss: 1.2223 - accuracy: 0.5930 - val_loss: 1.1064 - val_accuracy: 0.6438
Epoch 8/20
105/105 [==============================] - 763s 7s/step - loss: 1.1840 - accuracy: 0.6142 - val_loss: 1.0895 - val_accuracy: 0.6529
Epoch 9/20
105/105 [==============================] - 715s 7s/step - loss: 1.1749 - accuracy: 0.6222 - val_loss: 1.0293 - val_accuracy: 0.6774
Epoch 10/20
105/105 [==============================] - 679s 6s/step - loss: 1.1040 - accuracy: 0.6482 - val_loss: 1.0198 - val_accuracy: 0.6739
Epoch 11/20
105/105 [==============================] - 828s 8s/step - loss: 1.0872 - accuracy: 0.6576 - val_loss: 0.9640 - val_accuracy: 0.7093
Epoch 12/20
105/105 [==============================] - 751s 7s/step - loss: 1.0716 - accuracy: 0.6645 - val_loss: 0.9693 - val_accuracy: 0.7041
Epoch 13/20
105/105 [==============================] - 634s 6s/step - loss: 1.0570 - accuracy: 0.6709 - val_loss: 0.9358 - val_accuracy: 0.7261
Epoch 14/20
105/105 [==============================] - 683s 7s/step - loss: 1.0154 - accuracy: 0.6885 - val_loss: 0.9230 - val_accuracy: 0.7338
Epoch 15/20
105/105 [==============================] - 775s 7s/step - loss: 0.9967 - accuracy: 0.6953 - val_loss: 0.9421 - val_accuracy: 0.7264
Epoch 16/20
105/105 [==============================] - 855s 8s/step - loss: 0.9885 - accuracy: 0.7007 - val_loss: 0.9444 - val_accuracy: 0.7246
Epoch 17/20
105/105 [==============================] - 925s 9s/step - loss: 0.9834 - accuracy: 0.7031 - val_loss: 0.8977 - val_accuracy: 0.7455
Epoch 18/20
105/105 [==============================] - 718s 7s/step - loss: 0.9606 - accuracy: 0.7142 - val_loss: 0.9613 - val_accuracy: 0.7174
Epoch 19/20
105/105 [==============================] - 1034s 10s/step - loss: 0.9620 - accuracy: 0.7142 - val_loss: 0.8923 - val_accuracy: 0.7473
Epoch 20/20
105/105 [==============================] - 693s 7s/step - loss: 0.9450 - accuracy: 0.7233 - val_loss: 0.8974 - val_accuracy: 0.7440
66/66 [==============================] - 158s 2s/step - loss: 0.9100 - accuracy: 0.7343
[CV 1/3; 9/10] END Conv2d_filters=256, No_of_CONV_and_Maxpool_layers=2, No_of_Dense_Layers=2, No_of_Units_in_dense_layers=512, No_of_batch_norm=False, batch_size=256, decay=1e-06, dropout=0.5, epochs=20, l1=0.0001, l2=0.0001, learning_rate=0.001, momentum=0.9, optimizer=Adam, validation_split=0.2;, score=0.734 total time=237.5min
[CV 2/3; 9/10] START Conv2d_filters=256, No_of_CONV_and_Maxpool_layers=2, No_of_Dense_Layers=2, No_of_Units_in_dense_layers=512, No_of_batch_norm=False, batch_size=256, decay=1e-06, dropout=0.5, epochs=20, l1=0.0001, l2=0.0001, learning_rate=0.001, momentum=0.9, optimizer=Adam, validation_split=0.2
Epoch 1/20
105/105 [==============================] - 1009s 10s/step - loss: 2.2235 - accuracy: 0.2067 - val_loss: 1.9648 - val_accuracy: 0.3061
Epoch 2/20
105/105 [==============================] - 996s 10s/step - loss: 1.7678 - accuracy: 0.3643 - val_loss: 1.5600 - val_accuracy: 0.4491
Epoch 3/20
105/105 [==============================] - 885s 8s/step - loss: 1.5312 - accuracy: 0.4619 - val_loss: 1.3693 - val_accuracy: 0.5271
Epoch 4/20
105/105 [==============================] - 798s 8s/step - loss: 1.4219 - accuracy: 0.5080 - val_loss: 1.2608 - val_accuracy: 0.5716
Epoch 5/20
105/105 [==============================] - 1117s 11s/step - loss: 1.3463 - accuracy: 0.5433 - val_loss: 1.4347 - val_accuracy: 0.5254
Epoch 6/20
105/105 [==============================] - 1268s 12s/step - loss: 1.2892 - accuracy: 0.5652 - val_loss: 1.2448 - val_accuracy: 0.5926
Epoch 7/20
105/105 [==============================] - 1338s 13s/step - loss: 1.2315 - accuracy: 0.5912 - val_loss: 1.0568 - val_accuracy: 0.6645
Epoch 8/20
105/105 [==============================] - 1343s 13s/step - loss: 1.1840 - accuracy: 0.6141 - val_loss: 1.0528 - val_accuracy: 0.6760
Epoch 9/20
105/105 [==============================] - 1429s 14s/step - loss: 1.1411 - accuracy: 0.6308 - val_loss: 0.9960 - val_accuracy: 0.6997
Epoch 10/20
105/105 [==============================] - 1564s 15s/step - loss: 1.1115 - accuracy: 0.6439 - val_loss: 0.9770 - val_accuracy: 0.7017
Epoch 11/20
105/105 [==============================] - 1498s 14s/step - loss: 1.0834 - accuracy: 0.6567 - val_loss: 0.9812 - val_accuracy: 0.6976
Epoch 12/20
105/105 [==============================] - 1094s 10s/step - loss: 1.0673 - accuracy: 0.6628 - val_loss: 0.9640 - val_accuracy: 0.7162
Epoch 13/20
105/105 [==============================] - 1042s 10s/step - loss: 1.0543 - accuracy: 0.6731 - val_loss: 0.9600 - val_accuracy: 0.7141
Epoch 14/20
105/105 [==============================] - 1025s 10s/step - loss: 1.0182 - accuracy: 0.6881 - val_loss: 0.9263 - val_accuracy: 0.7293
Epoch 15/20
105/105 [==============================] - 919s 9s/step - loss: 1.0059 - accuracy: 0.6933 - val_loss: 0.9968 - val_accuracy: 0.7123
Epoch 16/20
105/105 [==============================] - 767s 7s/step - loss: 0.9914 - accuracy: 0.6980 - val_loss: 0.8722 - val_accuracy: 0.7456
Epoch 17/20
105/105 [==============================] - 771s 7s/step - loss: 0.9709 - accuracy: 0.7093 - val_loss: 0.9536 - val_accuracy: 0.7242
Epoch 18/20
105/105 [==============================] - 787s 7s/step - loss: 0.9570 - accuracy: 0.7138 - val_loss: 0.8980 - val_accuracy: 0.7410
Epoch 19/20
105/105 [==============================] - 830s 8s/step - loss: 0.9435 - accuracy: 0.7214 - val_loss: 0.8889 - val_accuracy: 0.7494
Epoch 20/20
105/105 [==============================] - 628s 6s/step - loss: 0.9393 - accuracy: 0.7251 - val_loss: 0.9260 - val_accuracy: 0.7408
66/66 [==============================] - 130s 2s/step - loss: 0.9524 - accuracy: 0.7291
[CV 2/3; 9/10] END Conv2d_filters=256, No_of_CONV_and_Maxpool_layers=2, No_of_Dense_Layers=2, No_of_Units_in_dense_layers=512, No_of_batch_norm=False, batch_size=256, decay=1e-06, dropout=0.5, epochs=20, l1=0.0001, l2=0.0001, learning_rate=0.001, momentum=0.9, optimizer=Adam, validation_split=0.2;, score=0.729 total time=354.1min
[CV 3/3; 9/10] START Conv2d_filters=256, No_of_CONV_and_Maxpool_layers=2, No_of_Dense_Layers=2, No_of_Units_in_dense_layers=512, No_of_batch_norm=False, batch_size=256, decay=1e-06, dropout=0.5, epochs=20, l1=0.0001, l2=0.0001, learning_rate=0.001, momentum=0.9, optimizer=Adam, validation_split=0.2
Epoch 1/20
105/105 [==============================] - 634s 6s/step - loss: 2.1795 - accuracy: 0.2153 - val_loss: 1.8784 - val_accuracy: 0.3075
Epoch 2/20
105/105 [==============================] - 647s 6s/step - loss: 1.7512 - accuracy: 0.3734 - val_loss: 1.6108 - val_accuracy: 0.4251
Epoch 3/20
105/105 [==============================] - 643s 6s/step - loss: 1.5288 - accuracy: 0.4642 - val_loss: 1.4709 - val_accuracy: 0.4977
Epoch 4/20
105/105 [==============================] - 670s 6s/step - loss: 1.4128 - accuracy: 0.5149 - val_loss: 1.4018 - val_accuracy: 0.5362
Epoch 5/20
105/105 [==============================] - 701s 7s/step - loss: 1.3368 - accuracy: 0.5497 - val_loss: 1.2874 - val_accuracy: 0.5821
Epoch 6/20
105/105 [==============================] - 727s 7s/step - loss: 1.2634 - accuracy: 0.5778 - val_loss: 1.1693 - val_accuracy: 0.6252
Epoch 7/20
105/105 [==============================] - 732s 7s/step - loss: 1.2063 - accuracy: 0.6052 - val_loss: 1.1232 - val_accuracy: 0.6394
Epoch 8/20
105/105 [==============================] - 761s 7s/step - loss: 1.1718 - accuracy: 0.6181 - val_loss: 1.1629 - val_accuracy: 0.6459
Epoch 9/20
105/105 [==============================] - 789s 8s/step - loss: 1.1542 - accuracy: 0.6332 - val_loss: 1.0675 - val_accuracy: 0.6685
Epoch 10/20
105/105 [==============================] - 731s 7s/step - loss: 1.1221 - accuracy: 0.6469 - val_loss: 1.0208 - val_accuracy: 0.6891
Epoch 11/20
105/105 [==============================] - 627s 6s/step - loss: 1.0803 - accuracy: 0.6653 - val_loss: 0.9918 - val_accuracy: 0.7060
Epoch 12/20
105/105 [==============================] - 650s 6s/step - loss: 1.0554 - accuracy: 0.6738 - val_loss: 0.9751 - val_accuracy: 0.7071
Epoch 13/20
105/105 [==============================] - 651s 6s/step - loss: 1.0282 - accuracy: 0.6855 - val_loss: 0.9348 - val_accuracy: 0.7317
Epoch 14/20
105/105 [==============================] - 653s 6s/step - loss: 1.0107 - accuracy: 0.6951 - val_loss: 1.0032 - val_accuracy: 0.7092
Epoch 15/20
105/105 [==============================] - 691s 7s/step - loss: 1.0030 - accuracy: 0.7008 - val_loss: 0.9023 - val_accuracy: 0.7420
Epoch 16/20
105/105 [==============================] - 712s 7s/step - loss: 0.9823 - accuracy: 0.7094 - val_loss: 0.9223 - val_accuracy: 0.7363
Epoch 17/20
105/105 [==============================] - 632s 6s/step - loss: 0.9648 - accuracy: 0.7153 - val_loss: 0.9183 - val_accuracy: 0.7432
Epoch 18/20
105/105 [==============================] - 695s 7s/step - loss: 0.9510 - accuracy: 0.7234 - val_loss: 0.8963 - val_accuracy: 0.7546
Epoch 19/20
105/105 [==============================] - 690s 7s/step - loss: 0.9479 - accuracy: 0.7244 - val_loss: 0.8958 - val_accuracy: 0.7533
Epoch 20/20
105/105 [==============================] - 659s 6s/step - loss: 0.9445 - accuracy: 0.7279 - val_loss: 0.8713 - val_accuracy: 0.7593
66/66 [==============================] - 109s 2s/step - loss: 0.8775 - accuracy: 0.7539
[CV 3/3; 9/10] END Conv2d_filters=256, No_of_CONV_and_Maxpool_layers=2, No_of_Dense_Layers=2, No_of_Units_in_dense_layers=512, No_of_batch_norm=False, batch_size=256, decay=1e-06, dropout=0.5, epochs=20, l1=0.0001, l2=0.0001, learning_rate=0.001, momentum=0.9, optimizer=Adam, validation_split=0.2;, score=0.754 total time=230.2min
[CV 1/3; 10/10] START Conv2d_filters=64, No_of_CONV_and_Maxpool_layers=2, No_of_Dense_Layers=2, No_of_Units_in_dense_layers=128, No_of_batch_norm=True, batch_size=256, decay=0.01, dropout=0.5, epochs=30, l1=0.001, l2=0.01, learning_rate=0.001, momentum=0.5, optimizer=Adam, validation_split=0.2
Epoch 1/30
105/105 [==============================] - 56s 520ms/step - loss: 3.4051 - accuracy: 0.1563 - val_loss: 2.4668 - val_accuracy: 0.1945
Epoch 2/30
105/105 [==============================] - 58s 549ms/step - loss: 2.1804 - accuracy: 0.2403 - val_loss: 1.9738 - val_accuracy: 0.2788
Epoch 3/30
105/105 [==============================] - 57s 543ms/step - loss: 1.9431 - accuracy: 0.3009 - val_loss: 1.8280 - val_accuracy: 0.3490
Epoch 4/30
105/105 [==============================] - 59s 564ms/step - loss: 1.8568 - accuracy: 0.3257 - val_loss: 1.7877 - val_accuracy: 0.3540
Epoch 5/30
105/105 [==============================] - 59s 557ms/step - loss: 1.8082 - accuracy: 0.3437 - val_loss: 1.7904 - val_accuracy: 0.3574
Epoch 6/30
105/105 [==============================] - 58s 549ms/step - loss: 1.7723 - accuracy: 0.3583 - val_loss: 1.7091 - val_accuracy: 0.3804
Epoch 7/30
105/105 [==============================] - 59s 558ms/step - loss: 1.7454 - accuracy: 0.3645 - val_loss: 1.6726 - val_accuracy: 0.3955
Epoch 8/30
105/105 [==============================] - 58s 551ms/step - loss: 1.7274 - accuracy: 0.3711 - val_loss: 1.6844 - val_accuracy: 0.3960
Epoch 9/30
105/105 [==============================] - 60s 576ms/step - loss: 1.7102 - accuracy: 0.3809 - val_loss: 1.6340 - val_accuracy: 0.4135
Epoch 10/30
105/105 [==============================] - 58s 552ms/step - loss: 1.6927 - accuracy: 0.3876 - val_loss: 1.6271 - val_accuracy: 0.4165
Epoch 11/30
105/105 [==============================] - 58s 554ms/step - loss: 1.6788 - accuracy: 0.3955 - val_loss: 1.6041 - val_accuracy: 0.4281
Epoch 12/30
105/105 [==============================] - 61s 584ms/step - loss: 1.6672 - accuracy: 0.3993 - val_loss: 1.5903 - val_accuracy: 0.4342
Epoch 13/30
105/105 [==============================] - 58s 557ms/step - loss: 1.6529 - accuracy: 0.4085 - val_loss: 1.5945 - val_accuracy: 0.4386
Epoch 14/30
105/105 [==============================] - 62s 595ms/step - loss: 1.6357 - accuracy: 0.4189 - val_loss: 1.5954 - val_accuracy: 0.4432
Epoch 15/30
105/105 [==============================] - 63s 601ms/step - loss: 1.6273 - accuracy: 0.4248 - val_loss: 1.5757 - val_accuracy: 0.4537
Epoch 16/30
105/105 [==============================] - 66s 629ms/step - loss: 1.6186 - accuracy: 0.4298 - val_loss: 1.5454 - val_accuracy: 0.4591
Epoch 17/30
105/105 [==============================] - 66s 628ms/step - loss: 1.6048 - accuracy: 0.4344 - val_loss: 1.5259 - val_accuracy: 0.4660
Epoch 18/30
105/105 [==============================] - 63s 605ms/step - loss: 1.5993 - accuracy: 0.4381 - val_loss: 1.5132 - val_accuracy: 0.4731
Epoch 19/30
105/105 [==============================] - 64s 612ms/step - loss: 1.5902 - accuracy: 0.4378 - val_loss: 1.5070 - val_accuracy: 0.4734
Epoch 20/30
105/105 [==============================] - 62s 595ms/step - loss: 1.5810 - accuracy: 0.4422 - val_loss: 1.5007 - val_accuracy: 0.4759
Epoch 21/30
105/105 [==============================] - 66s 628ms/step - loss: 1.5721 - accuracy: 0.4464 - val_loss: 1.4923 - val_accuracy: 0.4848
Epoch 22/30
105/105 [==============================] - 64s 607ms/step - loss: 1.5738 - accuracy: 0.4496 - val_loss: 1.4967 - val_accuracy: 0.4830
Epoch 23/30
105/105 [==============================] - 64s 613ms/step - loss: 1.5640 - accuracy: 0.4536 - val_loss: 1.4794 - val_accuracy: 0.4857
Epoch 24/30
105/105 [==============================] - 65s 620ms/step - loss: 1.5556 - accuracy: 0.4520 - val_loss: 1.4682 - val_accuracy: 0.4882
Epoch 25/30
105/105 [==============================] - 63s 603ms/step - loss: 1.5545 - accuracy: 0.4548 - val_loss: 1.4836 - val_accuracy: 0.4866
Epoch 26/30
105/105 [==============================] - 64s 615ms/step - loss: 1.5410 - accuracy: 0.4559 - val_loss: 1.4662 - val_accuracy: 0.4926
Epoch 27/30
105/105 [==============================] - 62s 589ms/step - loss: 1.5375 - accuracy: 0.4601 - val_loss: 1.4520 - val_accuracy: 0.4989
Epoch 28/30
105/105 [==============================] - 67s 634ms/step - loss: 1.5353 - accuracy: 0.4610 - val_loss: 1.4628 - val_accuracy: 0.4908
Epoch 29/30
105/105 [==============================] - 66s 626ms/step - loss: 1.5315 - accuracy: 0.4647 - val_loss: 1.4472 - val_accuracy: 0.4977
Epoch 30/30
105/105 [==============================] - 64s 608ms/step - loss: 1.5306 - accuracy: 0.4624 - val_loss: 1.4448 - val_accuracy: 0.4974
66/66 [==============================] - 16s 233ms/step - loss: 1.4481 - accuracy: 0.4930
[CV 1/3; 10/10] END Conv2d_filters=64, No_of_CONV_and_Maxpool_layers=2, No_of_Dense_Layers=2, No_of_Units_in_dense_layers=128, No_of_batch_norm=True, batch_size=256, decay=0.01, dropout=0.5, epochs=30, l1=0.001, l2=0.01, learning_rate=0.001, momentum=0.5, optimizer=Adam, validation_split=0.2;, score=0.493 total time=31.1min
[CV 2/3; 10/10] START Conv2d_filters=64, No_of_CONV_and_Maxpool_layers=2, No_of_Dense_Layers=2, No_of_Units_in_dense_layers=128, No_of_batch_norm=True, batch_size=256, decay=0.01, dropout=0.5, epochs=30, l1=0.001, l2=0.01, learning_rate=0.001, momentum=0.5, optimizer=Adam, validation_split=0.2
Epoch 1/30
105/105 [==============================] - 70s 652ms/step - loss: 3.4258 - accuracy: 0.1550 - val_loss: 2.4698 - val_accuracy: 0.1848
Epoch 2/30
105/105 [==============================] - 64s 611ms/step - loss: 2.2385 - accuracy: 0.2064 - val_loss: 2.0761 - val_accuracy: 0.2179
Epoch 3/30
105/105 [==============================] - 69s 655ms/step - loss: 2.0065 - accuracy: 0.2524 - val_loss: 1.9003 - val_accuracy: 0.2892
Epoch 4/30
105/105 [==============================] - 66s 631ms/step - loss: 1.8893 - accuracy: 0.2945 - val_loss: 1.7969 - val_accuracy: 0.3217
Epoch 5/30
105/105 [==============================] - 66s 628ms/step - loss: 1.8285 - accuracy: 0.3123 - val_loss: 1.8359 - val_accuracy: 0.3093
Epoch 6/30
105/105 [==============================] - 69s 655ms/step - loss: 1.7921 - accuracy: 0.3267 - val_loss: 1.7385 - val_accuracy: 0.3465
Epoch 7/30
105/105 [==============================] - 65s 616ms/step - loss: 1.7655 - accuracy: 0.3439 - val_loss: 1.6935 - val_accuracy: 0.3690
Epoch 8/30
105/105 [==============================] - 75s 711ms/step - loss: 1.7421 - accuracy: 0.3514 - val_loss: 1.6977 - val_accuracy: 0.3675
Epoch 9/30
105/105 [==============================] - 76s 722ms/step - loss: 1.7260 - accuracy: 0.3591 - val_loss: 1.6506 - val_accuracy: 0.3874
Epoch 10/30
105/105 [==============================] - 76s 724ms/step - loss: 1.7146 - accuracy: 0.3675 - val_loss: 1.6433 - val_accuracy: 0.3895
Epoch 11/30
105/105 [==============================] - 75s 719ms/step - loss: 1.6990 - accuracy: 0.3708 - val_loss: 1.6311 - val_accuracy: 0.3955
Epoch 12/30
105/105 [==============================] - 77s 734ms/step - loss: 1.6882 - accuracy: 0.3727 - val_loss: 1.6548 - val_accuracy: 0.3961
Epoch 13/30
105/105 [==============================] - 77s 730ms/step - loss: 1.6810 - accuracy: 0.3774 - val_loss: 1.6316 - val_accuracy: 0.3987
Epoch 14/30
105/105 [==============================] - 72s 687ms/step - loss: 1.6715 - accuracy: 0.3834 - val_loss: 1.6144 - val_accuracy: 0.4060
Epoch 15/30
105/105 [==============================] - 68s 645ms/step - loss: 1.6626 - accuracy: 0.3862 - val_loss: 1.5866 - val_accuracy: 0.4068
Epoch 16/30
105/105 [==============================] - 77s 733ms/step - loss: 1.6527 - accuracy: 0.3883 - val_loss: 1.6065 - val_accuracy: 0.4060
Epoch 17/30
105/105 [==============================] - 74s 703ms/step - loss: 1.6523 - accuracy: 0.3921 - val_loss: 1.6066 - val_accuracy: 0.4122
Epoch 18/30
105/105 [==============================] - 69s 662ms/step - loss: 1.6430 - accuracy: 0.3964 - val_loss: 1.5774 - val_accuracy: 0.4179
Epoch 19/30
105/105 [==============================] - 77s 733ms/step - loss: 1.6349 - accuracy: 0.3989 - val_loss: 1.5881 - val_accuracy: 0.4155
Epoch 20/30
105/105 [==============================] - 77s 728ms/step - loss: 1.6312 - accuracy: 0.3998 - val_loss: 1.5843 - val_accuracy: 0.4179
Epoch 21/30
105/105 [==============================] - 67s 640ms/step - loss: 1.6246 - accuracy: 0.4025 - val_loss: 1.5607 - val_accuracy: 0.4206
Epoch 22/30
105/105 [==============================] - 68s 650ms/step - loss: 1.6228 - accuracy: 0.4018 - val_loss: 1.5708 - val_accuracy: 0.4200
Epoch 23/30
105/105 [==============================] - 75s 715ms/step - loss: 1.6198 - accuracy: 0.4091 - val_loss: 1.5673 - val_accuracy: 0.4200
Epoch 24/30
105/105 [==============================] - 70s 667ms/step - loss: 1.6136 - accuracy: 0.4094 - val_loss: 1.5500 - val_accuracy: 0.4225
Epoch 25/30
105/105 [==============================] - 64s 613ms/step - loss: 1.6114 - accuracy: 0.4107 - val_loss: 1.5684 - val_accuracy: 0.4224
Epoch 26/30
105/105 [==============================] - 73s 693ms/step - loss: 1.6063 - accuracy: 0.4121 - val_loss: 1.5515 - val_accuracy: 0.4281
Epoch 27/30
105/105 [==============================] - 81s 774ms/step - loss: 1.6025 - accuracy: 0.4114 - val_loss: 1.5402 - val_accuracy: 0.4249
Epoch 28/30
105/105 [==============================] - 77s 735ms/step - loss: 1.5954 - accuracy: 0.4166 - val_loss: 1.5371 - val_accuracy: 0.4249
Epoch 29/30
105/105 [==============================] - 70s 662ms/step - loss: 1.5960 - accuracy: 0.4155 - val_loss: 1.5279 - val_accuracy: 0.4293
Epoch 30/30
105/105 [==============================] - 77s 735ms/step - loss: 1.5923 - accuracy: 0.4187 - val_loss: 1.5339 - val_accuracy: 0.4314
66/66 [==============================] - 16s 232ms/step - loss: 1.5340 - accuracy: 0.4405
[CV 2/3; 10/10] END Conv2d_filters=64, No_of_CONV_and_Maxpool_layers=2, No_of_Dense_Layers=2, No_of_Units_in_dense_layers=128, No_of_batch_norm=True, batch_size=256, decay=0.01, dropout=0.5, epochs=30, l1=0.001, l2=0.01, learning_rate=0.001, momentum=0.5, optimizer=Adam, validation_split=0.2;, score=0.440 total time=36.3min
[CV 3/3; 10/10] START Conv2d_filters=64, No_of_CONV_and_Maxpool_layers=2, No_of_Dense_Layers=2, No_of_Units_in_dense_layers=128, No_of_batch_norm=True, batch_size=256, decay=0.01, dropout=0.5, epochs=30, l1=0.001, l2=0.01, learning_rate=0.001, momentum=0.5, optimizer=Adam, validation_split=0.2
Epoch 1/30
105/105 [==============================] - 83s 769ms/step - loss: 3.4083 - accuracy: 0.1479 - val_loss: 2.4802 - val_accuracy: 0.1905
Epoch 2/30
105/105 [==============================] - 71s 677ms/step - loss: 2.1988 - accuracy: 0.2286 - val_loss: 2.0042 - val_accuracy: 0.2617
Epoch 3/30
105/105 [==============================] - 69s 661ms/step - loss: 1.9380 - accuracy: 0.2908 - val_loss: 1.9331 - val_accuracy: 0.3052
Epoch 4/30
105/105 [==============================] - 82s 781ms/step - loss: 1.8516 - accuracy: 0.3209 - val_loss: 1.8093 - val_accuracy: 0.3324
Epoch 5/30
105/105 [==============================] - 79s 755ms/step - loss: 1.7957 - accuracy: 0.3363 - val_loss: 1.7540 - val_accuracy: 0.3556
Epoch 6/30
105/105 [==============================] - 70s 667ms/step - loss: 1.7656 - accuracy: 0.3479 - val_loss: 1.7145 - val_accuracy: 0.3648
Epoch 7/30
105/105 [==============================] - 72s 685ms/step - loss: 1.7423 - accuracy: 0.3569 - val_loss: 1.7251 - val_accuracy: 0.3705
Epoch 8/30
105/105 [==============================] - 79s 753ms/step - loss: 1.7259 - accuracy: 0.3633 - val_loss: 1.6863 - val_accuracy: 0.3694
Epoch 9/30
105/105 [==============================] - 76s 727ms/step - loss: 1.7098 - accuracy: 0.3673 - val_loss: 1.6879 - val_accuracy: 0.3814
Epoch 10/30
105/105 [==============================] - 69s 662ms/step - loss: 1.6973 - accuracy: 0.3709 - val_loss: 1.6693 - val_accuracy: 0.3852
Epoch 11/30
105/105 [==============================] - 79s 748ms/step - loss: 1.6820 - accuracy: 0.3783 - val_loss: 1.6881 - val_accuracy: 0.3867
Epoch 12/30
105/105 [==============================] - 83s 794ms/step - loss: 1.6778 - accuracy: 0.3820 - val_loss: 1.6559 - val_accuracy: 0.3907
Epoch 13/30
105/105 [==============================] - 82s 783ms/step - loss: 1.6607 - accuracy: 0.3894 - val_loss: 1.6380 - val_accuracy: 0.3922
Epoch 14/30
105/105 [==============================] - 81s 772ms/step - loss: 1.6605 - accuracy: 0.3873 - val_loss: 1.6309 - val_accuracy: 0.4095
Epoch 15/30
105/105 [==============================] - 83s 790ms/step - loss: 1.6480 - accuracy: 0.3928 - val_loss: 1.6298 - val_accuracy: 0.4042
Epoch 16/30
105/105 [==============================] - 80s 759ms/step - loss: 1.6414 - accuracy: 0.3975 - val_loss: 1.6145 - val_accuracy: 0.4128
Epoch 17/30
105/105 [==============================] - 82s 780ms/step - loss: 1.6408 - accuracy: 0.3964 - val_loss: 1.6087 - val_accuracy: 0.4087
Epoch 18/30
105/105 [==============================] - 81s 769ms/step - loss: 1.6325 - accuracy: 0.3994 - val_loss: 1.6290 - val_accuracy: 0.4063
Epoch 19/30
105/105 [==============================] - 76s 722ms/step - loss: 1.6265 - accuracy: 0.3999 - val_loss: 1.5929 - val_accuracy: 0.4224
Epoch 20/30
105/105 [==============================] - 59s 559ms/step - loss: 1.6208 - accuracy: 0.4045 - val_loss: 1.5977 - val_accuracy: 0.4219
Epoch 21/30
105/105 [==============================] - 57s 543ms/step - loss: 1.6162 - accuracy: 0.4053 - val_loss: 1.5804 - val_accuracy: 0.4251
Epoch 22/30
105/105 [==============================] - 58s 555ms/step - loss: 1.6103 - accuracy: 0.4105 - val_loss: 1.5778 - val_accuracy: 0.4219
Epoch 23/30
105/105 [==============================] - 57s 545ms/step - loss: 1.6040 - accuracy: 0.4147 - val_loss: 1.5816 - val_accuracy: 0.4276
Epoch 24/30
105/105 [==============================] - 57s 541ms/step - loss: 1.5979 - accuracy: 0.4159 - val_loss: 1.5786 - val_accuracy: 0.4299
Epoch 25/30
105/105 [==============================] - 56s 534ms/step - loss: 1.5961 - accuracy: 0.4182 - val_loss: 1.5633 - val_accuracy: 0.4308
Epoch 26/30
105/105 [==============================] - 57s 543ms/step - loss: 1.5954 - accuracy: 0.4164 - val_loss: 1.5747 - val_accuracy: 0.4276
Epoch 27/30
105/105 [==============================] - 58s 556ms/step - loss: 1.5853 - accuracy: 0.4196 - val_loss: 1.5566 - val_accuracy: 0.4345
Epoch 28/30
105/105 [==============================] - 58s 552ms/step - loss: 1.5903 - accuracy: 0.4191 - val_loss: 1.5593 - val_accuracy: 0.4377
Epoch 29/30
105/105 [==============================] - 59s 563ms/step - loss: 1.5868 - accuracy: 0.4246 - val_loss: 1.5330 - val_accuracy: 0.4428
Epoch 30/30
105/105 [==============================] - 56s 536ms/step - loss: 1.5806 - accuracy: 0.4225 - val_loss: 1.5423 - val_accuracy: 0.4435
66/66 [==============================] - 12s 182ms/step - loss: 1.5210 - accuracy: 0.4551
[CV 3/3; 10/10] END Conv2d_filters=64, No_of_CONV_and_Maxpool_layers=2, No_of_Dense_Layers=2, No_of_Units_in_dense_layers=128, No_of_batch_norm=True, batch_size=256, decay=0.01, dropout=0.5, epochs=30, l1=0.001, l2=0.01, learning_rate=0.001, momentum=0.5, optimizer=Adam, validation_split=0.2;, score=0.455 total time=35.4min
Epoch 1/20
157/157 [==============================] - 833s 5s/step - loss: 2.0512 - accuracy: 0.2555 - val_loss: 1.6462 - val_accuracy: 0.4140
Epoch 2/20
157/157 [==============================] - 902s 6s/step - loss: 1.5687 - accuracy: 0.4480 - val_loss: 1.3486 - val_accuracy: 0.5358
Epoch 3/20
157/157 [==============================] - 997s 6s/step - loss: 1.3965 - accuracy: 0.5213 - val_loss: 1.1862 - val_accuracy: 0.6067
Epoch 4/20
157/157 [==============================] - 1024s 7s/step - loss: 1.2946 - accuracy: 0.5634 - val_loss: 1.1591 - val_accuracy: 0.6283
Epoch 5/20
157/157 [==============================] - 1099s 7s/step - loss: 1.2087 - accuracy: 0.6046 - val_loss: 1.0363 - val_accuracy: 0.6707
Epoch 6/20
157/157 [==============================] - 824s 5s/step - loss: 1.1572 - accuracy: 0.6270 - val_loss: 1.0301 - val_accuracy: 0.6833
Epoch 7/20
157/157 [==============================] - 838s 5s/step - loss: 1.1094 - accuracy: 0.6507 - val_loss: 0.9687 - val_accuracy: 0.7026
Epoch 8/20
157/157 [==============================] - 875s 6s/step - loss: 1.0754 - accuracy: 0.6655 - val_loss: 0.9324 - val_accuracy: 0.7181
Epoch 9/20
157/157 [==============================] - 975s 6s/step - loss: 1.0498 - accuracy: 0.6776 - val_loss: 0.9487 - val_accuracy: 0.7134
Epoch 10/20
157/157 [==============================] - 1086s 7s/step - loss: 1.0265 - accuracy: 0.6894 - val_loss: 0.9152 - val_accuracy: 0.7290
Epoch 11/20
157/157 [==============================] - 1354s 9s/step - loss: 0.9987 - accuracy: 0.6999 - val_loss: 0.8890 - val_accuracy: 0.7432
Epoch 12/20
157/157 [==============================] - 683s 4s/step - loss: 0.9885 - accuracy: 0.7074 - val_loss: 0.9309 - val_accuracy: 0.7299
Epoch 13/20
157/157 [==============================] - 575s 4s/step - loss: 0.9732 - accuracy: 0.7125 - val_loss: 0.9188 - val_accuracy: 0.7324
Epoch 14/20
157/157 [==============================] - 586s 4s/step - loss: 0.9541 - accuracy: 0.7225 - val_loss: 0.8392 - val_accuracy: 0.7595
Epoch 15/20
157/157 [==============================] - 624s 4s/step - loss: 0.9309 - accuracy: 0.7292 - val_loss: 0.8548 - val_accuracy: 0.7664
Epoch 16/20
157/157 [==============================] - 611s 4s/step - loss: 0.9320 - accuracy: 0.7294 - val_loss: 0.8439 - val_accuracy: 0.7676
Epoch 17/20
157/157 [==============================] - 607s 4s/step - loss: 0.9177 - accuracy: 0.7396 - val_loss: 0.8366 - val_accuracy: 0.7681
Epoch 18/20
157/157 [==============================] - 619s 4s/step - loss: 0.9043 - accuracy: 0.7432 - val_loss: 0.8173 - val_accuracy: 0.7765
Epoch 19/20
157/157 [==============================] - 779s 5s/step - loss: 0.8925 - accuracy: 0.7482 - val_loss: 0.8119 - val_accuracy: 0.7851
Epoch 20/20
157/157 [==============================] - 1985s 13s/step - loss: 0.8744 - accuracy: 0.7539 - val_loss: 0.8125 - val_accuracy: 0.7765
