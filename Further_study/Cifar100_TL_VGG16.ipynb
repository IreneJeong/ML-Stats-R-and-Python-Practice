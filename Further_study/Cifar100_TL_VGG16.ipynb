{
  "metadata": {
    "kernelspec": {
      "language": "python",
      "display_name": "Python 3",
      "name": "python3"
    },
    "language_info": {
      "pygments_lexer": "ipython3",
      "nbconvert_exporter": "python",
      "version": "3.6.4",
      "file_extension": ".py",
      "codemirror_mode": {
        "name": "ipython",
        "version": 3
      },
      "name": "python",
      "mimetype": "text/x-python"
    },
    "colab": {
      "provenance": [],
      "machine_shape": "hm"
    },
    "accelerator": "GPU",
    "gpuClass": "premium"
  },
  "nbformat_minor": 0,
  "nbformat": 4,
  "cells": [
    {
      "cell_type": "code",
      "source": [
        "import tensorflow as tf\n",
        "from keras import datasets,Sequential\n",
        "from keras.layers import Conv2D,Dense,MaxPooling2D,Flatten\n",
        "import numpy as np\n",
        "from matplotlib import pyplot as plt\n",
        "from sklearn.metrics import confusion_matrix"
      ],
      "metadata": {
        "_uuid": "8f2839f25d086af736a60e9eeb907d3b93b6e0e5",
        "_cell_guid": "b1076dfc-b9ad-4769-8c92-a6c4dae69d19",
        "execution": {
          "iopub.status.busy": "2022-12-07T15:44:32.769592Z",
          "iopub.execute_input": "2022-12-07T15:44:32.770004Z",
          "iopub.status.idle": "2022-12-07T15:44:38.137651Z",
          "shell.execute_reply.started": "2022-12-07T15:44:32.769925Z",
          "shell.execute_reply": "2022-12-07T15:44:38.136652Z"
        },
        "trusted": true,
        "id": "HTz_iQbvy1Zb"
      },
      "execution_count": 1,
      "outputs": []
    },
    {
      "cell_type": "code",
      "source": [
        "import tensorflow as tf\n",
        "from tensorflow.keras.preprocessing.image import ImageDataGenerator, load_img, img_to_array\n",
        "from tensorflow.keras.datasets import cifar100\n",
        "from tensorflow.keras.utils import to_categorical\n",
        "from tensorflow.keras.applications import densenet\n",
        "from tensorflow.keras.models import Sequential, Model, load_model\n",
        "from tensorflow.keras.layers import Activation, Conv2D, MaxPooling2D, Flatten, Dense, Dropout, BatchNormalization\n",
        "from tensorflow.keras.callbacks import ModelCheckpoint, EarlyStopping, TensorBoard\n",
        "\n",
        "from sklearn.model_selection import train_test_split\n",
        "from sklearn.metrics import classification_report\n",
        "from sklearn.metrics import confusion_matrix"
      ],
      "metadata": {
        "execution": {
          "iopub.status.busy": "2022-12-07T15:44:38.139774Z",
          "iopub.execute_input": "2022-12-07T15:44:38.140406Z",
          "iopub.status.idle": "2022-12-07T15:44:38.429044Z",
          "shell.execute_reply.started": "2022-12-07T15:44:38.140346Z",
          "shell.execute_reply": "2022-12-07T15:44:38.428076Z"
        },
        "trusted": true,
        "id": "ewSxRXIXy1Ze"
      },
      "execution_count": 2,
      "outputs": []
    },
    {
      "cell_type": "code",
      "source": [
        "import os\n",
        "for dirname, _, filenames in os.walk('/kaggle/input'):\n",
        "    for filename in filenames:\n",
        "        print(os.path.join(dirname, filename))"
      ],
      "metadata": {
        "execution": {
          "iopub.status.busy": "2022-12-07T15:44:38.430674Z",
          "iopub.execute_input": "2022-12-07T15:44:38.431081Z",
          "iopub.status.idle": "2022-12-07T15:44:38.447261Z",
          "shell.execute_reply.started": "2022-12-07T15:44:38.431045Z",
          "shell.execute_reply": "2022-12-07T15:44:38.446359Z"
        },
        "trusted": true,
        "id": "W238B7aRy1Zf"
      },
      "execution_count": 3,
      "outputs": []
    },
    {
      "cell_type": "code",
      "source": [
        "#------------------------------------------------------------------------------\n",
        "# VGG16 ON CIFAR_10\n",
        "#------------------------------------------------------------------------------\n",
        "import numpy as np\n",
        "from tensorflow.keras.applications.vgg16 import VGG16\n",
        "import tensorflow.keras as k\n",
        "from tensorflow.keras.models import Sequential\n",
        "from tensorflow.keras.layers import Dense, Flatten, Dropout\n",
        "from keras.utils.np_utils import to_categorical\n",
        "from tensorflow.keras import optimizers\n",
        "from tensorflow.keras.callbacks import ModelCheckpoint, EarlyStopping, LearningRateScheduler\n",
        "from tensorflow.keras.preprocessing.image import ImageDataGenerator\n",
        "from sklearn.metrics import accuracy_score"
      ],
      "metadata": {
        "execution": {
          "iopub.status.busy": "2022-12-07T15:44:38.450935Z",
          "iopub.execute_input": "2022-12-07T15:44:38.453403Z",
          "iopub.status.idle": "2022-12-07T15:44:38.46078Z",
          "shell.execute_reply.started": "2022-12-07T15:44:38.453349Z",
          "shell.execute_reply": "2022-12-07T15:44:38.459854Z"
        },
        "trusted": true,
        "id": "TrNj66Q5y1Zg"
      },
      "execution_count": 4,
      "outputs": []
    },
    {
      "cell_type": "code",
      "source": [],
      "metadata": {
        "id": "U2XfR7uIy1Zg"
      },
      "execution_count": 4,
      "outputs": []
    },
    {
      "cell_type": "code",
      "source": [
        "model_vanilla = tf.keras.Sequential([\n",
        "    tf.keras.layers.Conv2D(32,(3,3), activation='relu', input_shape=(32,32,3)),\n",
        "    tf.keras.layers.BatchNormalization(),\n",
        "    tf.keras.layers.Conv2D(32,(3,3),activation='relu',padding='same'),\n",
        "    tf.keras.layers.BatchNormalization(axis = 3),\n",
        "    tf.keras.layers.MaxPooling2D(pool_size=(2,2),padding='same'),\n",
        "    tf.keras.layers.Dropout(0.3),\n",
        "    \n",
        "    tf.keras.layers.Conv2D(64,(3,3),activation='relu',padding='same'),\n",
        "    tf.keras.layers.BatchNormalization(),\n",
        "    tf.keras.layers.Conv2D(64,(3,3),activation='relu',padding='same'),\n",
        "    tf.keras.layers.BatchNormalization(axis = 3),\n",
        "    tf.keras.layers.MaxPooling2D(pool_size=(2,2),padding='same'),\n",
        "    tf.keras.layers.Dropout(0.3),\n",
        "    \n",
        "    tf.keras.layers.Conv2D(128,(3,3),activation='relu',padding='same'),\n",
        "    tf.keras.layers.BatchNormalization(),\n",
        "    tf.keras.layers.Conv2D(128,(3,3),activation='relu',padding='same'),\n",
        "    tf.keras.layers.BatchNormalization(axis = 3),\n",
        "    tf.keras.layers.MaxPooling2D(pool_size=(2,2),padding='same'),\n",
        "    tf.keras.layers.Dropout(0.5),\n",
        "    \n",
        "    tf.keras.layers.Flatten(),\n",
        "    tf.keras.layers.Dense(512, activation='relu'),\n",
        "    tf.keras.layers.BatchNormalization(),\n",
        "    tf.keras.layers.Dropout(0.5),\n",
        "    tf.keras.layers.Dense(128, activation='relu'),\n",
        "    tf.keras.layers.Dropout(0.25),\n",
        "    tf.keras.layers.Dense(100, activation='softmax')\n",
        "])"
      ],
      "metadata": {
        "execution": {
          "iopub.status.busy": "2022-12-07T15:44:38.46214Z",
          "iopub.execute_input": "2022-12-07T15:44:38.462789Z",
          "iopub.status.idle": "2022-12-07T15:44:41.399Z",
          "shell.execute_reply.started": "2022-12-07T15:44:38.46275Z",
          "shell.execute_reply": "2022-12-07T15:44:41.397944Z"
        },
        "trusted": true,
        "id": "KHFbm_d5y1Zg"
      },
      "execution_count": 5,
      "outputs": []
    },
    {
      "cell_type": "code",
      "source": [
        "\n",
        "model_vanilla.summary()"
      ],
      "metadata": {
        "execution": {
          "iopub.status.busy": "2022-12-07T15:44:41.400546Z",
          "iopub.execute_input": "2022-12-07T15:44:41.401183Z",
          "iopub.status.idle": "2022-12-07T15:44:41.411421Z",
          "shell.execute_reply.started": "2022-12-07T15:44:41.401144Z",
          "shell.execute_reply": "2022-12-07T15:44:41.410194Z"
        },
        "trusted": true,
        "id": "DUbdMaITy1Zh",
        "outputId": "8147020c-bad2-4bf3-ea8e-44b6584f0497",
        "colab": {
          "base_uri": "https://localhost:8080/"
        }
      },
      "execution_count": 6,
      "outputs": [
        {
          "output_type": "stream",
          "name": "stdout",
          "text": [
            "Model: \"sequential\"\n",
            "_________________________________________________________________\n",
            " Layer (type)                Output Shape              Param #   \n",
            "=================================================================\n",
            " conv2d (Conv2D)             (None, 30, 30, 32)        896       \n",
            "                                                                 \n",
            " batch_normalization (BatchN  (None, 30, 30, 32)       128       \n",
            " ormalization)                                                   \n",
            "                                                                 \n",
            " conv2d_1 (Conv2D)           (None, 30, 30, 32)        9248      \n",
            "                                                                 \n",
            " batch_normalization_1 (Batc  (None, 30, 30, 32)       128       \n",
            " hNormalization)                                                 \n",
            "                                                                 \n",
            " max_pooling2d (MaxPooling2D  (None, 15, 15, 32)       0         \n",
            " )                                                               \n",
            "                                                                 \n",
            " dropout (Dropout)           (None, 15, 15, 32)        0         \n",
            "                                                                 \n",
            " conv2d_2 (Conv2D)           (None, 15, 15, 64)        18496     \n",
            "                                                                 \n",
            " batch_normalization_2 (Batc  (None, 15, 15, 64)       256       \n",
            " hNormalization)                                                 \n",
            "                                                                 \n",
            " conv2d_3 (Conv2D)           (None, 15, 15, 64)        36928     \n",
            "                                                                 \n",
            " batch_normalization_3 (Batc  (None, 15, 15, 64)       256       \n",
            " hNormalization)                                                 \n",
            "                                                                 \n",
            " max_pooling2d_1 (MaxPooling  (None, 8, 8, 64)         0         \n",
            " 2D)                                                             \n",
            "                                                                 \n",
            " dropout_1 (Dropout)         (None, 8, 8, 64)          0         \n",
            "                                                                 \n",
            " conv2d_4 (Conv2D)           (None, 8, 8, 128)         73856     \n",
            "                                                                 \n",
            " batch_normalization_4 (Batc  (None, 8, 8, 128)        512       \n",
            " hNormalization)                                                 \n",
            "                                                                 \n",
            " conv2d_5 (Conv2D)           (None, 8, 8, 128)         147584    \n",
            "                                                                 \n",
            " batch_normalization_5 (Batc  (None, 8, 8, 128)        512       \n",
            " hNormalization)                                                 \n",
            "                                                                 \n",
            " max_pooling2d_2 (MaxPooling  (None, 4, 4, 128)        0         \n",
            " 2D)                                                             \n",
            "                                                                 \n",
            " dropout_2 (Dropout)         (None, 4, 4, 128)         0         \n",
            "                                                                 \n",
            " flatten (Flatten)           (None, 2048)              0         \n",
            "                                                                 \n",
            " dense (Dense)               (None, 512)               1049088   \n",
            "                                                                 \n",
            " batch_normalization_6 (Batc  (None, 512)              2048      \n",
            " hNormalization)                                                 \n",
            "                                                                 \n",
            " dropout_3 (Dropout)         (None, 512)               0         \n",
            "                                                                 \n",
            " dense_1 (Dense)             (None, 128)               65664     \n",
            "                                                                 \n",
            " dropout_4 (Dropout)         (None, 128)               0         \n",
            "                                                                 \n",
            " dense_2 (Dense)             (None, 100)               12900     \n",
            "                                                                 \n",
            "=================================================================\n",
            "Total params: 1,418,500\n",
            "Trainable params: 1,416,580\n",
            "Non-trainable params: 1,920\n",
            "_________________________________________________________________\n"
          ]
        }
      ]
    },
    {
      "cell_type": "code",
      "source": [
        "(X_train, y_train), (X_test, y_test) = k.datasets.cifar100.load_data()\n",
        "\n",
        "print(\"******************\")\n",
        "print(X_train.shape)\n",
        "print(y_train.shape)\n",
        "print(X_test.shape)\n",
        "print(y_test.shape)"
      ],
      "metadata": {
        "execution": {
          "iopub.status.busy": "2022-12-07T15:44:41.413287Z",
          "iopub.execute_input": "2022-12-07T15:44:41.413775Z",
          "iopub.status.idle": "2022-12-07T15:44:54.581283Z",
          "shell.execute_reply.started": "2022-12-07T15:44:41.41374Z",
          "shell.execute_reply": "2022-12-07T15:44:54.580296Z"
        },
        "trusted": true,
        "id": "sqwYGARIy1Zi",
        "outputId": "8a11d507-bd45-4c7b-f60a-b47f000f6c27",
        "colab": {
          "base_uri": "https://localhost:8080/"
        }
      },
      "execution_count": 7,
      "outputs": [
        {
          "output_type": "stream",
          "name": "stdout",
          "text": [
            "Downloading data from https://www.cs.toronto.edu/~kriz/cifar-100-python.tar.gz\n",
            "169001437/169001437 [==============================] - 6s 0us/step\n",
            "******************\n",
            "(50000, 32, 32, 3)\n",
            "(50000, 1)\n",
            "(10000, 32, 32, 3)\n",
            "(10000, 1)\n"
          ]
        }
      ]
    },
    {
      "cell_type": "code",
      "source": [
        "# Convert class vectors to binary class matrices using one hot encoding\n",
        "y_train_ohe = to_categorical(y_train, num_classes = 100)\n",
        "y_test_ohe = to_categorical(y_test, num_classes = 100)"
      ],
      "metadata": {
        "execution": {
          "iopub.status.busy": "2022-12-07T15:44:54.585469Z",
          "iopub.execute_input": "2022-12-07T15:44:54.587652Z",
          "iopub.status.idle": "2022-12-07T15:44:54.610935Z",
          "shell.execute_reply.started": "2022-12-07T15:44:54.587614Z",
          "shell.execute_reply": "2022-12-07T15:44:54.609988Z"
        },
        "trusted": true,
        "id": "0F82CqOCy1Zi"
      },
      "execution_count": 8,
      "outputs": []
    },
    {
      "cell_type": "code",
      "source": [
        "# Data normalization\n",
        "X_train = X_train.astype('float32')\n",
        "X_test = X_test.astype('float32')\n",
        "X_train  /= 255\n",
        "X_test /= 255\n",
        "\n",
        "print(\"******************\")\n",
        "print(X_train.shape)\n",
        "print(y_train_ohe.shape)\n",
        "print(X_test.shape)\n",
        "print(y_test_ohe.shape)"
      ],
      "metadata": {
        "execution": {
          "iopub.status.busy": "2022-12-07T15:44:54.614974Z",
          "iopub.execute_input": "2022-12-07T15:44:54.617098Z",
          "iopub.status.idle": "2022-12-07T15:44:54.912603Z",
          "shell.execute_reply.started": "2022-12-07T15:44:54.617056Z",
          "shell.execute_reply": "2022-12-07T15:44:54.911534Z"
        },
        "trusted": true,
        "id": "ByaTqpOty1Zi",
        "outputId": "cbd0f702-08cb-4810-a0e1-51f453bb33b5",
        "colab": {
          "base_uri": "https://localhost:8080/"
        }
      },
      "execution_count": 9,
      "outputs": [
        {
          "output_type": "stream",
          "name": "stdout",
          "text": [
            "******************\n",
            "(50000, 32, 32, 3)\n",
            "(50000, 100)\n",
            "(10000, 32, 32, 3)\n",
            "(10000, 100)\n"
          ]
        }
      ]
    },
    {
      "cell_type": "code",
      "source": [
        "X_val = X_train[40000:]\n",
        "y_val = y_train_ohe[40000:]\n",
        "print(X_val.shape)\n",
        "print(y_val.shape)"
      ],
      "metadata": {
        "execution": {
          "iopub.status.busy": "2022-12-07T15:44:54.919227Z",
          "iopub.execute_input": "2022-12-07T15:44:54.921497Z",
          "iopub.status.idle": "2022-12-07T15:44:54.93096Z",
          "shell.execute_reply.started": "2022-12-07T15:44:54.92146Z",
          "shell.execute_reply": "2022-12-07T15:44:54.930026Z"
        },
        "trusted": true,
        "id": "cd_cQp95y1Zj",
        "outputId": "73413db1-aaf9-4b5f-b5e1-949bef03dfaa",
        "colab": {
          "base_uri": "https://localhost:8080/"
        }
      },
      "execution_count": 10,
      "outputs": [
        {
          "output_type": "stream",
          "name": "stdout",
          "text": [
            "(10000, 32, 32, 3)\n",
            "(10000, 100)\n"
          ]
        }
      ]
    },
    {
      "cell_type": "code",
      "source": [
        "X_train = X_train[:40000]\n",
        "y_train_ohe = y_train_ohe[:40000]\n",
        "print(X_train.shape)\n",
        "print(y_train_ohe.shape)"
      ],
      "metadata": {
        "execution": {
          "iopub.status.busy": "2022-12-07T15:44:54.935604Z",
          "iopub.execute_input": "2022-12-07T15:44:54.937961Z",
          "iopub.status.idle": "2022-12-07T15:44:54.947608Z",
          "shell.execute_reply.started": "2022-12-07T15:44:54.937923Z",
          "shell.execute_reply": "2022-12-07T15:44:54.946231Z"
        },
        "trusted": true,
        "id": "d-Z2UICGy1Zj",
        "outputId": "549353be-e171-42e5-fe15-0633458b5816",
        "colab": {
          "base_uri": "https://localhost:8080/"
        }
      },
      "execution_count": 11,
      "outputs": [
        {
          "output_type": "stream",
          "name": "stdout",
          "text": [
            "(40000, 32, 32, 3)\n",
            "(40000, 100)\n"
          ]
        }
      ]
    },
    {
      "cell_type": "code",
      "source": [
        "model_vanilla.compile(optimizer='adam',loss='categorical_crossentropy',metrics=['accuracy'])"
      ],
      "metadata": {
        "execution": {
          "iopub.status.busy": "2022-12-07T15:44:54.951309Z",
          "iopub.execute_input": "2022-12-07T15:44:54.954585Z",
          "iopub.status.idle": "2022-12-07T15:44:54.972916Z",
          "shell.execute_reply.started": "2022-12-07T15:44:54.95455Z",
          "shell.execute_reply": "2022-12-07T15:44:54.972101Z"
        },
        "trusted": true,
        "id": "CL2QE8Ley1Zk"
      },
      "execution_count": 12,
      "outputs": []
    },
    {
      "cell_type": "code",
      "source": [
        "aug = ImageDataGenerator(\n",
        "    rotation_range=20, \n",
        "    zoom_range=0.15, \n",
        "    width_shift_range=0.2, \n",
        "    height_shift_range=0.2, \n",
        "    shear_range=0.15,\n",
        "    horizontal_flip=True, \n",
        "    fill_mode=\"nearest\")\n",
        "\n",
        "# train the model\n",
        "\"\"\"\n",
        "history = model_vanilla.fit_generator(\n",
        "    aug.flow(X_train,y_train_ohe, batch_size=128),\n",
        "    validation_data=(X_val,y_val),\n",
        "    steps_per_epoch=len(X_train) // 128,\n",
        "    epochs=50,\n",
        "    callbacks=[reduce_lr,mc])\n",
        "\"\"\"\n"
      ],
      "metadata": {
        "execution": {
          "iopub.status.busy": "2022-12-07T15:44:54.976755Z",
          "iopub.execute_input": "2022-12-07T15:44:54.977075Z",
          "iopub.status.idle": "2022-12-07T15:44:54.99282Z",
          "shell.execute_reply.started": "2022-12-07T15:44:54.977044Z",
          "shell.execute_reply": "2022-12-07T15:44:54.991824Z"
        },
        "trusted": true,
        "id": "E7ycz1hyy1Zk",
        "outputId": "9380c845-c557-42a1-ad15-d4722e20ffc6",
        "colab": {
          "base_uri": "https://localhost:8080/",
          "height": 52
        }
      },
      "execution_count": 13,
      "outputs": [
        {
          "output_type": "execute_result",
          "data": {
            "text/plain": [
              "'\\nhistory = model_vanilla.fit_generator(\\n    aug.flow(X_train,y_train_ohe, batch_size=128),\\n    validation_data=(X_val,y_val),\\n    steps_per_epoch=len(X_train) // 128,\\n    epochs=50,\\n    callbacks=[reduce_lr,mc])\\n'"
            ],
            "application/vnd.google.colaboratory.intrinsic+json": {
              "type": "string"
            }
          },
          "metadata": {},
          "execution_count": 13
        }
      ]
    },
    {
      "cell_type": "code",
      "source": [
        "import os"
      ],
      "metadata": {
        "execution": {
          "iopub.status.busy": "2022-12-07T15:44:54.996716Z",
          "iopub.execute_input": "2022-12-07T15:44:55.001079Z",
          "iopub.status.idle": "2022-12-07T15:44:55.009988Z",
          "shell.execute_reply.started": "2022-12-07T15:44:55.00104Z",
          "shell.execute_reply": "2022-12-07T15:44:55.009002Z"
        },
        "trusted": true,
        "id": "tpri05ROy1Zk"
      },
      "execution_count": 14,
      "outputs": []
    },
    {
      "cell_type": "code",
      "source": [
        "from keras.callbacks import ModelCheckpoint, EarlyStopping, ReduceLROnPlateau"
      ],
      "metadata": {
        "execution": {
          "iopub.status.busy": "2022-12-07T15:44:55.013089Z",
          "iopub.execute_input": "2022-12-07T15:44:55.013936Z",
          "iopub.status.idle": "2022-12-07T15:44:55.023461Z",
          "shell.execute_reply.started": "2022-12-07T15:44:55.013895Z",
          "shell.execute_reply": "2022-12-07T15:44:55.022321Z"
        },
        "trusted": true,
        "id": "l9FTla-Sy1Zl"
      },
      "execution_count": 15,
      "outputs": []
    },
    {
      "cell_type": "code",
      "source": [
        "models_dir = \"saved_models\"\n",
        "if not os.path.exists(models_dir):\n",
        "    os.makedirs(models_dir)\n",
        "\n",
        "checkpointer = ModelCheckpoint(filepath='saved_models/model_vanilla.hdf5', \n",
        "                               monitor='val_accuracy', mode='max',\n",
        "                               verbose=1, save_best_only=True)\n",
        "early_stopping = EarlyStopping(monitor='val_loss', mode='min', verbose=1, patience=3)\n",
        "reduce_lr = ReduceLROnPlateau(monitor='val_loss', factor=0.2,patience=2, min_lr=0.001)\n",
        "callbacks=[early_stopping, reduce_lr, checkpointer]"
      ],
      "metadata": {
        "execution": {
          "iopub.status.busy": "2022-12-07T15:44:55.024721Z",
          "iopub.execute_input": "2022-12-07T15:44:55.025533Z",
          "iopub.status.idle": "2022-12-07T15:44:55.039381Z",
          "shell.execute_reply.started": "2022-12-07T15:44:55.025498Z",
          "shell.execute_reply": "2022-12-07T15:44:55.038412Z"
        },
        "trusted": true,
        "id": "ZmVG2ev0y1Zl"
      },
      "execution_count": 16,
      "outputs": []
    },
    {
      "cell_type": "code",
      "source": [
        "# Training model\n",
        "import time\n",
        "training_start = time.time()\n",
        "\n",
        "history1 = model_vanilla.fit(aug.flow(X_train,y_train_ohe, batch_size=128),\n",
        "          epochs=50,validation_data=(X_val,y_val),callbacks=callbacks)\n",
        "training_stop = time.time()\n",
        "training_time = training_stop - training_start\n",
        "print(f\"Training time: {training_time}\")\n",
        "#history1 = model_vanilla.fit(train_ds, epochs = 20, validation_data = val_ds, callbacks=callbacks)"
      ],
      "metadata": {
        "execution": {
          "iopub.status.busy": "2022-12-07T15:44:55.04263Z",
          "iopub.execute_input": "2022-12-07T15:44:55.042885Z",
          "iopub.status.idle": "2022-12-07T15:52:45.539223Z",
          "shell.execute_reply.started": "2022-12-07T15:44:55.042861Z",
          "shell.execute_reply": "2022-12-07T15:52:45.538073Z"
        },
        "trusted": true,
        "id": "5yKmW4_Hy1Zl",
        "outputId": "d6c315fc-1464-4575-c26e-3b63376a696f",
        "colab": {
          "base_uri": "https://localhost:8080/"
        }
      },
      "execution_count": 17,
      "outputs": [
        {
          "output_type": "stream",
          "name": "stdout",
          "text": [
            "Epoch 1/50\n",
            "313/313 [==============================] - ETA: 0s - loss: 4.5133 - accuracy: 0.0434\n",
            "Epoch 1: val_accuracy improved from -inf to 0.01640, saving model to saved_models/model_vanilla.hdf5\n",
            "313/313 [==============================] - 38s 70ms/step - loss: 4.5133 - accuracy: 0.0434 - val_loss: 5.0740 - val_accuracy: 0.0164 - lr: 0.0010\n",
            "Epoch 2/50\n",
            "313/313 [==============================] - ETA: 0s - loss: 3.9532 - accuracy: 0.0863\n",
            "Epoch 2: val_accuracy improved from 0.01640 to 0.11770, saving model to saved_models/model_vanilla.hdf5\n",
            "313/313 [==============================] - 21s 68ms/step - loss: 3.9532 - accuracy: 0.0863 - val_loss: 3.7759 - val_accuracy: 0.1177 - lr: 0.0010\n",
            "Epoch 3/50\n",
            "313/313 [==============================] - ETA: 0s - loss: 3.7340 - accuracy: 0.1209\n",
            "Epoch 3: val_accuracy improved from 0.11770 to 0.17640, saving model to saved_models/model_vanilla.hdf5\n",
            "313/313 [==============================] - 21s 67ms/step - loss: 3.7340 - accuracy: 0.1209 - val_loss: 3.4100 - val_accuracy: 0.1764 - lr: 0.0010\n",
            "Epoch 4/50\n",
            "313/313 [==============================] - ETA: 0s - loss: 3.5725 - accuracy: 0.1459\n",
            "Epoch 4: val_accuracy improved from 0.17640 to 0.19000, saving model to saved_models/model_vanilla.hdf5\n",
            "313/313 [==============================] - 21s 68ms/step - loss: 3.5725 - accuracy: 0.1459 - val_loss: 3.3088 - val_accuracy: 0.1900 - lr: 0.0010\n",
            "Epoch 5/50\n",
            "313/313 [==============================] - ETA: 0s - loss: 3.4268 - accuracy: 0.1696\n",
            "Epoch 5: val_accuracy improved from 0.19000 to 0.20040, saving model to saved_models/model_vanilla.hdf5\n",
            "313/313 [==============================] - 21s 67ms/step - loss: 3.4268 - accuracy: 0.1696 - val_loss: 3.2257 - val_accuracy: 0.2004 - lr: 0.0010\n",
            "Epoch 6/50\n",
            "313/313 [==============================] - ETA: 0s - loss: 3.3095 - accuracy: 0.1864\n",
            "Epoch 6: val_accuracy did not improve from 0.20040\n",
            "313/313 [==============================] - 21s 67ms/step - loss: 3.3095 - accuracy: 0.1864 - val_loss: 3.3156 - val_accuracy: 0.1956 - lr: 0.0010\n",
            "Epoch 7/50\n",
            "313/313 [==============================] - ETA: 0s - loss: 3.2103 - accuracy: 0.2043\n",
            "Epoch 7: val_accuracy improved from 0.20040 to 0.24260, saving model to saved_models/model_vanilla.hdf5\n",
            "313/313 [==============================] - 21s 68ms/step - loss: 3.2103 - accuracy: 0.2043 - val_loss: 3.0909 - val_accuracy: 0.2426 - lr: 0.0010\n",
            "Epoch 8/50\n",
            "313/313 [==============================] - ETA: 0s - loss: 3.1180 - accuracy: 0.2233\n",
            "Epoch 8: val_accuracy improved from 0.24260 to 0.27510, saving model to saved_models/model_vanilla.hdf5\n",
            "313/313 [==============================] - 21s 68ms/step - loss: 3.1180 - accuracy: 0.2233 - val_loss: 2.8593 - val_accuracy: 0.2751 - lr: 0.0010\n",
            "Epoch 9/50\n",
            "313/313 [==============================] - ETA: 0s - loss: 3.0373 - accuracy: 0.2376\n",
            "Epoch 9: val_accuracy improved from 0.27510 to 0.27560, saving model to saved_models/model_vanilla.hdf5\n",
            "313/313 [==============================] - 21s 67ms/step - loss: 3.0373 - accuracy: 0.2376 - val_loss: 2.8696 - val_accuracy: 0.2756 - lr: 0.0010\n",
            "Epoch 10/50\n",
            "313/313 [==============================] - ETA: 0s - loss: 2.9635 - accuracy: 0.2526\n",
            "Epoch 10: val_accuracy improved from 0.27560 to 0.29950, saving model to saved_models/model_vanilla.hdf5\n",
            "313/313 [==============================] - 21s 68ms/step - loss: 2.9635 - accuracy: 0.2526 - val_loss: 2.7670 - val_accuracy: 0.2995 - lr: 0.0010\n",
            "Epoch 11/50\n",
            "313/313 [==============================] - ETA: 0s - loss: 2.9089 - accuracy: 0.2633\n",
            "Epoch 11: val_accuracy improved from 0.29950 to 0.32850, saving model to saved_models/model_vanilla.hdf5\n",
            "313/313 [==============================] - 21s 68ms/step - loss: 2.9089 - accuracy: 0.2633 - val_loss: 2.5854 - val_accuracy: 0.3285 - lr: 0.0010\n",
            "Epoch 12/50\n",
            "313/313 [==============================] - ETA: 0s - loss: 2.8508 - accuracy: 0.2739\n",
            "Epoch 12: val_accuracy improved from 0.32850 to 0.33130, saving model to saved_models/model_vanilla.hdf5\n",
            "313/313 [==============================] - 21s 68ms/step - loss: 2.8508 - accuracy: 0.2739 - val_loss: 2.5622 - val_accuracy: 0.3313 - lr: 0.0010\n",
            "Epoch 13/50\n",
            "313/313 [==============================] - ETA: 0s - loss: 2.7981 - accuracy: 0.2855\n",
            "Epoch 13: val_accuracy improved from 0.33130 to 0.34960, saving model to saved_models/model_vanilla.hdf5\n",
            "313/313 [==============================] - 21s 68ms/step - loss: 2.7981 - accuracy: 0.2855 - val_loss: 2.4652 - val_accuracy: 0.3496 - lr: 0.0010\n",
            "Epoch 14/50\n",
            "313/313 [==============================] - ETA: 0s - loss: 2.7667 - accuracy: 0.2876\n",
            "Epoch 14: val_accuracy did not improve from 0.34960\n",
            "313/313 [==============================] - 21s 67ms/step - loss: 2.7667 - accuracy: 0.2876 - val_loss: 2.6882 - val_accuracy: 0.3180 - lr: 0.0010\n",
            "Epoch 15/50\n",
            "313/313 [==============================] - ETA: 0s - loss: 2.7102 - accuracy: 0.2996\n",
            "Epoch 15: val_accuracy improved from 0.34960 to 0.35670, saving model to saved_models/model_vanilla.hdf5\n",
            "313/313 [==============================] - 21s 68ms/step - loss: 2.7102 - accuracy: 0.2996 - val_loss: 2.4814 - val_accuracy: 0.3567 - lr: 0.0010\n",
            "Epoch 16/50\n",
            "313/313 [==============================] - ETA: 0s - loss: 2.6722 - accuracy: 0.3088\n",
            "Epoch 16: val_accuracy improved from 0.35670 to 0.35970, saving model to saved_models/model_vanilla.hdf5\n",
            "313/313 [==============================] - 21s 68ms/step - loss: 2.6722 - accuracy: 0.3088 - val_loss: 2.4690 - val_accuracy: 0.3597 - lr: 0.0010\n",
            "Epoch 16: early stopping\n",
            "Training time: 356.2456262111664\n"
          ]
        }
      ]
    },
    {
      "cell_type": "code",
      "source": [
        "input_shape=(32,32,3)"
      ],
      "metadata": {
        "execution": {
          "iopub.status.busy": "2022-12-07T15:52:45.540896Z",
          "iopub.execute_input": "2022-12-07T15:52:45.541284Z",
          "iopub.status.idle": "2022-12-07T15:52:45.547777Z",
          "shell.execute_reply.started": "2022-12-07T15:52:45.541246Z",
          "shell.execute_reply": "2022-12-07T15:52:45.546887Z"
        },
        "trusted": true,
        "id": "c-zHy6uay1Zm"
      },
      "execution_count": 18,
      "outputs": []
    },
    {
      "cell_type": "code",
      "source": [
        "vgg16 = VGG16(weights=\"imagenet\", include_top=False, input_shape=input_shape)\n",
        "vgg16.trainable = False\n",
        "inputs = tf.keras.Input(input_shape)\n",
        "x = vgg16(inputs, training=False)\n",
        "x = tf.keras.layers.GlobalAveragePooling2D()(x)\n",
        "x = tf.keras.layers.Dense(1024, activation='relu')(x)\n",
        "x = tf.keras.layers.Dense(512, activation='relu')(x)\n",
        "x = tf.keras.layers.Dense(100, activation='softmax')(x)\n",
        "model_vgg16 = tf.keras.Model(inputs, x)"
      ],
      "metadata": {
        "execution": {
          "iopub.status.busy": "2022-12-07T15:52:45.549316Z",
          "iopub.execute_input": "2022-12-07T15:52:45.549773Z",
          "iopub.status.idle": "2022-12-07T15:52:50.14539Z",
          "shell.execute_reply.started": "2022-12-07T15:52:45.549738Z",
          "shell.execute_reply": "2022-12-07T15:52:50.144416Z"
        },
        "trusted": true,
        "id": "G2_aki3zy1Zm",
        "outputId": "9f49df3d-cbaa-425f-f20b-1873d0285c74",
        "colab": {
          "base_uri": "https://localhost:8080/"
        }
      },
      "execution_count": 19,
      "outputs": [
        {
          "output_type": "stream",
          "name": "stdout",
          "text": [
            "Downloading data from https://storage.googleapis.com/tensorflow/keras-applications/vgg16/vgg16_weights_tf_dim_ordering_tf_kernels_notop.h5\n",
            "58889256/58889256 [==============================] - 2s 0us/step\n"
          ]
        }
      ]
    },
    {
      "cell_type": "code",
      "source": [
        "model_vgg16.compile(optimizer='adam', loss='categorical_crossentropy', metrics=['accuracy'])\n",
        "model_vgg16.summary()"
      ],
      "metadata": {
        "execution": {
          "iopub.status.busy": "2022-12-07T15:52:50.146857Z",
          "iopub.execute_input": "2022-12-07T15:52:50.147197Z",
          "iopub.status.idle": "2022-12-07T15:52:50.161186Z",
          "shell.execute_reply.started": "2022-12-07T15:52:50.147162Z",
          "shell.execute_reply": "2022-12-07T15:52:50.160134Z"
        },
        "trusted": true,
        "id": "RQMq8QGUy1Zn",
        "outputId": "987b1e1d-3b7b-4377-f1d5-90c54029dba5",
        "colab": {
          "base_uri": "https://localhost:8080/"
        }
      },
      "execution_count": 20,
      "outputs": [
        {
          "output_type": "stream",
          "name": "stdout",
          "text": [
            "Model: \"model\"\n",
            "_________________________________________________________________\n",
            " Layer (type)                Output Shape              Param #   \n",
            "=================================================================\n",
            " input_2 (InputLayer)        [(None, 32, 32, 3)]       0         \n",
            "                                                                 \n",
            " vgg16 (Functional)          (None, 1, 1, 512)         14714688  \n",
            "                                                                 \n",
            " global_average_pooling2d (G  (None, 512)              0         \n",
            " lobalAveragePooling2D)                                          \n",
            "                                                                 \n",
            " dense_3 (Dense)             (None, 1024)              525312    \n",
            "                                                                 \n",
            " dense_4 (Dense)             (None, 512)               524800    \n",
            "                                                                 \n",
            " dense_5 (Dense)             (None, 100)               51300     \n",
            "                                                                 \n",
            "=================================================================\n",
            "Total params: 15,816,100\n",
            "Trainable params: 1,101,412\n",
            "Non-trainable params: 14,714,688\n",
            "_________________________________________________________________\n"
          ]
        }
      ]
    },
    {
      "cell_type": "code",
      "source": [
        "checkpointer = ModelCheckpoint(filepath='saved_models/model_vgg16.hdf5', \n",
        "                               monitor='val_accuracy', mode='max',\n",
        "                               verbose=1, save_best_only=True)\n",
        "early_stopping = EarlyStopping(monitor='val_loss', mode='min', verbose=1, patience=3)\n",
        "reduce_lr = ReduceLROnPlateau(monitor='val_loss', factor=0.2,patience=2, min_lr=0.001)\n",
        "callbacks=[early_stopping, reduce_lr, checkpointer]"
      ],
      "metadata": {
        "execution": {
          "iopub.status.busy": "2022-12-07T15:52:50.162852Z",
          "iopub.execute_input": "2022-12-07T15:52:50.163601Z",
          "iopub.status.idle": "2022-12-07T15:52:50.169767Z",
          "shell.execute_reply.started": "2022-12-07T15:52:50.163565Z",
          "shell.execute_reply": "2022-12-07T15:52:50.169004Z"
        },
        "trusted": true,
        "id": "7UAgfxSUy1Zn"
      },
      "execution_count": 21,
      "outputs": []
    },
    {
      "cell_type": "code",
      "source": [
        "history2 = model_vgg16.fit(aug.flow(X_train,y_train_ohe, batch_size=128),\n",
        "          epochs=50,validation_data=(X_val,y_val),callbacks=callbacks)"
      ],
      "metadata": {
        "execution": {
          "iopub.status.busy": "2022-12-07T15:52:50.171266Z",
          "iopub.execute_input": "2022-12-07T15:52:50.172017Z",
          "iopub.status.idle": "2022-12-07T15:57:05.915602Z",
          "shell.execute_reply.started": "2022-12-07T15:52:50.171982Z",
          "shell.execute_reply": "2022-12-07T15:57:05.91445Z"
        },
        "trusted": true,
        "id": "dgfr8uWEy1Zn",
        "outputId": "14453cc1-a696-49cf-e756-19b17fbb24c3",
        "colab": {
          "base_uri": "https://localhost:8080/"
        }
      },
      "execution_count": 22,
      "outputs": [
        {
          "output_type": "stream",
          "name": "stdout",
          "text": [
            "Epoch 1/50\n",
            "313/313 [==============================] - ETA: 0s - loss: 3.5686 - accuracy: 0.1629\n",
            "Epoch 1: val_accuracy improved from -inf to 0.24510, saving model to saved_models/model_vgg16.hdf5\n",
            "313/313 [==============================] - 24s 71ms/step - loss: 3.5686 - accuracy: 0.1629 - val_loss: 3.0501 - val_accuracy: 0.2451 - lr: 0.0010\n",
            "Epoch 2/50\n",
            "313/313 [==============================] - ETA: 0s - loss: 3.0935 - accuracy: 0.2411\n",
            "Epoch 2: val_accuracy improved from 0.24510 to 0.28480, saving model to saved_models/model_vgg16.hdf5\n",
            "313/313 [==============================] - 21s 68ms/step - loss: 3.0935 - accuracy: 0.2411 - val_loss: 2.8744 - val_accuracy: 0.2848 - lr: 0.0010\n",
            "Epoch 3/50\n",
            "313/313 [==============================] - ETA: 0s - loss: 2.9683 - accuracy: 0.2625\n",
            "Epoch 3: val_accuracy improved from 0.28480 to 0.29650, saving model to saved_models/model_vgg16.hdf5\n",
            "313/313 [==============================] - 21s 68ms/step - loss: 2.9683 - accuracy: 0.2625 - val_loss: 2.8078 - val_accuracy: 0.2965 - lr: 0.0010\n",
            "Epoch 4/50\n",
            "313/313 [==============================] - ETA: 0s - loss: 2.8746 - accuracy: 0.2783\n",
            "Epoch 4: val_accuracy improved from 0.29650 to 0.31480, saving model to saved_models/model_vgg16.hdf5\n",
            "313/313 [==============================] - 21s 68ms/step - loss: 2.8746 - accuracy: 0.2783 - val_loss: 2.7446 - val_accuracy: 0.3148 - lr: 0.0010\n",
            "Epoch 5/50\n",
            "313/313 [==============================] - ETA: 0s - loss: 2.8070 - accuracy: 0.2912\n",
            "Epoch 5: val_accuracy improved from 0.31480 to 0.32070, saving model to saved_models/model_vgg16.hdf5\n",
            "313/313 [==============================] - 21s 68ms/step - loss: 2.8070 - accuracy: 0.2912 - val_loss: 2.6634 - val_accuracy: 0.3207 - lr: 0.0010\n",
            "Epoch 6/50\n",
            "313/313 [==============================] - ETA: 0s - loss: 2.7475 - accuracy: 0.3041\n",
            "Epoch 6: val_accuracy improved from 0.32070 to 0.33110, saving model to saved_models/model_vgg16.hdf5\n",
            "313/313 [==============================] - 21s 68ms/step - loss: 2.7475 - accuracy: 0.3041 - val_loss: 2.6708 - val_accuracy: 0.3311 - lr: 0.0010\n",
            "Epoch 7/50\n",
            "313/313 [==============================] - ETA: 0s - loss: 2.6957 - accuracy: 0.3132\n",
            "Epoch 7: val_accuracy did not improve from 0.33110\n",
            "313/313 [==============================] - 21s 67ms/step - loss: 2.6957 - accuracy: 0.3132 - val_loss: 2.6371 - val_accuracy: 0.3302 - lr: 0.0010\n",
            "Epoch 8/50\n",
            "313/313 [==============================] - ETA: 0s - loss: 2.6546 - accuracy: 0.3251\n",
            "Epoch 8: val_accuracy improved from 0.33110 to 0.33530, saving model to saved_models/model_vgg16.hdf5\n",
            "313/313 [==============================] - 21s 68ms/step - loss: 2.6546 - accuracy: 0.3251 - val_loss: 2.6086 - val_accuracy: 0.3353 - lr: 0.0010\n",
            "Epoch 9/50\n",
            "313/313 [==============================] - ETA: 0s - loss: 2.6040 - accuracy: 0.3323\n",
            "Epoch 9: val_accuracy improved from 0.33530 to 0.33820, saving model to saved_models/model_vgg16.hdf5\n",
            "313/313 [==============================] - 21s 68ms/step - loss: 2.6040 - accuracy: 0.3323 - val_loss: 2.6307 - val_accuracy: 0.3382 - lr: 0.0010\n",
            "Epoch 10/50\n",
            "313/313 [==============================] - ETA: 0s - loss: 2.5744 - accuracy: 0.3391\n",
            "Epoch 10: val_accuracy did not improve from 0.33820\n",
            "313/313 [==============================] - 21s 68ms/step - loss: 2.5744 - accuracy: 0.3391 - val_loss: 2.6211 - val_accuracy: 0.3382 - lr: 0.0010\n",
            "Epoch 11/50\n",
            "313/313 [==============================] - ETA: 0s - loss: 2.5327 - accuracy: 0.3494\n",
            "Epoch 11: val_accuracy improved from 0.33820 to 0.34240, saving model to saved_models/model_vgg16.hdf5\n",
            "313/313 [==============================] - 21s 69ms/step - loss: 2.5327 - accuracy: 0.3494 - val_loss: 2.6083 - val_accuracy: 0.3424 - lr: 0.0010\n",
            "Epoch 12/50\n",
            "312/313 [============================>.] - ETA: 0s - loss: 2.5008 - accuracy: 0.3556\n",
            "Epoch 12: val_accuracy improved from 0.34240 to 0.34830, saving model to saved_models/model_vgg16.hdf5\n",
            "313/313 [==============================] - 21s 68ms/step - loss: 2.5012 - accuracy: 0.3555 - val_loss: 2.5880 - val_accuracy: 0.3483 - lr: 0.0010\n",
            "Epoch 13/50\n",
            "313/313 [==============================] - ETA: 0s - loss: 2.4674 - accuracy: 0.3621\n",
            "Epoch 13: val_accuracy did not improve from 0.34830\n",
            "313/313 [==============================] - 21s 68ms/step - loss: 2.4674 - accuracy: 0.3621 - val_loss: 2.6293 - val_accuracy: 0.3431 - lr: 0.0010\n",
            "Epoch 14/50\n",
            "313/313 [==============================] - ETA: 0s - loss: 2.4404 - accuracy: 0.3658\n",
            "Epoch 14: val_accuracy did not improve from 0.34830\n",
            "313/313 [==============================] - 21s 68ms/step - loss: 2.4404 - accuracy: 0.3658 - val_loss: 2.6627 - val_accuracy: 0.3417 - lr: 0.0010\n",
            "Epoch 15/50\n",
            "313/313 [==============================] - ETA: 0s - loss: 2.4104 - accuracy: 0.3733\n",
            "Epoch 15: val_accuracy did not improve from 0.34830\n",
            "313/313 [==============================] - 21s 68ms/step - loss: 2.4104 - accuracy: 0.3733 - val_loss: 2.6123 - val_accuracy: 0.3462 - lr: 0.0010\n",
            "Epoch 15: early stopping\n"
          ]
        }
      ]
    },
    {
      "cell_type": "code",
      "source": [
        "model_vgg16.load_weights('saved_models/model_vgg16.hdf5')"
      ],
      "metadata": {
        "execution": {
          "iopub.status.busy": "2022-12-07T15:57:05.916942Z",
          "iopub.execute_input": "2022-12-07T15:57:05.917282Z",
          "iopub.status.idle": "2022-12-07T15:57:05.987585Z",
          "shell.execute_reply.started": "2022-12-07T15:57:05.917254Z",
          "shell.execute_reply": "2022-12-07T15:57:05.986577Z"
        },
        "trusted": true,
        "id": "4o2JiYpVy1Zo"
      },
      "execution_count": 23,
      "outputs": []
    },
    {
      "cell_type": "code",
      "source": [
        "val_loss, val_accuracy = model_vgg16.evaluate(X_val, y_val)\n",
        "print('Validation loss: {}\\nValidation accuracy: {}'.format(val_loss, val_accuracy))"
      ],
      "metadata": {
        "execution": {
          "iopub.status.busy": "2022-12-07T15:57:05.989138Z",
          "iopub.execute_input": "2022-12-07T15:57:05.989522Z",
          "iopub.status.idle": "2022-12-07T15:57:08.66607Z",
          "shell.execute_reply.started": "2022-12-07T15:57:05.98948Z",
          "shell.execute_reply": "2022-12-07T15:57:08.665034Z"
        },
        "trusted": true,
        "id": "wi2gnyoay1Zo",
        "outputId": "19b88ff6-79da-4992-aa6b-8a5e7b753db1",
        "colab": {
          "base_uri": "https://localhost:8080/"
        }
      },
      "execution_count": 24,
      "outputs": [
        {
          "output_type": "stream",
          "name": "stdout",
          "text": [
            "313/313 [==============================] - 1s 3ms/step - loss: 2.5880 - accuracy: 0.3483\n",
            "Validation loss: 2.5880045890808105\n",
            "Validation accuracy: 0.3483000099658966\n"
          ]
        }
      ]
    },
    {
      "cell_type": "code",
      "source": [
        "test_loss, test_accuracy = model_vgg16.evaluate(X_test,y_test_ohe,)\n",
        "print('Testing loss: {}\\nTesting accuracy: {}'.format(test_loss, test_accuracy))"
      ],
      "metadata": {
        "execution": {
          "iopub.status.busy": "2022-12-07T15:57:08.668179Z",
          "iopub.execute_input": "2022-12-07T15:57:08.669008Z",
          "iopub.status.idle": "2022-12-07T15:57:11.60931Z",
          "shell.execute_reply.started": "2022-12-07T15:57:08.66897Z",
          "shell.execute_reply": "2022-12-07T15:57:11.608112Z"
        },
        "trusted": true,
        "id": "gw0ihzhIy1Zo",
        "outputId": "65086000-260e-41f3-f67b-cdbe0a50a9fc",
        "colab": {
          "base_uri": "https://localhost:8080/"
        }
      },
      "execution_count": 25,
      "outputs": [
        {
          "output_type": "stream",
          "name": "stdout",
          "text": [
            "313/313 [==============================] - 1s 3ms/step - loss: 2.5832 - accuracy: 0.3505\n",
            "Testing loss: 2.58323335647583\n",
            "Testing accuracy: 0.3504999876022339\n"
          ]
        }
      ]
    },
    {
      "cell_type": "code",
      "source": [],
      "metadata": {
        "id": "8ee2BEPuy1Zp"
      },
      "execution_count": 25,
      "outputs": []
    }
  ]
}