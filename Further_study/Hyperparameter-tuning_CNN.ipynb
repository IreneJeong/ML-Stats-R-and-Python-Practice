{
 "cells": [
  {
   "cell_type": "markdown",
   "metadata": {
    "_uuid": "75ba011a5cda52db2d167e75b84056b644ec8d51"
   },
   "source": [
    "##### **Installing Libraries**"
   ]
  },
  {
   "cell_type": "code",
   "execution_count": 1,
   "metadata": {
    "_cell_guid": "b1076dfc-b9ad-4769-8c92-a6c4dae69d19",
    "_uuid": "8f2839f25d086af736a60e9eeb907d3b93b6e0e5"
   },
   "outputs": [
    {
     "name": "stderr",
     "output_type": "stream",
     "text": [
      "Using TensorFlow backend.\n"
     ]
    },
    {
     "name": "stdout",
     "output_type": "stream",
     "text": [
      "diabetic-retinopathy-detection\n",
      "prepossessed-arrays-of-binary-data\n",
      "\n"
     ]
    }
   ],
   "source": [
    "import numpy as np \n",
    "import pandas as pd \n",
    "import matplotlib.pyplot as plt\n",
    "%matplotlib inline \n",
    "\n",
    "import seaborn as sns\n",
    "from keras.utils import to_categorical  \n",
    "\n",
    "import os\n",
    "import cv2 \n",
    "from subprocess import check_output\n",
    "print(check_output([\"ls\", \"../input\"]).decode(\"utf8\"))"
   ]
  },
  {
   "cell_type": "code",
   "execution_count": 2,
   "metadata": {
    "_uuid": "c52014240e6f425e79109cfb4575941eba5704a2",
    "scrolled": true
   },
   "outputs": [
    {
     "name": "stdout",
     "output_type": "stream",
     "text": [
      "      image  level\n",
      "0   10_left      0\n",
      "1  10_right      0\n",
      "2   13_left      0\n",
      "3  13_right      0\n",
      "4   15_left      1\n"
     ]
    }
   ],
   "source": [
    "temp_df=pd.read_csv('../input/diabetic-retinopathy-detection/trainLabels.csv.zip') \n",
    "print(temp_df.head()) \n",
    "image=temp_df['image'].str.split('_',n=1,expand=True)  \n",
    "df = pd.DataFrame()"
   ]
  },
  {
   "cell_type": "code",
   "execution_count": 3,
   "metadata": {},
   "outputs": [
    {
     "data": {
      "text/html": [
       "<div>\n",
       "<style scoped>\n",
       "    .dataframe tbody tr th:only-of-type {\n",
       "        vertical-align: middle;\n",
       "    }\n",
       "\n",
       "    .dataframe tbody tr th {\n",
       "        vertical-align: top;\n",
       "    }\n",
       "\n",
       "    .dataframe thead th {\n",
       "        text-align: right;\n",
       "    }\n",
       "</style>\n",
       "<table border=\"1\" class=\"dataframe\">\n",
       "  <thead>\n",
       "    <tr style=\"text-align: right;\">\n",
       "      <th></th>\n",
       "      <th>eye_side</th>\n",
       "    </tr>\n",
       "  </thead>\n",
       "  <tbody>\n",
       "    <tr>\n",
       "      <th>0</th>\n",
       "      <td>left</td>\n",
       "    </tr>\n",
       "    <tr>\n",
       "      <th>1</th>\n",
       "      <td>right</td>\n",
       "    </tr>\n",
       "    <tr>\n",
       "      <th>2</th>\n",
       "      <td>left</td>\n",
       "    </tr>\n",
       "    <tr>\n",
       "      <th>3</th>\n",
       "      <td>right</td>\n",
       "    </tr>\n",
       "    <tr>\n",
       "      <th>4</th>\n",
       "      <td>left</td>\n",
       "    </tr>\n",
       "  </tbody>\n",
       "</table>\n",
       "</div>"
      ],
      "text/plain": [
       "  eye_side\n",
       "0     left\n",
       "1    right\n",
       "2     left\n",
       "3    right\n",
       "4     left"
      ]
     },
     "execution_count": 3,
     "metadata": {},
     "output_type": "execute_result"
    }
   ],
   "source": [
    "df['eye_side']=list(image[1]) \n",
    "df.head()"
   ]
  },
  {
   "cell_type": "code",
   "execution_count": 4,
   "metadata": {},
   "outputs": [
    {
     "data": {
      "text/html": [
       "<div>\n",
       "<style scoped>\n",
       "    .dataframe tbody tr th:only-of-type {\n",
       "        vertical-align: middle;\n",
       "    }\n",
       "\n",
       "    .dataframe tbody tr th {\n",
       "        vertical-align: top;\n",
       "    }\n",
       "\n",
       "    .dataframe thead th {\n",
       "        text-align: right;\n",
       "    }\n",
       "</style>\n",
       "<table border=\"1\" class=\"dataframe\">\n",
       "  <thead>\n",
       "    <tr style=\"text-align: right;\">\n",
       "      <th></th>\n",
       "      <th>eye_side</th>\n",
       "      <th>patient_id</th>\n",
       "    </tr>\n",
       "  </thead>\n",
       "  <tbody>\n",
       "    <tr>\n",
       "      <th>0</th>\n",
       "      <td>left</td>\n",
       "      <td>10</td>\n",
       "    </tr>\n",
       "    <tr>\n",
       "      <th>1</th>\n",
       "      <td>right</td>\n",
       "      <td>10</td>\n",
       "    </tr>\n",
       "    <tr>\n",
       "      <th>2</th>\n",
       "      <td>left</td>\n",
       "      <td>13</td>\n",
       "    </tr>\n",
       "    <tr>\n",
       "      <th>3</th>\n",
       "      <td>right</td>\n",
       "      <td>13</td>\n",
       "    </tr>\n",
       "    <tr>\n",
       "      <th>4</th>\n",
       "      <td>left</td>\n",
       "      <td>15</td>\n",
       "    </tr>\n",
       "  </tbody>\n",
       "</table>\n",
       "</div>"
      ],
      "text/plain": [
       "  eye_side patient_id\n",
       "0     left         10\n",
       "1    right         10\n",
       "2     left         13\n",
       "3    right         13\n",
       "4     left         15"
      ]
     },
     "execution_count": 4,
     "metadata": {},
     "output_type": "execute_result"
    }
   ],
   "source": [
    "df['patient_id']=list(image[0])\n",
    "df.head()"
   ]
  },
  {
   "cell_type": "code",
   "execution_count": 5,
   "metadata": {},
   "outputs": [
    {
     "data": {
      "text/html": [
       "<div>\n",
       "<style scoped>\n",
       "    .dataframe tbody tr th:only-of-type {\n",
       "        vertical-align: middle;\n",
       "    }\n",
       "\n",
       "    .dataframe tbody tr th {\n",
       "        vertical-align: top;\n",
       "    }\n",
       "\n",
       "    .dataframe thead th {\n",
       "        text-align: right;\n",
       "    }\n",
       "</style>\n",
       "<table border=\"1\" class=\"dataframe\">\n",
       "  <thead>\n",
       "    <tr style=\"text-align: right;\">\n",
       "      <th></th>\n",
       "      <th>eye_side</th>\n",
       "      <th>patient_id</th>\n",
       "      <th>path</th>\n",
       "    </tr>\n",
       "  </thead>\n",
       "  <tbody>\n",
       "    <tr>\n",
       "      <th>0</th>\n",
       "      <td>left</td>\n",
       "      <td>10</td>\n",
       "      <td>../input/diabetic-retinopathy-detection/10_lef...</td>\n",
       "    </tr>\n",
       "    <tr>\n",
       "      <th>1</th>\n",
       "      <td>right</td>\n",
       "      <td>10</td>\n",
       "      <td>../input/diabetic-retinopathy-detection/10_rig...</td>\n",
       "    </tr>\n",
       "    <tr>\n",
       "      <th>2</th>\n",
       "      <td>left</td>\n",
       "      <td>13</td>\n",
       "      <td>../input/diabetic-retinopathy-detection/13_lef...</td>\n",
       "    </tr>\n",
       "    <tr>\n",
       "      <th>3</th>\n",
       "      <td>right</td>\n",
       "      <td>13</td>\n",
       "      <td>../input/diabetic-retinopathy-detection/13_rig...</td>\n",
       "    </tr>\n",
       "    <tr>\n",
       "      <th>4</th>\n",
       "      <td>left</td>\n",
       "      <td>15</td>\n",
       "      <td>../input/diabetic-retinopathy-detection/15_lef...</td>\n",
       "    </tr>\n",
       "  </tbody>\n",
       "</table>\n",
       "</div>"
      ],
      "text/plain": [
       "  eye_side                        ...                                                                       path\n",
       "0     left                        ...                          ../input/diabetic-retinopathy-detection/10_lef...\n",
       "1    right                        ...                          ../input/diabetic-retinopathy-detection/10_rig...\n",
       "2     left                        ...                          ../input/diabetic-retinopathy-detection/13_lef...\n",
       "3    right                        ...                          ../input/diabetic-retinopathy-detection/13_rig...\n",
       "4     left                        ...                          ../input/diabetic-retinopathy-detection/15_lef...\n",
       "\n",
       "[5 rows x 3 columns]"
      ]
     },
     "execution_count": 5,
     "metadata": {},
     "output_type": "execute_result"
    }
   ],
   "source": [
    "df['path']='../input/diabetic-retinopathy-detection/' \n",
    "df['path']=df['path'].str.cat(temp_df['image']+'.jpeg') \n",
    "df.head()"
   ]
  },
  {
   "cell_type": "code",
   "execution_count": 6,
   "metadata": {},
   "outputs": [
    {
     "data": {
      "text/html": [
       "<div>\n",
       "<style scoped>\n",
       "    .dataframe tbody tr th:only-of-type {\n",
       "        vertical-align: middle;\n",
       "    }\n",
       "\n",
       "    .dataframe tbody tr th {\n",
       "        vertical-align: top;\n",
       "    }\n",
       "\n",
       "    .dataframe thead th {\n",
       "        text-align: right;\n",
       "    }\n",
       "</style>\n",
       "<table border=\"1\" class=\"dataframe\">\n",
       "  <thead>\n",
       "    <tr style=\"text-align: right;\">\n",
       "      <th></th>\n",
       "      <th>eye_side</th>\n",
       "      <th>patient_id</th>\n",
       "      <th>path</th>\n",
       "      <th>level</th>\n",
       "    </tr>\n",
       "  </thead>\n",
       "  <tbody>\n",
       "    <tr>\n",
       "      <th>0</th>\n",
       "      <td>left</td>\n",
       "      <td>10</td>\n",
       "      <td>../input/diabetic-retinopathy-detection/10_lef...</td>\n",
       "      <td>0</td>\n",
       "    </tr>\n",
       "    <tr>\n",
       "      <th>1</th>\n",
       "      <td>right</td>\n",
       "      <td>10</td>\n",
       "      <td>../input/diabetic-retinopathy-detection/10_rig...</td>\n",
       "      <td>0</td>\n",
       "    </tr>\n",
       "    <tr>\n",
       "      <th>2</th>\n",
       "      <td>left</td>\n",
       "      <td>13</td>\n",
       "      <td>../input/diabetic-retinopathy-detection/13_lef...</td>\n",
       "      <td>0</td>\n",
       "    </tr>\n",
       "    <tr>\n",
       "      <th>3</th>\n",
       "      <td>right</td>\n",
       "      <td>13</td>\n",
       "      <td>../input/diabetic-retinopathy-detection/13_rig...</td>\n",
       "      <td>0</td>\n",
       "    </tr>\n",
       "    <tr>\n",
       "      <th>4</th>\n",
       "      <td>left</td>\n",
       "      <td>15</td>\n",
       "      <td>../input/diabetic-retinopathy-detection/15_lef...</td>\n",
       "      <td>1</td>\n",
       "    </tr>\n",
       "  </tbody>\n",
       "</table>\n",
       "</div>"
      ],
      "text/plain": [
       "  eye_side  ...  level\n",
       "0     left  ...      0\n",
       "1    right  ...      0\n",
       "2     left  ...      0\n",
       "3    right  ...      0\n",
       "4     left  ...      1\n",
       "\n",
       "[5 rows x 4 columns]"
      ]
     },
     "execution_count": 6,
     "metadata": {},
     "output_type": "execute_result"
    }
   ],
   "source": [
    "df['level']=temp_df['level']\n",
    "df.head()"
   ]
  },
  {
   "cell_type": "code",
   "execution_count": 7,
   "metadata": {},
   "outputs": [
    {
     "data": {
      "text/html": [
       "<div>\n",
       "<style scoped>\n",
       "    .dataframe tbody tr th:only-of-type {\n",
       "        vertical-align: middle;\n",
       "    }\n",
       "\n",
       "    .dataframe tbody tr th {\n",
       "        vertical-align: top;\n",
       "    }\n",
       "\n",
       "    .dataframe thead th {\n",
       "        text-align: right;\n",
       "    }\n",
       "</style>\n",
       "<table border=\"1\" class=\"dataframe\">\n",
       "  <thead>\n",
       "    <tr style=\"text-align: right;\">\n",
       "      <th></th>\n",
       "      <th>eye_side</th>\n",
       "      <th>patient_id</th>\n",
       "      <th>path</th>\n",
       "      <th>level</th>\n",
       "      <th>level_cat</th>\n",
       "    </tr>\n",
       "  </thead>\n",
       "  <tbody>\n",
       "    <tr>\n",
       "      <th>0</th>\n",
       "      <td>left</td>\n",
       "      <td>10</td>\n",
       "      <td>../input/diabetic-retinopathy-detection/10_lef...</td>\n",
       "      <td>0</td>\n",
       "      <td>[1.0, 0.0, 0.0, 0.0, 0.0]</td>\n",
       "    </tr>\n",
       "    <tr>\n",
       "      <th>1</th>\n",
       "      <td>right</td>\n",
       "      <td>10</td>\n",
       "      <td>../input/diabetic-retinopathy-detection/10_rig...</td>\n",
       "      <td>0</td>\n",
       "      <td>[1.0, 0.0, 0.0, 0.0, 0.0]</td>\n",
       "    </tr>\n",
       "    <tr>\n",
       "      <th>2</th>\n",
       "      <td>left</td>\n",
       "      <td>13</td>\n",
       "      <td>../input/diabetic-retinopathy-detection/13_lef...</td>\n",
       "      <td>0</td>\n",
       "      <td>[1.0, 0.0, 0.0, 0.0, 0.0]</td>\n",
       "    </tr>\n",
       "    <tr>\n",
       "      <th>3</th>\n",
       "      <td>right</td>\n",
       "      <td>13</td>\n",
       "      <td>../input/diabetic-retinopathy-detection/13_rig...</td>\n",
       "      <td>0</td>\n",
       "      <td>[1.0, 0.0, 0.0, 0.0, 0.0]</td>\n",
       "    </tr>\n",
       "    <tr>\n",
       "      <th>4</th>\n",
       "      <td>left</td>\n",
       "      <td>15</td>\n",
       "      <td>../input/diabetic-retinopathy-detection/15_lef...</td>\n",
       "      <td>1</td>\n",
       "      <td>[0.0, 1.0, 0.0, 0.0, 0.0]</td>\n",
       "    </tr>\n",
       "  </tbody>\n",
       "</table>\n",
       "</div>"
      ],
      "text/plain": [
       "  eye_side            ...                              level_cat\n",
       "0     left            ...              [1.0, 0.0, 0.0, 0.0, 0.0]\n",
       "1    right            ...              [1.0, 0.0, 0.0, 0.0, 0.0]\n",
       "2     left            ...              [1.0, 0.0, 0.0, 0.0, 0.0]\n",
       "3    right            ...              [1.0, 0.0, 0.0, 0.0, 0.0]\n",
       "4     left            ...              [0.0, 1.0, 0.0, 0.0, 0.0]\n",
       "\n",
       "[5 rows x 5 columns]"
      ]
     },
     "execution_count": 7,
     "metadata": {},
     "output_type": "execute_result"
    }
   ],
   "source": [
    "df['level_cat'] = df['level'].map(lambda x: to_categorical(x, 1+df['level'].max()))\n",
    "df.head()"
   ]
  },
  {
   "cell_type": "markdown",
   "metadata": {
    "_uuid": "3a19b4836926d19a2dcf33a87901c66aadbb354f"
   },
   "source": [
    "**Visualization**\n"
   ]
  },
  {
   "cell_type": "code",
   "execution_count": 8,
   "metadata": {
    "_uuid": "624db2a543159b9a9ccfe2a02036fc755927bb8d",
    "scrolled": true
   },
   "outputs": [
    {
     "name": "stdout",
     "output_type": "stream",
     "text": [
      "[0 0 0 0 1]\n"
     ]
    }
   ],
   "source": [
    "sizes = df['level'].values \n",
    "print(sizes[0:5])"
   ]
  },
  {
   "cell_type": "code",
   "execution_count": 9,
   "metadata": {
    "_uuid": "5c1d2931363854e96d6e0623a7e750f8f640d31d"
   },
   "outputs": [
    {
     "name": "stderr",
     "output_type": "stream",
     "text": [
      "/opt/conda/lib/python3.6/site-packages/scipy/stats/stats.py:1713: FutureWarning: Using a non-tuple sequence for multidimensional indexing is deprecated; use `arr[tuple(seq)]` instead of `arr[seq]`. In the future this will be interpreted as an array index, `arr[np.array(seq)]`, which will result either in an error or a different result.\n",
      "  return np.add.reduce(sorted[indexer] * weights, axis=axis) / sumval\n"
     ]
    },
    {
     "data": {
      "text/plain": [
       "<matplotlib.axes._subplots.AxesSubplot at 0x7fee6c7630b8>"
      ]
     },
     "execution_count": 9,
     "metadata": {},
     "output_type": "execute_result"
    },
    {
     "data": {
      "image/png": "[encoded data removed]",
      "text/plain": [
       "<Figure size 432x288 with 1 Axes>"
      ]
     },
     "metadata": {},
     "output_type": "display_data"
    }
   ],
   "source": [
    "sns.distplot(sizes, kde=False)"
   ]
  },
  {
   "cell_type": "code",
   "execution_count": 10,
   "metadata": {
    "_uuid": "50cee6f84bec0ab61acc2d715a9c94911b92fb12"
   },
   "outputs": [
    {
     "data": {
      "text/plain": [
       "0    25810\n",
       "2     5292\n",
       "1     2443\n",
       "3      873\n",
       "4      708\n",
       "dtype: int64"
      ]
     },
     "execution_count": 10,
     "metadata": {},
     "output_type": "execute_result"
    }
   ],
   "source": [
    "pd.value_counts(sizes) "
   ]
  },
  {
   "cell_type": "code",
   "execution_count": 11,
   "metadata": {
    "_uuid": "44b0d93a24fe74e7ab50ae44f80e8a2f056d3992"
   },
   "outputs": [
    {
     "name": "stdout",
     "output_type": "stream",
     "text": [
      "9316\n"
     ]
    }
   ],
   "source": [
    "sum_E=0\n",
    "for i in range (1,5):\n",
    "    L1_df=pd.DataFrame()\n",
    "    L1_df =df [df.level==i]\n",
    "    x=len(L1_df)\n",
    "    sum_E=x+sum_E\n",
    "print(sum_E)"
   ]
  },
  {
   "cell_type": "markdown",
   "metadata": {
    "_uuid": "960b877a59081a2445f343cc84473f152a58276c"
   },
   "source": [
    "**loading my saving Binary data**"
   ]
  },
  {
   "cell_type": "code",
   "execution_count": 12,
   "metadata": {
    "_uuid": "ab834012666408e5568e484721784baad278b651",
    "scrolled": true
   },
   "outputs": [
    {
     "data": {
      "text/html": [
       "<div>\n",
       "<style scoped>\n",
       "    .dataframe tbody tr th:only-of-type {\n",
       "        vertical-align: middle;\n",
       "    }\n",
       "\n",
       "    .dataframe tbody tr th {\n",
       "        vertical-align: top;\n",
       "    }\n",
       "\n",
       "    .dataframe thead th {\n",
       "        text-align: right;\n",
       "    }\n",
       "</style>\n",
       "<table border=\"1\" class=\"dataframe\">\n",
       "  <thead>\n",
       "    <tr style=\"text-align: right;\">\n",
       "      <th></th>\n",
       "      <th>exists</th>\n",
       "      <th>eye_side</th>\n",
       "      <th>level</th>\n",
       "      <th>path</th>\n",
       "      <th>patient_id</th>\n",
       "      <th>level_cat</th>\n",
       "    </tr>\n",
       "  </thead>\n",
       "  <tbody>\n",
       "    <tr>\n",
       "      <th>0</th>\n",
       "      <td>True</td>\n",
       "      <td>left</td>\n",
       "      <td>0</td>\n",
       "      <td>../input/diabetic-retinopathy-detection/10_lef...</td>\n",
       "      <td>10</td>\n",
       "      <td>[1. 0.]</td>\n",
       "    </tr>\n",
       "    <tr>\n",
       "      <th>1</th>\n",
       "      <td>True</td>\n",
       "      <td>right</td>\n",
       "      <td>0</td>\n",
       "      <td>../input/diabetic-retinopathy-detection/10_rig...</td>\n",
       "      <td>10</td>\n",
       "      <td>[1. 0.]</td>\n",
       "    </tr>\n",
       "    <tr>\n",
       "      <th>2</th>\n",
       "      <td>True</td>\n",
       "      <td>left</td>\n",
       "      <td>0</td>\n",
       "      <td>../input/diabetic-retinopathy-detection/13_lef...</td>\n",
       "      <td>13</td>\n",
       "      <td>[1. 0.]</td>\n",
       "    </tr>\n",
       "    <tr>\n",
       "      <th>3</th>\n",
       "      <td>True</td>\n",
       "      <td>right</td>\n",
       "      <td>0</td>\n",
       "      <td>../input/diabetic-retinopathy-detection/13_rig...</td>\n",
       "      <td>13</td>\n",
       "      <td>[1. 0.]</td>\n",
       "    </tr>\n",
       "    <tr>\n",
       "      <th>4</th>\n",
       "      <td>True</td>\n",
       "      <td>left</td>\n",
       "      <td>0</td>\n",
       "      <td>../input/diabetic-retinopathy-detection/17_lef...</td>\n",
       "      <td>17</td>\n",
       "      <td>[1. 0.]</td>\n",
       "    </tr>\n",
       "    <tr>\n",
       "      <th>5</th>\n",
       "      <td>True</td>\n",
       "      <td>left</td>\n",
       "      <td>0</td>\n",
       "      <td>../input/diabetic-retinopathy-detection/19_lef...</td>\n",
       "      <td>19</td>\n",
       "      <td>[1. 0.]</td>\n",
       "    </tr>\n",
       "    <tr>\n",
       "      <th>6</th>\n",
       "      <td>True</td>\n",
       "      <td>right</td>\n",
       "      <td>0</td>\n",
       "      <td>../input/diabetic-retinopathy-detection/19_rig...</td>\n",
       "      <td>19</td>\n",
       "      <td>[1. 0.]</td>\n",
       "    </tr>\n",
       "    <tr>\n",
       "      <th>7</th>\n",
       "      <td>True</td>\n",
       "      <td>left</td>\n",
       "      <td>0</td>\n",
       "      <td>../input/diabetic-retinopathy-detection/20_lef...</td>\n",
       "      <td>20</td>\n",
       "      <td>[1. 0.]</td>\n",
       "    </tr>\n",
       "    <tr>\n",
       "      <th>8</th>\n",
       "      <td>True</td>\n",
       "      <td>right</td>\n",
       "      <td>0</td>\n",
       "      <td>../input/diabetic-retinopathy-detection/20_rig...</td>\n",
       "      <td>20</td>\n",
       "      <td>[1. 0.]</td>\n",
       "    </tr>\n",
       "    <tr>\n",
       "      <th>9</th>\n",
       "      <td>True</td>\n",
       "      <td>left</td>\n",
       "      <td>0</td>\n",
       "      <td>../input/diabetic-retinopathy-detection/21_lef...</td>\n",
       "      <td>21</td>\n",
       "      <td>[1. 0.]</td>\n",
       "    </tr>\n",
       "  </tbody>\n",
       "</table>\n",
       "</div>"
      ],
      "text/plain": [
       "   exists eye_side    ...     patient_id level_cat\n",
       "0    True     left    ...             10   [1. 0.]\n",
       "1    True    right    ...             10   [1. 0.]\n",
       "2    True     left    ...             13   [1. 0.]\n",
       "3    True    right    ...             13   [1. 0.]\n",
       "4    True     left    ...             17   [1. 0.]\n",
       "5    True     left    ...             19   [1. 0.]\n",
       "6    True    right    ...             19   [1. 0.]\n",
       "7    True     left    ...             20   [1. 0.]\n",
       "8    True    right    ...             20   [1. 0.]\n",
       "9    True     left    ...             21   [1. 0.]\n",
       "\n",
       "[10 rows x 6 columns]"
      ]
     },
     "execution_count": 12,
     "metadata": {},
     "output_type": "execute_result"
    }
   ],
   "source": [
    "B_df=pd.read_csv('../input/prepossessed-arrays-of-binary-data/1000_Binary Dataframe')\n",
    "B_df=B_df.drop('Unnamed: 0',axis=1)\n",
    "B_df.head(10)"
   ]
  },
  {
   "cell_type": "code",
   "execution_count": 13,
   "metadata": {
    "_uuid": "c4780a38f50a2fde101dfb4dcdb3787c74e578c1"
   },
   "outputs": [
    {
     "name": "stderr",
     "output_type": "stream",
     "text": [
      "/opt/conda/lib/python3.6/site-packages/scipy/stats/stats.py:1713: FutureWarning: Using a non-tuple sequence for multidimensional indexing is deprecated; use `arr[tuple(seq)]` instead of `arr[seq]`. In the future this will be interpreted as an array index, `arr[np.array(seq)]`, which will result either in an error or a different result.\n",
      "  return np.add.reduce(sorted[indexer] * weights, axis=axis) / sumval\n"
     ]
    },
    {
     "data": {
      "image/png": "[encoded data removed]",
      "text/plain": [
       "<Figure size 432x288 with 1 Axes>"
      ]
     },
     "metadata": {},
     "output_type": "display_data"
    }
   ],
   "source": [
    "sizes =B_df['level'].values\n",
    "sns.distplot(sizes, kde=False); # Visualizing levels in dataset"
   ]
  },
  {
   "cell_type": "markdown",
   "metadata": {
    "_uuid": "a6da57f88204abf9fa7635edb1c43b3e0919449f"
   },
   "source": [
    "**loading My numpy array which I saved**"
   ]
  },
  {
   "cell_type": "code",
   "execution_count": 14,
   "metadata": {
    "_uuid": "3c831d9a6bd26e2daf869fe63f331140a05a1c04"
   },
   "outputs": [
    {
     "name": "stdout",
     "output_type": "stream",
     "text": [
      "(1000, 24300)\n",
      "(1000, 49152)\n",
      "(1000, 209088)\n",
      "(1000,)\n"
     ]
    }
   ],
   "source": [
    "Binary_90 = np.load('../input/prepossessed-arrays-of-binary-data/1000_Binary_images_data_90.npz')\n",
    "X_90=Binary_90['a']\n",
    "Binary_128 = np.load('../input/prepossessed-arrays-of-binary-data/1000_Binary_images_data_128.npz')\n",
    "X_128=Binary_128['a']\n",
    "Binary_264 = np.load('../input/prepossessed-arrays-of-binary-data/1000_Binary_images_data_264.npz')\n",
    "X_264=Binary_264['a']\n",
    "y=B_df['level'].values\n",
    "\n",
    "\n",
    "print(X_90.shape)\n",
    "print(X_128.shape)\n",
    "print(X_264.shape)\n",
    "print(y.shape)"
   ]
  },
  {
   "cell_type": "code",
   "execution_count": 15,
   "metadata": {
    "_uuid": "7315b6c277900108ec972a851987109ac5b62840"
   },
   "outputs": [
    {
     "name": "stdout",
     "output_type": "stream",
     "text": [
      "Shape before reshaping X_90(1000, 24300)\n",
      "Shape after reshaping X_90(1000, 90, 90, 3)\n",
      "\n",
      "\n",
      "\n",
      "Shape before reshaping X_128(1000, 49152)\n",
      "Shape after reshaping X_128(1000, 128, 128, 3)\n",
      "\n",
      "\n",
      "\n",
      "Shape before reshaping X_264(1000, 209088)\n",
      "Shape after reshaping X_264(1000, 264, 264, 3)\n"
     ]
    }
   ],
   "source": [
    "print(\"Shape before reshaping X_90\" +str(X_90.shape))\n",
    "X_90=X_90.reshape(1000,90,90,3)\n",
    "print(\"Shape after reshaping X_90\" +str(X_90.shape))\n",
    "print(\"\\n\\n\")\n",
    "\n",
    "print(\"Shape before reshaping X_128\" +str(X_128.shape))\n",
    "X_128=X_128.reshape(1000,128,128,3)\n",
    "print(\"Shape after reshaping X_128\" +str(X_128.shape))\n",
    "print(\"\\n\\n\")\n",
    "\n",
    "print(\"Shape before reshaping X_264\" +str(X_264.shape))\n",
    "X_264=X_264.reshape(1000,264,264,3)\n",
    "print(\"Shape after reshaping X_264\" +str(X_264.shape))\n"
   ]
  },
  {
   "cell_type": "markdown",
   "metadata": {
    "_uuid": "bc7d08ede0dc563bd221e6004aa8898bae6d5c9e"
   },
   "source": [
    "**Confirming that image path on 1st index of data frame is same as the image at 1st index of the Np Arrays**"
   ]
  },
  {
   "cell_type": "code",
   "execution_count": 16,
   "metadata": {
    "_uuid": "9632d11c1430af93ff6f7b2e63d45ea2b266264e"
   },
   "outputs": [
    {
     "data": {
      "image/png": "[encoded data removed]",
      "text/plain": [
       "<Figure size 432x288 with 1 Axes>"
      ]
     },
     "metadata": {},
     "output_type": "display_data"
    },
    {
     "data": {
      "image/png": "[encoded data removed]",
      "text/plain": [
       "<Figure size 432x288 with 1 Axes>"
      ]
     },
     "metadata": {},
     "output_type": "display_data"
    }
   ],
   "source": [
    "plt.title(\"128*128*3 Image\")\n",
    "plt.imshow(X_128[1])\n",
    "plt.show()\n",
    "\n",
    "plt.title(\"264*264*3 Image\")\n",
    "plt.imshow(X_264[1])\n",
    "plt.show()"
   ]
  },
  {
   "cell_type": "markdown",
   "metadata": {
    "_uuid": "e769cdf35a7cddeeefd8ce29ea71e7e9a6bea9f8"
   },
   "source": [
    "**Its seem to be same now thats good for us**"
   ]
  },
  {
   "cell_type": "markdown",
   "metadata": {
    "_uuid": "a3605da2dd2e8140f7b14fa5b12bdeb488280052"
   },
   "source": [
    "**Now I have my X and Y. Now its time for spliting and training**"
   ]
  },
  {
   "cell_type": "code",
   "execution_count": 17,
   "metadata": {
    "_uuid": "9947540f03908f2340b1de637fd306f15c52d455"
   },
   "outputs": [
    {
     "data": {
      "text/plain": [
       "(1000,)"
      ]
     },
     "execution_count": 17,
     "metadata": {},
     "output_type": "execute_result"
    }
   ],
   "source": [
    "y.shape"
   ]
  },
  {
   "cell_type": "code",
   "execution_count": 18,
   "metadata": {
    "_uuid": "e08529b5824b56a61fd1cc99c985c12345906258"
   },
   "outputs": [],
   "source": [
    "from sklearn.model_selection import train_test_split\n",
    "X_train, X_test, y_train, y_test = train_test_split(\n",
    "    X_128,y, test_size=0.10, random_state=42)\n",
    "y_train = to_categorical(y_train, num_classes=2)\n",
    "y_test_Categorical=to_categorical(y_test)\n",
    "y_categorical =to_categorical(y)"
   ]
  },
  {
   "cell_type": "markdown",
   "metadata": {
    "_uuid": "295eb6aff84b1018e66376d105ead5990e55d7cf"
   },
   "source": [
    "## CNN Model"
   ]
  },
  {
   "cell_type": "code",
   "execution_count": 19,
   "metadata": {
    "_uuid": "f448c61a56313d50de76aa71a032b79169397f44"
   },
   "outputs": [],
   "source": [
    "from keras.models import Sequential,Model\n",
    "from keras.layers import Conv2D,MaxPooling2D,Dense,Flatten,Dropout,Activation\n",
    "from keras import losses\n",
    "from keras.optimizers import Adam, Adagrad\n",
    "from keras.callbacks import EarlyStopping\n",
    "from keras import regularizers\n",
    "from sklearn.model_selection import GridSearchCV\n",
    "import keras\n",
    "#import talos as ta"
   ]
  },
  {
   "cell_type": "markdown",
   "metadata": {
    "_uuid": "1b611e55d174313671d5eb5c3e1653f157218459"
   },
   "source": [
    "**Talos Model For HyperParameter Optimization**"
   ]
  },
  {
   "cell_type": "code",
   "execution_count": 20,
   "metadata": {
    "_uuid": "36badd189ef2fb415aeffb4803ed766fa4d492a9"
   },
   "outputs": [],
   "source": [
    "\n",
    "def Talos_Model(X_train, y_train, X_test, y_test, params):\n",
    "    #parameters defined\n",
    "    lr = params['lr']\n",
    "    epochs=params['epochs']\n",
    "    dropout_rate=params['dropout']\n",
    "    optimizer=params['optimizer']\n",
    "    loss=params['loss']\n",
    "    last_activation=params['last_activation']\n",
    "    activation=params['activation']\n",
    "    clipnorm=params['clipnorm']\n",
    "    decay=params['decay']\n",
    "    momentum=params['momentum']\n",
    "    l1=params['l1']\n",
    "    l2=params['l2']\n",
    "    No_of_CONV_and_Maxpool_layers=params['No_of_CONV_and_Maxpool_layers']\n",
    "    No_of_Dense_Layers =params['No_of_Dense_Layers']\n",
    "    No_of_Units_in_dense_layers=params['No_of_Units_in_dense_layers']\n",
    "    Kernal_Size=params['Kernal_Size']\n",
    "    Conv2d_filters=params['Conv2d_filters']\n",
    "    pool_size_p=params['pool_size']\n",
    "    padding_p=params['padding']\n",
    "    \n",
    "    model=Sequential()\n",
    "    \n",
    "    for i in range(0,No_of_CONV_and_Maxpool_layers):\n",
    "        model.add(Conv2D(Conv2d_filters, Kernal_Size ,padding=padding_p))\n",
    "        model.add(Activation(activation))\n",
    "        model.add(MaxPooling2D(pool_size=pool_size_p,strides=(2,2)))\n",
    "    \n",
    "    \n",
    "    model.add(Flatten())\n",
    "    \n",
    "    for i in range (0,No_of_Dense_Layers):\n",
    "        model.add(Dense(units=No_of_Units_in_dense_layers,activation=activation, kernel_regularizer=regularizers.l2(l2),\n",
    "                  activity_regularizer=regularizers.l1(l1)))\n",
    "    \n",
    "    \n",
    "    model.add(Dense(units=20,activation=activation))\n",
    "    \n",
    "    model.add(Dense(units=2,activation=activation))\n",
    "    if optimizer==\"Adam\":\n",
    "        opt=keras.optimizers.Adam(lr=lr, decay=decay, beta_1=0.9, beta_2=0.999)\n",
    "    if optimizer==\"Adagrad\":\n",
    "        opt=keras.optimizers.Adagrad(lr=lr, epsilon=None, decay=decay)\n",
    "    if optimizer==\"sgd\":\n",
    "        opt=keras.optimizers.SGD(lr=lr, momentum=momentum, decay=decay, nesterov=False)\n",
    "    \n",
    "    model.compile(loss=loss,optimizer=opt,\n",
    "                 metrics=['accuracy'])\n",
    "    \n",
    "    out = model.fit(X_train, y_train, epochs=params['epochs'])\n",
    "\n",
    "    return out,model"
   ]
  },
  {
   "cell_type": "code",
   "execution_count": 21,
   "metadata": {
    "_uuid": "358358559fd08bf1270875e1ca43915894f4d072"
   },
   "outputs": [],
   "source": [
    "params = {'lr': (0.1, 0.01,1 ),\n",
    "     'epochs': [10,5,15],\n",
    "     'dropout': (0, 0.40, 0.8),\n",
    "     'optimizer': [\"Adam\",\"Adagrad\",\"sgd\"],\n",
    "     'loss': [\"binary_crossentropy\",\"mean_squared_error\",\"mean_absolute_error\"],\n",
    "     'last_activation': [\"softmax\",\"sigmoid\"],\n",
    "     'activation' :[\"relu\",\"selu\",\"linear\"],\n",
    "     'clipnorm':(0.0,0.5,1),\n",
    "     'decay':(1e-6,1e-4,1e-2),\n",
    "     'momentum':(0.9,0.5,0.2),\n",
    "     'l1': (0.01,0.001,0.0001),\n",
    "     'l2': (0.01,0.001,0.0001),\n",
    "     'No_of_CONV_and_Maxpool_layers':[2,3],\n",
    "     'No_of_Dense_Layers': [2,3,4],\n",
    "     'No_of_Units_in_dense_layers':[128,64,32,256],\n",
    "     'Kernal_Size':[(2,2),(4,4),(6,6)],\n",
    "     'Conv2d_filters':[60,40,80,120],\n",
    "     'pool_size':[(2,2),(4,4)],\n",
    "     'padding':[\"valid\",\"same\"]\n",
    "    }"
   ]
  },
  {
   "cell_type": "markdown",
   "metadata": {
    "_uuid": "99270f00dfbe4315b472e374f6c49988bf9f6b71"
   },
   "source": [
    "**Randomized Search For Hyperparameter tuning**"
   ]
  },
  {
   "cell_type": "code",
   "execution_count": 22,
   "metadata": {
    "_uuid": "172cc2216ae33cc288cd8dfb6cb12ab1d762b68b"
   },
   "outputs": [],
   "source": [
    "\n",
    "def Randomized_Model(lr=0.01,dropout=0.5,optimizer=\"adam\",loss='mean_squared_error',\n",
    "                    last_activation=\"softmax\",activation=\"relu\",clipnorm=0.1,\n",
    "                    decay=1e-2,momentum=0.5,l1=0.01,l2=0.001,No_of_CONV_and_Maxpool_layers=3,\n",
    "                    No_of_Dense_Layers=3,No_of_Units_in_dense_layers=24,Conv2d_filters=60):\n",
    "       \n",
    "    \n",
    "    \n",
    "    #model sequential\n",
    "    model=Sequential()\n",
    "    \n",
    "    for i in range(0,No_of_CONV_and_Maxpool_layers):\n",
    "        model.add(Conv2D(Conv2d_filters, (2,2) ,padding=\"same\"))\n",
    "        model.add(Activation(activation))\n",
    "        model.add(MaxPooling2D(pool_size=(2,2),strides=(2,2)))\n",
    "    \n",
    "    \n",
    "    model.add(Flatten())\n",
    "    \n",
    "    for i in range (0,No_of_Dense_Layers):\n",
    "        model.add(Dense(units=No_of_Units_in_dense_layers,activation=activation, kernel_regularizer=regularizers.l2(l2),\n",
    "                  activity_regularizer=regularizers.l1(l1)))\n",
    "    \n",
    "    model.add(Dropout(dropout))\n",
    "    model.add(Dense(units=20,activation=activation))\n",
    "    \n",
    "    model.add(Dense(units=2,activation=activation))\n",
    "    if optimizer==\"Adam\":\n",
    "        opt=keras.optimizers.Adam(lr=lr, decay=decay, beta_1=0.9, beta_2=0.999)\n",
    "    if optimizer==\"Adagrad\":\n",
    "        opt=keras.optimizers.Adagrad(lr=lr, epsilon=None, decay=decay)\n",
    "    if optimizer==\"sgd\":\n",
    "        opt=keras.optimizers.SGD(lr=lr, momentum=momentum, decay=decay, nesterov=False)\n",
    "    \n",
    "    model.compile(loss=loss,optimizer=opt,\n",
    "                 metrics=['accuracy'])\n",
    "    \n",
    "    \n",
    "\n",
    "    return model"
   ]
  },
  {
   "cell_type": "markdown",
   "metadata": {
    "_uuid": "fdfc5be86a0e060f0cf09a5aef262d0afd6f6a70"
   },
   "source": [
    "**Parameters of Randomized Search**"
   ]
  },
  {
   "cell_type": "code",
   "execution_count": 23,
   "metadata": {
    "_uuid": "d9f91b57dc9936c42dcdde953dac7031999acd81"
   },
   "outputs": [],
   "source": [
    "\n",
    "\n",
    "params = {'lr': (0.1, 0.01,1,0.001 ),\n",
    "     'epochs': [10,5,15,30],\n",
    "     'dropout': (0, 0.40, 0.8),\n",
    "     'optimizer': [\"Adam\",\"Adagrad\",\"sgd\"],\n",
    "     'loss': [\"binary_crossentropy\",\"mean_squared_error\",\"mean_absolute_error\"],\n",
    "     'last_activation': [\"softmax\",\"sigmoid\"],\n",
    "     'activation' :[\"relu\",\"selu\",\"linear\"],\n",
    "     'clipnorm':(0.0,0.5,1),\n",
    "     'decay':(1e-6,1e-4,1e-2),\n",
    "     'momentum':(0.9,0.5,0.2),\n",
    "     'l1': (0.01,0.001,0.0001),\n",
    "     'l2': (0.01,0.001,0.0001),\n",
    "     'No_of_CONV_and_Maxpool_layers':[2,3],\n",
    "     'No_of_Dense_Layers': [2,3,4,5],\n",
    "     'No_of_Units_in_dense_layers':[128,64,32,256],\n",
    "     'Conv2d_filters':[60,40,80,120,220]\n",
    "     \n",
    "    }\n"
   ]
  },
  {
   "cell_type": "code",
   "execution_count": 24,
   "metadata": {
    "_kg_hide-output": true,
    "_uuid": "1733ab33fa158b7094409b9a2baf67fda6f42fa1"
   },
   "outputs": [],
   "source": [
    "from keras.wrappers.scikit_learn import KerasClassifier\n",
    "from sklearn.model_selection import RandomizedSearchCV, KFold\n",
    "from sklearn.metrics import make_scorer\n",
    "# model class to use in the scikit random search CV \n",
    "model = KerasClassifier(build_fn=Randomized_Model, epochs=10, batch_size=20, verbose=1)\n",
    "grid = RandomizedSearchCV(estimator=model, cv=KFold(3), param_distributions=params, \n",
    "                          verbose=20,  n_iter=10, n_jobs=1)\n"
   ]
  },
  {
   "cell_type": "code",
   "execution_count": 25,
   "metadata": {
    "_kg_hide-output": true,
    "_uuid": "48f586502c8b81b5ace354be9aac4210e8ab83c2"
   },
   "outputs": [
    {
     "name": "stdout",
     "output_type": "stream",
     "text": [
      "Fitting 3 folds for each of 10 candidates, totalling 30 fits\n",
      "[CV] optimizer=Adagrad, momentum=0.2, lr=0.01, loss=mean_absolute_error, last_activation=sigmoid, l2=0.001, l1=0.0001, epochs=15, dropout=0.8, decay=0.01, clipnorm=0.0, activation=relu, No_of_Units_in_dense_layers=128, No_of_Dense_Layers=4, No_of_CONV_and_Maxpool_layers=3, Conv2d_filters=60 \n"
     ]
    },
    {
     "name": "stderr",
     "output_type": "stream",
     "text": [
      "[Parallel(n_jobs=1)]: Using backend SequentialBackend with 1 concurrent workers.\n"
     ]
    },
    {
     "name": "stdout",
     "output_type": "stream",
     "text": [
      "Epoch 1/15\n",
      "600/600 [==============================] - 5s 8ms/step - loss: 0.6545 - acc: 0.7200\n",
      "Epoch 2/15\n",
      "600/600 [==============================] - 0s 657us/step - loss: 0.4470 - acc: 0.7267\n",
      "Epoch 3/15\n",
      "600/600 [==============================] - 0s 651us/step - loss: 0.4190 - acc: 0.7267\n",
      "Epoch 4/15\n",
      "600/600 [==============================] - 0s 649us/step - loss: 0.3923 - acc: 0.7267\n",
      "Epoch 5/15\n",
      "600/600 [==============================] - 0s 649us/step - loss: 0.3814 - acc: 0.7267\n",
      "Epoch 6/15\n",
      "600/600 [==============================] - 0s 650us/step - loss: 0.3744 - acc: 0.7267\n",
      "Epoch 7/15\n",
      "600/600 [==============================] - 0s 646us/step - loss: 0.3642 - acc: 0.7267\n",
      "Epoch 8/15\n",
      "600/600 [==============================] - 0s 782us/step - loss: 0.3687 - acc: 0.7267\n",
      "Epoch 9/15\n",
      "600/600 [==============================] - 0s 723us/step - loss: 0.3588 - acc: 0.7267\n",
      "Epoch 10/15\n",
      "600/600 [==============================] - 0s 660us/step - loss: 0.3580 - acc: 0.7267\n",
      "Epoch 11/15\n",
      "600/600 [==============================] - 0s 653us/step - loss: 0.3547 - acc: 0.7267\n",
      "Epoch 12/15\n",
      "600/600 [==============================] - 0s 643us/step - loss: 0.3513 - acc: 0.7267\n",
      "Epoch 13/15\n",
      "600/600 [==============================] - 0s 651us/step - loss: 0.3457 - acc: 0.7267\n",
      "Epoch 14/15\n",
      "600/600 [==============================] - 0s 648us/step - loss: 0.3507 - acc: 0.7267\n",
      "Epoch 15/15\n",
      "600/600 [==============================] - 0s 648us/step - loss: 0.3510 - acc: 0.7267\n",
      "300/300 [==============================] - 0s 569us/step\n",
      "600/600 [==============================] - 0s 311us/step\n",
      "[CV]  optimizer=Adagrad, momentum=0.2, lr=0.01, loss=mean_absolute_error, last_activation=sigmoid, l2=0.001, l1=0.0001, epochs=15, dropout=0.8, decay=0.01, clipnorm=0.0, activation=relu, No_of_Units_in_dense_layers=128, No_of_Dense_Layers=4, No_of_CONV_and_Maxpool_layers=3, Conv2d_filters=60, score=0.7566666642824809, total=  11.4s\n",
      "[CV] optimizer=Adagrad, momentum=0.2, lr=0.01, loss=mean_absolute_error, last_activation=sigmoid, l2=0.001, l1=0.0001, epochs=15, dropout=0.8, decay=0.01, clipnorm=0.0, activation=relu, No_of_Units_in_dense_layers=128, No_of_Dense_Layers=4, No_of_CONV_and_Maxpool_layers=3, Conv2d_filters=60 \n"
     ]
    },
    {
     "name": "stderr",
     "output_type": "stream",
     "text": [
      "[Parallel(n_jobs=1)]: Done   1 out of   1 | elapsed:   11.6s remaining:    0.0s\n"
     ]
    },
    {
     "name": "stdout",
     "output_type": "stream",
     "text": [
      "Epoch 1/15\n",
      "600/600 [==============================] - 1s 2ms/step - loss: 1.2280 - acc: 0.7233\n",
      "Epoch 2/15\n",
      "600/600 [==============================] - 0s 660us/step - loss: 0.5441 - acc: 0.7333\n",
      "Epoch 3/15\n",
      "600/600 [==============================] - 0s 667us/step - loss: 0.4965 - acc: 0.7333\n",
      "Epoch 4/15\n",
      "600/600 [==============================] - 0s 663us/step - loss: 0.4737 - acc: 0.7333\n",
      "Epoch 5/15\n",
      "600/600 [==============================] - 0s 666us/step - loss: 0.4557 - acc: 0.7333\n",
      "Epoch 6/15\n",
      "600/600 [==============================] - 0s 674us/step - loss: 0.4440 - acc: 0.7333\n",
      "Epoch 7/15\n",
      "600/600 [==============================] - 0s 669us/step - loss: 0.4424 - acc: 0.7333\n",
      "Epoch 8/15\n",
      "600/600 [==============================] - 0s 680us/step - loss: 0.4293 - acc: 0.7333\n",
      "Epoch 9/15\n",
      "600/600 [==============================] - 0s 687us/step - loss: 0.4250 - acc: 0.7333\n",
      "Epoch 10/15\n",
      "600/600 [==============================] - 0s 690us/step - loss: 0.4236 - acc: 0.7333\n",
      "Epoch 11/15\n",
      "600/600 [==============================] - 0s 675us/step - loss: 0.4160 - acc: 0.7333\n",
      "Epoch 12/15\n",
      "600/600 [==============================] - 0s 689us/step - loss: 0.4177 - acc: 0.7333\n",
      "Epoch 13/15\n",
      "600/600 [==============================] - 0s 684us/step - loss: 0.4106 - acc: 0.7333\n",
      "Epoch 14/15\n",
      "600/600 [==============================] - 0s 681us/step - loss: 0.4135 - acc: 0.7333\n",
      "Epoch 15/15\n",
      "600/600 [==============================] - 0s 828us/step - loss: 0.4135 - acc: 0.7333\n",
      "300/300 [==============================] - 0s 1ms/step\n",
      "600/600 [==============================] - 0s 382us/step\n",
      "[CV]  optimizer=Adagrad, momentum=0.2, lr=0.01, loss=mean_absolute_error, last_activation=sigmoid, l2=0.001, l1=0.0001, epochs=15, dropout=0.8, decay=0.01, clipnorm=0.0, activation=relu, No_of_Units_in_dense_layers=128, No_of_Dense_Layers=4, No_of_CONV_and_Maxpool_layers=3, Conv2d_filters=60, score=0.7433333357175191, total=   8.2s\n",
      "[CV] optimizer=Adagrad, momentum=0.2, lr=0.01, loss=mean_absolute_error, last_activation=sigmoid, l2=0.001, l1=0.0001, epochs=15, dropout=0.8, decay=0.01, clipnorm=0.0, activation=relu, No_of_Units_in_dense_layers=128, No_of_Dense_Layers=4, No_of_CONV_and_Maxpool_layers=3, Conv2d_filters=60 \n"
     ]
    },
    {
     "name": "stderr",
     "output_type": "stream",
     "text": [
      "[Parallel(n_jobs=1)]: Done   2 out of   2 | elapsed:   20.0s remaining:    0.0s\n"
     ]
    },
    {
     "name": "stdout",
     "output_type": "stream",
     "text": [
      "Epoch 1/15\n",
      "600/600 [==============================] - 1s 2ms/step - loss: 0.7306 - acc: 0.7267\n",
      "Epoch 2/15\n",
      "600/600 [==============================] - 0s 697us/step - loss: 0.4729 - acc: 0.7500\n",
      "Epoch 3/15\n",
      "600/600 [==============================] - 0s 685us/step - loss: 0.4371 - acc: 0.7500\n",
      "Epoch 4/15\n",
      "600/600 [==============================] - 0s 727us/step - loss: 0.4155 - acc: 0.7500\n",
      "Epoch 5/15\n",
      "600/600 [==============================] - 0s 698us/step - loss: 0.3994 - acc: 0.7500\n",
      "Epoch 6/15\n",
      "600/600 [==============================] - 0s 706us/step - loss: 0.3870 - acc: 0.7500\n",
      "Epoch 7/15\n",
      "600/600 [==============================] - 0s 707us/step - loss: 0.3774 - acc: 0.7500\n",
      "Epoch 8/15\n",
      "600/600 [==============================] - 0s 682us/step - loss: 0.3751 - acc: 0.7500\n",
      "Epoch 9/15\n",
      "600/600 [==============================] - 0s 677us/step - loss: 0.3665 - acc: 0.7500\n",
      "Epoch 10/15\n",
      "600/600 [==============================] - 0s 682us/step - loss: 0.3700 - acc: 0.7500\n",
      "Epoch 11/15\n",
      "600/600 [==============================] - 0s 688us/step - loss: 0.3653 - acc: 0.7500\n",
      "Epoch 12/15\n",
      "600/600 [==============================] - 0s 675us/step - loss: 0.3594 - acc: 0.7500\n",
      "Epoch 13/15\n",
      "600/600 [==============================] - 0s 676us/step - loss: 0.3577 - acc: 0.7500\n",
      "Epoch 14/15\n",
      "600/600 [==============================] - 0s 672us/step - loss: 0.3574 - acc: 0.7500\n",
      "Epoch 15/15\n",
      "600/600 [==============================] - 0s 704us/step - loss: 0.3533 - acc: 0.7500\n",
      "300/300 [==============================] - 0s 764us/step\n",
      "600/600 [==============================] - 0s 337us/step\n",
      "[CV]  optimizer=Adagrad, momentum=0.2, lr=0.01, loss=mean_absolute_error, last_activation=sigmoid, l2=0.001, l1=0.0001, epochs=15, dropout=0.8, decay=0.01, clipnorm=0.0, activation=relu, No_of_Units_in_dense_layers=128, No_of_Dense_Layers=4, No_of_CONV_and_Maxpool_layers=3, Conv2d_filters=60, score=0.7099999944368999, total=   8.2s\n",
      "[CV] optimizer=Adagrad, momentum=0.9, lr=0.001, loss=binary_crossentropy, last_activation=sigmoid, l2=0.0001, l1=0.01, epochs=15, dropout=0, decay=0.01, clipnorm=1, activation=selu, No_of_Units_in_dense_layers=256, No_of_Dense_Layers=4, No_of_CONV_and_Maxpool_layers=3, Conv2d_filters=60 \n"
     ]
    },
    {
     "name": "stderr",
     "output_type": "stream",
     "text": [
      "[Parallel(n_jobs=1)]: Done   3 out of   3 | elapsed:   28.5s remaining:    0.0s\n"
     ]
    },
    {
     "name": "stdout",
     "output_type": "stream",
     "text": [
      "Epoch 1/15\n",
      "600/600 [==============================] - 3s 4ms/step - loss: 52.7503 - acc: 0.2450\n",
      "Epoch 2/15\n",
      "600/600 [==============================] - 1s 1ms/step - loss: 19.0573 - acc: 0.3250\n",
      "Epoch 3/15\n",
      "600/600 [==============================] - 1s 1ms/step - loss: 31.2831 - acc: 0.2225\n",
      "Epoch 4/15\n",
      "600/600 [==============================] - 1s 1ms/step - loss: 14.0278 - acc: 0.3817\n",
      "Epoch 5/15\n",
      "600/600 [==============================] - 1s 1ms/step - loss: 16.1728 - acc: 0.4483\n",
      "Epoch 6/15\n",
      "600/600 [==============================] - 1s 1ms/step - loss: 14.1243 - acc: 0.4200\n",
      "Epoch 7/15\n",
      "600/600 [==============================] - 1s 1ms/step - loss: 9.8101 - acc: 0.4958\n",
      "Epoch 8/15\n",
      "600/600 [==============================] - 1s 1ms/step - loss: 22.3326 - acc: 0.3050\n",
      "Epoch 9/15\n",
      "600/600 [==============================] - 1s 1ms/step - loss: 12.8579 - acc: 0.4358\n",
      "Epoch 10/15\n",
      "600/600 [==============================] - 1s 1ms/step - loss: 11.8810 - acc: 0.5000\n",
      "Epoch 11/15\n",
      "600/600 [==============================] - 1s 1ms/step - loss: 9.1735 - acc: 0.5308\n",
      "Epoch 12/15\n",
      "600/600 [==============================] - 1s 1ms/step - loss: 8.1840 - acc: 0.5450\n",
      "Epoch 13/15\n",
      "600/600 [==============================] - 1s 1ms/step - loss: 7.6962 - acc: 0.5350\n",
      "Epoch 14/15\n",
      "600/600 [==============================] - 1s 1ms/step - loss: 7.4347 - acc: 0.5383\n",
      "Epoch 15/15\n",
      "600/600 [==============================] - 1s 1ms/step - loss: 7.2524 - acc: 0.5425\n",
      "300/300 [==============================] - 0s 1ms/step\n",
      "600/600 [==============================] - 0s 442us/step\n",
      "[CV]  optimizer=Adagrad, momentum=0.9, lr=0.001, loss=binary_crossentropy, last_activation=sigmoid, l2=0.0001, l1=0.01, epochs=15, dropout=0, decay=0.01, clipnorm=1, activation=selu, No_of_Units_in_dense_layers=256, No_of_Dense_Layers=4, No_of_CONV_and_Maxpool_layers=3, Conv2d_filters=60, score=0.5133333404858907, total=  13.4s\n",
      "[CV] optimizer=Adagrad, momentum=0.9, lr=0.001, loss=binary_crossentropy, last_activation=sigmoid, l2=0.0001, l1=0.01, epochs=15, dropout=0, decay=0.01, clipnorm=1, activation=selu, No_of_Units_in_dense_layers=256, No_of_Dense_Layers=4, No_of_CONV_and_Maxpool_layers=3, Conv2d_filters=60 \n"
     ]
    },
    {
     "name": "stderr",
     "output_type": "stream",
     "text": [
      "[Parallel(n_jobs=1)]: Done   4 out of   4 | elapsed:   42.2s remaining:    0.0s\n"
     ]
    },
    {
     "name": "stdout",
     "output_type": "stream",
     "text": [
      "Epoch 1/15\n",
      "600/600 [==============================] - 2s 4ms/step - loss: 60.2183 - acc: 0.2208\n",
      "Epoch 2/15\n",
      "600/600 [==============================] - 1s 1ms/step - loss: 16.5002 - acc: 0.4200\n",
      "Epoch 3/15\n",
      "600/600 [==============================] - 1s 1ms/step - loss: 10.2737 - acc: 0.5367\n",
      "Epoch 4/15\n",
      "600/600 [==============================] - 1s 1ms/step - loss: 7.8968 - acc: 0.5742\n",
      "Epoch 5/15\n",
      "600/600 [==============================] - 1s 1ms/step - loss: 7.1726 - acc: 0.5833\n",
      "Epoch 6/15\n",
      "600/600 [==============================] - 1s 1ms/step - loss: 11.0091 - acc: 0.5333\n",
      "Epoch 7/15\n",
      "600/600 [==============================] - 1s 1ms/step - loss: 8.6750 - acc: 0.5183\n",
      "Epoch 8/15\n",
      "600/600 [==============================] - 1s 1ms/step - loss: 6.4574 - acc: 0.5992\n",
      "Epoch 9/15\n",
      "600/600 [==============================] - 1s 1ms/step - loss: 5.9205 - acc: 0.6125\n",
      "Epoch 10/15\n",
      "600/600 [==============================] - 1s 1ms/step - loss: 5.9282 - acc: 0.6042\n",
      "Epoch 11/15\n",
      "600/600 [==============================] - 1s 1ms/step - loss: 5.5333 - acc: 0.6025\n",
      "Epoch 12/15\n",
      "600/600 [==============================] - 1s 1ms/step - loss: 8.2474 - acc: 0.5500\n",
      "Epoch 13/15\n",
      "600/600 [==============================] - 1s 1ms/step - loss: 6.1277 - acc: 0.5817\n",
      "Epoch 14/15\n",
      "600/600 [==============================] - 1s 1ms/step - loss: 5.5158 - acc: 0.5975\n",
      "Epoch 15/15\n",
      "600/600 [==============================] - 1s 1ms/step - loss: 5.3383 - acc: 0.6033\n",
      "300/300 [==============================] - 0s 1ms/step\n",
      "600/600 [==============================] - 0s 436us/step\n",
      "[CV]  optimizer=Adagrad, momentum=0.9, lr=0.001, loss=binary_crossentropy, last_activation=sigmoid, l2=0.0001, l1=0.01, epochs=15, dropout=0, decay=0.01, clipnorm=1, activation=selu, No_of_Units_in_dense_layers=256, No_of_Dense_Layers=4, No_of_CONV_and_Maxpool_layers=3, Conv2d_filters=60, score=0.5633333345254262, total=  13.0s\n",
      "[CV] optimizer=Adagrad, momentum=0.9, lr=0.001, loss=binary_crossentropy, last_activation=sigmoid, l2=0.0001, l1=0.01, epochs=15, dropout=0, decay=0.01, clipnorm=1, activation=selu, No_of_Units_in_dense_layers=256, No_of_Dense_Layers=4, No_of_CONV_and_Maxpool_layers=3, Conv2d_filters=60 \n"
     ]
    },
    {
     "name": "stderr",
     "output_type": "stream",
     "text": [
      "[Parallel(n_jobs=1)]: Done   5 out of   5 | elapsed:   55.5s remaining:    0.0s\n"
     ]
    },
    {
     "name": "stdout",
     "output_type": "stream",
     "text": [
      "Epoch 1/15\n",
      "600/600 [==============================] - 2s 3ms/step - loss: 63.9452 - acc: 0.1992\n",
      "Epoch 2/15\n",
      "600/600 [==============================] - 1s 1ms/step - loss: 22.2546 - acc: 0.3208\n",
      "Epoch 3/15\n",
      "600/600 [==============================] - 1s 1ms/step - loss: 19.0553 - acc: 0.3558\n",
      "Epoch 4/15\n",
      "600/600 [==============================] - 1s 1ms/step - loss: 10.9759 - acc: 0.4783\n",
      "Epoch 5/15\n",
      "600/600 [==============================] - 1s 1ms/step - loss: 9.2777 - acc: 0.5350\n",
      "Epoch 6/15\n",
      "600/600 [==============================] - 1s 1ms/step - loss: 9.2487 - acc: 0.5150\n",
      "Epoch 7/15\n",
      "600/600 [==============================] - 1s 1ms/step - loss: 9.9106 - acc: 0.4567\n",
      "Epoch 8/15\n",
      "600/600 [==============================] - 1s 1ms/step - loss: 8.1990 - acc: 0.4950\n",
      "Epoch 9/15\n",
      "600/600 [==============================] - 1s 1ms/step - loss: 7.2300 - acc: 0.5375\n",
      "Epoch 10/15\n",
      "600/600 [==============================] - 1s 1ms/step - loss: 6.8704 - acc: 0.5475\n",
      "Epoch 11/15\n",
      "600/600 [==============================] - 1s 1ms/step - loss: 6.6728 - acc: 0.5558\n",
      "Epoch 12/15\n",
      "600/600 [==============================] - 1s 1ms/step - loss: 6.5091 - acc: 0.5600\n",
      "Epoch 13/15\n",
      "600/600 [==============================] - 1s 1ms/step - loss: 6.3911 - acc: 0.5567\n",
      "Epoch 14/15\n",
      "600/600 [==============================] - 1s 1ms/step - loss: 6.2960 - acc: 0.5633\n",
      "Epoch 15/15\n",
      "600/600 [==============================] - 1s 1ms/step - loss: 6.2070 - acc: 0.5617\n",
      "300/300 [==============================] - 0s 1ms/step\n",
      "600/600 [==============================] - 0s 421us/step\n",
      "[CV]  optimizer=Adagrad, momentum=0.9, lr=0.001, loss=binary_crossentropy, last_activation=sigmoid, l2=0.0001, l1=0.01, epochs=15, dropout=0, decay=0.01, clipnorm=1, activation=selu, No_of_Units_in_dense_layers=256, No_of_Dense_Layers=4, No_of_CONV_and_Maxpool_layers=3, Conv2d_filters=60, score=0.5233333269755046, total=  12.7s\n",
      "[CV] optimizer=sgd, momentum=0.2, lr=0.1, loss=mean_absolute_error, last_activation=softmax, l2=0.0001, l1=0.01, epochs=30, dropout=0.8, decay=1e-06, clipnorm=0.5, activation=relu, No_of_Units_in_dense_layers=32, No_of_Dense_Layers=5, No_of_CONV_and_Maxpool_layers=3, Conv2d_filters=40 \n"
     ]
    },
    {
     "name": "stderr",
     "output_type": "stream",
     "text": [
      "[Parallel(n_jobs=1)]: Done   6 out of   6 | elapsed:  1.1min remaining:    0.0s\n"
     ]
    },
    {
     "name": "stdout",
     "output_type": "stream",
     "text": [
      "Epoch 1/30\n",
      "600/600 [==============================] - 1s 2ms/step - loss: 0.4490 - acc: 0.7183\n",
      "Epoch 2/30\n",
      "600/600 [==============================] - 0s 552us/step - loss: 0.3007 - acc: 0.7267\n",
      "Epoch 3/30\n",
      "600/600 [==============================] - 0s 552us/step - loss: 0.2990 - acc: 0.7267\n",
      "Epoch 4/30\n",
      "600/600 [==============================] - 0s 553us/step - loss: 0.2991 - acc: 0.7267\n",
      "Epoch 5/30\n",
      "600/600 [==============================] - 0s 545us/step - loss: 0.2993 - acc: 0.7267\n",
      "Epoch 6/30\n",
      "600/600 [==============================] - 0s 549us/step - loss: 0.2990 - acc: 0.7267\n",
      "Epoch 7/30\n",
      "600/600 [==============================] - 0s 556us/step - loss: 0.2989 - acc: 0.7267\n",
      "Epoch 8/30\n",
      "600/600 [==============================] - 0s 551us/step - loss: 0.2991 - acc: 0.7267\n",
      "Epoch 9/30\n",
      "600/600 [==============================] - 0s 579us/step - loss: 0.2996 - acc: 0.7267\n",
      "Epoch 10/30\n",
      "600/600 [==============================] - 0s 555us/step - loss: 0.2987 - acc: 0.7267\n",
      "Epoch 11/30\n",
      "600/600 [==============================] - 0s 560us/step - loss: 0.2985 - acc: 0.7267\n",
      "Epoch 12/30\n",
      "600/600 [==============================] - 0s 751us/step - loss: 0.2984 - acc: 0.7267\n",
      "Epoch 13/30\n",
      "600/600 [==============================] - 0s 686us/step - loss: 0.2985 - acc: 0.7267\n",
      "Epoch 14/30\n",
      "600/600 [==============================] - 0s 596us/step - loss: 0.2984 - acc: 0.7267\n",
      "Epoch 15/30\n",
      "600/600 [==============================] - 0s 577us/step - loss: 0.2992 - acc: 0.7267\n",
      "Epoch 16/30\n",
      "600/600 [==============================] - 0s 583us/step - loss: 0.2982 - acc: 0.7267\n",
      "Epoch 17/30\n",
      "600/600 [==============================] - 0s 581us/step - loss: 0.2984 - acc: 0.7267\n",
      "Epoch 18/30\n",
      "600/600 [==============================] - 0s 572us/step - loss: 0.2980 - acc: 0.7267\n",
      "Epoch 19/30\n",
      "600/600 [==============================] - 0s 569us/step - loss: 0.2987 - acc: 0.7267\n",
      "Epoch 20/30\n",
      "600/600 [==============================] - 0s 587us/step - loss: 0.2992 - acc: 0.7267\n",
      "Epoch 21/30\n",
      "600/600 [==============================] - 0s 589us/step - loss: 0.2986 - acc: 0.7267\n",
      "Epoch 22/30\n",
      "600/600 [==============================] - 0s 599us/step - loss: 0.2976 - acc: 0.7267\n",
      "Epoch 23/30\n",
      "600/600 [==============================] - 0s 604us/step - loss: 0.2979 - acc: 0.7267\n",
      "Epoch 24/30\n",
      "600/600 [==============================] - 0s 590us/step - loss: 0.2985 - acc: 0.7267\n",
      "Epoch 25/30\n",
      "600/600 [==============================] - 0s 587us/step - loss: 0.2978 - acc: 0.7267\n",
      "Epoch 26/30\n",
      "600/600 [==============================] - 0s 586us/step - loss: 0.2986 - acc: 0.7267\n",
      "Epoch 27/30\n",
      "600/600 [==============================] - 0s 574us/step - loss: 0.2981 - acc: 0.7267\n",
      "Epoch 28/30\n",
      "600/600 [==============================] - 0s 577us/step - loss: 0.2974 - acc: 0.7267\n",
      "Epoch 29/30\n",
      "600/600 [==============================] - 0s 570us/step - loss: 0.2980 - acc: 0.7267\n",
      "Epoch 30/30\n",
      "600/600 [==============================] - 0s 563us/step - loss: 0.2976 - acc: 0.7267\n",
      "300/300 [==============================] - 0s 1ms/step\n",
      "600/600 [==============================] - 0s 304us/step\n",
      "[CV]  optimizer=sgd, momentum=0.2, lr=0.1, loss=mean_absolute_error, last_activation=softmax, l2=0.0001, l1=0.01, epochs=30, dropout=0.8, decay=1e-06, clipnorm=0.5, activation=relu, No_of_Units_in_dense_layers=32, No_of_Dense_Layers=5, No_of_CONV_and_Maxpool_layers=3, Conv2d_filters=40, score=0.7566666642824809, total=  12.8s\n",
      "[CV] optimizer=sgd, momentum=0.2, lr=0.1, loss=mean_absolute_error, last_activation=softmax, l2=0.0001, l1=0.01, epochs=30, dropout=0.8, decay=1e-06, clipnorm=0.5, activation=relu, No_of_Units_in_dense_layers=32, No_of_Dense_Layers=5, No_of_CONV_and_Maxpool_layers=3, Conv2d_filters=40 \n"
     ]
    },
    {
     "name": "stderr",
     "output_type": "stream",
     "text": [
      "[Parallel(n_jobs=1)]: Done   7 out of   7 | elapsed:  1.4min remaining:    0.0s\n"
     ]
    },
    {
     "name": "stdout",
     "output_type": "stream",
     "text": [
      "Epoch 1/30\n",
      "600/600 [==============================] - 1s 2ms/step - loss: 0.3939 - acc: 0.7283\n",
      "Epoch 2/30\n",
      "600/600 [==============================] - 0s 563us/step - loss: 0.2989 - acc: 0.7333\n",
      "Epoch 3/30\n",
      "600/600 [==============================] - 0s 563us/step - loss: 0.2976 - acc: 0.7333\n",
      "Epoch 4/30\n",
      "600/600 [==============================] - 0s 570us/step - loss: 0.2987 - acc: 0.7333\n",
      "Epoch 5/30\n",
      "600/600 [==============================] - 0s 574us/step - loss: 0.2972 - acc: 0.7333\n",
      "Epoch 6/30\n",
      "600/600 [==============================] - 0s 689us/step - loss: 0.2971 - acc: 0.7333\n",
      "Epoch 7/30\n",
      "600/600 [==============================] - 0s 634us/step - loss: 0.2973 - acc: 0.7333\n",
      "Epoch 8/30\n",
      "600/600 [==============================] - 0s 583us/step - loss: 0.2969 - acc: 0.7333\n",
      "Epoch 9/30\n",
      "600/600 [==============================] - 0s 551us/step - loss: 0.2975 - acc: 0.7333\n",
      "Epoch 10/30\n",
      "600/600 [==============================] - 0s 549us/step - loss: 0.2963 - acc: 0.7333\n",
      "Epoch 11/30\n",
      "600/600 [==============================] - 0s 546us/step - loss: 0.2970 - acc: 0.7333\n",
      "Epoch 12/30\n",
      "600/600 [==============================] - 0s 551us/step - loss: 0.2969 - acc: 0.7333\n",
      "Epoch 13/30\n",
      "600/600 [==============================] - 0s 555us/step - loss: 0.2966 - acc: 0.7333\n",
      "Epoch 14/30\n",
      "600/600 [==============================] - 0s 556us/step - loss: 0.2961 - acc: 0.7333\n",
      "Epoch 15/30\n",
      "600/600 [==============================] - 0s 559us/step - loss: 0.2974 - acc: 0.7333\n",
      "Epoch 16/30\n",
      "600/600 [==============================] - 0s 553us/step - loss: 0.2966 - acc: 0.7333\n",
      "Epoch 17/30\n",
      "600/600 [==============================] - 0s 551us/step - loss: 0.2955 - acc: 0.7333\n",
      "Epoch 18/30\n",
      "600/600 [==============================] - 0s 565us/step - loss: 0.2959 - acc: 0.7333\n",
      "Epoch 19/30\n",
      "600/600 [==============================] - 0s 557us/step - loss: 0.2954 - acc: 0.7333\n",
      "Epoch 20/30\n",
      "600/600 [==============================] - 0s 557us/step - loss: 0.2951 - acc: 0.7333\n",
      "Epoch 21/30\n",
      "600/600 [==============================] - 0s 563us/step - loss: 0.2964 - acc: 0.7333\n",
      "Epoch 22/30\n",
      "600/600 [==============================] - 0s 570us/step - loss: 0.2952 - acc: 0.7333\n",
      "Epoch 23/30\n",
      "600/600 [==============================] - 0s 587us/step - loss: 0.2949 - acc: 0.7333\n",
      "Epoch 24/30\n",
      "600/600 [==============================] - 0s 572us/step - loss: 0.2947 - acc: 0.7333\n",
      "Epoch 25/30\n",
      "600/600 [==============================] - 0s 570us/step - loss: 0.2946 - acc: 0.7333\n",
      "Epoch 26/30\n",
      "600/600 [==============================] - 0s 587us/step - loss: 0.2951 - acc: 0.7333\n",
      "Epoch 27/30\n",
      "600/600 [==============================] - 0s 555us/step - loss: 0.2946 - acc: 0.7333\n",
      "Epoch 28/30\n",
      "600/600 [==============================] - 0s 551us/step - loss: 0.2944 - acc: 0.7333\n",
      "Epoch 29/30\n",
      "600/600 [==============================] - 0s 561us/step - loss: 0.2934 - acc: 0.7333\n",
      "Epoch 30/30\n",
      "600/600 [==============================] - 0s 552us/step - loss: 0.2933 - acc: 0.7333\n",
      "300/300 [==============================] - 0s 1ms/step\n",
      "600/600 [==============================] - 0s 409us/step\n",
      "[CV]  optimizer=sgd, momentum=0.2, lr=0.1, loss=mean_absolute_error, last_activation=softmax, l2=0.0001, l1=0.01, epochs=30, dropout=0.8, decay=1e-06, clipnorm=0.5, activation=relu, No_of_Units_in_dense_layers=32, No_of_Dense_Layers=5, No_of_CONV_and_Maxpool_layers=3, Conv2d_filters=40, score=0.7433333357175191, total=  12.5s\n",
      "[CV] optimizer=sgd, momentum=0.2, lr=0.1, loss=mean_absolute_error, last_activation=softmax, l2=0.0001, l1=0.01, epochs=30, dropout=0.8, decay=1e-06, clipnorm=0.5, activation=relu, No_of_Units_in_dense_layers=32, No_of_Dense_Layers=5, No_of_CONV_and_Maxpool_layers=3, Conv2d_filters=40 \n"
     ]
    },
    {
     "name": "stderr",
     "output_type": "stream",
     "text": [
      "[Parallel(n_jobs=1)]: Done   8 out of   8 | elapsed:  1.6min remaining:    0.0s\n"
     ]
    },
    {
     "name": "stdout",
     "output_type": "stream",
     "text": [
      "Epoch 1/30\n",
      "600/600 [==============================] - 1s 2ms/step - loss: 0.3845 - acc: 0.7417\n",
      "Epoch 2/30\n",
      "600/600 [==============================] - 0s 642us/step - loss: 0.2839 - acc: 0.7500\n",
      "Epoch 3/30\n",
      "600/600 [==============================] - 0s 558us/step - loss: 0.2828 - acc: 0.7500\n",
      "Epoch 4/30\n",
      "600/600 [==============================] - 0s 559us/step - loss: 0.2814 - acc: 0.7500\n",
      "Epoch 5/30\n",
      "600/600 [==============================] - 0s 556us/step - loss: 0.2849 - acc: 0.7500\n",
      "Epoch 6/30\n",
      "600/600 [==============================] - 0s 558us/step - loss: 0.2825 - acc: 0.7500\n",
      "Epoch 7/30\n",
      "600/600 [==============================] - 0s 551us/step - loss: 0.2829 - acc: 0.7500\n",
      "Epoch 8/30\n",
      "600/600 [==============================] - 0s 561us/step - loss: 0.2814 - acc: 0.7500\n",
      "Epoch 9/30\n",
      "600/600 [==============================] - 0s 555us/step - loss: 0.2809 - acc: 0.7500\n",
      "Epoch 10/30\n",
      "600/600 [==============================] - 0s 552us/step - loss: 0.2798 - acc: 0.7500\n",
      "Epoch 11/30\n",
      "600/600 [==============================] - 0s 555us/step - loss: 0.2816 - acc: 0.7500\n",
      "Epoch 12/30\n",
      "600/600 [==============================] - 0s 552us/step - loss: 0.2811 - acc: 0.7500\n",
      "Epoch 13/30\n",
      "600/600 [==============================] - 0s 553us/step - loss: 0.2811 - acc: 0.7500\n",
      "Epoch 14/30\n",
      "600/600 [==============================] - 0s 554us/step - loss: 0.2808 - acc: 0.7500\n",
      "Epoch 15/30\n",
      "600/600 [==============================] - 0s 555us/step - loss: 0.2805 - acc: 0.7500\n",
      "Epoch 16/30\n",
      "600/600 [==============================] - 0s 547us/step - loss: 0.2811 - acc: 0.7500\n",
      "Epoch 17/30\n",
      "600/600 [==============================] - 0s 546us/step - loss: 0.2795 - acc: 0.7500\n",
      "Epoch 18/30\n",
      "600/600 [==============================] - 0s 564us/step - loss: 0.2801 - acc: 0.7500\n",
      "Epoch 19/30\n",
      "600/600 [==============================] - 0s 556us/step - loss: 0.2794 - acc: 0.7500\n",
      "Epoch 20/30\n",
      "600/600 [==============================] - 0s 548us/step - loss: 0.2798 - acc: 0.7500\n",
      "Epoch 21/30\n",
      "600/600 [==============================] - 0s 566us/step - loss: 0.2805 - acc: 0.7500\n",
      "Epoch 22/30\n",
      "600/600 [==============================] - 0s 550us/step - loss: 0.2790 - acc: 0.7500\n",
      "Epoch 23/30\n",
      "600/600 [==============================] - 0s 556us/step - loss: 0.2782 - acc: 0.7500\n",
      "Epoch 24/30\n",
      "600/600 [==============================] - 0s 560us/step - loss: 0.2790 - acc: 0.7500\n",
      "Epoch 25/30\n",
      "600/600 [==============================] - 0s 553us/step - loss: 0.2784 - acc: 0.7500\n",
      "Epoch 26/30\n",
      "600/600 [==============================] - 0s 554us/step - loss: 0.2794 - acc: 0.7500\n",
      "Epoch 27/30\n",
      "600/600 [==============================] - 0s 553us/step - loss: 0.2777 - acc: 0.7500\n",
      "Epoch 28/30\n",
      "600/600 [==============================] - 0s 553us/step - loss: 0.2781 - acc: 0.7500\n",
      "Epoch 29/30\n",
      "600/600 [==============================] - 0s 554us/step - loss: 0.2790 - acc: 0.7500\n",
      "Epoch 30/30\n",
      "600/600 [==============================] - 0s 559us/step - loss: 0.2777 - acc: 0.7500\n",
      "300/300 [==============================] - 0s 1ms/step\n",
      "600/600 [==============================] - 0s 303us/step\n",
      "[CV]  optimizer=sgd, momentum=0.2, lr=0.1, loss=mean_absolute_error, last_activation=softmax, l2=0.0001, l1=0.01, epochs=30, dropout=0.8, decay=1e-06, clipnorm=0.5, activation=relu, No_of_Units_in_dense_layers=32, No_of_Dense_Layers=5, No_of_CONV_and_Maxpool_layers=3, Conv2d_filters=40, score=0.7099999944368999, total=  12.6s\n",
      "[CV] optimizer=sgd, momentum=0.2, lr=0.001, loss=mean_absolute_error, last_activation=sigmoid, l2=0.01, l1=0.01, epochs=15, dropout=0.4, decay=0.0001, clipnorm=0.0, activation=selu, No_of_Units_in_dense_layers=32, No_of_Dense_Layers=5, No_of_CONV_and_Maxpool_layers=3, Conv2d_filters=40 \n"
     ]
    },
    {
     "name": "stderr",
     "output_type": "stream",
     "text": [
      "[Parallel(n_jobs=1)]: Done   9 out of   9 | elapsed:  1.8min remaining:    0.0s\n"
     ]
    },
    {
     "name": "stdout",
     "output_type": "stream",
     "text": [
      "Epoch 1/15\n",
      "600/600 [==============================] - 2s 3ms/step - loss: 12.9454 - acc: 0.5217\n",
      "Epoch 2/15\n",
      "600/600 [==============================] - 0s 825us/step - loss: 5.3362 - acc: 0.5733\n",
      "Epoch 3/15\n",
      "600/600 [==============================] - 0s 821us/step - loss: 3.6169 - acc: 0.6367\n",
      "Epoch 4/15\n",
      "600/600 [==============================] - 0s 825us/step - loss: 3.1780 - acc: 0.6833\n",
      "Epoch 5/15\n",
      "600/600 [==============================] - 0s 820us/step - loss: 3.0315 - acc: 0.7100\n",
      "Epoch 6/15\n",
      "600/600 [==============================] - 0s 826us/step - loss: 2.9467 - acc: 0.7167\n",
      "Epoch 7/15\n",
      "600/600 [==============================] - 0s 831us/step - loss: 2.8673 - acc: 0.7267\n",
      "Epoch 8/15\n",
      "600/600 [==============================] - 1s 845us/step - loss: 2.8131 - acc: 0.7267\n",
      "Epoch 9/15\n",
      "600/600 [==============================] - 0s 819us/step - loss: 2.7843 - acc: 0.7300\n",
      "Epoch 10/15\n",
      "600/600 [==============================] - 0s 824us/step - loss: 2.7347 - acc: 0.7283\n",
      "Epoch 11/15\n",
      "600/600 [==============================] - 1s 835us/step - loss: 2.6938 - acc: 0.7267\n",
      "Epoch 12/15\n",
      "600/600 [==============================] - 0s 825us/step - loss: 2.6643 - acc: 0.7267\n",
      "Epoch 13/15\n",
      "600/600 [==============================] - 0s 826us/step - loss: 2.6541 - acc: 0.7267\n",
      "Epoch 14/15\n",
      "600/600 [==============================] - 0s 830us/step - loss: 2.6260 - acc: 0.7267\n",
      "Epoch 15/15\n",
      "600/600 [==============================] - 0s 821us/step - loss: 2.5838 - acc: 0.7267\n",
      "300/300 [==============================] - 1s 2ms/step\n",
      "600/600 [==============================] - 0s 371us/step\n",
      "[CV]  optimizer=sgd, momentum=0.2, lr=0.001, loss=mean_absolute_error, last_activation=sigmoid, l2=0.01, l1=0.01, epochs=15, dropout=0.4, decay=0.0001, clipnorm=0.0, activation=selu, No_of_Units_in_dense_layers=32, No_of_Dense_Layers=5, No_of_CONV_and_Maxpool_layers=3, Conv2d_filters=40, score=0.7566666642824809, total=  10.6s\n",
      "[CV] optimizer=sgd, momentum=0.2, lr=0.001, loss=mean_absolute_error, last_activation=sigmoid, l2=0.01, l1=0.01, epochs=15, dropout=0.4, decay=0.0001, clipnorm=0.0, activation=selu, No_of_Units_in_dense_layers=32, No_of_Dense_Layers=5, No_of_CONV_and_Maxpool_layers=3, Conv2d_filters=40 \n"
     ]
    },
    {
     "name": "stderr",
     "output_type": "stream",
     "text": [
      "[Parallel(n_jobs=1)]: Done  10 out of  10 | elapsed:  2.0min remaining:    0.0s\n"
     ]
    },
    {
     "name": "stdout",
     "output_type": "stream",
     "text": [
      "Epoch 1/15\n",
      "600/600 [==============================] - 2s 3ms/step - loss: 14.2232 - acc: 0.5333\n",
      "Epoch 2/15\n",
      "600/600 [==============================] - 0s 810us/step - loss: 7.9622 - acc: 0.5767\n",
      "Epoch 3/15\n",
      "600/600 [==============================] - 0s 820us/step - loss: 4.5735 - acc: 0.6233\n",
      "Epoch 4/15\n",
      "600/600 [==============================] - 0s 822us/step - loss: 3.1527 - acc: 0.6983\n",
      "Epoch 5/15\n",
      "600/600 [==============================] - 0s 813us/step - loss: 2.9511 - acc: 0.7367\n",
      "Epoch 6/15\n",
      "600/600 [==============================] - 0s 823us/step - loss: 2.8413 - acc: 0.7267\n",
      "Epoch 7/15\n",
      "600/600 [==============================] - 1s 853us/step - loss: 2.7754 - acc: 0.7350\n",
      "Epoch 8/15\n",
      "600/600 [==============================] - 0s 820us/step - loss: 2.7422 - acc: 0.7333\n",
      "Epoch 9/15\n",
      "600/600 [==============================] - 0s 819us/step - loss: 2.6587 - acc: 0.7333\n",
      "Epoch 10/15\n",
      "600/600 [==============================] - 0s 814us/step - loss: 2.6422 - acc: 0.7333\n",
      "Epoch 11/15\n",
      "600/600 [==============================] - 0s 808us/step - loss: 2.5954 - acc: 0.7333\n",
      "Epoch 12/15\n",
      "600/600 [==============================] - 1s 904us/step - loss: 2.5615 - acc: 0.7333\n",
      "Epoch 13/15\n",
      "600/600 [==============================] - 1s 1ms/step - loss: 2.5180 - acc: 0.7333\n",
      "Epoch 14/15\n",
      "600/600 [==============================] - 1s 920us/step - loss: 2.4872 - acc: 0.7333\n",
      "Epoch 15/15\n",
      "600/600 [==============================] - 1s 839us/step - loss: 2.4553 - acc: 0.7333\n",
      "300/300 [==============================] - 1s 2ms/step\n",
      "600/600 [==============================] - 0s 377us/step\n",
      "[CV]  optimizer=sgd, momentum=0.2, lr=0.001, loss=mean_absolute_error, last_activation=sigmoid, l2=0.01, l1=0.01, epochs=15, dropout=0.4, decay=0.0001, clipnorm=0.0, activation=selu, No_of_Units_in_dense_layers=32, No_of_Dense_Layers=5, No_of_CONV_and_Maxpool_layers=3, Conv2d_filters=40, score=0.7433333357175191, total=  10.8s\n",
      "[CV] optimizer=sgd, momentum=0.2, lr=0.001, loss=mean_absolute_error, last_activation=sigmoid, l2=0.01, l1=0.01, epochs=15, dropout=0.4, decay=0.0001, clipnorm=0.0, activation=selu, No_of_Units_in_dense_layers=32, No_of_Dense_Layers=5, No_of_CONV_and_Maxpool_layers=3, Conv2d_filters=40 \n"
     ]
    },
    {
     "name": "stderr",
     "output_type": "stream",
     "text": [
      "[Parallel(n_jobs=1)]: Done  11 out of  11 | elapsed:  2.1min remaining:    0.0s\n"
     ]
    },
    {
     "name": "stdout",
     "output_type": "stream",
     "text": [
      "Epoch 1/15\n",
      "600/600 [==============================] - 2s 3ms/step - loss: 15.0640 - acc: 0.4817\n",
      "Epoch 2/15\n",
      "600/600 [==============================] - 0s 816us/step - loss: 5.8267 - acc: 0.6300\n",
      "Epoch 3/15\n",
      "600/600 [==============================] - 0s 826us/step - loss: 3.4608 - acc: 0.7267\n",
      "Epoch 4/15\n",
      "600/600 [==============================] - 1s 844us/step - loss: 3.1375 - acc: 0.7383\n",
      "Epoch 5/15\n",
      "600/600 [==============================] - 0s 820us/step - loss: 2.9582 - acc: 0.7467\n",
      "Epoch 6/15\n",
      "600/600 [==============================] - 0s 824us/step - loss: 2.8990 - acc: 0.7500\n",
      "Epoch 7/15\n",
      "600/600 [==============================] - 0s 820us/step - loss: 2.7978 - acc: 0.7500\n",
      "Epoch 8/15\n",
      "600/600 [==============================] - 0s 826us/step - loss: 2.7499 - acc: 0.7500\n",
      "Epoch 9/15\n",
      "600/600 [==============================] - 0s 818us/step - loss: 2.7021 - acc: 0.7500\n",
      "Epoch 10/15\n",
      "600/600 [==============================] - 0s 821us/step - loss: 2.6766 - acc: 0.7500\n",
      "Epoch 11/15\n",
      "600/600 [==============================] - 0s 815us/step - loss: 2.6302 - acc: 0.7500\n",
      "Epoch 12/15\n",
      "600/600 [==============================] - 0s 819us/step - loss: 2.6008 - acc: 0.7500\n",
      "Epoch 13/15\n",
      "600/600 [==============================] - 0s 825us/step - loss: 2.5637 - acc: 0.7500\n",
      "Epoch 14/15\n",
      "600/600 [==============================] - 0s 822us/step - loss: 2.5304 - acc: 0.7500\n",
      "Epoch 15/15\n",
      "600/600 [==============================] - 0s 830us/step - loss: 2.5061 - acc: 0.7500\n",
      "300/300 [==============================] - 1s 2ms/step\n",
      "600/600 [==============================] - 0s 363us/step\n",
      "[CV]  optimizer=sgd, momentum=0.2, lr=0.001, loss=mean_absolute_error, last_activation=sigmoid, l2=0.01, l1=0.01, epochs=15, dropout=0.4, decay=0.0001, clipnorm=0.0, activation=selu, No_of_Units_in_dense_layers=32, No_of_Dense_Layers=5, No_of_CONV_and_Maxpool_layers=3, Conv2d_filters=40, score=0.7099999944368999, total=  10.8s\n",
      "[CV] optimizer=Adam, momentum=0.2, lr=0.001, loss=binary_crossentropy, last_activation=sigmoid, l2=0.01, l1=0.01, epochs=15, dropout=0.8, decay=0.0001, clipnorm=0.5, activation=relu, No_of_Units_in_dense_layers=128, No_of_Dense_Layers=2, No_of_CONV_and_Maxpool_layers=2, Conv2d_filters=80 \n"
     ]
    },
    {
     "name": "stderr",
     "output_type": "stream",
     "text": [
      "[Parallel(n_jobs=1)]: Done  12 out of  12 | elapsed:  2.3min remaining:    0.0s\n"
     ]
    },
    {
     "name": "stdout",
     "output_type": "stream",
     "text": [
      "Epoch 1/15\n",
      "600/600 [==============================] - 4s 6ms/step - loss: 8.6512 - acc: 0.5125\n",
      "Epoch 2/15\n",
      "600/600 [==============================] - 1s 966us/step - loss: 4.9317 - acc: 0.5000\n",
      "Epoch 3/15\n",
      "600/600 [==============================] - 1s 959us/step - loss: 4.1558 - acc: 0.5000\n",
      "Epoch 4/15\n",
      "600/600 [==============================] - 1s 966us/step - loss: 2.7474 - acc: 0.5017\n",
      "Epoch 5/15\n",
      "600/600 [==============================] - 1s 961us/step - loss: 2.1035 - acc: 0.5000\n",
      "Epoch 6/15\n",
      "600/600 [==============================] - 1s 959us/step - loss: 1.8819 - acc: 0.4992\n",
      "Epoch 7/15\n",
      "600/600 [==============================] - 1s 963us/step - loss: 1.6990 - acc: 0.5075\n",
      "Epoch 8/15\n",
      "600/600 [==============================] - 1s 963us/step - loss: 1.5511 - acc: 0.5375\n",
      "Epoch 9/15\n",
      "600/600 [==============================] - 1s 969us/step - loss: 1.4581 - acc: 0.5392\n",
      "Epoch 10/15\n",
      "600/600 [==============================] - 1s 964us/step - loss: 1.3687 - acc: 0.5575\n",
      "Epoch 11/15\n",
      "600/600 [==============================] - 1s 967us/step - loss: 1.2919 - acc: 0.5808\n",
      "Epoch 12/15\n",
      "600/600 [==============================] - 1s 1ms/step - loss: 1.2316 - acc: 0.5817\n",
      "Epoch 13/15\n",
      "600/600 [==============================] - 1s 1ms/step - loss: 1.1700 - acc: 0.5983\n",
      "Epoch 14/15\n",
      "600/600 [==============================] - 1s 964us/step - loss: 1.1240 - acc: 0.5800\n",
      "Epoch 15/15\n",
      "600/600 [==============================] - 1s 961us/step - loss: 1.0691 - acc: 0.6092\n",
      "300/300 [==============================] - 1s 2ms/step\n",
      "600/600 [==============================] - 0s 396us/step\n",
      "[CV]  optimizer=Adam, momentum=0.2, lr=0.001, loss=binary_crossentropy, last_activation=sigmoid, l2=0.01, l1=0.01, epochs=15, dropout=0.8, decay=0.0001, clipnorm=0.5, activation=relu, No_of_Units_in_dense_layers=128, No_of_Dense_Layers=2, No_of_CONV_and_Maxpool_layers=2, Conv2d_filters=80, score=0.7566666642824809, total=  13.7s\n",
      "[CV] optimizer=Adam, momentum=0.2, lr=0.001, loss=binary_crossentropy, last_activation=sigmoid, l2=0.01, l1=0.01, epochs=15, dropout=0.8, decay=0.0001, clipnorm=0.5, activation=relu, No_of_Units_in_dense_layers=128, No_of_Dense_Layers=2, No_of_CONV_and_Maxpool_layers=2, Conv2d_filters=80 \n"
     ]
    },
    {
     "name": "stderr",
     "output_type": "stream",
     "text": [
      "[Parallel(n_jobs=1)]: Done  13 out of  13 | elapsed:  2.6min remaining:    0.0s\n"
     ]
    },
    {
     "name": "stdout",
     "output_type": "stream",
     "text": [
      "Epoch 1/15\n",
      "600/600 [==============================] - 4s 6ms/step - loss: 5.5402 - acc: 0.4950\n",
      "Epoch 2/15\n",
      "600/600 [==============================] - 1s 1ms/step - loss: 2.7152 - acc: 0.5000\n",
      "Epoch 3/15\n",
      "600/600 [==============================] - 1s 963us/step - loss: 1.9762 - acc: 0.5025\n",
      "Epoch 4/15\n",
      "600/600 [==============================] - 1s 961us/step - loss: 1.5889 - acc: 0.5442\n",
      "Epoch 5/15\n",
      "600/600 [==============================] - 1s 959us/step - loss: 1.3610 - acc: 0.5750\n",
      "Epoch 6/15\n",
      "600/600 [==============================] - 1s 971us/step - loss: 1.2063 - acc: 0.6117\n",
      "Epoch 7/15\n",
      "600/600 [==============================] - 1s 961us/step - loss: 1.1021 - acc: 0.5967\n",
      "Epoch 8/15\n",
      "600/600 [==============================] - 1s 1ms/step - loss: 1.0207 - acc: 0.6167\n",
      "Epoch 9/15\n",
      "600/600 [==============================] - 1s 976us/step - loss: 0.9411 - acc: 0.6408\n",
      "Epoch 10/15\n",
      "600/600 [==============================] - 1s 963us/step - loss: 0.8849 - acc: 0.6450\n",
      "Epoch 11/15\n",
      "600/600 [==============================] - 1s 960us/step - loss: 0.8369 - acc: 0.6692\n",
      "Epoch 12/15\n",
      "600/600 [==============================] - 1s 957us/step - loss: 0.7992 - acc: 0.6983\n",
      "Epoch 13/15\n",
      "600/600 [==============================] - 1s 961us/step - loss: 0.7659 - acc: 0.7117\n",
      "Epoch 14/15\n",
      "600/600 [==============================] - 1s 962us/step - loss: 0.7347 - acc: 0.7333\n",
      "Epoch 15/15\n",
      "600/600 [==============================] - 1s 962us/step - loss: 0.7121 - acc: 0.7333\n",
      "300/300 [==============================] - 1s 2ms/step\n",
      "600/600 [==============================] - 0s 392us/step\n",
      "[CV]  optimizer=Adam, momentum=0.2, lr=0.001, loss=binary_crossentropy, last_activation=sigmoid, l2=0.01, l1=0.01, epochs=15, dropout=0.8, decay=0.0001, clipnorm=0.5, activation=relu, No_of_Units_in_dense_layers=128, No_of_Dense_Layers=2, No_of_CONV_and_Maxpool_layers=2, Conv2d_filters=80, score=0.7433333357175191, total=  13.5s\n",
      "[CV] optimizer=Adam, momentum=0.2, lr=0.001, loss=binary_crossentropy, last_activation=sigmoid, l2=0.01, l1=0.01, epochs=15, dropout=0.8, decay=0.0001, clipnorm=0.5, activation=relu, No_of_Units_in_dense_layers=128, No_of_Dense_Layers=2, No_of_CONV_and_Maxpool_layers=2, Conv2d_filters=80 \n"
     ]
    },
    {
     "name": "stderr",
     "output_type": "stream",
     "text": [
      "[Parallel(n_jobs=1)]: Done  14 out of  14 | elapsed:  2.8min remaining:    0.0s\n"
     ]
    },
    {
     "name": "stdout",
     "output_type": "stream",
     "text": [
      "Epoch 1/15\n",
      "600/600 [==============================] - 4s 6ms/step - loss: 6.3419 - acc: 0.4933\n",
      "Epoch 2/15\n",
      "600/600 [==============================] - 1s 955us/step - loss: 2.7947 - acc: 0.5000\n",
      "Epoch 3/15\n",
      "600/600 [==============================] - 1s 1ms/step - loss: 2.0516 - acc: 0.4992\n",
      "Epoch 4/15\n",
      "600/600 [==============================] - 1s 1ms/step - loss: 1.6250 - acc: 0.5192\n",
      "Epoch 5/15\n",
      "600/600 [==============================] - 1s 959us/step - loss: 1.3768 - acc: 0.5475\n",
      "Epoch 6/15\n",
      "600/600 [==============================] - 1s 967us/step - loss: 1.2078 - acc: 0.5917\n",
      "Epoch 7/15\n",
      "600/600 [==============================] - 1s 961us/step - loss: 1.0884 - acc: 0.6325\n",
      "Epoch 8/15\n",
      "600/600 [==============================] - 1s 960us/step - loss: 1.0058 - acc: 0.6292\n",
      "Epoch 9/15\n",
      "600/600 [==============================] - 1s 963us/step - loss: 0.9373 - acc: 0.6442\n",
      "Epoch 10/15\n",
      "600/600 [==============================] - 1s 963us/step - loss: 0.8774 - acc: 0.6583\n",
      "Epoch 11/15\n",
      "600/600 [==============================] - 1s 963us/step - loss: 0.8309 - acc: 0.6933\n",
      "Epoch 12/15\n",
      "600/600 [==============================] - 1s 975us/step - loss: 0.7913 - acc: 0.7175\n",
      "Epoch 13/15\n",
      "600/600 [==============================] - 1s 982us/step - loss: 0.7604 - acc: 0.7183\n",
      "Epoch 14/15\n",
      "600/600 [==============================] - 1s 963us/step - loss: 0.7281 - acc: 0.7417\n",
      "Epoch 15/15\n",
      "600/600 [==============================] - 1s 993us/step - loss: 0.7026 - acc: 0.7500\n",
      "300/300 [==============================] - 1s 2ms/step\n",
      "600/600 [==============================] - 0s 393us/step\n",
      "[CV]  optimizer=Adam, momentum=0.2, lr=0.001, loss=binary_crossentropy, last_activation=sigmoid, l2=0.01, l1=0.01, epochs=15, dropout=0.8, decay=0.0001, clipnorm=0.5, activation=relu, No_of_Units_in_dense_layers=128, No_of_Dense_Layers=2, No_of_CONV_and_Maxpool_layers=2, Conv2d_filters=80, score=0.7099999944368999, total=  13.5s\n",
      "[CV] optimizer=sgd, momentum=0.2, lr=1, loss=mean_absolute_error, last_activation=softmax, l2=0.001, l1=0.001, epochs=5, dropout=0, decay=0.0001, clipnorm=0.5, activation=selu, No_of_Units_in_dense_layers=32, No_of_Dense_Layers=4, No_of_CONV_and_Maxpool_layers=2, Conv2d_filters=80 \n"
     ]
    },
    {
     "name": "stderr",
     "output_type": "stream",
     "text": [
      "[Parallel(n_jobs=1)]: Done  15 out of  15 | elapsed:  3.0min remaining:    0.0s\n"
     ]
    },
    {
     "name": "stdout",
     "output_type": "stream",
     "text": [
      "Epoch 1/5\n",
      "600/600 [==============================] - 3s 5ms/step - loss: inf - acc: 0.7067\n",
      "Epoch 2/5\n",
      "600/600 [==============================] - 1s 1ms/step - loss: inf - acc: 0.7267\n",
      "Epoch 3/5\n",
      "600/600 [==============================] - 1s 1ms/step - loss: inf - acc: 0.7267\n",
      "Epoch 4/5\n",
      "600/600 [==============================] - 1s 1ms/step - loss: inf - acc: 0.7267\n",
      "Epoch 5/5\n",
      "600/600 [==============================] - 1s 1ms/step - loss: inf - acc: 0.7267\n",
      "300/300 [==============================] - 1s 3ms/step\n",
      "600/600 [==============================] - 0s 497us/step\n",
      "[CV]  optimizer=sgd, momentum=0.2, lr=1, loss=mean_absolute_error, last_activation=softmax, l2=0.001, l1=0.001, epochs=5, dropout=0, decay=0.0001, clipnorm=0.5, activation=selu, No_of_Units_in_dense_layers=32, No_of_Dense_Layers=4, No_of_CONV_and_Maxpool_layers=2, Conv2d_filters=80, score=0.7566666642824809, total=   7.4s\n",
      "[CV] optimizer=sgd, momentum=0.2, lr=1, loss=mean_absolute_error, last_activation=softmax, l2=0.001, l1=0.001, epochs=5, dropout=0, decay=0.0001, clipnorm=0.5, activation=selu, No_of_Units_in_dense_layers=32, No_of_Dense_Layers=4, No_of_CONV_and_Maxpool_layers=2, Conv2d_filters=80 \n"
     ]
    },
    {
     "name": "stderr",
     "output_type": "stream",
     "text": [
      "[Parallel(n_jobs=1)]: Done  16 out of  16 | elapsed:  3.2min remaining:    0.0s\n"
     ]
    },
    {
     "name": "stdout",
     "output_type": "stream",
     "text": [
      "Epoch 1/5\n",
      "600/600 [==============================] - 3s 5ms/step - loss: nan - acc: 0.7117\n",
      "Epoch 2/5\n",
      "600/600 [==============================] - 1s 1ms/step - loss: nan - acc: 0.7333\n",
      "Epoch 3/5\n",
      "600/600 [==============================] - 1s 1ms/step - loss: nan - acc: 0.7333\n",
      "Epoch 4/5\n",
      "600/600 [==============================] - 1s 1ms/step - loss: nan - acc: 0.7333\n",
      "Epoch 5/5\n",
      "600/600 [==============================] - 1s 1ms/step - loss: nan - acc: 0.7333\n",
      "300/300 [==============================] - 1s 3ms/step\n",
      "600/600 [==============================] - 0s 501us/step\n",
      "[CV]  optimizer=sgd, momentum=0.2, lr=1, loss=mean_absolute_error, last_activation=softmax, l2=0.001, l1=0.001, epochs=5, dropout=0, decay=0.0001, clipnorm=0.5, activation=selu, No_of_Units_in_dense_layers=32, No_of_Dense_Layers=4, No_of_CONV_and_Maxpool_layers=2, Conv2d_filters=80, score=0.7433333357175191, total=   8.2s\n",
      "[CV] optimizer=sgd, momentum=0.2, lr=1, loss=mean_absolute_error, last_activation=softmax, l2=0.001, l1=0.001, epochs=5, dropout=0, decay=0.0001, clipnorm=0.5, activation=selu, No_of_Units_in_dense_layers=32, No_of_Dense_Layers=4, No_of_CONV_and_Maxpool_layers=2, Conv2d_filters=80 \n"
     ]
    },
    {
     "name": "stderr",
     "output_type": "stream",
     "text": [
      "[Parallel(n_jobs=1)]: Done  17 out of  17 | elapsed:  3.3min remaining:    0.0s\n"
     ]
    },
    {
     "name": "stdout",
     "output_type": "stream",
     "text": [
      "Epoch 1/5\n",
      "600/600 [==============================] - 3s 5ms/step - loss: nan - acc: 0.7383\n",
      "Epoch 2/5\n",
      "600/600 [==============================] - 1s 1ms/step - loss: nan - acc: 0.7500\n",
      "Epoch 3/5\n",
      "600/600 [==============================] - 1s 1ms/step - loss: nan - acc: 0.7500\n",
      "Epoch 4/5\n",
      "600/600 [==============================] - 1s 1ms/step - loss: nan - acc: 0.7500\n",
      "Epoch 5/5\n",
      "600/600 [==============================] - 1s 1ms/step - loss: nan - acc: 0.7500\n",
      "300/300 [==============================] - 1s 3ms/step\n",
      "600/600 [==============================] - 0s 504us/step\n",
      "[CV]  optimizer=sgd, momentum=0.2, lr=1, loss=mean_absolute_error, last_activation=softmax, l2=0.001, l1=0.001, epochs=5, dropout=0, decay=0.0001, clipnorm=0.5, activation=selu, No_of_Units_in_dense_layers=32, No_of_Dense_Layers=4, No_of_CONV_and_Maxpool_layers=2, Conv2d_filters=80, score=0.7099999944368999, total=   7.6s\n",
      "[CV] optimizer=Adam, momentum=0.5, lr=1, loss=binary_crossentropy, last_activation=sigmoid, l2=0.0001, l1=0.0001, epochs=10, dropout=0.4, decay=1e-06, clipnorm=0.0, activation=relu, No_of_Units_in_dense_layers=32, No_of_Dense_Layers=3, No_of_CONV_and_Maxpool_layers=2, Conv2d_filters=80 \n"
     ]
    },
    {
     "name": "stderr",
     "output_type": "stream",
     "text": [
      "[Parallel(n_jobs=1)]: Done  18 out of  18 | elapsed:  3.4min remaining:    0.0s\n"
     ]
    },
    {
     "name": "stdout",
     "output_type": "stream",
     "text": [
      "Epoch 1/10\n",
      "600/600 [==============================] - 3s 5ms/step - loss: 2730.8687 - acc: 0.4975\n",
      "Epoch 2/10\n",
      "600/600 [==============================] - 1s 834us/step - loss: 767.4014 - acc: 0.5000\n",
      "Epoch 3/10\n",
      "600/600 [==============================] - 1s 839us/step - loss: 563.5682 - acc: 0.5000\n",
      "Epoch 4/10\n",
      "600/600 [==============================] - 1s 863us/step - loss: 424.5755 - acc: 0.5000\n",
      "Epoch 5/10\n",
      "600/600 [==============================] - 1s 840us/step - loss: 333.2655 - acc: 0.5000\n",
      "Epoch 6/10\n",
      "600/600 [==============================] - 0s 826us/step - loss: 269.2602 - acc: 0.5000\n",
      "Epoch 7/10\n",
      "600/600 [==============================] - 1s 840us/step - loss: 222.1463 - acc: 0.5000\n",
      "Epoch 8/10\n",
      "600/600 [==============================] - 1s 850us/step - loss: 186.1582 - acc: 0.5000\n",
      "Epoch 9/10\n",
      "600/600 [==============================] - 1s 838us/step - loss: 157.8641 - acc: 0.5000\n",
      "Epoch 10/10\n",
      "600/600 [==============================] - 1s 871us/step - loss: 135.1183 - acc: 0.5000\n",
      "300/300 [==============================] - 1s 3ms/step\n",
      "600/600 [==============================] - 0s 405us/step\n",
      "[CV]  optimizer=Adam, momentum=0.5, lr=1, loss=binary_crossentropy, last_activation=sigmoid, l2=0.0001, l1=0.0001, epochs=10, dropout=0.4, decay=1e-06, clipnorm=0.0, activation=relu, No_of_Units_in_dense_layers=32, No_of_Dense_Layers=3, No_of_CONV_and_Maxpool_layers=2, Conv2d_filters=80, score=0.5, total=   9.8s\n",
      "[CV] optimizer=Adam, momentum=0.5, lr=1, loss=binary_crossentropy, last_activation=sigmoid, l2=0.0001, l1=0.0001, epochs=10, dropout=0.4, decay=1e-06, clipnorm=0.0, activation=relu, No_of_Units_in_dense_layers=32, No_of_Dense_Layers=3, No_of_CONV_and_Maxpool_layers=2, Conv2d_filters=80 \n"
     ]
    },
    {
     "name": "stderr",
     "output_type": "stream",
     "text": [
      "[Parallel(n_jobs=1)]: Done  19 out of  19 | elapsed:  3.6min remaining:    0.0s\n"
     ]
    },
    {
     "name": "stdout",
     "output_type": "stream",
     "text": [
      "Epoch 1/10\n",
      "600/600 [==============================] - 3s 6ms/step - loss: 221426.0471 - acc: 0.0167\n",
      "Epoch 2/10\n",
      "600/600 [==============================] - 1s 846us/step - loss: 2593.0801 - acc: 0.0000e+00\n",
      "Epoch 3/10\n",
      "600/600 [==============================] - 1s 842us/step - loss: 2375.8183 - acc: 0.0000e+00\n",
      "Epoch 4/10\n",
      "600/600 [==============================] - 1s 848us/step - loss: 2207.6628 - acc: 0.0000e+00\n",
      "Epoch 5/10\n",
      "600/600 [==============================] - 0s 830us/step - loss: 2088.4685 - acc: 0.0000e+00\n",
      "Epoch 6/10\n",
      "600/600 [==============================] - 1s 990us/step - loss: 1994.4678 - acc: 0.0000e+00\n",
      "Epoch 7/10\n",
      "600/600 [==============================] - 1s 1ms/step - loss: 1914.9756 - acc: 0.0000e+00\n",
      "Epoch 8/10\n",
      "600/600 [==============================] - 1s 868us/step - loss: 1844.8918 - acc: 0.0000e+00\n",
      "Epoch 9/10\n",
      "600/600 [==============================] - 1s 838us/step - loss: 1781.4235 - acc: 0.0000e+00\n",
      "Epoch 10/10\n",
      "600/600 [==============================] - 0s 831us/step - loss: 1722.9657 - acc: 0.0000e+00\n",
      "300/300 [==============================] - 1s 3ms/step\n",
      "600/600 [==============================] - 0s 394us/step\n",
      "[CV]  optimizer=Adam, momentum=0.5, lr=1, loss=binary_crossentropy, last_activation=sigmoid, l2=0.0001, l1=0.0001, epochs=10, dropout=0.4, decay=1e-06, clipnorm=0.0, activation=relu, No_of_Units_in_dense_layers=32, No_of_Dense_Layers=3, No_of_CONV_and_Maxpool_layers=2, Conv2d_filters=80, score=0.0, total=  10.2s\n",
      "[CV] optimizer=Adam, momentum=0.5, lr=1, loss=binary_crossentropy, last_activation=sigmoid, l2=0.0001, l1=0.0001, epochs=10, dropout=0.4, decay=1e-06, clipnorm=0.0, activation=relu, No_of_Units_in_dense_layers=32, No_of_Dense_Layers=3, No_of_CONV_and_Maxpool_layers=2, Conv2d_filters=80 \n",
      "Epoch 1/10\n",
      "600/600 [==============================] - 4s 6ms/step - loss: 56017.5377 - acc: 0.0167\n",
      "Epoch 2/10\n",
      "600/600 [==============================] - 1s 841us/step - loss: 2257.5119 - acc: 0.0000e+00\n",
      "Epoch 3/10\n",
      "600/600 [==============================] - 0s 816us/step - loss: 1927.1417 - acc: 0.0000e+00\n",
      "Epoch 4/10\n",
      "600/600 [==============================] - 0s 815us/step - loss: 1696.8867 - acc: 0.0000e+00\n",
      "Epoch 5/10\n",
      "600/600 [==============================] - 0s 815us/step - loss: 1508.4647 - acc: 0.0000e+00\n",
      "Epoch 6/10\n",
      "600/600 [==============================] - 1s 841us/step - loss: 1372.1425 - acc: 0.0000e+00\n",
      "Epoch 7/10\n",
      "600/600 [==============================] - 0s 813us/step - loss: 1280.2250 - acc: 0.0000e+00\n",
      "Epoch 8/10\n",
      "600/600 [==============================] - 0s 818us/step - loss: 1161.8582 - acc: 0.0000e+00\n",
      "Epoch 9/10\n",
      "600/600 [==============================] - 0s 814us/step - loss: 1075.5930 - acc: 0.0000e+00\n",
      "Epoch 10/10\n",
      "600/600 [==============================] - 0s 826us/step - loss: 1005.7650 - acc: 0.0000e+00\n",
      "300/300 [==============================] - 1s 3ms/step\n",
      "600/600 [==============================] - 0s 379us/step\n",
      "[CV]  optimizer=Adam, momentum=0.5, lr=1, loss=binary_crossentropy, last_activation=sigmoid, l2=0.0001, l1=0.0001, epochs=10, dropout=0.4, decay=1e-06, clipnorm=0.0, activation=relu, No_of_Units_in_dense_layers=32, No_of_Dense_Layers=3, No_of_CONV_and_Maxpool_layers=2, Conv2d_filters=80, score=0.0, total=  10.3s\n",
      "[CV] optimizer=Adam, momentum=0.5, lr=0.001, loss=binary_crossentropy, last_activation=sigmoid, l2=0.01, l1=0.01, epochs=15, dropout=0, decay=0.01, clipnorm=0.0, activation=relu, No_of_Units_in_dense_layers=256, No_of_Dense_Layers=3, No_of_CONV_and_Maxpool_layers=3, Conv2d_filters=80 \n",
      "Epoch 1/15\n",
      "600/600 [==============================] - 4s 7ms/step - loss: 8.7361 - acc: 0.5000\n",
      "Epoch 2/15\n",
      "600/600 [==============================] - 1s 959us/step - loss: 5.1131 - acc: 0.5000\n",
      "Epoch 3/15\n",
      "600/600 [==============================] - 1s 953us/step - loss: 3.8121 - acc: 0.5000\n",
      "Epoch 4/15\n",
      "600/600 [==============================] - 1s 967us/step - loss: 3.0696 - acc: 0.5000\n",
      "Epoch 5/15\n",
      "600/600 [==============================] - 1s 951us/step - loss: 2.5932 - acc: 0.5717\n",
      "Epoch 6/15\n",
      "600/600 [==============================] - 1s 942us/step - loss: 2.2627 - acc: 0.7267\n",
      "Epoch 7/15\n",
      "600/600 [==============================] - 1s 947us/step - loss: 2.0208 - acc: 0.7267\n",
      "Epoch 8/15\n",
      "600/600 [==============================] - 1s 949us/step - loss: 1.8364 - acc: 0.7267\n",
      "Epoch 9/15\n",
      "600/600 [==============================] - 1s 947us/step - loss: 1.6911 - acc: 0.7267\n",
      "Epoch 10/15\n",
      "600/600 [==============================] - 1s 940us/step - loss: 1.5735 - acc: 0.7267\n",
      "Epoch 11/15\n",
      "600/600 [==============================] - 1s 946us/step - loss: 1.4767 - acc: 0.7267\n",
      "Epoch 12/15\n",
      "600/600 [==============================] - 1s 949us/step - loss: 1.3957 - acc: 0.7267\n",
      "Epoch 13/15\n",
      "600/600 [==============================] - 1s 955us/step - loss: 1.3266 - acc: 0.7267\n",
      "Epoch 14/15\n",
      "600/600 [==============================] - 1s 947us/step - loss: 1.2674 - acc: 0.7267\n",
      "Epoch 15/15\n",
      "600/600 [==============================] - 1s 949us/step - loss: 1.2156 - acc: 0.7267\n",
      "300/300 [==============================] - 1s 4ms/step\n",
      "600/600 [==============================] - 0s 412us/step\n",
      "[CV]  optimizer=Adam, momentum=0.5, lr=0.001, loss=binary_crossentropy, last_activation=sigmoid, l2=0.01, l1=0.01, epochs=15, dropout=0, decay=0.01, clipnorm=0.0, activation=relu, No_of_Units_in_dense_layers=256, No_of_Dense_Layers=3, No_of_CONV_and_Maxpool_layers=3, Conv2d_filters=80, score=0.7566666642824809, total=  14.6s\n",
      "[CV] optimizer=Adam, momentum=0.5, lr=0.001, loss=binary_crossentropy, last_activation=sigmoid, l2=0.01, l1=0.01, epochs=15, dropout=0, decay=0.01, clipnorm=0.0, activation=relu, No_of_Units_in_dense_layers=256, No_of_Dense_Layers=3, No_of_CONV_and_Maxpool_layers=3, Conv2d_filters=80 \n",
      "Epoch 1/15\n",
      "600/600 [==============================] - 4s 7ms/step - loss: 8.3916 - acc: 0.5000\n",
      "Epoch 2/15\n",
      "600/600 [==============================] - 1s 956us/step - loss: 4.8893 - acc: 0.5000\n",
      "Epoch 3/15\n",
      "600/600 [==============================] - 1s 950us/step - loss: 3.6284 - acc: 0.5000\n",
      "Epoch 4/15\n",
      "600/600 [==============================] - 1s 945us/step - loss: 2.9140 - acc: 0.5000\n",
      "Epoch 5/15\n",
      "600/600 [==============================] - 1s 956us/step - loss: 2.4617 - acc: 0.6183\n",
      "Epoch 6/15\n",
      "600/600 [==============================] - 1s 957us/step - loss: 2.1514 - acc: 0.7333\n",
      "Epoch 7/15\n",
      "600/600 [==============================] - 1s 961us/step - loss: 1.9257 - acc: 0.7333\n",
      "Epoch 8/15\n",
      "600/600 [==============================] - 1s 958us/step - loss: 1.7543 - acc: 0.7333\n",
      "Epoch 9/15\n",
      "600/600 [==============================] - 1s 1ms/step - loss: 1.6207 - acc: 0.7333\n",
      "Epoch 10/15\n",
      "600/600 [==============================] - 1s 997us/step - loss: 1.5136 - acc: 0.7333\n",
      "Epoch 11/15\n",
      "600/600 [==============================] - 1s 959us/step - loss: 1.4254 - acc: 0.7333\n",
      "Epoch 12/15\n",
      "600/600 [==============================] - 1s 965us/step - loss: 1.3512 - acc: 0.7333\n",
      "Epoch 13/15\n",
      "600/600 [==============================] - 1s 940us/step - loss: 1.2881 - acc: 0.7333\n",
      "Epoch 14/15\n",
      "600/600 [==============================] - 1s 947us/step - loss: 1.2338 - acc: 0.7333\n",
      "Epoch 15/15\n",
      "600/600 [==============================] - 1s 947us/step - loss: 1.1865 - acc: 0.7333\n",
      "300/300 [==============================] - 1s 4ms/step\n",
      "600/600 [==============================] - 0s 415us/step\n",
      "[CV]  optimizer=Adam, momentum=0.5, lr=0.001, loss=binary_crossentropy, last_activation=sigmoid, l2=0.01, l1=0.01, epochs=15, dropout=0, decay=0.01, clipnorm=0.0, activation=relu, No_of_Units_in_dense_layers=256, No_of_Dense_Layers=3, No_of_CONV_and_Maxpool_layers=3, Conv2d_filters=80, score=0.7433333357175191, total=  14.8s\n",
      "[CV] optimizer=Adam, momentum=0.5, lr=0.001, loss=binary_crossentropy, last_activation=sigmoid, l2=0.01, l1=0.01, epochs=15, dropout=0, decay=0.01, clipnorm=0.0, activation=relu, No_of_Units_in_dense_layers=256, No_of_Dense_Layers=3, No_of_CONV_and_Maxpool_layers=3, Conv2d_filters=80 \n",
      "Epoch 1/15\n",
      "600/600 [==============================] - 4s 7ms/step - loss: 10.3921 - acc: 0.4992\n",
      "Epoch 2/15\n",
      "600/600 [==============================] - 1s 1ms/step - loss: 6.2488 - acc: 0.5000\n",
      "Epoch 3/15\n",
      "600/600 [==============================] - 1s 997us/step - loss: 5.0900 - acc: 0.5000\n",
      "Epoch 4/15\n",
      "600/600 [==============================] - 1s 950us/step - loss: 4.4199 - acc: 0.5000\n",
      "Epoch 5/15\n",
      "600/600 [==============================] - 1s 943us/step - loss: 3.9799 - acc: 0.5000\n",
      "Epoch 6/15\n",
      "600/600 [==============================] - 1s 953us/step - loss: 3.6625 - acc: 0.5000\n",
      "Epoch 7/15\n",
      "600/600 [==============================] - 1s 952us/step - loss: 3.4190 - acc: 0.5000\n",
      "Epoch 8/15\n",
      "600/600 [==============================] - 1s 955us/step - loss: 3.2244 - acc: 0.5000\n",
      "Epoch 9/15\n",
      "600/600 [==============================] - 1s 952us/step - loss: 3.0644 - acc: 0.5000\n",
      "Epoch 10/15\n",
      "600/600 [==============================] - 1s 958us/step - loss: 2.9297 - acc: 0.5000\n",
      "Epoch 11/15\n",
      "600/600 [==============================] - 1s 952us/step - loss: 2.8126 - acc: 0.5000\n",
      "Epoch 12/15\n",
      "600/600 [==============================] - 1s 960us/step - loss: 2.7106 - acc: 0.5000\n",
      "Epoch 13/15\n",
      "600/600 [==============================] - 1s 958us/step - loss: 2.6197 - acc: 0.5000\n",
      "Epoch 14/15\n",
      "600/600 [==============================] - 1s 944us/step - loss: 2.5380 - acc: 0.5000\n",
      "Epoch 15/15\n",
      "600/600 [==============================] - 1s 952us/step - loss: 2.4644 - acc: 0.5667\n",
      "300/300 [==============================] - 1s 4ms/step\n",
      "600/600 [==============================] - 0s 422us/step\n",
      "[CV]  optimizer=Adam, momentum=0.5, lr=0.001, loss=binary_crossentropy, last_activation=sigmoid, l2=0.01, l1=0.01, epochs=15, dropout=0, decay=0.01, clipnorm=0.0, activation=relu, No_of_Units_in_dense_layers=256, No_of_Dense_Layers=3, No_of_CONV_and_Maxpool_layers=3, Conv2d_filters=80, score=0.7099999944368999, total=  14.7s\n",
      "[CV] optimizer=Adam, momentum=0.9, lr=1, loss=mean_absolute_error, last_activation=sigmoid, l2=0.001, l1=0.0001, epochs=10, dropout=0, decay=0.01, clipnorm=1, activation=linear, No_of_Units_in_dense_layers=32, No_of_Dense_Layers=2, No_of_CONV_and_Maxpool_layers=3, Conv2d_filters=120 \n",
      "Epoch 1/10\n",
      "600/600 [==============================] - 4s 7ms/step - loss: 24844610416664.8242 - acc: 0.5050\n",
      "Epoch 2/10\n",
      "600/600 [==============================] - 1s 1ms/step - loss: 1866980139554.1335 - acc: 0.4800\n",
      "Epoch 3/10\n",
      "600/600 [==============================] - 1s 1ms/step - loss: 200527236027.7333 - acc: 0.4867\n",
      "Epoch 4/10\n",
      "600/600 [==============================] - 1s 991us/step - loss: 19805544311.4667 - acc: 0.4833\n",
      "Epoch 5/10\n",
      "600/600 [==============================] - 1s 990us/step - loss: 4752156181.3333 - acc: 0.4683\n",
      "Epoch 6/10\n",
      "600/600 [==============================] - 1s 986us/step - loss: 1765473736.5333 - acc: 0.4550\n",
      "Epoch 7/10\n",
      "600/600 [==============================] - 1s 996us/step - loss: 1927112742.4000 - acc: 0.5100\n",
      "Epoch 8/10\n",
      "600/600 [==============================] - 1s 984us/step - loss: 1943281239.4667 - acc: 0.4850\n",
      "Epoch 9/10\n",
      "600/600 [==============================] - 1s 973us/step - loss: 1274049540.2667 - acc: 0.4967\n",
      "Epoch 10/10\n",
      "600/600 [==============================] - 1s 980us/step - loss: 699286402.1333 - acc: 0.4150\n",
      "300/300 [==============================] - 1s 4ms/step\n",
      "600/600 [==============================] - 0s 489us/step\n",
      "[CV]  optimizer=Adam, momentum=0.9, lr=1, loss=mean_absolute_error, last_activation=sigmoid, l2=0.001, l1=0.0001, epochs=10, dropout=0, decay=0.01, clipnorm=1, activation=linear, No_of_Units_in_dense_layers=32, No_of_Dense_Layers=2, No_of_CONV_and_Maxpool_layers=3, Conv2d_filters=120, score=0.35333333412806195, total=  11.6s\n",
      "[CV] optimizer=Adam, momentum=0.9, lr=1, loss=mean_absolute_error, last_activation=sigmoid, l2=0.001, l1=0.0001, epochs=10, dropout=0, decay=0.01, clipnorm=1, activation=linear, No_of_Units_in_dense_layers=32, No_of_Dense_Layers=2, No_of_CONV_and_Maxpool_layers=3, Conv2d_filters=120 \n",
      "Epoch 1/10\n",
      "600/600 [==============================] - 4s 7ms/step - loss: 15007638065954.6895 - acc: 0.4900\n",
      "Epoch 2/10\n",
      "600/600 [==============================] - 1s 1ms/step - loss: 925255360648.5333 - acc: 0.4867\n",
      "Epoch 3/10\n",
      "600/600 [==============================] - 1s 984us/step - loss: 33284106675.2000 - acc: 0.5083\n",
      "Epoch 4/10\n",
      "600/600 [==============================] - 1s 988us/step - loss: 2933168155.7333 - acc: 0.4867\n",
      "Epoch 5/10\n",
      "600/600 [==============================] - 1s 1ms/step - loss: 951868554.6667 - acc: 0.4917\n",
      "Epoch 6/10\n",
      "600/600 [==============================] - 1s 992us/step - loss: 638024433.0667 - acc: 0.5200\n",
      "Epoch 7/10\n",
      "600/600 [==============================] - 1s 990us/step - loss: 586767843.2000 - acc: 0.4950\n",
      "Epoch 8/10\n",
      "600/600 [==============================] - 1s 979us/step - loss: 385836731.2000 - acc: 0.5100\n",
      "Epoch 9/10\n",
      "600/600 [==============================] - 1s 997us/step - loss: 392828400.5333 - acc: 0.4800\n",
      "Epoch 10/10\n",
      "600/600 [==============================] - 1s 985us/step - loss: 386222390.9333 - acc: 0.5017\n",
      "300/300 [==============================] - 2s 5ms/step\n",
      "600/600 [==============================] - 0s 459us/step\n",
      "[CV]  optimizer=Adam, momentum=0.9, lr=1, loss=mean_absolute_error, last_activation=sigmoid, l2=0.001, l1=0.0001, epochs=10, dropout=0, decay=0.01, clipnorm=1, activation=linear, No_of_Units_in_dense_layers=32, No_of_Dense_Layers=2, No_of_CONV_and_Maxpool_layers=3, Conv2d_filters=120, score=0.4333333373069763, total=  12.3s\n",
      "[CV] optimizer=Adam, momentum=0.9, lr=1, loss=mean_absolute_error, last_activation=sigmoid, l2=0.001, l1=0.0001, epochs=10, dropout=0, decay=0.01, clipnorm=1, activation=linear, No_of_Units_in_dense_layers=32, No_of_Dense_Layers=2, No_of_CONV_and_Maxpool_layers=3, Conv2d_filters=120 \n",
      "Epoch 1/10\n",
      "600/600 [==============================] - 4s 6ms/step - loss: 22132867222700.8203 - acc: 0.4533\n",
      "Epoch 2/10\n",
      "600/600 [==============================] - 1s 968us/step - loss: 2809294580394.6665 - acc: 0.5433\n",
      "Epoch 3/10\n",
      "600/600 [==============================] - 1s 985us/step - loss: 111438829158.4000 - acc: 0.4983\n",
      "Epoch 4/10\n",
      "600/600 [==============================] - 1s 971us/step - loss: 7945526869.3333 - acc: 0.4750\n",
      "Epoch 5/10\n",
      "600/600 [==============================] - 1s 974us/step - loss: 1874441459.2000 - acc: 0.4833\n",
      "Epoch 6/10\n",
      "600/600 [==============================] - 1s 978us/step - loss: 1252446941.8667 - acc: 0.4533\n",
      "Epoch 7/10\n",
      "600/600 [==============================] - 1s 973us/step - loss: 1228826060.8000 - acc: 0.4917\n",
      "Epoch 8/10\n",
      "600/600 [==============================] - 1s 978us/step - loss: 1080772870.4000 - acc: 0.4633\n",
      "Epoch 9/10\n",
      "600/600 [==============================] - 1s 979us/step - loss: 756007178.6667 - acc: 0.4500\n",
      "Epoch 10/10\n",
      "600/600 [==============================] - 1s 977us/step - loss: 848566698.6667 - acc: 0.4833\n",
      "300/300 [==============================] - 2s 6ms/step\n",
      "600/600 [==============================] - 0s 469us/step\n",
      "[CV]  optimizer=Adam, momentum=0.9, lr=1, loss=mean_absolute_error, last_activation=sigmoid, l2=0.001, l1=0.0001, epochs=10, dropout=0, decay=0.01, clipnorm=1, activation=linear, No_of_Units_in_dense_layers=32, No_of_Dense_Layers=2, No_of_CONV_and_Maxpool_layers=3, Conv2d_filters=120, score=0.5199999968210857, total=  11.7s\n",
      "[CV] optimizer=sgd, momentum=0.9, lr=0.01, loss=mean_absolute_error, last_activation=softmax, l2=0.01, l1=0.01, epochs=15, dropout=0.4, decay=0.0001, clipnorm=0.0, activation=linear, No_of_Units_in_dense_layers=32, No_of_Dense_Layers=4, No_of_CONV_and_Maxpool_layers=2, Conv2d_filters=120 \n",
      "Epoch 1/15\n",
      "600/600 [==============================] - 5s 8ms/step - loss: nan - acc: 0.6817\n",
      "Epoch 2/15\n",
      "600/600 [==============================] - 1s 888us/step - loss: nan - acc: 0.7267\n",
      "Epoch 3/15\n",
      "600/600 [==============================] - 1s 885us/step - loss: nan - acc: 0.7267\n",
      "Epoch 4/15\n",
      "600/600 [==============================] - 1s 891us/step - loss: nan - acc: 0.7267\n",
      "Epoch 5/15\n",
      "600/600 [==============================] - 1s 880us/step - loss: nan - acc: 0.7267\n",
      "Epoch 6/15\n",
      "600/600 [==============================] - 1s 891us/step - loss: nan - acc: 0.7267\n",
      "Epoch 7/15\n",
      "600/600 [==============================] - 1s 895us/step - loss: nan - acc: 0.7267\n",
      "Epoch 8/15\n",
      "600/600 [==============================] - 1s 950us/step - loss: nan - acc: 0.7267\n",
      "Epoch 9/15\n",
      "600/600 [==============================] - 1s 1ms/step - loss: nan - acc: 0.7267\n",
      "Epoch 10/15\n",
      "600/600 [==============================] - 1s 894us/step - loss: nan - acc: 0.7267\n",
      "Epoch 11/15\n",
      "600/600 [==============================] - 1s 884us/step - loss: nan - acc: 0.7267\n",
      "Epoch 12/15\n",
      "600/600 [==============================] - 1s 890us/step - loss: nan - acc: 0.7267\n",
      "Epoch 13/15\n",
      "600/600 [==============================] - 1s 888us/step - loss: nan - acc: 0.7267\n",
      "Epoch 14/15\n",
      "600/600 [==============================] - 1s 892us/step - loss: nan - acc: 0.7267\n",
      "Epoch 15/15\n",
      "600/600 [==============================] - 1s 887us/step - loss: nan - acc: 0.7267\n",
      "300/300 [==============================] - 1s 5ms/step\n",
      "600/600 [==============================] - 0s 442us/step\n",
      "[CV]  optimizer=sgd, momentum=0.9, lr=0.01, loss=mean_absolute_error, last_activation=softmax, l2=0.01, l1=0.01, epochs=15, dropout=0.4, decay=0.0001, clipnorm=0.0, activation=linear, No_of_Units_in_dense_layers=32, No_of_Dense_Layers=4, No_of_CONV_and_Maxpool_layers=2, Conv2d_filters=120, score=0.7566666642824809, total=  14.6s\n",
      "[CV] optimizer=sgd, momentum=0.9, lr=0.01, loss=mean_absolute_error, last_activation=softmax, l2=0.01, l1=0.01, epochs=15, dropout=0.4, decay=0.0001, clipnorm=0.0, activation=linear, No_of_Units_in_dense_layers=32, No_of_Dense_Layers=4, No_of_CONV_and_Maxpool_layers=2, Conv2d_filters=120 \n",
      "Epoch 1/15\n",
      "600/600 [==============================] - 4s 7ms/step - loss: nan - acc: 0.6917\n",
      "Epoch 2/15\n",
      "600/600 [==============================] - 1s 1ms/step - loss: nan - acc: 0.7333\n",
      "Epoch 3/15\n",
      "600/600 [==============================] - 1s 927us/step - loss: nan - acc: 0.7333\n",
      "Epoch 4/15\n",
      "600/600 [==============================] - 1s 895us/step - loss: nan - acc: 0.7333\n",
      "Epoch 5/15\n",
      "600/600 [==============================] - 1s 892us/step - loss: nan - acc: 0.7333\n",
      "Epoch 6/15\n",
      "600/600 [==============================] - 1s 888us/step - loss: nan - acc: 0.7333\n",
      "Epoch 7/15\n",
      "600/600 [==============================] - 1s 892us/step - loss: nan - acc: 0.7333\n",
      "Epoch 8/15\n",
      "600/600 [==============================] - 1s 892us/step - loss: nan - acc: 0.7333\n",
      "Epoch 9/15\n",
      "600/600 [==============================] - 1s 894us/step - loss: nan - acc: 0.7333\n",
      "Epoch 10/15\n",
      "600/600 [==============================] - 1s 895us/step - loss: nan - acc: 0.7333\n",
      "Epoch 11/15\n",
      "600/600 [==============================] - 1s 907us/step - loss: nan - acc: 0.7333\n",
      "Epoch 12/15\n",
      "600/600 [==============================] - 1s 890us/step - loss: nan - acc: 0.7333\n",
      "Epoch 13/15\n",
      "600/600 [==============================] - 1s 888us/step - loss: nan - acc: 0.7333\n",
      "Epoch 14/15\n",
      "600/600 [==============================] - 1s 885us/step - loss: nan - acc: 0.7333\n",
      "Epoch 15/15\n",
      "600/600 [==============================] - 1s 891us/step - loss: nan - acc: 0.7333\n",
      "300/300 [==============================] - 2s 5ms/step\n",
      "600/600 [==============================] - 0s 453us/step\n",
      "[CV]  optimizer=sgd, momentum=0.9, lr=0.01, loss=mean_absolute_error, last_activation=softmax, l2=0.01, l1=0.01, epochs=15, dropout=0.4, decay=0.0001, clipnorm=0.0, activation=linear, No_of_Units_in_dense_layers=32, No_of_Dense_Layers=4, No_of_CONV_and_Maxpool_layers=2, Conv2d_filters=120, score=0.7433333357175191, total=  14.4s\n",
      "[CV] optimizer=sgd, momentum=0.9, lr=0.01, loss=mean_absolute_error, last_activation=softmax, l2=0.01, l1=0.01, epochs=15, dropout=0.4, decay=0.0001, clipnorm=0.0, activation=linear, No_of_Units_in_dense_layers=32, No_of_Dense_Layers=4, No_of_CONV_and_Maxpool_layers=2, Conv2d_filters=120 \n",
      "Epoch 1/15\n",
      "600/600 [==============================] - 5s 8ms/step - loss: nan - acc: 0.7100\n",
      "Epoch 2/15\n",
      "600/600 [==============================] - 1s 925us/step - loss: nan - acc: 0.7500\n",
      "Epoch 3/15\n",
      "600/600 [==============================] - 1s 918us/step - loss: nan - acc: 0.7500\n",
      "Epoch 4/15\n",
      "600/600 [==============================] - 1s 940us/step - loss: nan - acc: 0.7500\n",
      "Epoch 5/15\n",
      "600/600 [==============================] - 1s 903us/step - loss: nan - acc: 0.7500\n",
      "Epoch 6/15\n",
      "600/600 [==============================] - 1s 899us/step - loss: nan - acc: 0.7500\n",
      "Epoch 7/15\n",
      "600/600 [==============================] - 1s 899us/step - loss: nan - acc: 0.7500\n",
      "Epoch 8/15\n",
      "600/600 [==============================] - 1s 897us/step - loss: nan - acc: 0.7500\n",
      "Epoch 9/15\n",
      "600/600 [==============================] - 1s 897us/step - loss: nan - acc: 0.7500\n",
      "Epoch 10/15\n",
      "600/600 [==============================] - 1s 900us/step - loss: nan - acc: 0.7500\n",
      "Epoch 11/15\n",
      "600/600 [==============================] - 1s 922us/step - loss: nan - acc: 0.7500\n",
      "Epoch 12/15\n",
      "600/600 [==============================] - 1s 905us/step - loss: nan - acc: 0.7500\n",
      "Epoch 13/15\n",
      "600/600 [==============================] - 1s 898us/step - loss: nan - acc: 0.7500\n",
      "Epoch 14/15\n",
      "600/600 [==============================] - 1s 1ms/step - loss: nan - acc: 0.7500\n",
      "Epoch 15/15\n",
      "600/600 [==============================] - 1s 960us/step - loss: nan - acc: 0.7500\n",
      "300/300 [==============================] - 2s 6ms/step\n",
      "600/600 [==============================] - 0s 452us/step\n",
      "[CV]  optimizer=sgd, momentum=0.9, lr=0.01, loss=mean_absolute_error, last_activation=softmax, l2=0.01, l1=0.01, epochs=15, dropout=0.4, decay=0.0001, clipnorm=0.0, activation=linear, No_of_Units_in_dense_layers=32, No_of_Dense_Layers=4, No_of_CONV_and_Maxpool_layers=2, Conv2d_filters=120, score=0.7099999944368999, total=  15.3s\n"
     ]
    },
    {
     "name": "stderr",
     "output_type": "stream",
     "text": [
      "[Parallel(n_jobs=1)]: Done  30 out of  30 | elapsed:  6.1min finished\n"
     ]
    },
    {
     "name": "stdout",
     "output_type": "stream",
     "text": [
      "Epoch 1/15\n",
      "900/900 [==============================] - 5s 5ms/step - loss: 0.6273 - acc: 0.7278\n",
      "Epoch 2/15\n",
      "900/900 [==============================] - 1s 679us/step - loss: 0.4373 - acc: 0.7367\n",
      "Epoch 3/15\n",
      "900/900 [==============================] - 1s 681us/step - loss: 0.4049 - acc: 0.7367\n",
      "Epoch 4/15\n",
      "900/900 [==============================] - 1s 685us/step - loss: 0.3908 - acc: 0.7367\n",
      "Epoch 5/15\n",
      "900/900 [==============================] - 1s 682us/step - loss: 0.3776 - acc: 0.7367\n",
      "Epoch 6/15\n",
      "900/900 [==============================] - 1s 819us/step - loss: 0.3719 - acc: 0.7367\n",
      "Epoch 7/15\n",
      "900/900 [==============================] - 1s 724us/step - loss: 0.3642 - acc: 0.7367\n",
      "Epoch 8/15\n",
      "900/900 [==============================] - 1s 680us/step - loss: 0.3612 - acc: 0.7367\n",
      "Epoch 9/15\n",
      "900/900 [==============================] - 1s 691us/step - loss: 0.3600 - acc: 0.7367\n",
      "Epoch 10/15\n",
      "900/900 [==============================] - 1s 676us/step - loss: 0.3544 - acc: 0.7367\n",
      "Epoch 11/15\n",
      "900/900 [==============================] - 1s 683us/step - loss: 0.3534 - acc: 0.7367\n",
      "Epoch 12/15\n",
      "900/900 [==============================] - 1s 684us/step - loss: 0.3516 - acc: 0.7367\n",
      "Epoch 13/15\n",
      "900/900 [==============================] - 1s 680us/step - loss: 0.3498 - acc: 0.7367\n",
      "Epoch 14/15\n",
      "900/900 [==============================] - 1s 687us/step - loss: 0.3493 - acc: 0.7367\n",
      "Epoch 15/15\n",
      "900/900 [==============================] - 1s 685us/step - loss: 0.3449 - acc: 0.7367\n"
     ]
    }
   ],
   "source": [
    "grid_result = grid.fit(X_train, y_train)"
   ]
  },
  {
   "cell_type": "markdown",
   "metadata": {
    "_uuid": "3579cc3b86fa17ff2b42cf815ba374fe9f7bd77c"
   },
   "source": [
    "**Best Params of Randomized search**"
   ]
  },
  {
   "cell_type": "code",
   "execution_count": 26,
   "metadata": {
    "_uuid": "5395aa0cd00cdc8d31358558d27a403e2b5ec557"
   },
   "outputs": [
    {
     "data": {
      "text/plain": [
       "{'optimizer': 'Adagrad',\n",
       " 'momentum': 0.2,\n",
       " 'lr': 0.01,\n",
       " 'loss': 'mean_absolute_error',\n",
       " 'last_activation': 'sigmoid',\n",
       " 'l2': 0.001,\n",
       " 'l1': 0.0001,\n",
       " 'epochs': 15,\n",
       " 'dropout': 0.8,\n",
       " 'decay': 0.01,\n",
       " 'clipnorm': 0.0,\n",
       " 'activation': 'relu',\n",
       " 'No_of_Units_in_dense_layers': 128,\n",
       " 'No_of_Dense_Layers': 4,\n",
       " 'No_of_CONV_and_Maxpool_layers': 3,\n",
       " 'Conv2d_filters': 60}"
      ]
     },
     "execution_count": 26,
     "metadata": {},
     "output_type": "execute_result"
    }
   ],
   "source": [
    "best_params=grid_result.best_params_\n",
    "best_params"
   ]
  },
  {
   "cell_type": "code",
   "execution_count": 27,
   "metadata": {
    "_uuid": "414baf56512334fab8c2fdd35534ba472175ce89"
   },
   "outputs": [
    {
     "name": "stdout",
     "output_type": "stream",
     "text": [
      "100/100 [==============================] - 2s 17ms/step\n",
      "Base Accuracy  0.76\n",
      "100/100 [==============================] - 0s 351us/step\n",
      "Best Accuracy  0.76\n",
      "Improvement of 0.00%.\n"
     ]
    }
   ],
   "source": [
    "\n",
    "from sklearn.metrics import accuracy_score\n",
    "\n",
    "y=grid_result.predict(X_test)\n",
    "random=accuracy_score(y, y_test)\n",
    "print(\"Base Accuracy \",random)\n",
    "\n",
    "best_random = grid_result.best_estimator_\n",
    "y1=best_random.predict(X_test)\n",
    "Best=accuracy_score(y1, y_test)\n",
    "print(\"Best Accuracy \" ,Best)\n",
    "\n",
    "\n",
    "print('Improvement of {:0.2f}%.'.format( 100 * (Best - random) / random))"
   ]
  },
  {
   "cell_type": "code",
   "execution_count": 28,
   "metadata": {
    "_uuid": "b6da09f65eaf59710c2ec0201f7257b780856588"
   },
   "outputs": [],
   "source": [
    "def Best_param_Model(best_params):\n",
    "       \n",
    "    lr=best_params[\"lr\"]\n",
    "    dropout=best_params[\"dropout\"]\n",
    "    optimizer=best_params[\"optimizer\"]\n",
    "    loss=best_params[\"loss\"]\n",
    "    last_activation=best_params[\"last_activation\"]\n",
    "    activation=best_params[\"activation\"]\n",
    "    clipnorm=best_params[\"clipnorm\"]\n",
    "    decay=best_params[\"decay\"]\n",
    "    momentum=best_params[\"momentum\"]\n",
    "    l1=best_params[\"l1\"]\n",
    "    l2=best_params[\"l2\"]\n",
    "    No_of_CONV_and_Maxpool_layers=best_params[\"No_of_CONV_and_Maxpool_layers\"]\n",
    "    No_of_Dense_Layers=best_params[\"No_of_Dense_Layers\"]\n",
    "    No_of_Units_in_dense_layers=best_params[\"No_of_Units_in_dense_layers\"]\n",
    "    Conv2d_filters=best_params[\"Conv2d_filters\"]\n",
    "    \n",
    "    #model sequential\n",
    "    model=Sequential()\n",
    "    \n",
    "    for i in range(0,No_of_CONV_and_Maxpool_layers):\n",
    "        model.add(Conv2D(Conv2d_filters, (2,2) ,padding=\"same\"))\n",
    "        model.add(Activation(activation))\n",
    "        model.add(MaxPooling2D(pool_size=(2,2),strides=(2,2)))\n",
    "    \n",
    "    \n",
    "    model.add(Flatten())\n",
    "    \n",
    "    for i in range (0,No_of_Dense_Layers):\n",
    "        model.add(Dense(units=No_of_Units_in_dense_layers,activation=activation, kernel_regularizer=regularizers.l2(l2),\n",
    "                  activity_regularizer=regularizers.l1(l1)))\n",
    "    \n",
    "    \n",
    "    model.add(Dense(units=20,activation=activation))\n",
    "    \n",
    "    model.add(Dense(units=2,activation=activation))\n",
    "    if optimizer==\"Adam\":\n",
    "        opt=keras.optimizers.Adam(lr=lr, decay=decay, beta_1=0.9, beta_2=0.999)\n",
    "    if optimizer==\"Adagrad\":\n",
    "        opt=keras.optimizers.Adagrad(lr=lr, epsilon=None, decay=decay)\n",
    "    if optimizer==\"sgd\":\n",
    "        opt=keras.optimizers.SGD(lr=lr, momentum=momentum, decay=decay, nesterov=False)\n",
    "    \n",
    "    model.compile(loss=loss,optimizer=opt,\n",
    "                 metrics=['accuracy'])\n",
    "    \n",
    "    \n",
    "\n",
    "    return model"
   ]
  },
  {
   "cell_type": "code",
   "execution_count": 29,
   "metadata": {
    "_kg_hide-output": true,
    "_uuid": "d44860874f77e57d6097dfe2e8a508577fc1c8d0"
   },
   "outputs": [
    {
     "name": "stdout",
     "output_type": "stream",
     "text": [
      "Train on 900 samples, validate on 100 samples\n",
      "Epoch 1/100\n",
      "900/900 [==============================] - 6s 7ms/step - loss: 0.6951 - acc: 0.7367 - val_loss: 0.4865 - val_acc: 0.7600\n",
      "Epoch 2/100\n",
      "900/900 [==============================] - 1s 684us/step - loss: 0.4131 - acc: 0.7367 - val_loss: 0.3724 - val_acc: 0.7600\n",
      "Epoch 3/100\n",
      "900/900 [==============================] - 1s 682us/step - loss: 0.3733 - acc: 0.7367 - val_loss: 0.3392 - val_acc: 0.7600\n",
      "Epoch 4/100\n",
      "900/900 [==============================] - 1s 688us/step - loss: 0.3572 - acc: 0.7367 - val_loss: 0.3264 - val_acc: 0.7600\n",
      "Epoch 5/100\n",
      "900/900 [==============================] - 1s 687us/step - loss: 0.3484 - acc: 0.7367 - val_loss: 0.3219 - val_acc: 0.7600\n",
      "Epoch 6/100\n",
      "900/900 [==============================] - 1s 683us/step - loss: 0.3437 - acc: 0.7367 - val_loss: 0.3187 - val_acc: 0.7600\n",
      "Epoch 7/100\n",
      "900/900 [==============================] - 1s 686us/step - loss: 0.3400 - acc: 0.7367 - val_loss: 0.3172 - val_acc: 0.7600\n",
      "Epoch 8/100\n",
      "900/900 [==============================] - 1s 690us/step - loss: 0.3372 - acc: 0.7367 - val_loss: 0.3107 - val_acc: 0.7600\n",
      "Epoch 9/100\n",
      "900/900 [==============================] - 1s 686us/step - loss: 0.3348 - acc: 0.7367 - val_loss: 0.3106 - val_acc: 0.7600\n",
      "Epoch 10/100\n",
      "900/900 [==============================] - 1s 798us/step - loss: 0.3332 - acc: 0.7367 - val_loss: 0.3073 - val_acc: 0.7600\n",
      "Epoch 11/100\n",
      "900/900 [==============================] - 1s 715us/step - loss: 0.3317 - acc: 0.7367 - val_loss: 0.3087 - val_acc: 0.7600\n",
      "Epoch 12/100\n",
      "900/900 [==============================] - 1s 684us/step - loss: 0.3306 - acc: 0.7367 - val_loss: 0.3067 - val_acc: 0.7600\n",
      "Epoch 13/100\n",
      "900/900 [==============================] - 1s 684us/step - loss: 0.3295 - acc: 0.7367 - val_loss: 0.3043 - val_acc: 0.7600\n",
      "Epoch 14/100\n",
      "900/900 [==============================] - 1s 683us/step - loss: 0.3285 - acc: 0.7367 - val_loss: 0.3034 - val_acc: 0.7600\n",
      "Epoch 15/100\n",
      "900/900 [==============================] - 1s 698us/step - loss: 0.3277 - acc: 0.7367 - val_loss: 0.3038 - val_acc: 0.7600\n",
      "Epoch 16/100\n",
      "900/900 [==============================] - 1s 689us/step - loss: 0.3271 - acc: 0.7367 - val_loss: 0.3023 - val_acc: 0.7600\n",
      "Epoch 17/100\n",
      "900/900 [==============================] - 1s 692us/step - loss: 0.3263 - acc: 0.7367 - val_loss: 0.3025 - val_acc: 0.7600\n",
      "Epoch 18/100\n",
      "900/900 [==============================] - 1s 691us/step - loss: 0.3258 - acc: 0.7367 - val_loss: 0.3013 - val_acc: 0.7600\n",
      "Epoch 19/100\n",
      "900/900 [==============================] - 1s 702us/step - loss: 0.3252 - acc: 0.7367 - val_loss: 0.3010 - val_acc: 0.7600\n",
      "Epoch 20/100\n",
      "900/900 [==============================] - 1s 695us/step - loss: 0.3248 - acc: 0.7367 - val_loss: 0.3003 - val_acc: 0.7600\n",
      "Epoch 21/100\n",
      "900/900 [==============================] - 1s 693us/step - loss: 0.3244 - acc: 0.7367 - val_loss: 0.3010 - val_acc: 0.7600\n",
      "Epoch 22/100\n",
      "900/900 [==============================] - 1s 692us/step - loss: 0.3239 - acc: 0.7367 - val_loss: 0.2995 - val_acc: 0.7600\n",
      "Epoch 23/100\n",
      "900/900 [==============================] - 1s 694us/step - loss: 0.3235 - acc: 0.7367 - val_loss: 0.2996 - val_acc: 0.7600\n",
      "Epoch 24/100\n",
      "900/900 [==============================] - 1s 704us/step - loss: 0.3232 - acc: 0.7367 - val_loss: 0.2993 - val_acc: 0.7600\n",
      "Epoch 25/100\n",
      "900/900 [==============================] - 1s 693us/step - loss: 0.3228 - acc: 0.7367 - val_loss: 0.2992 - val_acc: 0.7600\n",
      "Epoch 26/100\n",
      "900/900 [==============================] - 1s 702us/step - loss: 0.3225 - acc: 0.7367 - val_loss: 0.2984 - val_acc: 0.7600\n",
      "Epoch 27/100\n",
      "900/900 [==============================] - 1s 776us/step - loss: 0.3222 - acc: 0.7367 - val_loss: 0.2983 - val_acc: 0.7600\n",
      "Epoch 28/100\n",
      "900/900 [==============================] - 1s 792us/step - loss: 0.3219 - acc: 0.7367 - val_loss: 0.2985 - val_acc: 0.7600\n",
      "Epoch 29/100\n",
      "900/900 [==============================] - 1s 709us/step - loss: 0.3217 - acc: 0.7367 - val_loss: 0.2978 - val_acc: 0.7600\n",
      "Epoch 30/100\n",
      "900/900 [==============================] - 1s 710us/step - loss: 0.3214 - acc: 0.7367 - val_loss: 0.2973 - val_acc: 0.7600\n",
      "Epoch 31/100\n",
      "900/900 [==============================] - 1s 715us/step - loss: 0.3212 - acc: 0.7367 - val_loss: 0.2973 - val_acc: 0.7600\n",
      "Epoch 32/100\n",
      "900/900 [==============================] - 1s 709us/step - loss: 0.3209 - acc: 0.7367 - val_loss: 0.2968 - val_acc: 0.7600\n",
      "Epoch 33/100\n",
      "900/900 [==============================] - 1s 705us/step - loss: 0.3207 - acc: 0.7367 - val_loss: 0.2967 - val_acc: 0.7600\n",
      "Epoch 34/100\n",
      "900/900 [==============================] - 1s 707us/step - loss: 0.3205 - acc: 0.7367 - val_loss: 0.2967 - val_acc: 0.7600\n",
      "Epoch 35/100\n",
      "900/900 [==============================] - 1s 696us/step - loss: 0.3203 - acc: 0.7367 - val_loss: 0.2962 - val_acc: 0.7600\n",
      "Epoch 36/100\n",
      "900/900 [==============================] - 1s 696us/step - loss: 0.3201 - acc: 0.7367 - val_loss: 0.2962 - val_acc: 0.7600\n",
      "Epoch 37/100\n",
      "900/900 [==============================] - 1s 703us/step - loss: 0.3199 - acc: 0.7367 - val_loss: 0.2960 - val_acc: 0.7600\n",
      "Epoch 38/100\n",
      "900/900 [==============================] - 1s 688us/step - loss: 0.3198 - acc: 0.7367 - val_loss: 0.2957 - val_acc: 0.7600\n",
      "Epoch 39/100\n",
      "900/900 [==============================] - 1s 705us/step - loss: 0.3196 - acc: 0.7367 - val_loss: 0.2956 - val_acc: 0.7600\n",
      "Epoch 40/100\n",
      "900/900 [==============================] - 1s 693us/step - loss: 0.3194 - acc: 0.7367 - val_loss: 0.2955 - val_acc: 0.7600\n",
      "Epoch 41/100\n",
      "900/900 [==============================] - 1s 724us/step - loss: 0.3193 - acc: 0.7367 - val_loss: 0.2953 - val_acc: 0.7600\n",
      "Epoch 42/100\n",
      "900/900 [==============================] - 1s 691us/step - loss: 0.3191 - acc: 0.7367 - val_loss: 0.2951 - val_acc: 0.7600\n",
      "Epoch 43/100\n",
      "900/900 [==============================] - 1s 750us/step - loss: 0.3190 - acc: 0.7367 - val_loss: 0.2949 - val_acc: 0.7600\n",
      "Epoch 44/100\n",
      "900/900 [==============================] - 1s 1ms/step - loss: 0.3188 - acc: 0.7367 - val_loss: 0.2953 - val_acc: 0.7600\n",
      "Epoch 45/100\n",
      "900/900 [==============================] - 1s 781us/step - loss: 0.3187 - acc: 0.7367 - val_loss: 0.2946 - val_acc: 0.7600\n",
      "Epoch 46/100\n",
      "900/900 [==============================] - 1s 699us/step - loss: 0.3186 - acc: 0.7367 - val_loss: 0.2946 - val_acc: 0.7600\n",
      "Epoch 47/100\n",
      "900/900 [==============================] - 1s 690us/step - loss: 0.3184 - acc: 0.7367 - val_loss: 0.2948 - val_acc: 0.7600\n",
      "Epoch 48/100\n",
      "900/900 [==============================] - 1s 686us/step - loss: 0.3183 - acc: 0.7367 - val_loss: 0.2942 - val_acc: 0.7600\n",
      "Epoch 49/100\n",
      "900/900 [==============================] - 1s 718us/step - loss: 0.3182 - acc: 0.7367 - val_loss: 0.2946 - val_acc: 0.7600\n",
      "Epoch 50/100\n",
      "900/900 [==============================] - 1s 706us/step - loss: 0.3181 - acc: 0.7367 - val_loss: 0.2941 - val_acc: 0.7600\n",
      "Epoch 51/100\n",
      "900/900 [==============================] - 1s 701us/step - loss: 0.3180 - acc: 0.7367 - val_loss: 0.2942 - val_acc: 0.7600\n",
      "Epoch 52/100\n",
      "900/900 [==============================] - 1s 695us/step - loss: 0.3179 - acc: 0.7367 - val_loss: 0.2939 - val_acc: 0.7600\n",
      "Epoch 53/100\n",
      "900/900 [==============================] - 1s 688us/step - loss: 0.3177 - acc: 0.7367 - val_loss: 0.2938 - val_acc: 0.7600\n",
      "Epoch 54/100\n",
      "900/900 [==============================] - 1s 683us/step - loss: 0.3176 - acc: 0.7367 - val_loss: 0.2937 - val_acc: 0.7600\n",
      "Epoch 55/100\n",
      "900/900 [==============================] - 1s 696us/step - loss: 0.3175 - acc: 0.7367 - val_loss: 0.2935 - val_acc: 0.7600\n",
      "Epoch 56/100\n",
      "900/900 [==============================] - 1s 693us/step - loss: 0.3174 - acc: 0.7367 - val_loss: 0.2933 - val_acc: 0.7600\n",
      "Epoch 57/100\n",
      "900/900 [==============================] - 1s 694us/step - loss: 0.3173 - acc: 0.7367 - val_loss: 0.2936 - val_acc: 0.7600\n",
      "Epoch 58/100\n",
      "900/900 [==============================] - 1s 692us/step - loss: 0.3173 - acc: 0.7367 - val_loss: 0.2933 - val_acc: 0.7600\n",
      "Epoch 59/100\n",
      "900/900 [==============================] - 1s 694us/step - loss: 0.3172 - acc: 0.7367 - val_loss: 0.2932 - val_acc: 0.7600\n",
      "Epoch 60/100\n",
      "900/900 [==============================] - 1s 694us/step - loss: 0.3171 - acc: 0.7367 - val_loss: 0.2931 - val_acc: 0.7600\n",
      "Epoch 61/100\n",
      "900/900 [==============================] - 1s 759us/step - loss: 0.3170 - acc: 0.7367 - val_loss: 0.2930 - val_acc: 0.7600\n",
      "Epoch 62/100\n",
      "900/900 [==============================] - 1s 732us/step - loss: 0.3169 - acc: 0.7367 - val_loss: 0.2928 - val_acc: 0.7600\n",
      "Epoch 63/100\n",
      "900/900 [==============================] - 1s 685us/step - loss: 0.3168 - acc: 0.7367 - val_loss: 0.2928 - val_acc: 0.7600\n",
      "Epoch 64/100\n",
      "900/900 [==============================] - 1s 700us/step - loss: 0.3167 - acc: 0.7367 - val_loss: 0.2927 - val_acc: 0.7600\n",
      "Epoch 65/100\n",
      "900/900 [==============================] - 1s 690us/step - loss: 0.3167 - acc: 0.7367 - val_loss: 0.2926 - val_acc: 0.7600\n",
      "Epoch 66/100\n",
      "900/900 [==============================] - 1s 691us/step - loss: 0.3166 - acc: 0.7367 - val_loss: 0.2926 - val_acc: 0.7600\n",
      "Epoch 67/100\n",
      "900/900 [==============================] - 1s 693us/step - loss: 0.3165 - acc: 0.7367 - val_loss: 0.2925 - val_acc: 0.7600\n",
      "Epoch 68/100\n",
      "900/900 [==============================] - 1s 689us/step - loss: 0.3164 - acc: 0.7367 - val_loss: 0.2925 - val_acc: 0.7600\n",
      "Epoch 69/100\n",
      "900/900 [==============================] - 1s 685us/step - loss: 0.3164 - acc: 0.7367 - val_loss: 0.2924 - val_acc: 0.7600\n",
      "Epoch 70/100\n",
      "900/900 [==============================] - 1s 688us/step - loss: 0.3163 - acc: 0.7367 - val_loss: 0.2923 - val_acc: 0.7600\n",
      "Epoch 71/100\n",
      "900/900 [==============================] - 1s 693us/step - loss: 0.3162 - acc: 0.7367 - val_loss: 0.2922 - val_acc: 0.7600\n",
      "Epoch 72/100\n",
      "900/900 [==============================] - 1s 698us/step - loss: 0.3162 - acc: 0.7367 - val_loss: 0.2921 - val_acc: 0.7600\n",
      "Epoch 73/100\n",
      "900/900 [==============================] - 1s 685us/step - loss: 0.3161 - acc: 0.7367 - val_loss: 0.2921 - val_acc: 0.7600\n",
      "Epoch 74/100\n",
      "900/900 [==============================] - 1s 691us/step - loss: 0.3160 - acc: 0.7367 - val_loss: 0.2920 - val_acc: 0.7600\n",
      "Epoch 75/100\n",
      "900/900 [==============================] - 1s 691us/step - loss: 0.3160 - acc: 0.7367 - val_loss: 0.2920 - val_acc: 0.7600\n",
      "Epoch 76/100\n",
      "900/900 [==============================] - 1s 692us/step - loss: 0.3159 - acc: 0.7367 - val_loss: 0.2918 - val_acc: 0.7600\n",
      "Epoch 77/100\n",
      "900/900 [==============================] - 1s 692us/step - loss: 0.3158 - acc: 0.7367 - val_loss: 0.2919 - val_acc: 0.7600\n",
      "Epoch 78/100\n",
      "900/900 [==============================] - 1s 693us/step - loss: 0.3158 - acc: 0.7367 - val_loss: 0.2918 - val_acc: 0.7600\n",
      "Epoch 79/100\n",
      "900/900 [==============================] - 1s 831us/step - loss: 0.3157 - acc: 0.7367 - val_loss: 0.2918 - val_acc: 0.7600\n",
      "Epoch 80/100\n",
      "900/900 [==============================] - 1s 693us/step - loss: 0.3157 - acc: 0.7367 - val_loss: 0.2916 - val_acc: 0.7600\n",
      "Epoch 81/100\n",
      "900/900 [==============================] - 1s 685us/step - loss: 0.3156 - acc: 0.7367 - val_loss: 0.2916 - val_acc: 0.7600\n",
      "Epoch 82/100\n",
      "900/900 [==============================] - 1s 691us/step - loss: 0.3155 - acc: 0.7367 - val_loss: 0.2916 - val_acc: 0.7600\n",
      "Epoch 83/100\n",
      "900/900 [==============================] - 1s 689us/step - loss: 0.3155 - acc: 0.7367 - val_loss: 0.2915 - val_acc: 0.7600\n",
      "Epoch 84/100\n",
      "900/900 [==============================] - 1s 692us/step - loss: 0.3154 - acc: 0.7367 - val_loss: 0.2914 - val_acc: 0.7600\n",
      "Epoch 85/100\n",
      "900/900 [==============================] - 1s 705us/step - loss: 0.3154 - acc: 0.7367 - val_loss: 0.2913 - val_acc: 0.7600\n",
      "Epoch 86/100\n",
      "900/900 [==============================] - 1s 685us/step - loss: 0.3153 - acc: 0.7367 - val_loss: 0.2913 - val_acc: 0.7600\n",
      "Epoch 87/100\n",
      "900/900 [==============================] - 1s 686us/step - loss: 0.3153 - acc: 0.7367 - val_loss: 0.2913 - val_acc: 0.7600\n",
      "Epoch 88/100\n",
      "900/900 [==============================] - 1s 718us/step - loss: 0.3152 - acc: 0.7367 - val_loss: 0.2913 - val_acc: 0.7600\n",
      "Epoch 89/100\n",
      "900/900 [==============================] - 1s 684us/step - loss: 0.3152 - acc: 0.7367 - val_loss: 0.2911 - val_acc: 0.7600\n",
      "Epoch 90/100\n",
      "900/900 [==============================] - 1s 700us/step - loss: 0.3151 - acc: 0.7367 - val_loss: 0.2911 - val_acc: 0.7600\n",
      "Epoch 91/100\n",
      "900/900 [==============================] - 1s 696us/step - loss: 0.3151 - acc: 0.7367 - val_loss: 0.2910 - val_acc: 0.7600\n",
      "Epoch 92/100\n",
      "900/900 [==============================] - 1s 690us/step - loss: 0.3150 - acc: 0.7367 - val_loss: 0.2910 - val_acc: 0.7600\n",
      "Epoch 93/100\n",
      "900/900 [==============================] - 1s 788us/step - loss: 0.3150 - acc: 0.7367 - val_loss: 0.2909 - val_acc: 0.7600\n",
      "Epoch 94/100\n",
      "900/900 [==============================] - 1s 836us/step - loss: 0.3149 - acc: 0.7367 - val_loss: 0.2909 - val_acc: 0.7600\n",
      "Epoch 95/100\n",
      "900/900 [==============================] - 1s 707us/step - loss: 0.3149 - acc: 0.7367 - val_loss: 0.2909 - val_acc: 0.7600\n",
      "Epoch 96/100\n",
      "900/900 [==============================] - 1s 833us/step - loss: 0.3148 - acc: 0.7367 - val_loss: 0.2908 - val_acc: 0.7600\n",
      "Epoch 97/100\n",
      "900/900 [==============================] - 1s 692us/step - loss: 0.3148 - acc: 0.7367 - val_loss: 0.2908 - val_acc: 0.7600\n",
      "Epoch 98/100\n",
      "900/900 [==============================] - 1s 692us/step - loss: 0.3147 - acc: 0.7367 - val_loss: 0.2908 - val_acc: 0.7600\n",
      "Epoch 99/100\n",
      "900/900 [==============================] - 1s 691us/step - loss: 0.3147 - acc: 0.7367 - val_loss: 0.2908 - val_acc: 0.7600\n",
      "Epoch 100/100\n",
      "900/900 [==============================] - 1s 691us/step - loss: 0.3147 - acc: 0.7367 - val_loss: 0.2907 - val_acc: 0.7600\n"
     ]
    },
    {
     "data": {
      "image/png": "[encoded data removed]",
      "text/plain": [
       "<Figure size 432x288 with 1 Axes>"
      ]
     },
     "metadata": {},
     "output_type": "display_data"
    },
    {
     "data": {
      "image/png": "[encoded data removed]",
      "text/plain": [
       "<Figure size 432x288 with 1 Axes>"
      ]
     },
     "metadata": {},
     "output_type": "display_data"
    }
   ],
   "source": [
    "\n",
    "Binary_model=Best_param_Model(best_params)\n",
    "history =Binary_model.fit(X_train, y_train, epochs=100, validation_data=(X_test,y_test_Categorical))\n",
    "\n",
    "# Plot training & validation accuracy values\n",
    "plt.plot(history.history['acc'])\n",
    "plt.plot(history.history['val_acc'])\n",
    "\n",
    "\n",
    "plt.title('Model accuracy')\n",
    "plt.ylabel('Accuracy')\n",
    "plt.xlabel('Epoch')\n",
    "plt.legend(['Train', 'Test'], loc='upper left')\n",
    "plt.show()\n",
    "\n",
    "# Plot training & validation loss values\n",
    "plt.plot(history.history['loss'])\n",
    "plt.plot(history.history['val_loss'])\n",
    "\n",
    "plt.title('Model loss')\n",
    "plt.ylabel('Loss')\n",
    "plt.xlabel('Epoch')\n",
    "plt.legend(['Train', 'Test'], loc='upper left')\n",
    "plt.show()"
   ]
  },
  {
   "cell_type": "code",
   "execution_count": 30,
   "metadata": {
    "_uuid": "2455607daf304f9c4f31cf4000f1a8152ea2aea0"
   },
   "outputs": [
    {
     "name": "stdout",
     "output_type": "stream",
     "text": [
      "100/100 [==============================] - 0s 439us/step\n"
     ]
    },
    {
     "data": {
      "text/plain": [
       "[0.29066407680511475, 0.76]"
      ]
     },
     "execution_count": 30,
     "metadata": {},
     "output_type": "execute_result"
    }
   ],
   "source": [
    "Binary_model.evaluate(X_test,y_test_Categorical)"
   ]
  },
  {
   "cell_type": "markdown",
   "metadata": {
    "_uuid": "c4a94e221c52734002a8854909da7fdce98d2d40"
   },
   "source": [
    "**Visualizing my CNN model**"
   ]
  },
  {
   "cell_type": "code",
   "execution_count": 31,
   "metadata": {
    "_uuid": "fa21ffdc50acfb243ee5ede6945dad7959f49bbc"
   },
   "outputs": [],
   "source": [
    "y=B_df['level'].values\n",
    "from sklearn.model_selection import train_test_split\n",
    "X_train, X_test, y_train, y_test = train_test_split(\n",
    "    X_128,y, test_size=0.10, random_state=42)\n",
    "y_train = to_categorical(y_train, num_classes=2)\n",
    "y_test_Categorical=to_categorical(y_test)"
   ]
  },
  {
   "cell_type": "code",
   "execution_count": 32,
   "metadata": {
    "_kg_hide-output": true,
    "_uuid": "9701d9d546a13ec669d58b28e5466696131d8062",
    "scrolled": true
   },
   "outputs": [
    {
     "name": "stdout",
     "output_type": "stream",
     "text": [
      "Train on 900 samples, validate on 100 samples\n",
      "Epoch 1/10\n",
      "900/900 [==============================] - 6s 7ms/step - loss: 0.6181 - acc: 0.7267 - val_loss: 0.5533 - val_acc: 0.7600\n",
      "Epoch 2/10\n",
      "900/900 [==============================] - 1s 1ms/step - loss: 0.5861 - acc: 0.7367 - val_loss: 0.5584 - val_acc: 0.7600\n",
      "Epoch 3/10\n",
      "900/900 [==============================] - 1s 1ms/step - loss: 0.5843 - acc: 0.7367 - val_loss: 0.5529 - val_acc: 0.7600\n",
      "Epoch 4/10\n",
      "900/900 [==============================] - 1s 1ms/step - loss: 0.5797 - acc: 0.7367 - val_loss: 0.5566 - val_acc: 0.7600\n",
      "Epoch 5/10\n",
      "900/900 [==============================] - 1s 1ms/step - loss: 0.5833 - acc: 0.7378 - val_loss: 0.5479 - val_acc: 0.7600\n",
      "Epoch 6/10\n",
      "900/900 [==============================] - 1s 1ms/step - loss: 0.5890 - acc: 0.7367 - val_loss: 0.5485 - val_acc: 0.7600\n",
      "Epoch 7/10\n",
      "900/900 [==============================] - 1s 1ms/step - loss: 0.5803 - acc: 0.7344 - val_loss: 0.5489 - val_acc: 0.7600\n",
      "Epoch 8/10\n",
      "900/900 [==============================] - 1s 1ms/step - loss: 0.5743 - acc: 0.7367 - val_loss: 0.5511 - val_acc: 0.7600\n",
      "Epoch 9/10\n",
      "900/900 [==============================] - 1s 1ms/step - loss: 0.5740 - acc: 0.7367 - val_loss: 0.5432 - val_acc: 0.7600\n",
      "Epoch 10/10\n",
      "900/900 [==============================] - 1s 1ms/step - loss: 0.5774 - acc: 0.7367 - val_loss: 0.5486 - val_acc: 0.7600\n",
      "_________________________________________________________________\n",
      "Layer (type)                 Output Shape              Param #   \n",
      "=================================================================\n",
      "conv2d_85 (Conv2D)           (None, 124, 124, 16)      1216      \n",
      "_________________________________________________________________\n",
      "conv2d_86 (Conv2D)           (None, 120, 120, 32)      12832     \n",
      "_________________________________________________________________\n",
      "max_pooling2d_85 (MaxPooling (None, 40, 40, 32)        0         \n",
      "_________________________________________________________________\n",
      "conv2d_87 (Conv2D)           (None, 36, 36, 64)        51264     \n",
      "_________________________________________________________________\n",
      "max_pooling2d_86 (MaxPooling (None, 12, 12, 64)        0         \n",
      "_________________________________________________________________\n",
      "conv2d_88 (Conv2D)           (None, 10, 10, 128)       73856     \n",
      "_________________________________________________________________\n",
      "flatten_33 (Flatten)         (None, 12800)             0         \n",
      "_________________________________________________________________\n",
      "dropout_32 (Dropout)         (None, 12800)             0         \n",
      "_________________________________________________________________\n",
      "dense_181 (Dense)            (None, 64)                819264    \n",
      "_________________________________________________________________\n",
      "dropout_33 (Dropout)         (None, 64)                0         \n",
      "_________________________________________________________________\n",
      "dense_182 (Dense)            (None, 16)                1040      \n",
      "_________________________________________________________________\n",
      "dropout_34 (Dropout)         (None, 16)                0         \n",
      "_________________________________________________________________\n",
      "dense_183 (Dense)            (None, 2)                 34        \n",
      "=================================================================\n",
      "Total params: 959,506\n",
      "Trainable params: 959,506\n",
      "Non-trainable params: 0\n",
      "_________________________________________________________________\n"
     ]
    }
   ],
   "source": [
    "\n",
    "model = Sequential()\n",
    "model.add(Conv2D(16,kernel_size = (5,5),activation = 'relu', activity_regularizer=regularizers.l2(1e-8)))\n",
    "model.add(Conv2D(32,kernel_size = (5,5),activation = 'relu', activity_regularizer = regularizers.l2(1e-8)))\n",
    "model.add(MaxPooling2D(3,3))\n",
    "model.add(Conv2D(64,kernel_size = (5,5),activation = 'relu', activity_regularizer = regularizers.l2(1e-8)))\n",
    "model.add(MaxPooling2D(3,3))\n",
    "model.add(Conv2D(128,activation = 'relu',kernel_size = (3,3),activity_regularizer = regularizers.l2(1e-8)))\n",
    "model.add(Flatten())\n",
    "model.add(Dropout(0.4))\n",
    "model.add(Dense(64,activation = 'tanh',activity_regularizer = regularizers.l2(1e-8)))\n",
    "model.add(Dropout(0.2))\n",
    "model.add(Dense(16,activation = 'tanh',activity_regularizer = regularizers.l2(1e-8)))\n",
    "model.add(Dropout(0.2))\n",
    "model.add(Dense(2,activation = 'softmax'))\n",
    "model.compile(loss=keras.losses.binary_crossentropy, optimizer=\"adam\", metrics=[\"accuracy\"])\n",
    "model.fit(X_train,y_train, epochs = 10 ,batch_size = 16,validation_data=(X_test,y_test_Categorical))\n",
    "model.summary()\n"
   ]
  },
  {
   "cell_type": "markdown",
   "metadata": {
    "_uuid": "3803469addf95c901556379672e89b2ce527d364"
   },
   "source": [
    "Accuracy Measures\n",
    "[Helping Material](http://comprna.upf.edu/courses/Master_AGB/2_ClassificationAlgorithms/Lecture_Accuracy.pdf)"
   ]
  },
  {
   "cell_type": "code",
   "execution_count": 33,
   "metadata": {
    "_uuid": "458012a41631422880d372941458b0f633751dfc"
   },
   "outputs": [
    {
     "name": "stdout",
     "output_type": "stream",
     "text": [
      "true_negative:  76\n",
      "false_positive:  0\n",
      "false_negative:  24\n",
      "true_positive:  0\n",
      "\n",
      "\n",
      " Accuracy Measures\n",
      "\n",
      "\n",
      "Sensitivity:  0.0\n",
      "False_Positive_Rate:  0.0\n",
      "Specificity:  1.0\n",
      "False_Discovery_Rate:  nan\n",
      "Positive_Predictive_Value:  nan\n"
     ]
    },
    {
     "name": "stderr",
     "output_type": "stream",
     "text": [
      "/opt/conda/lib/python3.6/site-packages/ipykernel_launcher.py:24: RuntimeWarning: invalid value encountered in long_scalars\n",
      "/opt/conda/lib/python3.6/site-packages/ipykernel_launcher.py:27: RuntimeWarning: invalid value encountered in long_scalars\n"
     ]
    }
   ],
   "source": [
    "from sklearn.metrics import confusion_matrix\n",
    "prediction=model.predict(X_test)\n",
    "y_pred=[]\n",
    "for i in prediction:\n",
    "    y_pred.append(i.argmax())\n",
    "y_pred=np.asarray(y_pred)\n",
    "true_negative,false_positive,false_negative,true_positive=confusion_matrix(y_test, y_pred).ravel()\n",
    "\n",
    "print(\"true_negative: \",true_negative)\n",
    "print(\"false_positive: \",false_positive)\n",
    "print(\"false_negative: \",false_negative)\n",
    "print(\"true_positive: \",true_positive)\n",
    "print(\"\\n\\n Accuracy Measures\\n\\n\")\n",
    "Sensitivity=true_positive/(true_positive+false_negative)\n",
    "print(\"Sensitivity: \",Sensitivity)\n",
    "\n",
    "False_Positive_Rate=false_positive/(false_positive+true_negative)\n",
    "print(\"False_Positive_Rate: \",False_Positive_Rate)\n",
    "\n",
    "Specificity=true_negative/(false_positive + true_negative)\n",
    "print(\"Specificity: \",Specificity)\n",
    "\n",
    "#FDR à 0 means that very few of our predictions are wrong\n",
    "False_Discovery_Rate=false_positive/(false_positive+true_positive)\n",
    "print(\"False_Discovery_Rate: \",False_Discovery_Rate)\n",
    "\n",
    "Positive_Predictive_Value =true_positive/(true_positive+false_positive)\n",
    "print(\"Positive_Predictive_Value: \",Positive_Predictive_Value)\n",
    "\n"
   ]
  },
  {
   "cell_type": "code",
   "execution_count": 34,
   "metadata": {
    "_uuid": "79b3e2128244f39f30951b1c8666005f38a1b32c"
   },
   "outputs": [],
   "source": [
    "a=np.expand_dims( X_train[10],axis=0)\n",
    "a.shape\n",
    "layer_outputs = [layer.output for layer in model.layers]\n",
    "activation_model = Model(inputs=model.input, outputs=layer_outputs)\n",
    "activations = activation_model.predict(a)"
   ]
  },
  {
   "cell_type": "code",
   "execution_count": 35,
   "metadata": {
    "_kg_hide-input": false,
    "_kg_hide-output": false,
    "_uuid": "beaf8921ae1e14443593369db699a718a3e1fb6a"
   },
   "outputs": [
    {
     "name": "stderr",
     "output_type": "stream",
     "text": [
      "Clipping input data to the valid range for imshow with RGB data ([0..1] for floats or [0..255] for integers).\n"
     ]
    },
    {
     "data": {
      "text/plain": [
       "<matplotlib.image.AxesImage at 0x7fedd883a780>"
      ]
     },
     "execution_count": 35,
     "metadata": {},
     "output_type": "execute_result"
    },
    {
     "data": {
      "image/png": "[encoded data removed]",
      "text/plain": [
       "<Figure size 432x288 with 1 Axes>"
      ]
     },
     "metadata": {},
     "output_type": "display_data"
    }
   ],
   "source": [
    "top_layer = model.layers[0]\n",
    "plt.imshow(top_layer.get_weights()[0][:, :, :,15 ])"
   ]
  },
  {
   "cell_type": "markdown",
   "metadata": {
    "_uuid": "d0f57d2b784f5c3fb18b13c76c1f8ff0e314f6df"
   },
   "source": [
    "**Acheiving 76% accuracy till now on 1000 examples**"
   ]
  }
 ],
 "metadata": {
  "kernelspec": {
   "display_name": "Python 3",
   "language": "python",
   "name": "python3"
  },
  "language_info": {
   "codemirror_mode": {
    "name": "ipython",
    "version": 3
   },
   "file_extension": ".py",
   "mimetype": "text/x-python",
   "name": "python",
   "nbconvert_exporter": "python",
   "pygments_lexer": "ipython3",
   "version": "3.6.4"
  }
 },
 "nbformat": 4,
 "nbformat_minor": 4
}
