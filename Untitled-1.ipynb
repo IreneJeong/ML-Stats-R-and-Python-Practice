{
 "cells": [
  {
   "cell_type": "code",
   "execution_count": 6,
   "metadata": {},
   "outputs": [
    {
     "name": "stdout",
     "output_type": "stream",
     "text": [
      "Libraries imported.\n"
     ]
    }
   ],
   "source": [
    "# importing of modules for LeNet CNN \n",
    "from tensorflow.keras import backend as K\n",
    "from tensorflow.keras.models import Sequential\n",
    "from tensorflow.keras.layers import Conv2D\n",
    "from tensorflow.keras.layers import MaxPooling2D\n",
    "from tensorflow.keras.layers import Activation\n",
    "from tensorflow.keras.layers import Flatten\n",
    "from tensorflow.keras.layers import Dense\n",
    "from tensorflow.keras.datasets import mnist\n",
    "from tensorflow.keras import utils\n",
    "from tensorflow.keras.optimizers import SGD, RMSprop, Adam\n",
    "\n",
    "# importing of service libraries\n",
    "import numpy as np\n",
    "import matplotlib.pyplot as plt\n",
    "\n",
    "print('Libraries imported.')"
   ]
  },
  {
   "cell_type": "code",
   "execution_count": 7,
   "metadata": {},
   "outputs": [
    {
     "name": "stdout",
     "output_type": "stream",
     "text": [
      "Main variables initialised.\n"
     ]
    }
   ],
   "source": [
    "# seed for reproducibility\n",
    "np.random.seed(1671)  \n",
    "\n",
    "# network and training parameters\n",
    "N_EPOCH = 20 # later use 20 for better results\n",
    "BATCH_SIZE = 128\n",
    "VERBOSE = 1\n",
    "OPTIMIZER = Adam()\n",
    "VALIDATION_SPLIT=0.2\n",
    "\n",
    "IMG_ROWS, IMG_COLS = 28, 28 # input  dimensions of each MNIST image\n",
    "N_CLASSES = 10  # number of outputs = number of digits\n",
    "INPUT_SHAPE = (IMG_ROWS, IMG_COLS, 1) # 1st Dimension, 2nd Dimension, no. channel\n",
    "\n",
    "print('Main variables initialised.')"
   ]
  },
  {
   "cell_type": "code",
   "execution_count": 8,
   "metadata": {},
   "outputs": [
    {
     "name": "stdout",
     "output_type": "stream",
     "text": [
      "LeNet Class Defined\n"
     ]
    }
   ],
   "source": [
    "class LeNet:\n",
    "    @staticmethod\n",
    "    def build(input_shape, classes):\n",
    "        model=Sequential()\n",
    "        \n",
    "        model.add(Conv2D(20, kernel_size=5, padding=\"same\", input_shape=input_shape))\n",
    "        model.add(Activation(\"relu\"))\n",
    "        model.add(MaxPooling2D(pool_size=(2,2), strides=(2,2), padding='same'))\n",
    "        \n",
    "        model.add(Conv2D(50, kernel_size=5, padding='same'))\n",
    "        model.add(Activation(\"relu\"))\n",
    "        model.add(MaxPooling2D(pool_size=(2,2), strides=(2,2), padding='same'))\n",
    "        \n",
    "        model.add(Flatten())\n",
    "        model.add(Dense(500))\n",
    "        model.add(Activation(\"relu\"))\n",
    "        \n",
    "        model.add(Dense(classes))\n",
    "        model.add(Activation(\"softmax\"))\n",
    "        \n",
    "        return model\n",
    "\n",
    "print('LeNet Class Defined')\n",
    "        "
   ]
  },
  {
   "cell_type": "code",
   "execution_count": 9,
   "metadata": {},
   "outputs": [],
   "source": [
    "(input_X_train, output_y_train), (input_X_test, output_y_test)=mnist.load_data()\n",
    "\n",
    "input_X_train=input_X_train.astype('float32')\n",
    "input_X_test=input_X_test.astype('float32')\n",
    "input_X_train /=255\n",
    "input_X_test /=255"
   ]
  },
  {
   "cell_type": "code",
   "execution_count": 12,
   "metadata": {},
   "outputs": [
    {
     "data": {
      "text/plain": [
       "(60000, 28, 28)"
      ]
     },
     "execution_count": 12,
     "metadata": {},
     "output_type": "execute_result"
    }
   ],
   "source": [
    "input_X_train.shape"
   ]
  },
  {
   "cell_type": "code",
   "execution_count": 13,
   "metadata": {},
   "outputs": [
    {
     "name": "stdout",
     "output_type": "stream",
     "text": [
      "60000 train samples\n",
      "10000 test samples\n"
     ]
    }
   ],
   "source": [
    "input_X_train = input_X_train[:,:,:,np.newaxis]\n",
    "input_X_test = input_X_test[:, :, :, np.newaxis]\n",
    "\n",
    "print(input_X_train.shape[0], 'train samples')\n",
    "print(input_X_test.shape[0], 'test samples')"
   ]
  },
  {
   "cell_type": "code",
   "execution_count": 14,
   "metadata": {},
   "outputs": [
    {
     "data": {
      "text/plain": [
       "(60000, 28, 28, 1)"
      ]
     },
     "execution_count": 14,
     "metadata": {},
     "output_type": "execute_result"
    }
   ],
   "source": [
    "input_X_train.shape"
   ]
  },
  {
   "cell_type": "code",
   "execution_count": 15,
   "metadata": {},
   "outputs": [
    {
     "data": {
      "text/plain": [
       "array([5, 0, 4, ..., 5, 6, 8], dtype=uint8)"
      ]
     },
     "execution_count": 15,
     "metadata": {},
     "output_type": "execute_result"
    }
   ],
   "source": [
    "output_y_train"
   ]
  },
  {
   "cell_type": "code",
   "execution_count": 16,
   "metadata": {},
   "outputs": [],
   "source": [
    "# convert class vectors to binary class matrices\n",
    "output_y_train = utils.to_categorical(output_y_train, N_CLASSES)\n",
    "output_y_test = utils.to_categorical(output_y_test, N_CLASSES)"
   ]
  },
  {
   "cell_type": "code",
   "execution_count": 20,
   "metadata": {},
   "outputs": [
    {
     "data": {
      "text/plain": [
       "array([[0., 0., 0., ..., 0., 0., 0.],\n",
       "       [1., 0., 0., ..., 0., 0., 0.],\n",
       "       [0., 0., 0., ..., 0., 0., 0.],\n",
       "       ...,\n",
       "       [0., 0., 0., ..., 0., 0., 0.],\n",
       "       [0., 0., 0., ..., 0., 0., 0.],\n",
       "       [0., 0., 0., ..., 0., 1., 0.]], dtype=float32)"
      ]
     },
     "execution_count": 20,
     "metadata": {},
     "output_type": "execute_result"
    }
   ],
   "source": [
    "output_y_train"
   ]
  },
  {
   "cell_type": "code",
   "execution_count": 17,
   "metadata": {},
   "outputs": [
    {
     "name": "stdout",
     "output_type": "stream",
     "text": [
      "Model: \"sequential\"\n",
      "_________________________________________________________________\n",
      " Layer (type)                Output Shape              Param #   \n",
      "=================================================================\n",
      " conv2d (Conv2D)             (None, 28, 28, 20)        520       \n",
      "                                                                 \n",
      " activation (Activation)     (None, 28, 28, 20)        0         \n",
      "                                                                 \n",
      " max_pooling2d (MaxPooling2D  (None, 14, 14, 20)       0         \n",
      " )                                                               \n",
      "                                                                 \n",
      " conv2d_1 (Conv2D)           (None, 14, 14, 50)        25050     \n",
      "                                                                 \n",
      " activation_1 (Activation)   (None, 14, 14, 50)        0         \n",
      "                                                                 \n",
      " max_pooling2d_1 (MaxPooling  (None, 7, 7, 50)         0         \n",
      " 2D)                                                             \n",
      "                                                                 \n",
      " flatten (Flatten)           (None, 2450)              0         \n",
      "                                                                 \n",
      " dense (Dense)               (None, 500)               1225500   \n",
      "                                                                 \n",
      " activation_2 (Activation)   (None, 500)               0         \n",
      "                                                                 \n",
      " dense_1 (Dense)             (None, 10)                5010      \n",
      "                                                                 \n",
      " activation_3 (Activation)   (None, 10)                0         \n",
      "                                                                 \n",
      "=================================================================\n",
      "Total params: 1,256,080\n",
      "Trainable params: 1,256,080\n",
      "Non-trainable params: 0\n",
      "_________________________________________________________________\n"
     ]
    },
    {
     "name": "stderr",
     "output_type": "stream",
     "text": [
      "2023-03-08 19:53:53.211297: I tensorflow/core/platform/cpu_feature_guard.cc:193] This TensorFlow binary is optimized with oneAPI Deep Neural Network Library (oneDNN) to use the following CPU instructions in performance-critical operations:  SSE4.1 SSE4.2 AVX AVX2 FMA\n",
      "To enable them in other operations, rebuild TensorFlow with the appropriate compiler flags.\n"
     ]
    }
   ],
   "source": [
    "model = LeNet.build(input_shape=INPUT_SHAPE, classes=N_CLASSES)\n",
    "model.compile(loss=\"categorical_crossentropy\", optimizer=OPTIMIZER, metrics=['accuracy'])\n",
    "model.summary()"
   ]
  },
  {
   "cell_type": "code",
   "execution_count": 19,
   "metadata": {},
   "outputs": [
    {
     "name": "stdout",
     "output_type": "stream",
     "text": [
      "Epoch 1/20\n",
      "375/375 [==============================] - 26s 68ms/step - loss: 0.1850 - accuracy: 0.9428 - val_loss: 0.0629 - val_accuracy: 0.9817\n",
      "Epoch 2/20\n",
      "375/375 [==============================] - 27s 71ms/step - loss: 0.0480 - accuracy: 0.9854 - val_loss: 0.0404 - val_accuracy: 0.9877\n",
      "Epoch 3/20\n",
      "375/375 [==============================] - 27s 73ms/step - loss: 0.0315 - accuracy: 0.9903 - val_loss: 0.0629 - val_accuracy: 0.9804\n",
      "Epoch 4/20\n",
      "375/375 [==============================] - 31s 82ms/step - loss: 0.0243 - accuracy: 0.9920 - val_loss: 0.0414 - val_accuracy: 0.9880\n",
      "Epoch 5/20\n",
      "375/375 [==============================] - 28s 73ms/step - loss: 0.0161 - accuracy: 0.9950 - val_loss: 0.0372 - val_accuracy: 0.9896\n",
      "Epoch 6/20\n",
      "375/375 [==============================] - 28s 75ms/step - loss: 0.0148 - accuracy: 0.9949 - val_loss: 0.0369 - val_accuracy: 0.9900\n",
      "Epoch 7/20\n",
      "375/375 [==============================] - 28s 74ms/step - loss: 0.0114 - accuracy: 0.9963 - val_loss: 0.0413 - val_accuracy: 0.9891\n",
      "Epoch 8/20\n",
      "375/375 [==============================] - 29s 78ms/step - loss: 0.0074 - accuracy: 0.9974 - val_loss: 0.0414 - val_accuracy: 0.9889\n",
      "Epoch 9/20\n",
      "375/375 [==============================] - 29s 78ms/step - loss: 0.0074 - accuracy: 0.9977 - val_loss: 0.0384 - val_accuracy: 0.9911\n",
      "Epoch 10/20\n",
      "375/375 [==============================] - 27s 71ms/step - loss: 0.0088 - accuracy: 0.9972 - val_loss: 0.0506 - val_accuracy: 0.9874\n",
      "Epoch 11/20\n",
      "375/375 [==============================] - 27s 71ms/step - loss: 0.0068 - accuracy: 0.9977 - val_loss: 0.0427 - val_accuracy: 0.9895\n",
      "Epoch 12/20\n",
      "375/375 [==============================] - 29s 78ms/step - loss: 0.0052 - accuracy: 0.9982 - val_loss: 0.0445 - val_accuracy: 0.9908\n",
      "Epoch 13/20\n",
      "375/375 [==============================] - 29s 77ms/step - loss: 0.0049 - accuracy: 0.9985 - val_loss: 0.0397 - val_accuracy: 0.9912\n",
      "Epoch 14/20\n",
      "375/375 [==============================] - 27s 71ms/step - loss: 0.0052 - accuracy: 0.9983 - val_loss: 0.0422 - val_accuracy: 0.9906\n",
      "Epoch 15/20\n",
      "375/375 [==============================] - 27s 73ms/step - loss: 0.0043 - accuracy: 0.9987 - val_loss: 0.0432 - val_accuracy: 0.9912\n",
      "Epoch 16/20\n",
      "375/375 [==============================] - 26s 70ms/step - loss: 0.0029 - accuracy: 0.9990 - val_loss: 0.0595 - val_accuracy: 0.9889\n",
      "Epoch 17/20\n",
      "375/375 [==============================] - 27s 73ms/step - loss: 0.0038 - accuracy: 0.9989 - val_loss: 0.0436 - val_accuracy: 0.9908\n",
      "Epoch 18/20\n",
      "375/375 [==============================] - 28s 74ms/step - loss: 0.0037 - accuracy: 0.9987 - val_loss: 0.0530 - val_accuracy: 0.9899\n",
      "Epoch 19/20\n",
      "375/375 [==============================] - 26s 70ms/step - loss: 0.0033 - accuracy: 0.9989 - val_loss: 0.0550 - val_accuracy: 0.9895\n",
      "Epoch 20/20\n",
      "375/375 [==============================] - 27s 72ms/step - loss: 0.0049 - accuracy: 0.9986 - val_loss: 0.0521 - val_accuracy: 0.9901\n"
     ]
    }
   ],
   "source": [
    "history=model.fit(input_X_train, output_y_train, batch_size=BATCH_SIZE, epochs=N_EPOCH, verbose=VERBOSE, validation_split=VALIDATION_SPLIT)"
   ]
  },
  {
   "attachments": {},
   "cell_type": "markdown",
   "metadata": {},
   "source": [
    "During the final epoch, the loss was 0.0049 and the accuracy was 0.9986. The validation loss was 0.0521 and the validation accuracy was 0.9901. This suggests that the model is performing well and has high accuracy on both the training and validation sets."
   ]
  },
  {
   "cell_type": "code",
   "execution_count": 21,
   "metadata": {},
   "outputs": [
    {
     "name": "stdout",
     "output_type": "stream",
     "text": [
      "313/313 [==============================] - 5s 16ms/step - loss: 0.0353 - accuracy: 0.9916\n",
      "\n",
      "Test score/loss: 0.035311259329319\n",
      "Test Accuracy: 0.991599977016449\n"
     ]
    }
   ],
   "source": [
    "score=model.evaluate(input_X_test, output_y_test, verbose=VERBOSE)\n",
    "print(\"\\nTest score/loss:\", score[0])\n",
    "print('Test Accuracy:', score[1])"
   ]
  },
  {
   "cell_type": "code",
   "execution_count": 24,
   "metadata": {},
   "outputs": [
    {
     "data": {
      "text/plain": [
       "{'loss': [0.18504272401332855,\n",
       "  0.04803495109081268,\n",
       "  0.03153175860643387,\n",
       "  0.024296628311276436,\n",
       "  0.016138095408678055,\n",
       "  0.014765634201467037,\n",
       "  0.011374895460903645,\n",
       "  0.0073624057695269585,\n",
       "  0.007414226420223713,\n",
       "  0.008845265954732895,\n",
       "  0.0067770774476230145,\n",
       "  0.005197963211685419,\n",
       "  0.004874700680375099,\n",
       "  0.005199008621275425,\n",
       "  0.004294455982744694,\n",
       "  0.002916677389293909,\n",
       "  0.003804704872891307,\n",
       "  0.003731284523382783,\n",
       "  0.003343974705785513,\n",
       "  0.004874625708907843],\n",
       " 'accuracy': [0.9428125023841858,\n",
       "  0.9853541851043701,\n",
       "  0.9902916550636292,\n",
       "  0.99197918176651,\n",
       "  0.9950000047683716,\n",
       "  0.9948958158493042,\n",
       "  0.9963333606719971,\n",
       "  0.9973958134651184,\n",
       "  0.9976666569709778,\n",
       "  0.9972291588783264,\n",
       "  0.9977083206176758,\n",
       "  0.9981666803359985,\n",
       "  0.9984791874885559,\n",
       "  0.9982916712760925,\n",
       "  0.9986666440963745,\n",
       "  0.9989791512489319,\n",
       "  0.9989166855812073,\n",
       "  0.9986875057220459,\n",
       "  0.9988958239555359,\n",
       "  0.9985625147819519],\n",
       " 'val_loss': [0.06288173049688339,\n",
       "  0.04043678939342499,\n",
       "  0.0629054456949234,\n",
       "  0.041405655443668365,\n",
       "  0.03721916675567627,\n",
       "  0.03691434487700462,\n",
       "  0.041268255561590195,\n",
       "  0.041386622935533524,\n",
       "  0.038442932069301605,\n",
       "  0.05056541785597801,\n",
       "  0.04268636927008629,\n",
       "  0.0444660447537899,\n",
       "  0.039747923612594604,\n",
       "  0.04215298593044281,\n",
       "  0.04317821189761162,\n",
       "  0.05950525030493736,\n",
       "  0.043634168803691864,\n",
       "  0.05302407220005989,\n",
       "  0.05497485771775246,\n",
       "  0.05212727189064026],\n",
       " 'val_accuracy': [0.9816666841506958,\n",
       "  0.987666666507721,\n",
       "  0.9804166555404663,\n",
       "  0.9879999756813049,\n",
       "  0.9895833134651184,\n",
       "  0.9900000095367432,\n",
       "  0.9890833497047424,\n",
       "  0.9889166951179504,\n",
       "  0.9910833239555359,\n",
       "  0.987416684627533,\n",
       "  0.9894999861717224,\n",
       "  0.9908333420753479,\n",
       "  0.9911666512489319,\n",
       "  0.9905833601951599,\n",
       "  0.9911666512489319,\n",
       "  0.9889166951179504,\n",
       "  0.9907500147819519,\n",
       "  0.9899166822433472,\n",
       "  0.9894999861717224,\n",
       "  0.9900833368301392]}"
      ]
     },
     "execution_count": 24,
     "metadata": {},
     "output_type": "execute_result"
    }
   ],
   "source": [
    "history.history"
   ]
  },
  {
   "cell_type": "code",
   "execution_count": 25,
   "metadata": {},
   "outputs": [
    {
     "name": "stdout",
     "output_type": "stream",
     "text": [
      "dict_keys(['loss', 'accuracy', 'val_loss', 'val_accuracy'])\n"
     ]
    }
   ],
   "source": [
    "print(history.history.keys())"
   ]
  },
  {
   "cell_type": "code",
   "execution_count": 27,
   "metadata": {},
   "outputs": [
    {
     "data": {
      "image/png": "[encoded data removed]",
      "text/plain": [
       "<Figure size 640x480 with 1 Axes>"
      ]
     },
     "metadata": {},
     "output_type": "display_data"
    },
    {
     "data": {
      "image/png": "[encoded data removed]",
      "text/plain": [
       "<Figure size 640x480 with 1 Axes>"
      ]
     },
     "metadata": {},
     "output_type": "display_data"
    }
   ],
   "source": [
    "plt.plot(history.history['accuracy'])\n",
    "plt.plot(history.history['val_accuracy'])\n",
    "\n",
    "plt.title('model accuracy')\n",
    "plt.ylabel('accuracy')\n",
    "plt.xlabel('epoch')\n",
    "plt.legend(['train', 'test'], loc='upper left')\n",
    "plt.show()\n",
    "\n",
    "plt.plot(history.history['loss'])\n",
    "plt.plot(history.history['val_loss'])\n",
    "plt.title('model loss')\n",
    "plt.ylabel('loss')\n",
    "plt.xlabel('epoch')\n",
    "plt.legend(['train', 'test'], loc='upper left')\n",
    "plt.show()"
   ]
  },
  {
   "attachments": {},
   "cell_type": "markdown",
   "metadata": {},
   "source": [
    "The training accuracy is higher than the validation accuracy, which is expected. However, you mentioned that the difference between the two accuracies is relatively small, which suggests that the model is not overfitting too much.  "
   ]
  },
  {
   "cell_type": "code",
   "execution_count": 28,
   "metadata": {},
   "outputs": [],
   "source": [
    "from tensorflow.keras.models import model_from_json"
   ]
  },
  {
   "cell_type": "code",
   "execution_count": 29,
   "metadata": {},
   "outputs": [
    {
     "name": "stdout",
     "output_type": "stream",
     "text": [
      "Model definition json file saved\n"
     ]
    }
   ],
   "source": [
    "model_json = model.to_json()\n",
    "open('CNN_MNIST_architecture.json', 'w').write(model_json)\n",
    "print('Model definition json file saved')"
   ]
  },
  {
   "cell_type": "code",
   "execution_count": 30,
   "metadata": {},
   "outputs": [
    {
     "name": "stdout",
     "output_type": "stream",
     "text": [
      "Model: \"sequential\"\n",
      "_________________________________________________________________\n",
      " Layer (type)                Output Shape              Param #   \n",
      "=================================================================\n",
      " conv2d (Conv2D)             (None, 28, 28, 20)        520       \n",
      "                                                                 \n",
      " activation (Activation)     (None, 28, 28, 20)        0         \n",
      "                                                                 \n",
      " max_pooling2d (MaxPooling2D  (None, 14, 14, 20)       0         \n",
      " )                                                               \n",
      "                                                                 \n",
      " conv2d_1 (Conv2D)           (None, 14, 14, 50)        25050     \n",
      "                                                                 \n",
      " activation_1 (Activation)   (None, 14, 14, 50)        0         \n",
      "                                                                 \n",
      " max_pooling2d_1 (MaxPooling  (None, 7, 7, 50)         0         \n",
      " 2D)                                                             \n",
      "                                                                 \n",
      " flatten (Flatten)           (None, 2450)              0         \n",
      "                                                                 \n",
      " dense (Dense)               (None, 500)               1225500   \n",
      "                                                                 \n",
      " activation_2 (Activation)   (None, 500)               0         \n",
      "                                                                 \n",
      " dense_1 (Dense)             (None, 10)                5010      \n",
      "                                                                 \n",
      " activation_3 (Activation)   (None, 10)                0         \n",
      "                                                                 \n",
      "=================================================================\n",
      "Total params: 1,256,080\n",
      "Trainable params: 1,256,080\n",
      "Non-trainable params: 0\n",
      "_________________________________________________________________\n"
     ]
    }
   ],
   "source": [
    "model=model_from_json(model_json)\n",
    "model.compile(loss=\"categorical_crossentropy\", optimizer=OPTIMIZER, metrics=[\"accuracy\"])\n",
    "model.summary()"
   ]
  },
  {
   "cell_type": "code",
   "execution_count": 31,
   "metadata": {},
   "outputs": [
    {
     "name": "stdout",
     "output_type": "stream",
     "text": [
      "Epoch 1/20\n",
      "375/375 [==============================] - 26s 69ms/step - loss: 0.1257 - accuracy: 0.9606 - val_loss: 0.0479 - val_accuracy: 0.9858\n",
      "Epoch 2/20\n",
      "375/375 [==============================] - 28s 76ms/step - loss: 0.0295 - accuracy: 0.9908 - val_loss: 0.0371 - val_accuracy: 0.9894\n",
      "Epoch 3/20\n",
      "375/375 [==============================] - 30s 81ms/step - loss: 0.0181 - accuracy: 0.9945 - val_loss: 0.0357 - val_accuracy: 0.9893\n",
      "Epoch 4/20\n",
      "375/375 [==============================] - 31s 83ms/step - loss: 0.0114 - accuracy: 0.9959 - val_loss: 0.0380 - val_accuracy: 0.9902\n",
      "Epoch 5/20\n",
      "375/375 [==============================] - 31s 82ms/step - loss: 0.0077 - accuracy: 0.9975 - val_loss: 0.0315 - val_accuracy: 0.9919\n",
      "Epoch 6/20\n",
      "375/375 [==============================] - 32s 86ms/step - loss: 0.0059 - accuracy: 0.9981 - val_loss: 0.0374 - val_accuracy: 0.9898\n",
      "Epoch 7/20\n",
      "375/375 [==============================] - 31s 83ms/step - loss: 0.0066 - accuracy: 0.9979 - val_loss: 0.0423 - val_accuracy: 0.9899\n",
      "Epoch 8/20\n",
      "375/375 [==============================] - 32s 85ms/step - loss: 0.0041 - accuracy: 0.9985 - val_loss: 0.0395 - val_accuracy: 0.9915\n",
      "Epoch 9/20\n",
      "375/375 [==============================] - 31s 83ms/step - loss: 0.0043 - accuracy: 0.9985 - val_loss: 0.0452 - val_accuracy: 0.9904\n",
      "Epoch 10/20\n",
      "375/375 [==============================] - 32s 84ms/step - loss: 0.0039 - accuracy: 0.9987 - val_loss: 0.0381 - val_accuracy: 0.9925\n",
      "Epoch 11/20\n",
      "375/375 [==============================] - 27s 72ms/step - loss: 0.0033 - accuracy: 0.9988 - val_loss: 0.0389 - val_accuracy: 0.9921\n",
      "Epoch 12/20\n",
      "375/375 [==============================] - 29s 77ms/step - loss: 0.0030 - accuracy: 0.9990 - val_loss: 0.0399 - val_accuracy: 0.9912\n",
      "Epoch 13/20\n",
      "375/375 [==============================] - 29s 77ms/step - loss: 0.0015 - accuracy: 0.9995 - val_loss: 0.0395 - val_accuracy: 0.9921\n",
      "Epoch 14/20\n",
      "375/375 [==============================] - 28s 75ms/step - loss: 0.0020 - accuracy: 0.9994 - val_loss: 0.0643 - val_accuracy: 0.9886\n",
      "Epoch 15/20\n",
      "375/375 [==============================] - 28s 75ms/step - loss: 0.0065 - accuracy: 0.9980 - val_loss: 0.0435 - val_accuracy: 0.9908\n",
      "Epoch 16/20\n",
      "375/375 [==============================] - 29s 77ms/step - loss: 0.0030 - accuracy: 0.9991 - val_loss: 0.0449 - val_accuracy: 0.9914\n",
      "Epoch 17/20\n",
      "375/375 [==============================] - 28s 75ms/step - loss: 0.0013 - accuracy: 0.9996 - val_loss: 0.0504 - val_accuracy: 0.9913\n",
      "Epoch 18/20\n",
      "375/375 [==============================] - 28s 75ms/step - loss: 5.6666e-04 - accuracy: 0.9998 - val_loss: 0.0454 - val_accuracy: 0.9932\n",
      "Epoch 19/20\n",
      "375/375 [==============================] - 28s 74ms/step - loss: 8.3923e-04 - accuracy: 0.9998 - val_loss: 0.0419 - val_accuracy: 0.9931\n",
      "Epoch 20/20\n",
      "375/375 [==============================] - 30s 81ms/step - loss: 3.7413e-05 - accuracy: 1.0000 - val_loss: 0.0431 - val_accuracy: 0.9930\n"
     ]
    }
   ],
   "source": [
    "history = model.fit(input_X_train, output_y_train, batch_size=BATCH_SIZE, epochs=N_EPOCH, verbose=VERBOSE, validation_split=VALIDATION_SPLIT)"
   ]
  },
  {
   "cell_type": "code",
   "execution_count": 32,
   "metadata": {},
   "outputs": [
    {
     "name": "stderr",
     "output_type": "stream",
     "text": [
      "WARNING:absl:Found untraced functions such as _jit_compiled_convolution_op, _jit_compiled_convolution_op while saving (showing 2 of 2). These functions will not be directly callable after loading.\n"
     ]
    },
    {
     "name": "stdout",
     "output_type": "stream",
     "text": [
      "INFO:tensorflow:Assets written to: my_model.LeNet/assets\n"
     ]
    },
    {
     "name": "stderr",
     "output_type": "stream",
     "text": [
      "INFO:tensorflow:Assets written to: my_model.LeNet/assets\n"
     ]
    },
    {
     "name": "stdout",
     "output_type": "stream",
     "text": [
      "Weight saved for the final epoch 20\n"
     ]
    }
   ],
   "source": [
    "from tensorflow.keras.models import load_model\n",
    "\n",
    "model.save('my_model.LeNet')\n",
    "print('Weight saved for the final epoch', N_EPOCH)"
   ]
  },
  {
   "cell_type": "code",
   "execution_count": 33,
   "metadata": {},
   "outputs": [
    {
     "name": "stdout",
     "output_type": "stream",
     "text": [
      "Loading of the saved weights and test using these trained weights\n"
     ]
    }
   ],
   "source": [
    "model = load_model('my_model.LeNet')\n",
    "print('Loading of the saved weights and test using these trained weights')"
   ]
  },
  {
   "cell_type": "code",
   "execution_count": 34,
   "metadata": {},
   "outputs": [
    {
     "name": "stdout",
     "output_type": "stream",
     "text": [
      "313/313 [==============================] - 3s 11ms/step - loss: 0.0292 - accuracy: 0.9937\n",
      "\n",
      " Test score/loss:  0.029234889894723892\n",
      "Test Accuracy:  0.9937000274658203\n"
     ]
    }
   ],
   "source": [
    "score = model.evaluate(input_X_test, output_y_test, verbose=VERBOSE)\n",
    "print(\"\\n Test score/loss: \", score[0])\n",
    "print(\"Test Accuracy: \", score[1])"
   ]
  },
  {
   "cell_type": "code",
   "execution_count": null,
   "metadata": {},
   "outputs": [],
   "source": []
  }
 ],
 "metadata": {
  "kernelspec": {
   "display_name": "base",
   "language": "python",
   "name": "python3"
  },
  "language_info": {
   "codemirror_mode": {
    "name": "ipython",
    "version": 3
   },
   "file_extension": ".py",
   "mimetype": "text/x-python",
   "name": "python",
   "nbconvert_exporter": "python",
   "pygments_lexer": "ipython3",
   "version": "3.8.13"
  },
  "orig_nbformat": 4
 },
 "nbformat": 4,
 "nbformat_minor": 2
}
