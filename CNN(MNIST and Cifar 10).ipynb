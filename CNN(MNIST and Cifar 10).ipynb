{
 "cells": [
  {
   "attachments": {},
   "cell_type": "markdown",
   "metadata": {},
   "source": [
    "# CNN MNIST"
   ]
  },
  {
   "cell_type": "code",
   "execution_count": 2,
   "metadata": {},
   "outputs": [
    {
     "name": "stdout",
     "output_type": "stream",
     "text": [
      "Libraries imported.\n"
     ]
    }
   ],
   "source": [
    "# importing of modules for LeNet CNN \n",
    "from tensorflow.keras import backend as K\n",
    "from tensorflow.keras.models import Sequential\n",
    "from tensorflow.keras.layers import Conv2D\n",
    "from tensorflow.keras.layers import MaxPooling2D\n",
    "from tensorflow.keras.layers import Activation\n",
    "from tensorflow.keras.layers import Flatten\n",
    "from tensorflow.keras.layers import Dense\n",
    "from tensorflow.keras.datasets import mnist\n",
    "from tensorflow.keras import utils\n",
    "from tensorflow.keras.optimizers import SGD, RMSprop, Adam\n",
    "\n",
    "# importing of service libraries\n",
    "import numpy as np\n",
    "import matplotlib.pyplot as plt\n",
    "\n",
    "print('Libraries imported.')"
   ]
  },
  {
   "cell_type": "code",
   "execution_count": 3,
   "metadata": {},
   "outputs": [
    {
     "name": "stdout",
     "output_type": "stream",
     "text": [
      "Main variables initialised.\n"
     ]
    }
   ],
   "source": [
    "# seed for reproducibility\n",
    "np.random.seed(1671)  \n",
    "\n",
    "# network and training parameters\n",
    "N_EPOCH = 20 # later use 20 for better results\n",
    "BATCH_SIZE = 128\n",
    "VERBOSE = 1\n",
    "OPTIMIZER = Adam() # Most optimal optimizer \n",
    "VALIDATION_SPLIT=0.2\n",
    "\n",
    "IMG_ROWS, IMG_COLS = 28, 28 # input  dimensions of each MNIST image\n",
    "N_CLASSES = 10  # number of outputs = number of digits\n",
    "INPUT_SHAPE = (IMG_ROWS, IMG_COLS, 1) # 1st Dimension, 2nd Dimension, no. channel\n",
    "\n",
    "print('Main variables initialised.')"
   ]
  },
  {
   "attachments": {},
   "cell_type": "markdown",
   "metadata": {},
   "source": [
    "Define LeNet model class for CNN"
   ]
  },
  {
   "cell_type": "code",
   "execution_count": 4,
   "metadata": {},
   "outputs": [
    {
     "name": "stdout",
     "output_type": "stream",
     "text": [
      "LeNet Class Defined\n"
     ]
    }
   ],
   "source": [
    "class LeNet:\n",
    "    @staticmethod\n",
    "    def build(input_shape, classes):\n",
    "        model=Sequential()\n",
    "        \n",
    "        # hidden1 conv->pool \n",
    "        model.add(Conv2D(20, kernel_size=5, padding=\"same\", input_shape=input_shape))\n",
    "        model.add(Activation(\"relu\"))\n",
    "        model.add(MaxPooling2D(pool_size=(2,2), strides=(2,2), padding='same'))\n",
    "        \n",
    "        # hidden2 conv->pool \n",
    "        model.add(Conv2D(50, kernel_size=5, padding='same'))\n",
    "        model.add(Activation(\"relu\"))\n",
    "        model.add(MaxPooling2D(pool_size=(2,2), strides=(2,2), padding='same'))\n",
    "        \n",
    "        # hidden3 flatten\n",
    "        model.add(Flatten())\n",
    "        model.add(Dense(500))\n",
    "        model.add(Activation(\"relu\"))\n",
    "        \n",
    "        # output \n",
    "        model.add(Dense(classes))\n",
    "        model.add(Activation(\"softmax\"))\n",
    "        \n",
    "        return model\n",
    "\n",
    "print('LeNet Class Defined')\n",
    "        "
   ]
  },
  {
   "cell_type": "code",
   "execution_count": 5,
   "metadata": {},
   "outputs": [],
   "source": [
    "(input_X_train, output_y_train), (input_X_test, output_y_test)=mnist.load_data()\n",
    "\n",
    "input_X_train=input_X_train.astype('float32')\n",
    "input_X_test=input_X_test.astype('float32')\n",
    "input_X_train /=255\n",
    "input_X_test /=255"
   ]
  },
  {
   "cell_type": "code",
   "execution_count": 6,
   "metadata": {},
   "outputs": [
    {
     "data": {
      "text/plain": [
       "(60000, 28, 28)"
      ]
     },
     "execution_count": 6,
     "metadata": {},
     "output_type": "execute_result"
    }
   ],
   "source": [
    "input_X_train.shape"
   ]
  },
  {
   "cell_type": "code",
   "execution_count": 7,
   "metadata": {},
   "outputs": [
    {
     "name": "stdout",
     "output_type": "stream",
     "text": [
      "60000 train samples\n",
      "10000 test samples\n"
     ]
    }
   ],
   "source": [
    "# np.newaxis add one more dimension (60000, 28, 28, 1)\n",
    "input_X_train = input_X_train[:,:,:,np.newaxis]\n",
    "input_X_test = input_X_test[:, :, :, np.newaxis]\n",
    "\n",
    "print(input_X_train.shape[0], 'train samples')\n",
    "print(input_X_test.shape[0], 'test samples')"
   ]
  },
  {
   "cell_type": "code",
   "execution_count": 8,
   "metadata": {},
   "outputs": [
    {
     "data": {
      "text/plain": [
       "(60000, 28, 28, 1)"
      ]
     },
     "execution_count": 8,
     "metadata": {},
     "output_type": "execute_result"
    }
   ],
   "source": [
    "input_X_train.shape"
   ]
  },
  {
   "cell_type": "code",
   "execution_count": 9,
   "metadata": {},
   "outputs": [
    {
     "data": {
      "text/plain": [
       "array([5, 0, 4, ..., 5, 6, 8], dtype=uint8)"
      ]
     },
     "execution_count": 9,
     "metadata": {},
     "output_type": "execute_result"
    }
   ],
   "source": [
    "output_y_train"
   ]
  },
  {
   "cell_type": "code",
   "execution_count": 10,
   "metadata": {},
   "outputs": [],
   "source": [
    "# convert class vectors to binary class matrices (one-hot coding)\n",
    "output_y_train = utils.to_categorical(output_y_train, N_CLASSES)\n",
    "output_y_test = utils.to_categorical(output_y_test, N_CLASSES)"
   ]
  },
  {
   "cell_type": "code",
   "execution_count": 11,
   "metadata": {},
   "outputs": [
    {
     "data": {
      "text/plain": [
       "array([[0., 0., 0., ..., 0., 0., 0.],\n",
       "       [1., 0., 0., ..., 0., 0., 0.],\n",
       "       [0., 0., 0., ..., 0., 0., 0.],\n",
       "       ...,\n",
       "       [0., 0., 0., ..., 0., 0., 0.],\n",
       "       [0., 0., 0., ..., 0., 0., 0.],\n",
       "       [0., 0., 0., ..., 0., 1., 0.]], dtype=float32)"
      ]
     },
     "execution_count": 11,
     "metadata": {},
     "output_type": "execute_result"
    }
   ],
   "source": [
    "output_y_train"
   ]
  },
  {
   "cell_type": "code",
   "execution_count": 12,
   "metadata": {},
   "outputs": [
    {
     "name": "stdout",
     "output_type": "stream",
     "text": [
      "Model: \"sequential\"\n",
      "_________________________________________________________________\n",
      " Layer (type)                Output Shape              Param #   \n",
      "=================================================================\n",
      " conv2d (Conv2D)             (None, 28, 28, 20)        520       \n",
      "                                                                 \n",
      " activation (Activation)     (None, 28, 28, 20)        0         \n",
      "                                                                 \n",
      " max_pooling2d (MaxPooling2D  (None, 14, 14, 20)       0         \n",
      " )                                                               \n",
      "                                                                 \n",
      " conv2d_1 (Conv2D)           (None, 14, 14, 50)        25050     \n",
      "                                                                 \n",
      " activation_1 (Activation)   (None, 14, 14, 50)        0         \n",
      "                                                                 \n",
      " max_pooling2d_1 (MaxPooling  (None, 7, 7, 50)         0         \n",
      " 2D)                                                             \n",
      "                                                                 \n",
      " flatten (Flatten)           (None, 2450)              0         \n",
      "                                                                 \n",
      " dense (Dense)               (None, 500)               1225500   \n",
      "                                                                 \n",
      " activation_2 (Activation)   (None, 500)               0         \n",
      "                                                                 \n",
      " dense_1 (Dense)             (None, 10)                5010      \n",
      "                                                                 \n",
      " activation_3 (Activation)   (None, 10)                0         \n",
      "                                                                 \n",
      "=================================================================\n",
      "Total params: 1,256,080\n",
      "Trainable params: 1,256,080\n",
      "Non-trainable params: 0\n",
      "_________________________________________________________________\n"
     ]
    },
    {
     "name": "stderr",
     "output_type": "stream",
     "text": [
      "2023-03-09 13:35:52.069022: I tensorflow/core/platform/cpu_feature_guard.cc:193] This TensorFlow binary is optimized with oneAPI Deep Neural Network Library (oneDNN) to use the following CPU instructions in performance-critical operations:  SSE4.1 SSE4.2 AVX AVX2 FMA\n",
      "To enable them in other operations, rebuild TensorFlow with the appropriate compiler flags.\n"
     ]
    }
   ],
   "source": [
    "model = LeNet.build(input_shape=INPUT_SHAPE, classes=N_CLASSES)\n",
    "model.compile(loss=\"categorical_crossentropy\", optimizer=OPTIMIZER, metrics=['accuracy'])\n",
    "model.summary()"
   ]
  },
  {
   "cell_type": "code",
   "execution_count": 13,
   "metadata": {},
   "outputs": [
    {
     "name": "stdout",
     "output_type": "stream",
     "text": [
      "Epoch 1/20\n",
      "375/375 [==============================] - 25s 66ms/step - loss: 0.1772 - accuracy: 0.9463 - val_loss: 0.0693 - val_accuracy: 0.9787\n",
      "Epoch 2/20\n",
      "375/375 [==============================] - 29s 79ms/step - loss: 0.0488 - accuracy: 0.9851 - val_loss: 0.0425 - val_accuracy: 0.9886\n",
      "Epoch 3/20\n",
      "375/375 [==============================] - 29s 78ms/step - loss: 0.0338 - accuracy: 0.9892 - val_loss: 0.0408 - val_accuracy: 0.9883\n",
      "Epoch 4/20\n",
      "375/375 [==============================] - 28s 74ms/step - loss: 0.0233 - accuracy: 0.9925 - val_loss: 0.0344 - val_accuracy: 0.9905\n",
      "Epoch 5/20\n",
      "375/375 [==============================] - 27s 72ms/step - loss: 0.0162 - accuracy: 0.9948 - val_loss: 0.0341 - val_accuracy: 0.9906\n",
      "Epoch 6/20\n",
      "375/375 [==============================] - 28s 75ms/step - loss: 0.0144 - accuracy: 0.9954 - val_loss: 0.0402 - val_accuracy: 0.9892\n",
      "Epoch 7/20\n",
      "375/375 [==============================] - 28s 75ms/step - loss: 0.0105 - accuracy: 0.9965 - val_loss: 0.0352 - val_accuracy: 0.9912\n",
      "Epoch 8/20\n",
      "375/375 [==============================] - 29s 77ms/step - loss: 0.0093 - accuracy: 0.9971 - val_loss: 0.0430 - val_accuracy: 0.9887\n",
      "Epoch 9/20\n",
      "375/375 [==============================] - 28s 74ms/step - loss: 0.0064 - accuracy: 0.9979 - val_loss: 0.0413 - val_accuracy: 0.9909\n",
      "Epoch 10/20\n",
      "375/375 [==============================] - 26s 68ms/step - loss: 0.0091 - accuracy: 0.9971 - val_loss: 0.0420 - val_accuracy: 0.9886\n",
      "Epoch 11/20\n",
      "375/375 [==============================] - 26s 69ms/step - loss: 0.0063 - accuracy: 0.9976 - val_loss: 0.0543 - val_accuracy: 0.9885\n",
      "Epoch 12/20\n",
      "375/375 [==============================] - 26s 70ms/step - loss: 0.0068 - accuracy: 0.9977 - val_loss: 0.0441 - val_accuracy: 0.9898\n",
      "Epoch 13/20\n",
      "375/375 [==============================] - 27s 71ms/step - loss: 0.0054 - accuracy: 0.9979 - val_loss: 0.0500 - val_accuracy: 0.9896\n",
      "Epoch 14/20\n",
      "375/375 [==============================] - 29s 78ms/step - loss: 0.0030 - accuracy: 0.9987 - val_loss: 0.0449 - val_accuracy: 0.9912\n",
      "Epoch 15/20\n",
      "375/375 [==============================] - 26s 69ms/step - loss: 0.0024 - accuracy: 0.9993 - val_loss: 0.0564 - val_accuracy: 0.9905\n",
      "Epoch 16/20\n",
      "375/375 [==============================] - 28s 75ms/step - loss: 0.0081 - accuracy: 0.9977 - val_loss: 0.0350 - val_accuracy: 0.9926\n",
      "Epoch 17/20\n",
      "375/375 [==============================] - 28s 74ms/step - loss: 0.0051 - accuracy: 0.9980 - val_loss: 0.0371 - val_accuracy: 0.9924\n",
      "Epoch 18/20\n",
      "375/375 [==============================] - 27s 71ms/step - loss: 0.0034 - accuracy: 0.9989 - val_loss: 0.0420 - val_accuracy: 0.9923\n",
      "Epoch 19/20\n",
      "375/375 [==============================] - 27s 73ms/step - loss: 0.0014 - accuracy: 0.9996 - val_loss: 0.0469 - val_accuracy: 0.9896\n",
      "Epoch 20/20\n",
      "375/375 [==============================] - 27s 71ms/step - loss: 0.0035 - accuracy: 0.9987 - val_loss: 0.0466 - val_accuracy: 0.9908\n"
     ]
    }
   ],
   "source": [
    "history=model.fit(input_X_train, output_y_train, batch_size=BATCH_SIZE, epochs=N_EPOCH, verbose=VERBOSE, validation_split=VALIDATION_SPLIT)"
   ]
  },
  {
   "attachments": {},
   "cell_type": "markdown",
   "metadata": {},
   "source": [
    "During the final epoch, the loss was 0.0049 and the accuracy was 0.9986. The validation loss was 0.0521 and the validation accuracy was 0.9901. This suggests that the model is performing well and has high accuracy on both the training and validation sets."
   ]
  },
  {
   "cell_type": "code",
   "execution_count": 14,
   "metadata": {},
   "outputs": [
    {
     "name": "stdout",
     "output_type": "stream",
     "text": [
      "313/313 [==============================] - 6s 18ms/step - loss: 0.0381 - accuracy: 0.9910\n",
      "\n",
      "Test score/loss: 0.03814247250556946\n",
      "Test Accuracy: 0.9909999966621399\n"
     ]
    }
   ],
   "source": [
    "score=model.evaluate(input_X_test, output_y_test, verbose=VERBOSE)\n",
    "print(\"\\nTest score/loss:\", score[0])\n",
    "print('Test Accuracy:', score[1])"
   ]
  },
  {
   "cell_type": "code",
   "execution_count": 15,
   "metadata": {},
   "outputs": [
    {
     "data": {
      "text/plain": [
       "{'loss': [0.17723135650157928,\n",
       "  0.04878990724682808,\n",
       "  0.03375546634197235,\n",
       "  0.023312747478485107,\n",
       "  0.016228951513767242,\n",
       "  0.014448871836066246,\n",
       "  0.010497163981199265,\n",
       "  0.009262541308999062,\n",
       "  0.00643608532845974,\n",
       "  0.0091167613863945,\n",
       "  0.006289382930845022,\n",
       "  0.006783247459679842,\n",
       "  0.005440413951873779,\n",
       "  0.003040117211639881,\n",
       "  0.0023512747138738632,\n",
       "  0.008070830255746841,\n",
       "  0.005064109340310097,\n",
       "  0.0033918486442416906,\n",
       "  0.0013617102522403002,\n",
       "  0.003503324231132865],\n",
       " 'accuracy': [0.9462708234786987,\n",
       "  0.9851041436195374,\n",
       "  0.989229142665863,\n",
       "  0.992479145526886,\n",
       "  0.9948124885559082,\n",
       "  0.9954166412353516,\n",
       "  0.9965416789054871,\n",
       "  0.997083306312561,\n",
       "  0.9979166388511658,\n",
       "  0.9970625042915344,\n",
       "  0.9976249933242798,\n",
       "  0.9977291822433472,\n",
       "  0.9979375004768372,\n",
       "  0.9987083077430725,\n",
       "  0.9992916584014893,\n",
       "  0.9977291822433472,\n",
       "  0.9980208277702332,\n",
       "  0.9988958239555359,\n",
       "  0.9995625019073486,\n",
       "  0.9986666440963745],\n",
       " 'val_loss': [0.06934993714094162,\n",
       "  0.04252001270651817,\n",
       "  0.040798384696245193,\n",
       "  0.03437862917780876,\n",
       "  0.034070730209350586,\n",
       "  0.04023738205432892,\n",
       "  0.03516217693686485,\n",
       "  0.04304002970457077,\n",
       "  0.04129692167043686,\n",
       "  0.04204050451517105,\n",
       "  0.05433733016252518,\n",
       "  0.04414576292037964,\n",
       "  0.0499567985534668,\n",
       "  0.04491456225514412,\n",
       "  0.05644557252526283,\n",
       "  0.03496842458844185,\n",
       "  0.037111129611730576,\n",
       "  0.0420047901570797,\n",
       "  0.04692576080560684,\n",
       "  0.046614184975624084],\n",
       " 'val_accuracy': [0.9787499904632568,\n",
       "  0.9885833263397217,\n",
       "  0.9882500171661377,\n",
       "  0.9904999732971191,\n",
       "  0.9905833601951599,\n",
       "  0.9891666769981384,\n",
       "  0.9912499785423279,\n",
       "  0.9887499809265137,\n",
       "  0.9909166693687439,\n",
       "  0.9885833263397217,\n",
       "  0.9884999990463257,\n",
       "  0.9898333549499512,\n",
       "  0.9895833134651184,\n",
       "  0.9912499785423279,\n",
       "  0.9904999732971191,\n",
       "  0.9925833344459534,\n",
       "  0.9924166798591614,\n",
       "  0.9922500252723694,\n",
       "  0.9895833134651184,\n",
       "  0.9907500147819519]}"
      ]
     },
     "execution_count": 15,
     "metadata": {},
     "output_type": "execute_result"
    }
   ],
   "source": [
    "history.history"
   ]
  },
  {
   "cell_type": "code",
   "execution_count": 16,
   "metadata": {},
   "outputs": [
    {
     "name": "stdout",
     "output_type": "stream",
     "text": [
      "dict_keys(['loss', 'accuracy', 'val_loss', 'val_accuracy'])\n"
     ]
    }
   ],
   "source": [
    "print(history.history.keys())"
   ]
  },
  {
   "cell_type": "code",
   "execution_count": 17,
   "metadata": {},
   "outputs": [
    {
     "data": {
      "image/png": "[encoded data removed]",
      "text/plain": [
       "<Figure size 640x480 with 1 Axes>"
      ]
     },
     "metadata": {},
     "output_type": "display_data"
    },
    {
     "data": {
      "image/png": "[encoded data removed]",
      "text/plain": [
       "<Figure size 640x480 with 1 Axes>"
      ]
     },
     "metadata": {},
     "output_type": "display_data"
    }
   ],
   "source": [
    "plt.plot(history.history['accuracy'])\n",
    "plt.plot(history.history['val_accuracy'])\n",
    "\n",
    "plt.title('model accuracy')\n",
    "plt.ylabel('accuracy')\n",
    "plt.xlabel('epoch')\n",
    "plt.legend(['train', 'test'], loc='upper left')\n",
    "plt.show()\n",
    "\n",
    "plt.plot(history.history['loss'])\n",
    "plt.plot(history.history['val_loss'])\n",
    "plt.title('model loss')\n",
    "plt.ylabel('loss')\n",
    "plt.xlabel('epoch')\n",
    "plt.legend(['train', 'test'], loc='upper left')\n",
    "plt.show()"
   ]
  },
  {
   "attachments": {},
   "cell_type": "markdown",
   "metadata": {},
   "source": [
    "The training accuracy is higher than the validation accuracy, which is expected. However, you mentioned that the difference between the two accuracies is relatively small, which suggests that the model is not overfitting too much.  "
   ]
  },
  {
   "attachments": {},
   "cell_type": "markdown",
   "metadata": {},
   "source": [
    "## Save the model configutation in json file"
   ]
  },
  {
   "cell_type": "code",
   "execution_count": 18,
   "metadata": {},
   "outputs": [],
   "source": [
    "from tensorflow.keras.models import model_from_json"
   ]
  },
  {
   "cell_type": "code",
   "execution_count": 19,
   "metadata": {},
   "outputs": [
    {
     "name": "stdout",
     "output_type": "stream",
     "text": [
      "Model definition json file saved\n"
     ]
    }
   ],
   "source": [
    "model_json = model.to_json()\n",
    "open('CNN_MNIST_architecture.json', 'w').write(model_json)\n",
    "print('Model definition json file saved')"
   ]
  },
  {
   "cell_type": "code",
   "execution_count": 20,
   "metadata": {},
   "outputs": [
    {
     "name": "stdout",
     "output_type": "stream",
     "text": [
      "Model: \"sequential\"\n",
      "_________________________________________________________________\n",
      " Layer (type)                Output Shape              Param #   \n",
      "=================================================================\n",
      " conv2d (Conv2D)             (None, 28, 28, 20)        520       \n",
      "                                                                 \n",
      " activation (Activation)     (None, 28, 28, 20)        0         \n",
      "                                                                 \n",
      " max_pooling2d (MaxPooling2D  (None, 14, 14, 20)       0         \n",
      " )                                                               \n",
      "                                                                 \n",
      " conv2d_1 (Conv2D)           (None, 14, 14, 50)        25050     \n",
      "                                                                 \n",
      " activation_1 (Activation)   (None, 14, 14, 50)        0         \n",
      "                                                                 \n",
      " max_pooling2d_1 (MaxPooling  (None, 7, 7, 50)         0         \n",
      " 2D)                                                             \n",
      "                                                                 \n",
      " flatten (Flatten)           (None, 2450)              0         \n",
      "                                                                 \n",
      " dense (Dense)               (None, 500)               1225500   \n",
      "                                                                 \n",
      " activation_2 (Activation)   (None, 500)               0         \n",
      "                                                                 \n",
      " dense_1 (Dense)             (None, 10)                5010      \n",
      "                                                                 \n",
      " activation_3 (Activation)   (None, 10)                0         \n",
      "                                                                 \n",
      "=================================================================\n",
      "Total params: 1,256,080\n",
      "Trainable params: 1,256,080\n",
      "Non-trainable params: 0\n",
      "_________________________________________________________________\n"
     ]
    }
   ],
   "source": [
    "model=model_from_json(model_json)\n",
    "model.compile(loss=\"categorical_crossentropy\", optimizer=OPTIMIZER, metrics=[\"accuracy\"])\n",
    "model.summary()"
   ]
  },
  {
   "cell_type": "code",
   "execution_count": 21,
   "metadata": {},
   "outputs": [
    {
     "name": "stdout",
     "output_type": "stream",
     "text": [
      "Epoch 1/20\n",
      "375/375 [==============================] - 28s 73ms/step - loss: 0.1169 - accuracy: 0.9626 - val_loss: 0.0430 - val_accuracy: 0.9866\n",
      "Epoch 2/20\n",
      "375/375 [==============================] - 29s 78ms/step - loss: 0.0296 - accuracy: 0.9902 - val_loss: 0.0490 - val_accuracy: 0.9862\n",
      "Epoch 3/20\n",
      "375/375 [==============================] - 28s 75ms/step - loss: 0.0172 - accuracy: 0.9944 - val_loss: 0.0387 - val_accuracy: 0.9893\n",
      "Epoch 4/20\n",
      "375/375 [==============================] - 27s 73ms/step - loss: 0.0109 - accuracy: 0.9965 - val_loss: 0.0363 - val_accuracy: 0.9883\n",
      "Epoch 5/20\n",
      "375/375 [==============================] - 27s 71ms/step - loss: 0.0072 - accuracy: 0.9977 - val_loss: 0.0384 - val_accuracy: 0.9907\n",
      "Epoch 6/20\n",
      "375/375 [==============================] - 27s 72ms/step - loss: 0.0058 - accuracy: 0.9980 - val_loss: 0.0412 - val_accuracy: 0.9893\n",
      "Epoch 7/20\n",
      "375/375 [==============================] - 31s 82ms/step - loss: 0.0052 - accuracy: 0.9983 - val_loss: 0.0384 - val_accuracy: 0.9901\n",
      "Epoch 8/20\n",
      "375/375 [==============================] - 28s 76ms/step - loss: 0.0032 - accuracy: 0.9988 - val_loss: 0.0465 - val_accuracy: 0.9901\n",
      "Epoch 9/20\n",
      "375/375 [==============================] - 26s 70ms/step - loss: 0.0069 - accuracy: 0.9978 - val_loss: 0.0458 - val_accuracy: 0.9895\n",
      "Epoch 10/20\n",
      "375/375 [==============================] - 26s 69ms/step - loss: 0.0038 - accuracy: 0.9989 - val_loss: 0.0403 - val_accuracy: 0.9916\n",
      "Epoch 11/20\n",
      "375/375 [==============================] - 26s 69ms/step - loss: 0.0014 - accuracy: 0.9995 - val_loss: 0.0457 - val_accuracy: 0.9900\n",
      "Epoch 12/20\n",
      "375/375 [==============================] - 26s 70ms/step - loss: 0.0032 - accuracy: 0.9989 - val_loss: 0.0508 - val_accuracy: 0.9894\n",
      "Epoch 13/20\n",
      "375/375 [==============================] - 26s 70ms/step - loss: 0.0047 - accuracy: 0.9985 - val_loss: 0.0466 - val_accuracy: 0.9914\n",
      "Epoch 14/20\n",
      "375/375 [==============================] - 28s 76ms/step - loss: 0.0030 - accuracy: 0.9990 - val_loss: 0.0553 - val_accuracy: 0.9892\n",
      "Epoch 15/20\n",
      "375/375 [==============================] - 28s 76ms/step - loss: 0.0024 - accuracy: 0.9992 - val_loss: 0.0467 - val_accuracy: 0.9912\n",
      "Epoch 16/20\n",
      "375/375 [==============================] - 28s 76ms/step - loss: 0.0022 - accuracy: 0.9993 - val_loss: 0.0462 - val_accuracy: 0.9912\n",
      "Epoch 17/20\n",
      "375/375 [==============================] - 27s 73ms/step - loss: 0.0011 - accuracy: 0.9996 - val_loss: 0.0497 - val_accuracy: 0.9916\n",
      "Epoch 18/20\n",
      "375/375 [==============================] - 29s 77ms/step - loss: 0.0015 - accuracy: 0.9996 - val_loss: 0.0808 - val_accuracy: 0.9865\n",
      "Epoch 19/20\n",
      "375/375 [==============================] - 28s 74ms/step - loss: 0.0086 - accuracy: 0.9975 - val_loss: 0.0475 - val_accuracy: 0.9902\n",
      "Epoch 20/20\n",
      "375/375 [==============================] - 29s 78ms/step - loss: 0.0011 - accuracy: 0.9996 - val_loss: 0.0414 - val_accuracy: 0.9907\n"
     ]
    }
   ],
   "source": [
    "history = model.fit(input_X_train, output_y_train, batch_size=BATCH_SIZE, epochs=N_EPOCH, verbose=VERBOSE, validation_split=VALIDATION_SPLIT)"
   ]
  },
  {
   "cell_type": "code",
   "execution_count": 22,
   "metadata": {},
   "outputs": [
    {
     "name": "stderr",
     "output_type": "stream",
     "text": [
      "WARNING:absl:Found untraced functions such as _jit_compiled_convolution_op, _jit_compiled_convolution_op while saving (showing 2 of 2). These functions will not be directly callable after loading.\n"
     ]
    },
    {
     "name": "stdout",
     "output_type": "stream",
     "text": [
      "INFO:tensorflow:Assets written to: my_model.LeNet/assets\n"
     ]
    },
    {
     "name": "stderr",
     "output_type": "stream",
     "text": [
      "INFO:tensorflow:Assets written to: my_model.LeNet/assets\n"
     ]
    },
    {
     "name": "stdout",
     "output_type": "stream",
     "text": [
      "Weight saved for the final epoch 20\n"
     ]
    }
   ],
   "source": [
    "from tensorflow.keras.models import load_model\n",
    "\n",
    "model.save('my_model.LeNet')\n",
    "print('Weight saved for the final epoch', N_EPOCH)"
   ]
  },
  {
   "cell_type": "code",
   "execution_count": 23,
   "metadata": {},
   "outputs": [
    {
     "name": "stdout",
     "output_type": "stream",
     "text": [
      "Loading of the saved weights and test using these trained weights\n"
     ]
    }
   ],
   "source": [
    "model = load_model('my_model.LeNet')\n",
    "print('Loading of the saved weights and test using these trained weights')"
   ]
  },
  {
   "cell_type": "code",
   "execution_count": 34,
   "metadata": {},
   "outputs": [
    {
     "name": "stdout",
     "output_type": "stream",
     "text": [
      "313/313 [==============================] - 3s 11ms/step - loss: 0.0292 - accuracy: 0.9937\n",
      "\n",
      " Test score/loss:  0.029234889894723892\n",
      "Test Accuracy:  0.9937000274658203\n"
     ]
    }
   ],
   "source": [
    "score = model.evaluate(input_X_test, output_y_test, verbose=VERBOSE)\n",
    "print(\"\\n Test score/loss: \", score[0])\n",
    "print(\"Test Accuracy: \", score[1])"
   ]
  },
  {
   "attachments": {},
   "cell_type": "markdown",
   "metadata": {},
   "source": [
    "-> load the model saved in json format. It is possible to re-load model and its training faster"
   ]
  },
  {
   "attachments": {},
   "cell_type": "markdown",
   "metadata": {},
   "source": [
    "## Save the trained weight of the network at the end of the training or at specific timesteps (called checkpoints) "
   ]
  },
  {
   "cell_type": "code",
   "execution_count": 24,
   "metadata": {},
   "outputs": [],
   "source": [
    "from tensorflow.keras.callbacks import ModelCheckpoint\n",
    "# to save the model during training at specific intervals or when there is an improvement in performance.\n",
    "\n",
    "from tensorflow.keras.models import load_model\n",
    "# The saved model will consist of the architecture, weights, and optimizer state of the trained model. \n",
    "# The saved model can be used for inference or for further training if needed.\n",
    "\n",
    "import os\n",
    "MODEL_DIR=\"./tmp\" \n",
    "#  directory named tmp in the current working directory (.) where the script is executed. \n",
    "# If the directory does not exist, it will be created automatically.\n",
    "\n",
    "# let's reduce the number of epoch to 3, for a faster test of the checkpoint utility\n",
    "N_EPOCH = 3"
   ]
  },
  {
   "cell_type": "code",
   "execution_count": 25,
   "metadata": {},
   "outputs": [
    {
     "name": "stdout",
     "output_type": "stream",
     "text": [
      "Training with checkpoint at each epoch. Check that at the end of each epoch, there is a weight file in the tmp folder\n",
      "Epoch 1/3\n",
      "234/235 [============================>.] - ETA: 0s - loss: 0.0017 - accuracy: 0.9995"
     ]
    },
    {
     "name": "stderr",
     "output_type": "stream",
     "text": [
      "WARNING:absl:Found untraced functions such as _jit_compiled_convolution_op, _jit_compiled_convolution_op while saving (showing 2 of 2). These functions will not be directly callable after loading.\n"
     ]
    },
    {
     "name": "stdout",
     "output_type": "stream",
     "text": [
      "INFO:tensorflow:Assets written to: ./tmp/my_model-01.LeNet/assets\n"
     ]
    },
    {
     "name": "stderr",
     "output_type": "stream",
     "text": [
      "INFO:tensorflow:Assets written to: ./tmp/my_model-01.LeNet/assets\n"
     ]
    },
    {
     "name": "stdout",
     "output_type": "stream",
     "text": [
      "235/235 [==============================] - 22s 91ms/step - loss: 0.0017 - accuracy: 0.9995 - val_loss: 0.0355 - val_accuracy: 0.9937\n",
      "Epoch 2/3\n",
      "234/235 [============================>.] - ETA: 0s - loss: 0.0044 - accuracy: 0.9991"
     ]
    },
    {
     "name": "stderr",
     "output_type": "stream",
     "text": [
      "WARNING:absl:Found untraced functions such as _jit_compiled_convolution_op, _jit_compiled_convolution_op while saving (showing 2 of 2). These functions will not be directly callable after loading.\n"
     ]
    },
    {
     "name": "stdout",
     "output_type": "stream",
     "text": [
      "INFO:tensorflow:Assets written to: ./tmp/my_model-02.LeNet/assets\n"
     ]
    },
    {
     "name": "stderr",
     "output_type": "stream",
     "text": [
      "INFO:tensorflow:Assets written to: ./tmp/my_model-02.LeNet/assets\n"
     ]
    },
    {
     "name": "stdout",
     "output_type": "stream",
     "text": [
      "235/235 [==============================] - 20s 87ms/step - loss: 0.0044 - accuracy: 0.9991 - val_loss: 0.0234 - val_accuracy: 0.9956\n",
      "Epoch 3/3\n",
      "234/235 [============================>.] - ETA: 0s - loss: 0.0011 - accuracy: 0.9996"
     ]
    },
    {
     "name": "stderr",
     "output_type": "stream",
     "text": [
      "WARNING:absl:Found untraced functions such as _jit_compiled_convolution_op, _jit_compiled_convolution_op while saving (showing 2 of 2). These functions will not be directly callable after loading.\n"
     ]
    },
    {
     "name": "stdout",
     "output_type": "stream",
     "text": [
      "INFO:tensorflow:Assets written to: ./tmp/my_model-03.LeNet/assets\n"
     ]
    },
    {
     "name": "stderr",
     "output_type": "stream",
     "text": [
      "INFO:tensorflow:Assets written to: ./tmp/my_model-03.LeNet/assets\n"
     ]
    },
    {
     "name": "stdout",
     "output_type": "stream",
     "text": [
      "235/235 [==============================] - 22s 94ms/step - loss: 0.0010 - accuracy: 0.9996 - val_loss: 0.0214 - val_accuracy: 0.9966\n"
     ]
    },
    {
     "data": {
      "text/plain": [
       "<keras.callbacks.History at 0x7f8c500f3490>"
      ]
     },
     "execution_count": 25,
     "metadata": {},
     "output_type": "execute_result"
    }
   ],
   "source": [
    "# checkpoint creation - if directory not existed, create one.\n",
    "if not os.path.exists(MODEL_DIR):\n",
    "    os.makedirs(MODEL_DIR)\n",
    "checkpoint=ModelCheckpoint(filepath=os.path.join(MODEL_DIR, \"my_model-{epoch:02d}.LeNet\"))\n",
    "# the current epoch number will be included in the filename, with a minimum of 2 digits \n",
    "# (e.g. \"my_model-01.LeNet\", \"my_model-02.LeNet\", etc.)\n",
    "\n",
    "print('Training with checkpoint at each epoch. Check that at the end of each epoch, there is a weight file in the tmp folder')\n",
    "model.fit(input_X_train, output_y_train, batch_size=BATCH_SIZE, epochs=N_EPOCH, validation_split=0.5, callbacks=[checkpoint])"
   ]
  },
  {
   "cell_type": "code",
   "execution_count": 26,
   "metadata": {},
   "outputs": [
    {
     "name": "stdout",
     "output_type": "stream",
     "text": [
      "313/313 [==============================] - 5s 17ms/step - loss: 0.0376 - accuracy: 0.9926\n",
      "\n",
      "Test score/loss: 0.03761471435427666\n",
      "Test accuracy:  0.9926000237464905\n"
     ]
    }
   ],
   "source": [
    "score=model.evaluate(input_X_test, output_y_test, verbose=VERBOSE)\n",
    "print(\"\\nTest score/loss:\", score[0])\n",
    "print('Test accuracy: ', score[1])"
   ]
  },
  {
   "cell_type": "code",
   "execution_count": 27,
   "metadata": {},
   "outputs": [
    {
     "name": "stdout",
     "output_type": "stream",
     "text": [
      "Weight loaded for epoch 2 .\n",
      "New test using these trained wieghts.\n",
      "313/313 [==============================] - 5s 17ms/step - loss: 0.0366 - accuracy: 0.9913\n",
      "\n",
      "Test score/loss: 0.0366283617913723\n",
      "Test accuracy: 0.9912999868392944\n"
     ]
    }
   ],
   "source": [
    "# model = 2nd epoch eweight (my_model-02.LeNet)\n",
    "model=load_model(os.path.join(MODEL_DIR, 'my_model-02.LeNet'))\n",
    "print('Weight loaded for epoch 2 .')\n",
    "print('New test using these trained wieghts.')"
   ]
  },
  {
   "cell_type": "code",
   "execution_count": 29,
   "metadata": {},
   "outputs": [
    {
     "name": "stdout",
     "output_type": "stream",
     "text": [
      "313/313 [==============================] - 5s 15ms/step - loss: 0.0408 - accuracy: 0.9929\n",
      "\n",
      "Test score/loss: 0.040773697197437286\n",
      "Test accuracy: 0.992900013923645\n"
     ]
    }
   ],
   "source": [
    "score = model.evaluate(input_X_test, output_y_test, verbose=VERBOSE)\n",
    "print(\"\\nTest score/loss:\", score[0])\n",
    "print('Test accuracy:', score[1])"
   ]
  },
  {
   "attachments": {},
   "cell_type": "markdown",
   "metadata": {},
   "source": [
    "## TensorBoard "
   ]
  },
  {
   "cell_type": "code",
   "execution_count": 28,
   "metadata": {},
   "outputs": [
    {
     "name": "stdout",
     "output_type": "stream",
     "text": [
      "Epoch 1/20\n",
      "235/235 [==============================] - 21s 89ms/step - loss: 0.0016 - accuracy: 0.9995 - val_loss: 0.0263 - val_accuracy: 0.9954\n",
      "Epoch 2/20\n",
      "235/235 [==============================] - 22s 92ms/step - loss: 8.7596e-04 - accuracy: 0.9998 - val_loss: 0.0267 - val_accuracy: 0.9956\n",
      "Epoch 3/20\n",
      "235/235 [==============================] - 23s 96ms/step - loss: 8.2272e-04 - accuracy: 0.9998 - val_loss: 0.0322 - val_accuracy: 0.9951\n",
      "Epoch 4/20\n",
      "235/235 [==============================] - 22s 95ms/step - loss: 0.0068 - accuracy: 0.9983 - val_loss: 0.0248 - val_accuracy: 0.9955\n",
      "Epoch 5/20\n",
      "235/235 [==============================] - 21s 87ms/step - loss: 0.0014 - accuracy: 0.9995 - val_loss: 0.0241 - val_accuracy: 0.9952\n",
      "Epoch 6/20\n",
      "235/235 [==============================] - 22s 94ms/step - loss: 0.0010 - accuracy: 0.9997 - val_loss: 0.0283 - val_accuracy: 0.9949\n",
      "Epoch 7/20\n",
      "235/235 [==============================] - 21s 91ms/step - loss: 0.0015 - accuracy: 0.9997 - val_loss: 0.0211 - val_accuracy: 0.9959\n",
      "Epoch 8/20\n",
      "235/235 [==============================] - 21s 91ms/step - loss: 3.8225e-05 - accuracy: 1.0000 - val_loss: 0.0208 - val_accuracy: 0.9961\n",
      "Epoch 9/20\n",
      "235/235 [==============================] - 22s 92ms/step - loss: 1.3000e-05 - accuracy: 1.0000 - val_loss: 0.0208 - val_accuracy: 0.9962\n",
      "Epoch 10/20\n",
      "235/235 [==============================] - 21s 91ms/step - loss: 8.7531e-06 - accuracy: 1.0000 - val_loss: 0.0209 - val_accuracy: 0.9962\n",
      "Epoch 11/20\n",
      "235/235 [==============================] - 22s 94ms/step - loss: 6.6907e-06 - accuracy: 1.0000 - val_loss: 0.0210 - val_accuracy: 0.9963\n",
      "Epoch 12/20\n",
      "235/235 [==============================] - 21s 90ms/step - loss: 5.3657e-06 - accuracy: 1.0000 - val_loss: 0.0211 - val_accuracy: 0.9963\n",
      "Epoch 13/20\n",
      "235/235 [==============================] - 21s 88ms/step - loss: 4.4188e-06 - accuracy: 1.0000 - val_loss: 0.0213 - val_accuracy: 0.9964\n",
      "Epoch 14/20\n",
      "235/235 [==============================] - 23s 96ms/step - loss: 3.6917e-06 - accuracy: 1.0000 - val_loss: 0.0214 - val_accuracy: 0.9964\n",
      "Epoch 15/20\n",
      "235/235 [==============================] - 22s 92ms/step - loss: 3.1175e-06 - accuracy: 1.0000 - val_loss: 0.0215 - val_accuracy: 0.9965\n",
      "Epoch 16/20\n",
      "235/235 [==============================] - 23s 100ms/step - loss: 2.6563e-06 - accuracy: 1.0000 - val_loss: 0.0217 - val_accuracy: 0.9965\n",
      "Epoch 17/20\n",
      "235/235 [==============================] - 21s 92ms/step - loss: 2.2779e-06 - accuracy: 1.0000 - val_loss: 0.0218 - val_accuracy: 0.9965\n",
      "Epoch 18/20\n",
      "235/235 [==============================] - 22s 92ms/step - loss: 1.9632e-06 - accuracy: 1.0000 - val_loss: 0.0219 - val_accuracy: 0.9966\n",
      "Epoch 19/20\n",
      "235/235 [==============================] - 21s 88ms/step - loss: 1.6998e-06 - accuracy: 1.0000 - val_loss: 0.0220 - val_accuracy: 0.9966\n",
      "Epoch 20/20\n",
      "235/235 [==============================] - 21s 90ms/step - loss: 1.4761e-06 - accuracy: 1.0000 - val_loss: 0.0222 - val_accuracy: 0.9965\n"
     ]
    },
    {
     "data": {
      "text/plain": [
       "ERROR: Failed to launch TensorBoard (exited with 1).\n",
       "Contents of stderr:\n",
       "TensorFlow installation not found - running with reduced feature set.\n",
       "\n",
       "NOTE: Using experimental fast data loading logic. To disable, pass\n",
       "    \"--load_fast=false\" and report issues on GitHub. More details:\n",
       "    https://github.com/tensorflow/tensorboard/issues/4784\n",
       "\n",
       "Address already in use\n",
       "Port 6006 is in use by another program. Either identify and stop that program, or start the server with a different port."
      ]
     },
     "metadata": {},
     "output_type": "display_data"
    },
    {
     "name": "stdout",
     "output_type": "stream",
     "text": [
      "TensorFlow installation not found - running with reduced feature set.\n",
      "\n",
      "NOTE: Using experimental fast data loading logic. To disable, pass\n",
      "    \"--load_fast=false\" and report issues on GitHub. More details:\n",
      "    https://github.com/tensorflow/tensorboard/issues/4784\n",
      "\n",
      "Address already in use\n",
      "Port 6006 is in use by another program. Either identify and stop that program, or start the server with a different port.\n"
     ]
    }
   ],
   "source": [
    "from tensorflow.keras.callbacks import TensorBoard\n",
    "\n",
    "N_EPOCH=20\n",
    "\n",
    "tensorboard=TensorBoard(log_dir='./logs', histogram_freq=0, write_graph=True, write_images=False)\n",
    "model.fit(input_X_train, output_y_train, batch_size=BATCH_SIZE, epochs=N_EPOCH, validation_split=0.5, callbacks=[tensorboard])\n",
    "\n",
    "%load_ext tensorboard\n",
    "%tensorboard --logdir ./logs\n",
    "\n",
    "!tensorboard \"--logdir=./logs\" --host localhost --port 6006"
   ]
  },
  {
   "attachments": {},
   "cell_type": "markdown",
   "metadata": {},
   "source": [
    "# Cifar10"
   ]
  },
  {
   "cell_type": "code",
   "execution_count": 1,
   "metadata": {},
   "outputs": [
    {
     "name": "stderr",
     "output_type": "stream",
     "text": [
      "2023-03-09 14:20:38.571436: I tensorflow/core/platform/cpu_feature_guard.cc:193] This TensorFlow binary is optimized with oneAPI Deep Neural Network Library (oneDNN) to use the following CPU instructions in performance-critical operations:  SSE4.1 SSE4.2 AVX AVX2 FMA\n",
      "To enable them in other operations, rebuild TensorFlow with the appropriate compiler flags.\n"
     ]
    },
    {
     "name": "stdout",
     "output_type": "stream",
     "text": [
      "Libraries imported.\n"
     ]
    }
   ],
   "source": [
    "# importing of modules for CIFAR-10 CNN \n",
    "from tensorflow.keras.datasets import cifar10\n",
    "from tensorflow.keras import utils\n",
    "from tensorflow.keras.models import Sequential\n",
    "from tensorflow.keras.layers import Dense, Dropout, Activation, Flatten\n",
    "from tensorflow.keras.layers import Conv2D, MaxPooling2D\n",
    "from tensorflow.keras.optimizers import SGD, Adam, RMSprop\n",
    "\n",
    "# importing of service libraries\n",
    "import numpy as np\n",
    "import matplotlib.pyplot as plt\n",
    "\n",
    "print('Libraries imported.')"
   ]
  },
  {
   "cell_type": "code",
   "execution_count": 2,
   "metadata": {},
   "outputs": [
    {
     "name": "stdout",
     "output_type": "stream",
     "text": [
      "Main variables initialised.\n"
     ]
    }
   ],
   "source": [
    "#training constants\n",
    "BATCH_SIZE = 128\n",
    "N_EPOCH = 20 # use 20 for best initial results\n",
    "N_CLASSES = 10\n",
    "VERBOSE = 1\n",
    "VALIDATION_SPLIT = 0.2\n",
    "OPTIM = RMSprop()\n",
    "\n",
    "print('Main variables initialised.')"
   ]
  },
  {
   "cell_type": "code",
   "execution_count": 3,
   "metadata": {},
   "outputs": [
    {
     "name": "stdout",
     "output_type": "stream",
     "text": [
      "Image variables initialisation\n"
     ]
    }
   ],
   "source": [
    "# CIFAR_10 is a set of 60K images 32x32 pixels on 3 channels\n",
    "IMG_CHANNELS = 3\n",
    "IMG_ROWS = 32\n",
    "IMG_COLS = 32\n",
    "\n",
    "print('Image variables initialisation')"
   ]
  },
  {
   "cell_type": "code",
   "execution_count": 4,
   "metadata": {},
   "outputs": [
    {
     "name": "stdout",
     "output_type": "stream",
     "text": [
      "Downloading data from https://www.cs.toronto.edu/~kriz/cifar-10-python.tar.gz\n",
      "170498071/170498071 [==============================] - 25s 0us/step\n",
      "input_X_train shape:  (50000, 32, 32, 3)\n",
      "50000 train samples\n",
      "10000 test samples\n"
     ]
    }
   ],
   "source": [
    "(input_X_train, output_y_train),(input_X_test, output_y_test)=cifar10.load_data()\n",
    "\n",
    "print('input_X_train shape: ', input_X_train.shape)\n",
    "print(input_X_train.shape[0], 'train samples')\n",
    "print(input_X_test.shape[0], 'test samples')"
   ]
  },
  {
   "cell_type": "code",
   "execution_count": 5,
   "metadata": {},
   "outputs": [],
   "source": [
    "# output data one-hot encoding \n",
    "output_y_train=utils.to_categorical(output_y_train, N_CLASSES)\n",
    "output_y_test=utils.to_categorical(output_y_test, N_CLASSES)"
   ]
  },
  {
   "cell_type": "code",
   "execution_count": 6,
   "metadata": {},
   "outputs": [],
   "source": [
    "# To normalize the value in between 0 and 1 (there are 255 kinds)\n",
    "input_X_train=input_X_train.astype('float32')\n",
    "input_X_test=input_X_test.astype('float32')\n",
    "\n",
    "input_X_train /=255\n",
    "input_X_test /=255"
   ]
  },
  {
   "cell_type": "code",
   "execution_count": 8,
   "metadata": {},
   "outputs": [
    {
     "name": "stdout",
     "output_type": "stream",
     "text": [
      "Sample input image: [[[0.6666667  0.7058824  0.7764706 ]\n",
      "  [0.65882355 0.69803923 0.76862746]\n",
      "  [0.69411767 0.7254902  0.79607844]\n",
      "  ...\n",
      "  [0.63529414 0.7019608  0.84313726]\n",
      "  [0.61960787 0.69803923 0.8392157 ]\n",
      "  [0.6156863  0.69411767 0.83137256]]\n",
      "\n",
      " [[0.65882355 0.70980394 0.7764706 ]\n",
      "  [0.6745098  0.7254902  0.7882353 ]\n",
      "  [0.67058825 0.7176471  0.78431374]\n",
      "  ...\n",
      "  [0.62352943 0.69411767 0.83137256]\n",
      "  [0.6117647  0.6901961  0.827451  ]\n",
      "  [0.6039216  0.68235296 0.81960785]]\n",
      "\n",
      " [[0.6039216  0.6666667  0.7294118 ]\n",
      "  [0.58431375 0.64705884 0.70980394]\n",
      "  [0.5058824  0.5647059  0.63529414]\n",
      "  ...\n",
      "  [0.6313726  0.69803923 0.8392157 ]\n",
      "  [0.6156863  0.69411767 0.83137256]\n",
      "  [0.6039216  0.68235296 0.81960785]]\n",
      "\n",
      " ...\n",
      "\n",
      " [[0.2901961  0.32941177 0.3137255 ]\n",
      "  [0.29803923 0.33333334 0.31764707]\n",
      "  [0.30588236 0.33333334 0.32156864]\n",
      "  ...\n",
      "  [0.2784314  0.29411766 0.30588236]\n",
      "  [0.26666668 0.28235295 0.29411766]\n",
      "  [0.23921569 0.25490198 0.26666668]]\n",
      "\n",
      " [[0.26666668 0.29803923 0.3019608 ]\n",
      "  [0.27058825 0.3019608  0.30588236]\n",
      "  [0.28235295 0.30980393 0.30588236]\n",
      "  ...\n",
      "  [0.29803923 0.3137255  0.3254902 ]\n",
      "  [0.2784314  0.29411766 0.30588236]\n",
      "  [0.2784314  0.29411766 0.30588236]]\n",
      "\n",
      " [[0.2627451  0.29411766 0.30588236]\n",
      "  [0.26666668 0.29803923 0.30980393]\n",
      "  [0.27058825 0.29411766 0.29803923]\n",
      "  ...\n",
      "  [0.29411766 0.30980393 0.32156864]\n",
      "  [0.2784314  0.29411766 0.30588236]\n",
      "  [0.28627452 0.3019608  0.3137255 ]]]\n"
     ]
    },
    {
     "data": {
      "image/png": "[encoded data removed]",
      "text/plain": [
       "<Figure size 640x480 with 1 Axes>"
      ]
     },
     "metadata": {},
     "output_type": "display_data"
    }
   ],
   "source": [
    "# to visualize\n",
    "Selected_Image=4 # randomly input the number(this is index of image)\n",
    "image=input_X_train[Selected_Image]\n",
    "print(\"Sample input image: \"+str(image))\n",
    "plt.imshow(image)\n",
    "plt.show()"
   ]
  },
  {
   "cell_type": "code",
   "execution_count": 9,
   "metadata": {},
   "outputs": [
    {
     "name": "stdout",
     "output_type": "stream",
     "text": [
      "Sample input image: [[[0.62352943 0.4        0.39607844]\n",
      "  [0.5882353  0.35686275 0.37254903]\n",
      "  [0.6        0.37254903 0.38039216]\n",
      "  ...\n",
      "  [0.35686275 0.2784314  0.21960784]\n",
      "  [0.2901961  0.24705882 0.21568628]\n",
      "  [0.29803923 0.22745098 0.21568628]]\n",
      "\n",
      " [[0.5568628  0.29411766 0.26666668]\n",
      "  [0.57254905 0.28235295 0.25882354]\n",
      "  [0.60784316 0.29803923 0.25490198]\n",
      "  ...\n",
      "  [0.49803922 0.4117647  0.2784314 ]\n",
      "  [0.47843137 0.43529412 0.3647059 ]\n",
      "  [0.3372549  0.27058825 0.23921569]]\n",
      "\n",
      " [[0.42745098 0.2627451  0.29411766]\n",
      "  [0.3882353  0.22745098 0.23529412]\n",
      "  [0.4117647  0.23137255 0.20392157]\n",
      "  ...\n",
      "  [0.5372549  0.4392157  0.3137255 ]\n",
      "  [0.6392157  0.5176471  0.4117647 ]\n",
      "  [0.3647059  0.28235295 0.2784314 ]]\n",
      "\n",
      " ...\n",
      "\n",
      " [[0.95686275 0.5058824  0.27450982]\n",
      "  [0.9411765  0.48235294 0.25490198]\n",
      "  [0.94509804 0.47843137 0.25490198]\n",
      "  ...\n",
      "  [0.6117647  0.16470589 0.05882353]\n",
      "  [0.7019608  0.23137255 0.10196079]\n",
      "  [0.78431374 0.28627452 0.14117648]]\n",
      "\n",
      " [[0.9647059  0.52156866 0.2901961 ]\n",
      "  [0.9529412  0.5019608  0.28235295]\n",
      "  [0.9529412  0.49803922 0.27450982]\n",
      "  ...\n",
      "  [0.63529414 0.17254902 0.05490196]\n",
      "  [0.69803923 0.21960784 0.08627451]\n",
      "  [0.7529412  0.25490198 0.10588235]]\n",
      "\n",
      " [[0.9647059  0.54509807 0.32156864]\n",
      "  [0.9529412  0.52156866 0.30588236]\n",
      "  [0.95686275 0.5176471  0.3019608 ]\n",
      "  ...\n",
      "  [0.6509804  0.18431373 0.05490196]\n",
      "  [0.6784314  0.2        0.06666667]\n",
      "  [0.7137255  0.22352941 0.07450981]]]\n"
     ]
    },
    {
     "data": {
      "image/png": "[encoded data removed]",
      "text/plain": [
       "<Figure size 640x480 with 1 Axes>"
      ]
     },
     "metadata": {},
     "output_type": "display_data"
    }
   ],
   "source": [
    "# to visualize different one\n",
    "Selected_Image=5 # randomly input the number(this is index of image)\n",
    "image=input_X_train[Selected_Image]\n",
    "print(\"Sample input image: \"+str(image))\n",
    "plt.imshow(image)\n",
    "plt.show()"
   ]
  },
  {
   "attachments": {},
   "cell_type": "markdown",
   "metadata": {},
   "source": [
    "32 convolutional filters, (3x3 size), Relu activation function </br>\n",
    "max-pooling (size 2x2, droupout 25%)\n",
    "\n",
    "dense layer with 512 units and Relu activation, 50% droupout</br>\n",
    "softmax layer with 10 units/classes as output (one-hot encoded)"
   ]
  },
  {
   "cell_type": "code",
   "execution_count": 10,
   "metadata": {},
   "outputs": [
    {
     "name": "stdout",
     "output_type": "stream",
     "text": [
      "CNN Network Definition setup\n"
     ]
    },
    {
     "name": "stderr",
     "output_type": "stream",
     "text": [
      "2023-03-09 14:30:46.205874: I tensorflow/core/platform/cpu_feature_guard.cc:193] This TensorFlow binary is optimized with oneAPI Deep Neural Network Library (oneDNN) to use the following CPU instructions in performance-critical operations:  SSE4.1 SSE4.2 AVX AVX2 FMA\n",
      "To enable them in other operations, rebuild TensorFlow with the appropriate compiler flags.\n"
     ]
    }
   ],
   "source": [
    "model=Sequential()\n",
    "model.add(Conv2D(32, (3,3), padding='same', input_shape=(IMG_ROWS, IMG_COLS, IMG_CHANNELS)))\n",
    "model.add(Activation('relu'))\n",
    "model.add(MaxPooling2D(pool_size=(2,2)))\n",
    "model.add(Dropout(0.25))\n",
    "\n",
    "model.add(Flatten())\n",
    "model.add(Dense(512))\n",
    "model.add(Activation('relu'))\n",
    "model.add(Dropout(0.5))\n",
    "\n",
    "model.add(Dense(N_CLASSES))\n",
    "model.add(Activation('softmax'))\n",
    "\n",
    "print('CNN Network Definition setup')"
   ]
  },
  {
   "cell_type": "code",
   "execution_count": 11,
   "metadata": {},
   "outputs": [
    {
     "name": "stdout",
     "output_type": "stream",
     "text": [
      "Model: \"sequential\"\n",
      "_________________________________________________________________\n",
      " Layer (type)                Output Shape              Param #   \n",
      "=================================================================\n",
      " conv2d (Conv2D)             (None, 32, 32, 32)        896       \n",
      "                                                                 \n",
      " activation (Activation)     (None, 32, 32, 32)        0         \n",
      "                                                                 \n",
      " max_pooling2d (MaxPooling2D  (None, 16, 16, 32)       0         \n",
      " )                                                               \n",
      "                                                                 \n",
      " dropout (Dropout)           (None, 16, 16, 32)        0         \n",
      "                                                                 \n",
      " flatten (Flatten)           (None, 8192)              0         \n",
      "                                                                 \n",
      " dense (Dense)               (None, 512)               4194816   \n",
      "                                                                 \n",
      " activation_1 (Activation)   (None, 512)               0         \n",
      "                                                                 \n",
      " dropout_1 (Dropout)         (None, 512)               0         \n",
      "                                                                 \n",
      " dense_1 (Dense)             (None, 10)                5130      \n",
      "                                                                 \n",
      " activation_2 (Activation)   (None, 10)                0         \n",
      "                                                                 \n",
      "=================================================================\n",
      "Total params: 4,200,842\n",
      "Trainable params: 4,200,842\n",
      "Non-trainable params: 0\n",
      "_________________________________________________________________\n"
     ]
    }
   ],
   "source": [
    "model.compile(loss='categorical_crossentropy', optimizer=OPTIM, metrics=['accuracy'])\n",
    "model.summary()"
   ]
  },
  {
   "cell_type": "code",
   "execution_count": 12,
   "metadata": {},
   "outputs": [
    {
     "name": "stdout",
     "output_type": "stream",
     "text": [
      "Epoch 1/20\n",
      "313/313 [==============================] - 22s 68ms/step - loss: 1.7291 - accuracy: 0.3907 - val_loss: 1.4713 - val_accuracy: 0.4894\n",
      "Epoch 2/20\n",
      "313/313 [==============================] - 20s 65ms/step - loss: 1.3715 - accuracy: 0.5135 - val_loss: 1.2496 - val_accuracy: 0.5686\n",
      "Epoch 3/20\n",
      "313/313 [==============================] - 20s 65ms/step - loss: 1.2427 - accuracy: 0.5609 - val_loss: 1.1697 - val_accuracy: 0.5874\n",
      "Epoch 4/20\n",
      "313/313 [==============================] - 21s 68ms/step - loss: 1.1560 - accuracy: 0.5965 - val_loss: 1.1101 - val_accuracy: 0.6121\n",
      "Epoch 5/20\n",
      "313/313 [==============================] - 22s 69ms/step - loss: 1.0828 - accuracy: 0.6220 - val_loss: 1.1802 - val_accuracy: 0.5945\n",
      "Epoch 6/20\n",
      "313/313 [==============================] - 22s 70ms/step - loss: 1.0242 - accuracy: 0.6432 - val_loss: 1.0944 - val_accuracy: 0.6195\n",
      "Epoch 7/20\n",
      "313/313 [==============================] - 22s 71ms/step - loss: 0.9714 - accuracy: 0.6623 - val_loss: 1.0734 - val_accuracy: 0.6228\n",
      "Epoch 8/20\n",
      "313/313 [==============================] - 22s 69ms/step - loss: 0.9230 - accuracy: 0.6801 - val_loss: 1.0376 - val_accuracy: 0.6437\n",
      "Epoch 9/20\n",
      "313/313 [==============================] - 22s 69ms/step - loss: 0.8809 - accuracy: 0.6937 - val_loss: 1.0076 - val_accuracy: 0.6591\n",
      "Epoch 10/20\n",
      "313/313 [==============================] - 22s 69ms/step - loss: 0.8498 - accuracy: 0.7046 - val_loss: 1.0079 - val_accuracy: 0.6580\n",
      "Epoch 11/20\n",
      "313/313 [==============================] - 22s 70ms/step - loss: 0.8027 - accuracy: 0.7207 - val_loss: 0.9962 - val_accuracy: 0.6651\n",
      "Epoch 12/20\n",
      "313/313 [==============================] - 22s 70ms/step - loss: 0.7702 - accuracy: 0.7341 - val_loss: 1.0126 - val_accuracy: 0.6634\n",
      "Epoch 13/20\n",
      "313/313 [==============================] - 22s 71ms/step - loss: 0.7474 - accuracy: 0.7412 - val_loss: 1.0292 - val_accuracy: 0.6670\n",
      "Epoch 14/20\n",
      "313/313 [==============================] - 22s 71ms/step - loss: 0.7176 - accuracy: 0.7541 - val_loss: 1.0322 - val_accuracy: 0.6652\n",
      "Epoch 15/20\n",
      "313/313 [==============================] - 22s 70ms/step - loss: 0.6844 - accuracy: 0.7631 - val_loss: 1.0379 - val_accuracy: 0.6754\n",
      "Epoch 16/20\n",
      "313/313 [==============================] - 24s 76ms/step - loss: 0.6701 - accuracy: 0.7693 - val_loss: 1.0864 - val_accuracy: 0.6639\n",
      "Epoch 17/20\n",
      "313/313 [==============================] - 24s 76ms/step - loss: 0.6440 - accuracy: 0.7800 - val_loss: 1.0791 - val_accuracy: 0.6688\n",
      "Epoch 18/20\n",
      "313/313 [==============================] - 23s 74ms/step - loss: 0.6272 - accuracy: 0.7872 - val_loss: 1.0260 - val_accuracy: 0.6713\n",
      "Epoch 19/20\n",
      "313/313 [==============================] - 23s 74ms/step - loss: 0.6081 - accuracy: 0.7899 - val_loss: 1.0578 - val_accuracy: 0.6720\n",
      "Epoch 20/20\n",
      "313/313 [==============================] - 24s 76ms/step - loss: 0.5877 - accuracy: 0.8015 - val_loss: 1.0383 - val_accuracy: 0.6779\n"
     ]
    }
   ],
   "source": [
    "history=model.fit(input_X_train, output_y_train, batch_size=BATCH_SIZE, \n",
    "                  epochs=N_EPOCH, validation_split=VALIDATION_SPLIT, verbose=VERBOSE)"
   ]
  },
  {
   "attachments": {},
   "cell_type": "markdown",
   "metadata": {},
   "source": [
    "<b>model_from_json</b> is a method in Keras that allows you to save only the architecture of a neural network model to a JSON file. This means that you can save and load the model architecture independently of its weights and training configuration.\n",
    "--> to save the entire model architecture in a JSON format, including the model's layers, their configurations, and the connectivity information between the layers. This allows the model to be recreated from scratch with the same architecture, without the need to retrain it from scratch. This is particularly useful when we want to share a pre-trained model with others, or when we want to deploy a model in a production environment.\n",
    "\n",
    "On the other hand, <b>ModelCheckpoint</b> is a callback in Keras that allows you to save the weights of a neural network model during training, either after every epoch or only when the validation loss improves. This means that you can save the trained weights of the model, along with its training configuration and optimizer state, to a file in a specified directory.\n",
    "--> This is particularly useful when training large models on big datasets, where training can take many hours or even days, and it is not practical to train the model from scratch every time. By saving the weights at regular intervals, we can resume training from where we left off if the training process is interrupted, or if we want to fine-tune the model with additional training."
   ]
  },
  {
   "cell_type": "code",
   "execution_count": 13,
   "metadata": {},
   "outputs": [
    {
     "data": {
      "text/plain": [
       "2740"
      ]
     },
     "execution_count": 13,
     "metadata": {},
     "output_type": "execute_result"
    }
   ],
   "source": [
    "# save model in json format\n",
    "model_json=model.to_json()\n",
    "open('cifar10_architecture.json', 'w').write(model_json)"
   ]
  },
  {
   "cell_type": "code",
   "execution_count": 15,
   "metadata": {},
   "outputs": [
    {
     "name": "stdout",
     "output_type": "stream",
     "text": [
      "Files saved for model definition and for weights\n"
     ]
    }
   ],
   "source": [
    "# This line of code saves the weights of a trained model in a file named 'cifar10_weights.h5' in the current directory. \n",
    "# The 'overwrite=True' parameter means that if a file with the same name already exists in the directory, it will be overwritten.\n",
    "model.save_weights('cifar10_weights.h5', overwrite=True)\n",
    "print('Files saved for model definition and for weights')"
   ]
  },
  {
   "cell_type": "code",
   "execution_count": 16,
   "metadata": {},
   "outputs": [
    {
     "name": "stdout",
     "output_type": "stream",
     "text": [
      "79/79 [==============================] - 1s 17ms/step - loss: 1.0475 - accuracy: 0.6699\n",
      "\n",
      "Test score/loss: 1.0475218296051025\n",
      "Test accuracy:  0.6699000000953674\n"
     ]
    }
   ],
   "source": [
    "score=model.evaluate(input_X_test, output_y_test, batch_size=BATCH_SIZE, verbose=VERBOSE)\n",
    "print(\"\\nTest score/loss:\", score[0])\n",
    "print(\"Test accuracy: \", score[1])"
   ]
  },
  {
   "cell_type": "code",
   "execution_count": 19,
   "metadata": {},
   "outputs": [
    {
     "name": "stdout",
     "output_type": "stream",
     "text": [
      "dict_keys(['loss', 'accuracy', 'val_loss', 'val_accuracy'])\n"
     ]
    }
   ],
   "source": [
    "print(history.history.keys())"
   ]
  },
  {
   "cell_type": "code",
   "execution_count": 20,
   "metadata": {},
   "outputs": [
    {
     "data": {
      "image/png": "[encoded data removed]",
      "text/plain": [
       "<Figure size 640x480 with 1 Axes>"
      ]
     },
     "metadata": {},
     "output_type": "display_data"
    },
    {
     "data": {
      "image/png": "[encoded data removed]",
      "text/plain": [
       "<Figure size 640x480 with 1 Axes>"
      ]
     },
     "metadata": {},
     "output_type": "display_data"
    }
   ],
   "source": [
    "# summarize history for accuracy\n",
    "#plt.plot(mo)\n",
    "plt.plot(history.history['accuracy'])\n",
    "plt.plot(history.history['val_accuracy'])\n",
    "plt.title('model accuracy')\n",
    "plt.ylabel('accuracy')\n",
    "plt.xlabel('epoch')\n",
    "plt.legend(['train', 'test'], loc='upper left')\n",
    "plt.show()\n",
    "\n",
    "# summarize history for loss\n",
    "plt.plot(history.history['loss'])\n",
    "plt.plot(history.history['val_loss'])\n",
    "plt.title('model loss')\n",
    "plt.ylabel('loss')\n",
    "plt.xlabel('epoch')\n",
    "plt.legend(['train', 'test'], loc='upper left')\n",
    "plt.show()"
   ]
  },
  {
   "attachments": {},
   "cell_type": "markdown",
   "metadata": {},
   "source": [
    "Lots of overfitting observed ! Need to improve the model!\n",
    "-> The CIFAR-10 dataset is relatively small (50,000 training images), and the model may have learned to memorize the training data instead of generalizing well to new data.<br/>\n",
    "\n",
    "-> To address this issue <br/>\n",
    "\n",
    "Augment the training data: Data augmentation can help increase the effective size of the training dataset and reduce overfitting. You can apply techniques such as random rotations, flips, and crops to generate new training images.\n",
    "\n",
    "Reduce the model complexity: You can try reducing the number of parameters in the model by reducing the number of convolutional filters, the number of units in the dense layer, or both. You can also try using smaller filter sizes.\n",
    "\n",
    "Increase regularization: You can try increasing the dropout rates or adding other forms of regularization, such as L1 or L2 regularization.\n",
    "\n",
    "Use early stopping: Early stopping is a technique where the training is stopped when the model performance on the validation set starts to decrease. This can help prevent overfitting by stopping the training before the model starts to overfit."
   ]
  },
  {
   "attachments": {},
   "cell_type": "markdown",
   "metadata": {},
   "source": [
    "## A deeper CNN"
   ]
  },
  {
   "cell_type": "code",
   "execution_count": 21,
   "metadata": {},
   "outputs": [],
   "source": [
    "N_EPOCH = 40 # bigger network will benefit from extra training epochs"
   ]
  },
  {
   "attachments": {},
   "cell_type": "markdown",
   "metadata": {},
   "source": [
    "The number of epochs is a hyperparameter that determines how many times the training algorithm will iterate over the entire training dataset. Setting the number of epochs too low can lead to underfitting, while setting it too high can lead to overfitting.\n",
    "\n",
    "In general, larger networks with more parameters require more epochs to train effectively, so increasing the number of epochs can be beneficial for bigger networks. However, it's important to monitor the training progress and check for signs of overfitting, such as a decreasing validation accuracy, and adjust the number of epochs accordingly.\n",
    "\n",
    "Therefore, setting the number of epochs to 40 might be appropriate for a larger network with many parameters, but it's always a good practice to monitor the training progress and adjust hyperparameters as needed."
   ]
  },
  {
   "cell_type": "code",
   "execution_count": 22,
   "metadata": {},
   "outputs": [
    {
     "name": "stdout",
     "output_type": "stream",
     "text": [
      "Model: \"sequential_1\"\n",
      "_________________________________________________________________\n",
      " Layer (type)                Output Shape              Param #   \n",
      "=================================================================\n",
      " conv2d_1 (Conv2D)           (None, 32, 32, 32)        896       \n",
      "                                                                 \n",
      " activation_3 (Activation)   (None, 32, 32, 32)        0         \n",
      "                                                                 \n",
      " conv2d_2 (Conv2D)           (None, 32, 32, 32)        9248      \n",
      "                                                                 \n",
      " activation_4 (Activation)   (None, 32, 32, 32)        0         \n",
      "                                                                 \n",
      " max_pooling2d_1 (MaxPooling  (None, 16, 16, 32)       0         \n",
      " 2D)                                                             \n",
      "                                                                 \n",
      " dropout_2 (Dropout)         (None, 16, 16, 32)        0         \n",
      "                                                                 \n",
      " conv2d_3 (Conv2D)           (None, 16, 16, 64)        18496     \n",
      "                                                                 \n",
      " activation_5 (Activation)   (None, 16, 16, 64)        0         \n",
      "                                                                 \n",
      " conv2d_4 (Conv2D)           (None, 5, 5, 64)          36928     \n",
      "                                                                 \n",
      " activation_6 (Activation)   (None, 5, 5, 64)          0         \n",
      "                                                                 \n",
      " max_pooling2d_2 (MaxPooling  (None, 2, 2, 64)         0         \n",
      " 2D)                                                             \n",
      "                                                                 \n",
      " dropout_3 (Dropout)         (None, 2, 2, 64)          0         \n",
      "                                                                 \n",
      " flatten_1 (Flatten)         (None, 256)               0         \n",
      "                                                                 \n",
      " dense_2 (Dense)             (None, 512)               131584    \n",
      "                                                                 \n",
      " activation_7 (Activation)   (None, 512)               0         \n",
      "                                                                 \n",
      " dropout_4 (Dropout)         (None, 512)               0         \n",
      "                                                                 \n",
      " dense_3 (Dense)             (None, 10)                5130      \n",
      "                                                                 \n",
      " activation_8 (Activation)   (None, 10)                0         \n",
      "                                                                 \n",
      "=================================================================\n",
      "Total params: 202,282\n",
      "Trainable params: 202,282\n",
      "Non-trainable params: 0\n",
      "_________________________________________________________________\n"
     ]
    }
   ],
   "source": [
    "# Complex DNN model definition\n",
    "model = Sequential()\n",
    "\n",
    "# hidden 1 : conv + conv + pool + dropout \n",
    "model.add(Conv2D(32, kernel_size=3, padding='same', input_shape=(IMG_ROWS, IMG_COLS, IMG_CHANNELS)))\n",
    "model.add(Activation('relu'))\n",
    "model.add(Conv2D(32, kernel_size=3, padding='same'))\n",
    "model.add(Activation('relu'))\n",
    "model.add(MaxPooling2D(pool_size=(2, 2)))\n",
    "model.add(Dropout(0.25))\n",
    "\n",
    "# hidden 2 : conv + conv + pool + dropout \n",
    "model.add(Conv2D(64, kernel_size=3, padding='same'))\n",
    "model.add(Activation('relu'))\n",
    "model.add(Conv2D(64, 3, 3))\n",
    "model.add(Activation('relu'))\n",
    "model.add(MaxPooling2D(pool_size=(2, 2)))\n",
    "model.add(Dropout(0.25))\n",
    " \n",
    "# hidden 3 : flatten + droupout \n",
    "model.add(Flatten())\n",
    "model.add(Dense(512))\n",
    "model.add(Activation('relu'))\n",
    "model.add(Dropout(0.5))\n",
    "\n",
    "# output \n",
    "model.add(Dense(N_CLASSES))\n",
    "model.add(Activation('softmax'))\n",
    "\n",
    "\n",
    "#optim = SGD(lr=0.01, decay=1e-6, momentum=0.9, nesterov=True)\n",
    "model.compile(loss='categorical_crossentropy', optimizer=OPTIM, metrics=['accuracy'])\n",
    "\n",
    "model.summary()"
   ]
  },
  {
   "cell_type": "code",
   "execution_count": 24,
   "metadata": {},
   "outputs": [
    {
     "name": "stdout",
     "output_type": "stream",
     "text": [
      "Epoch 1/40\n",
      "313/313 [==============================] - 45s 140ms/step - loss: 1.9647 - accuracy: 0.2679 - val_loss: 1.8487 - val_accuracy: 0.3178\n",
      "Epoch 2/40\n",
      "313/313 [==============================] - 50s 158ms/step - loss: 1.6354 - accuracy: 0.3990 - val_loss: 1.4158 - val_accuracy: 0.4786\n",
      "Epoch 3/40\n",
      "313/313 [==============================] - 47s 150ms/step - loss: 1.4666 - accuracy: 0.4674 - val_loss: 1.3450 - val_accuracy: 0.5083\n",
      "Epoch 4/40\n",
      "313/313 [==============================] - 47s 151ms/step - loss: 1.3668 - accuracy: 0.5089 - val_loss: 1.2245 - val_accuracy: 0.5619\n",
      "Epoch 5/40\n",
      "313/313 [==============================] - 47s 149ms/step - loss: 1.2785 - accuracy: 0.5418 - val_loss: 1.4540 - val_accuracy: 0.4982\n",
      "Epoch 6/40\n",
      "313/313 [==============================] - 48s 155ms/step - loss: 1.2221 - accuracy: 0.5623 - val_loss: 1.1254 - val_accuracy: 0.6023\n",
      "Epoch 7/40\n",
      "313/313 [==============================] - 45s 143ms/step - loss: 1.1699 - accuracy: 0.5846 - val_loss: 1.0754 - val_accuracy: 0.6155\n",
      "Epoch 8/40\n",
      "313/313 [==============================] - 43s 138ms/step - loss: 1.1210 - accuracy: 0.6025 - val_loss: 1.0919 - val_accuracy: 0.6107\n",
      "Epoch 9/40\n",
      "313/313 [==============================] - 44s 139ms/step - loss: 1.0772 - accuracy: 0.6188 - val_loss: 1.0152 - val_accuracy: 0.6391\n",
      "Epoch 10/40\n",
      "313/313 [==============================] - 44s 141ms/step - loss: 1.0428 - accuracy: 0.6326 - val_loss: 0.9905 - val_accuracy: 0.6477\n",
      "Epoch 11/40\n",
      "313/313 [==============================] - 44s 142ms/step - loss: 1.0148 - accuracy: 0.6408 - val_loss: 1.0812 - val_accuracy: 0.6192\n",
      "Epoch 12/40\n",
      "313/313 [==============================] - 44s 142ms/step - loss: 0.9942 - accuracy: 0.6504 - val_loss: 0.9528 - val_accuracy: 0.6621\n",
      "Epoch 13/40\n",
      "313/313 [==============================] - 48s 153ms/step - loss: 0.9647 - accuracy: 0.6602 - val_loss: 0.9476 - val_accuracy: 0.6702\n",
      "Epoch 14/40\n",
      "313/313 [==============================] - 47s 152ms/step - loss: 0.9466 - accuracy: 0.6671 - val_loss: 0.8846 - val_accuracy: 0.6935\n",
      "Epoch 15/40\n",
      "313/313 [==============================] - 50s 161ms/step - loss: 0.9273 - accuracy: 0.6737 - val_loss: 0.9350 - val_accuracy: 0.6686\n",
      "Epoch 16/40\n",
      "313/313 [==============================] - 46s 148ms/step - loss: 0.9077 - accuracy: 0.6814 - val_loss: 0.8683 - val_accuracy: 0.6923\n",
      "Epoch 17/40\n",
      "313/313 [==============================] - 45s 144ms/step - loss: 0.8873 - accuracy: 0.6881 - val_loss: 0.8942 - val_accuracy: 0.6872\n",
      "Epoch 18/40\n",
      "313/313 [==============================] - 45s 142ms/step - loss: 0.8807 - accuracy: 0.6907 - val_loss: 0.8886 - val_accuracy: 0.6912\n",
      "Epoch 19/40\n",
      "313/313 [==============================] - 50s 160ms/step - loss: 0.8636 - accuracy: 0.6954 - val_loss: 0.8672 - val_accuracy: 0.7012\n",
      "Epoch 20/40\n",
      "313/313 [==============================] - 50s 159ms/step - loss: 0.8520 - accuracy: 0.7007 - val_loss: 0.8856 - val_accuracy: 0.6889\n",
      "Epoch 21/40\n",
      "313/313 [==============================] - 48s 155ms/step - loss: 0.8352 - accuracy: 0.7060 - val_loss: 0.8244 - val_accuracy: 0.7105\n",
      "Epoch 22/40\n",
      "313/313 [==============================] - 50s 159ms/step - loss: 0.8260 - accuracy: 0.7087 - val_loss: 0.8038 - val_accuracy: 0.7195\n",
      "Epoch 23/40\n",
      "313/313 [==============================] - 50s 160ms/step - loss: 0.8194 - accuracy: 0.7137 - val_loss: 0.8486 - val_accuracy: 0.7055\n",
      "Epoch 24/40\n",
      "313/313 [==============================] - 49s 157ms/step - loss: 0.8094 - accuracy: 0.7174 - val_loss: 0.8218 - val_accuracy: 0.7140\n",
      "Epoch 25/40\n",
      "313/313 [==============================] - 49s 158ms/step - loss: 0.8072 - accuracy: 0.7161 - val_loss: 0.8523 - val_accuracy: 0.7045\n",
      "Epoch 26/40\n",
      "313/313 [==============================] - 53s 168ms/step - loss: 0.7928 - accuracy: 0.7220 - val_loss: 0.9104 - val_accuracy: 0.6917\n",
      "Epoch 27/40\n",
      "313/313 [==============================] - 51s 164ms/step - loss: 0.7841 - accuracy: 0.7232 - val_loss: 0.7889 - val_accuracy: 0.7275\n",
      "Epoch 28/40\n",
      "313/313 [==============================] - 49s 158ms/step - loss: 0.7802 - accuracy: 0.7256 - val_loss: 0.8452 - val_accuracy: 0.7108\n",
      "Epoch 29/40\n",
      "313/313 [==============================] - 50s 161ms/step - loss: 0.7742 - accuracy: 0.7300 - val_loss: 0.8325 - val_accuracy: 0.7097\n",
      "Epoch 30/40\n",
      "313/313 [==============================] - 51s 163ms/step - loss: 0.7666 - accuracy: 0.7325 - val_loss: 0.7908 - val_accuracy: 0.7320\n",
      "Epoch 31/40\n",
      "313/313 [==============================] - 48s 154ms/step - loss: 0.7622 - accuracy: 0.7347 - val_loss: 0.8060 - val_accuracy: 0.7200\n",
      "Epoch 32/40\n",
      "313/313 [==============================] - 49s 157ms/step - loss: 0.7545 - accuracy: 0.7350 - val_loss: 0.8036 - val_accuracy: 0.7206\n",
      "Epoch 33/40\n",
      "313/313 [==============================] - 51s 164ms/step - loss: 0.7501 - accuracy: 0.7360 - val_loss: 0.8109 - val_accuracy: 0.7275\n",
      "Epoch 34/40\n",
      "313/313 [==============================] - 49s 158ms/step - loss: 0.7491 - accuracy: 0.7367 - val_loss: 0.9610 - val_accuracy: 0.6873\n",
      "Epoch 35/40\n",
      "313/313 [==============================] - 52s 165ms/step - loss: 0.7420 - accuracy: 0.7433 - val_loss: 0.7822 - val_accuracy: 0.7323\n",
      "Epoch 36/40\n",
      "313/313 [==============================] - 51s 163ms/step - loss: 0.7339 - accuracy: 0.7418 - val_loss: 0.8925 - val_accuracy: 0.7032\n",
      "Epoch 37/40\n",
      "313/313 [==============================] - 52s 166ms/step - loss: 0.7399 - accuracy: 0.7434 - val_loss: 0.8402 - val_accuracy: 0.7107\n",
      "Epoch 38/40\n",
      "313/313 [==============================] - 51s 162ms/step - loss: 0.7280 - accuracy: 0.7443 - val_loss: 0.8098 - val_accuracy: 0.7322\n",
      "Epoch 39/40\n",
      "313/313 [==============================] - 53s 168ms/step - loss: 0.7278 - accuracy: 0.7472 - val_loss: 0.9027 - val_accuracy: 0.7130\n",
      "Epoch 40/40\n",
      "313/313 [==============================] - 50s 161ms/step - loss: 0.7277 - accuracy: 0.7465 - val_loss: 0.8476 - val_accuracy: 0.7231\n"
     ]
    }
   ],
   "source": [
    "history=model.fit(input_X_train, output_y_train, batch_size=BATCH_SIZE, verbose=VERBOSE, epochs=N_EPOCH, validation_split=VALIDATION_SPLIT)"
   ]
  },
  {
   "cell_type": "code",
   "execution_count": 26,
   "metadata": {},
   "outputs": [
    {
     "name": "stdout",
     "output_type": "stream",
     "text": [
      "79/79 [==============================] - 3s 32ms/step - loss: 0.8769 - accuracy: 0.7168\n",
      "\n",
      "Test score/loss: 0.8769187331199646\n",
      "Test accuracy: 0.7167999744415283\n",
      "dict_keys(['loss', 'accuracy', 'val_loss', 'val_accuracy'])\n"
     ]
    },
    {
     "data": {
      "image/png": "[encoded data removed]",
      "text/plain": [
       "<Figure size 640x480 with 1 Axes>"
      ]
     },
     "metadata": {},
     "output_type": "display_data"
    },
    {
     "data": {
      "image/png": "[encoded data removed]",
      "text/plain": [
       "<Figure size 640x480 with 1 Axes>"
      ]
     },
     "metadata": {},
     "output_type": "display_data"
    }
   ],
   "source": [
    "#Testing\n",
    "score = model.evaluate(input_X_test, output_y_test, batch_size=BATCH_SIZE, verbose=VERBOSE)\n",
    "print(\"\\nTest score/loss:\", score[0])\n",
    "print('Test accuracy:', score[1])\n",
    "\n",
    "# list all data in history\n",
    "print(history.history.keys())\n",
    "\n",
    "# summarize history for accuracy\n",
    "#plt.plot(mo)\n",
    "plt.plot(history.history['accuracy'])\n",
    "plt.plot(history.history['val_accuracy'])\n",
    "plt.title('model accuracy')\n",
    "plt.ylabel('accuracy')\n",
    "plt.xlabel('epoch')\n",
    "plt.legend(['train', 'test'], loc='upper left')\n",
    "plt.show()\n",
    "\n",
    "# summarize history for loss\n",
    "plt.plot(history.history['loss'])\n",
    "plt.plot(history.history['val_loss'])\n",
    "plt.title('model loss')\n",
    "plt.ylabel('loss')\n",
    "plt.xlabel('epoch')\n",
    "plt.legend(['train', 'test'], loc='upper left')\n",
    "plt.show()"
   ]
  },
  {
   "attachments": {},
   "cell_type": "markdown",
   "metadata": {},
   "source": [
    "Still, bit of overfittin obeserved. As mentioned above, we can do data augmentation to increase the effective size of the training data. "
   ]
  },
  {
   "attachments": {},
   "cell_type": "markdown",
   "metadata": {},
   "source": [
    "### Data Augmentation"
   ]
  },
  {
   "cell_type": "code",
   "execution_count": 28,
   "metadata": {},
   "outputs": [],
   "source": [
    "from tensorflow.keras.preprocessing.image import ImageDataGenerator\n",
    "\n",
    "datagen=ImageDataGenerator(rotation_range=40, \n",
    "                           width_shift_range=0.2, \n",
    "                           height_shift_range=0.2, \n",
    "                           zoom_range=0.2, \n",
    "                           horizontal_flip=True, \n",
    "                           fill_mode='nearest')\n",
    "\n",
    "# rotation_range is a value in degrees (0 - 180) for randomly rotating pictures\n",
    "# width_shift and height_shift are ranges for randomly translating pictures vertically or horizontally\n",
    "# zoom_range is for randomly zooming pictures \n",
    "# horizontal_flip is for randomly flipping the images horizontally\n",
    "# fill_mode fills in new pixels that can appear after a rotation or a shift"
   ]
  },
  {
   "cell_type": "code",
   "execution_count": 29,
   "metadata": {},
   "outputs": [
    {
     "name": "stdout",
     "output_type": "stream",
     "text": [
      "Epoch 1/40\n"
     ]
    },
    {
     "name": "stderr",
     "output_type": "stream",
     "text": [
      "/var/folders/0x/n51_7s_n09dfndljqk4rv2zr0000gn/T/ipykernel_5016/2506695707.py:4: UserWarning: `Model.fit_generator` is deprecated and will be removed in a future version. Please use `Model.fit`, which supports generators.\n",
      "  history = model.fit_generator(datagen.flow(input_X_train, output_y_train, batch_size=BATCH_SIZE),\n"
     ]
    },
    {
     "name": "stdout",
     "output_type": "stream",
     "text": [
      "390/390 [==============================] - 66s 167ms/step - loss: 1.4934 - accuracy: 0.4839\n",
      "Epoch 2/40\n",
      "390/390 [==============================] - 69s 176ms/step - loss: 1.4305 - accuracy: 0.5031\n",
      "Epoch 3/40\n",
      "390/390 [==============================] - 70s 180ms/step - loss: 1.4132 - accuracy: 0.5102\n",
      "Epoch 4/40\n",
      "390/390 [==============================] - 69s 177ms/step - loss: 1.3967 - accuracy: 0.5156\n",
      "Epoch 5/40\n",
      "390/390 [==============================] - 72s 185ms/step - loss: 1.3879 - accuracy: 0.5179\n",
      "Epoch 6/40\n",
      "390/390 [==============================] - 67s 172ms/step - loss: 1.3862 - accuracy: 0.5177\n",
      "Epoch 7/40\n",
      "390/390 [==============================] - 67s 173ms/step - loss: 1.3717 - accuracy: 0.5238\n",
      "Epoch 8/40\n",
      "390/390 [==============================] - 67s 171ms/step - loss: 1.3624 - accuracy: 0.5287\n",
      "Epoch 9/40\n",
      "390/390 [==============================] - 66s 168ms/step - loss: 1.3617 - accuracy: 0.5301\n",
      "Epoch 10/40\n",
      "390/390 [==============================] - 66s 169ms/step - loss: 1.3581 - accuracy: 0.5273\n",
      "Epoch 11/40\n",
      "390/390 [==============================] - 64s 163ms/step - loss: 1.3395 - accuracy: 0.5378\n",
      "Epoch 12/40\n",
      "390/390 [==============================] - 64s 163ms/step - loss: 1.3381 - accuracy: 0.5371\n",
      "Epoch 13/40\n",
      "390/390 [==============================] - 66s 169ms/step - loss: 1.3392 - accuracy: 0.5383\n",
      "Epoch 14/40\n",
      "390/390 [==============================] - 64s 163ms/step - loss: 1.3435 - accuracy: 0.5350\n",
      "Epoch 15/40\n",
      "390/390 [==============================] - 65s 167ms/step - loss: 1.3389 - accuracy: 0.5363\n",
      "Epoch 16/40\n",
      "390/390 [==============================] - 65s 166ms/step - loss: 1.3290 - accuracy: 0.5406\n",
      "Epoch 17/40\n",
      "390/390 [==============================] - 65s 166ms/step - loss: 1.3293 - accuracy: 0.5405\n",
      "Epoch 18/40\n",
      "390/390 [==============================] - 66s 168ms/step - loss: 1.3300 - accuracy: 0.5375\n",
      "Epoch 19/40\n",
      "390/390 [==============================] - 64s 164ms/step - loss: 1.3285 - accuracy: 0.5397\n",
      "Epoch 20/40\n",
      "390/390 [==============================] - 65s 166ms/step - loss: 1.3314 - accuracy: 0.5398\n",
      "Epoch 21/40\n",
      "390/390 [==============================] - 66s 169ms/step - loss: 1.3220 - accuracy: 0.5413\n",
      "Epoch 22/40\n",
      "390/390 [==============================] - 64s 165ms/step - loss: 1.3298 - accuracy: 0.5386\n",
      "Epoch 23/40\n",
      "390/390 [==============================] - 65s 166ms/step - loss: 1.3268 - accuracy: 0.5406\n",
      "Epoch 24/40\n",
      "390/390 [==============================] - 64s 165ms/step - loss: 1.3280 - accuracy: 0.5394\n",
      "Epoch 25/40\n",
      "390/390 [==============================] - 66s 169ms/step - loss: 1.3270 - accuracy: 0.5425\n",
      "Epoch 26/40\n",
      "390/390 [==============================] - 66s 170ms/step - loss: 1.3287 - accuracy: 0.5376\n",
      "Epoch 27/40\n",
      "390/390 [==============================] - 63s 162ms/step - loss: 1.3205 - accuracy: 0.5421\n",
      "Epoch 28/40\n",
      "390/390 [==============================] - 64s 165ms/step - loss: 1.3185 - accuracy: 0.5443\n",
      "Epoch 29/40\n",
      "390/390 [==============================] - 65s 166ms/step - loss: 1.3221 - accuracy: 0.5411\n",
      "Epoch 30/40\n",
      "390/390 [==============================] - 64s 164ms/step - loss: 1.3292 - accuracy: 0.5422\n",
      "Epoch 31/40\n",
      "390/390 [==============================] - 67s 171ms/step - loss: 1.3210 - accuracy: 0.5432\n",
      "Epoch 32/40\n",
      "390/390 [==============================] - 67s 172ms/step - loss: 1.3217 - accuracy: 0.5420\n",
      "Epoch 33/40\n",
      "390/390 [==============================] - 60s 153ms/step - loss: 1.3256 - accuracy: 0.5412\n",
      "Epoch 34/40\n",
      "390/390 [==============================] - 59s 151ms/step - loss: 1.3268 - accuracy: 0.5416\n",
      "Epoch 35/40\n",
      "390/390 [==============================] - 62s 158ms/step - loss: 1.3259 - accuracy: 0.5410\n",
      "Epoch 36/40\n",
      "390/390 [==============================] - 60s 153ms/step - loss: 1.3246 - accuracy: 0.5393\n",
      "Epoch 37/40\n",
      "390/390 [==============================] - 58s 149ms/step - loss: 1.3252 - accuracy: 0.5421\n",
      "Epoch 38/40\n",
      "390/390 [==============================] - 58s 149ms/step - loss: 1.3238 - accuracy: 0.5411\n",
      "Epoch 39/40\n",
      "390/390 [==============================] - 58s 149ms/step - loss: 1.3277 - accuracy: 0.5423\n",
      "Epoch 40/40\n",
      "390/390 [==============================] - 60s 154ms/step - loss: 1.3262 - accuracy: 0.5422\n"
     ]
    }
   ],
   "source": [
    "datagen.fit(input_X_train)\n",
    "\n",
    "# train by fitting the model on batches with real-time data augmentation\n",
    "history = model.fit_generator(datagen.flow(input_X_train, output_y_train, batch_size=BATCH_SIZE), \n",
    "                              steps_per_epoch=input_X_train.shape[0]//BATCH_SIZE, \n",
    "                              epochs=N_EPOCH, \n",
    "                              verbose=VERBOSE)"
   ]
  },
  {
   "cell_type": "code",
   "execution_count": 31,
   "metadata": {},
   "outputs": [
    {
     "name": "stdout",
     "output_type": "stream",
     "text": [
      "79/79 [==============================] - 3s 33ms/step - loss: 1.1666 - accuracy: 0.6026\n",
      "\n",
      "Test score/loss: 1.1665945053100586\n",
      "Test accuracy: 0.6025999784469604\n",
      "dict_keys(['loss', 'accuracy'])\n"
     ]
    },
    {
     "data": {
      "image/png": "[encoded data removed]",
      "text/plain": [
       "<Figure size 640x480 with 1 Axes>"
      ]
     },
     "metadata": {},
     "output_type": "display_data"
    },
    {
     "data": {
      "image/png": "[encoded data removed]",
      "text/plain": [
       "<Figure size 640x480 with 1 Axes>"
      ]
     },
     "metadata": {},
     "output_type": "display_data"
    }
   ],
   "source": [
    "#Testing\n",
    "score = model.evaluate(input_X_test, output_y_test, batch_size=BATCH_SIZE, verbose=VERBOSE)\n",
    "print(\"\\nTest score/loss:\", score[0])\n",
    "print('Test accuracy:', score[1])\n",
    "\n",
    "# list all data in history\n",
    "print(history.history.keys())\n",
    "\n",
    "# summarize history for accuracy\n",
    "#plt.plot(mo)\n",
    "plt.plot(history.history['accuracy'])\n",
    "plt.title('model accuracy')\n",
    "plt.ylabel('accuracy')\n",
    "plt.xlabel('epoch')\n",
    "plt.legend(['train', 'test'], loc='upper left')\n",
    "plt.show()\n",
    "\n",
    "# summarize history for loss\n",
    "plt.plot(history.history['loss'])\n",
    "plt.title('model loss')\n",
    "plt.ylabel('loss')\n",
    "plt.xlabel('epoch')\n",
    "plt.legend(['train', 'test'], loc='upper left')\n",
    "plt.show()"
   ]
  },
  {
   "attachments": {},
   "cell_type": "markdown",
   "metadata": {},
   "source": [
    "Test loss is still high at 1.1666, which suggests that the model is still overfitting and there may be room for further improvement."
   ]
  },
  {
   "cell_type": "code",
   "execution_count": 33,
   "metadata": {},
   "outputs": [],
   "source": [
    "# Another parameter setting for data augmentation\n",
    "from tensorflow.keras.preprocessing.image import ImageDataGenerator\n",
    "\n",
    "datagen = ImageDataGenerator(\n",
    "        featurewise_center=False,  # set input mean to 0 over the dataset\n",
    "        samplewise_center=False,  # set each sample mean to 0\n",
    "        featurewise_std_normalization=False,  # divide inputs by std of the dataset\n",
    "        samplewise_std_normalization=False,  # divide each input by its std\n",
    "        zca_whitening=False,  # apply ZCA whitening\n",
    "        rotation_range=0,  # randomly rotate images in the range (degrees, 0 to 180)\n",
    "        width_shift_range=0.1,  # randomly shift images horizontally (fraction of total width)\n",
    "        height_shift_range=0.1,  # randomly shift images vertically (fraction of total height)\n",
    "        horizontal_flip=True,  # randomly flip images\n",
    "        vertical_flip=False)  # randomly flip images\n",
    "\n",
    "datagen.fit(input_X_train)"
   ]
  },
  {
   "cell_type": "code",
   "execution_count": 34,
   "metadata": {},
   "outputs": [
    {
     "name": "stdout",
     "output_type": "stream",
     "text": [
      "Epoch 1/40\n"
     ]
    },
    {
     "name": "stderr",
     "output_type": "stream",
     "text": [
      "/var/folders/0x/n51_7s_n09dfndljqk4rv2zr0000gn/T/ipykernel_5016/1391450942.py:1: UserWarning: `Model.fit_generator` is deprecated and will be removed in a future version. Please use `Model.fit`, which supports generators.\n",
      "  history = model.fit_generator(datagen.flow(input_X_train, output_y_train, batch_size=BATCH_SIZE),\n"
     ]
    },
    {
     "name": "stdout",
     "output_type": "stream",
     "text": [
      "390/390 [==============================] - 63s 161ms/step - loss: 1.1116 - accuracy: 0.6174\n",
      "Epoch 2/40\n",
      "390/390 [==============================] - 67s 172ms/step - loss: 1.0819 - accuracy: 0.6312\n",
      "Epoch 3/40\n",
      "390/390 [==============================] - 59s 152ms/step - loss: 1.0672 - accuracy: 0.6327\n",
      "Epoch 4/40\n",
      "390/390 [==============================] - 60s 153ms/step - loss: 1.0669 - accuracy: 0.6360\n",
      "Epoch 5/40\n",
      "390/390 [==============================] - 63s 160ms/step - loss: 1.0770 - accuracy: 0.6316\n",
      "Epoch 6/40\n",
      "390/390 [==============================] - 67s 171ms/step - loss: 1.0615 - accuracy: 0.6404\n",
      "Epoch 7/40\n",
      "390/390 [==============================] - 69s 177ms/step - loss: 1.0580 - accuracy: 0.6381\n",
      "Epoch 8/40\n",
      "390/390 [==============================] - 61s 156ms/step - loss: 1.0655 - accuracy: 0.6380\n",
      "Epoch 9/40\n",
      "390/390 [==============================] - 63s 161ms/step - loss: 1.0577 - accuracy: 0.6391\n",
      "Epoch 10/40\n",
      "390/390 [==============================] - 63s 162ms/step - loss: 1.0563 - accuracy: 0.6369\n",
      "Epoch 11/40\n",
      "390/390 [==============================] - 62s 159ms/step - loss: 1.0550 - accuracy: 0.6380\n",
      "Epoch 12/40\n",
      "390/390 [==============================] - 54s 139ms/step - loss: 1.0571 - accuracy: 0.6409\n",
      "Epoch 13/40\n",
      "390/390 [==============================] - 54s 138ms/step - loss: 1.0552 - accuracy: 0.6413\n",
      "Epoch 14/40\n",
      "390/390 [==============================] - 53s 137ms/step - loss: 1.0661 - accuracy: 0.6386\n",
      "Epoch 15/40\n",
      "390/390 [==============================] - 56s 142ms/step - loss: 1.0545 - accuracy: 0.6436\n",
      "Epoch 16/40\n",
      "390/390 [==============================] - 54s 139ms/step - loss: 1.0629 - accuracy: 0.6367\n",
      "Epoch 17/40\n",
      "390/390 [==============================] - 54s 138ms/step - loss: 1.0659 - accuracy: 0.6392\n",
      "Epoch 18/40\n",
      "390/390 [==============================] - 54s 138ms/step - loss: 1.0617 - accuracy: 0.6409\n",
      "Epoch 19/40\n",
      "390/390 [==============================] - 54s 137ms/step - loss: 1.0665 - accuracy: 0.6400\n",
      "Epoch 20/40\n",
      "390/390 [==============================] - 54s 139ms/step - loss: 1.0668 - accuracy: 0.6371\n",
      "Epoch 21/40\n",
      "390/390 [==============================] - 55s 142ms/step - loss: 1.0676 - accuracy: 0.6354\n",
      "Epoch 22/40\n",
      "390/390 [==============================] - 54s 137ms/step - loss: 1.0665 - accuracy: 0.6384\n",
      "Epoch 23/40\n",
      "390/390 [==============================] - 55s 140ms/step - loss: 1.0752 - accuracy: 0.6375\n",
      "Epoch 24/40\n",
      "390/390 [==============================] - 55s 142ms/step - loss: 1.0664 - accuracy: 0.6375\n",
      "Epoch 25/40\n",
      "390/390 [==============================] - 53s 136ms/step - loss: 1.0709 - accuracy: 0.6342\n",
      "Epoch 26/40\n",
      "390/390 [==============================] - 54s 139ms/step - loss: 1.0717 - accuracy: 0.6372\n",
      "Epoch 27/40\n",
      "390/390 [==============================] - 55s 141ms/step - loss: 1.0680 - accuracy: 0.6373\n",
      "Epoch 28/40\n",
      "390/390 [==============================] - 54s 138ms/step - loss: 1.0809 - accuracy: 0.6356\n",
      "Epoch 29/40\n",
      "390/390 [==============================] - 54s 139ms/step - loss: 1.0730 - accuracy: 0.6374\n",
      "Epoch 30/40\n",
      "390/390 [==============================] - 55s 140ms/step - loss: 1.0680 - accuracy: 0.6364\n",
      "Epoch 31/40\n",
      "390/390 [==============================] - 54s 139ms/step - loss: 1.0814 - accuracy: 0.6347\n",
      "Epoch 32/40\n",
      "390/390 [==============================] - 55s 140ms/step - loss: 1.0811 - accuracy: 0.6330\n",
      "Epoch 33/40\n",
      "390/390 [==============================] - 54s 139ms/step - loss: 1.0809 - accuracy: 0.6343\n",
      "Epoch 34/40\n",
      "390/390 [==============================] - 55s 140ms/step - loss: 1.0838 - accuracy: 0.6339\n",
      "Epoch 35/40\n",
      "390/390 [==============================] - 54s 138ms/step - loss: 1.0881 - accuracy: 0.6323\n",
      "Epoch 36/40\n",
      "390/390 [==============================] - 55s 141ms/step - loss: 1.0841 - accuracy: 0.6315\n",
      "Epoch 37/40\n",
      "390/390 [==============================] - 55s 140ms/step - loss: 1.0897 - accuracy: 0.6322\n",
      "Epoch 38/40\n",
      "390/390 [==============================] - 54s 139ms/step - loss: 1.0860 - accuracy: 0.6305\n",
      "Epoch 39/40\n",
      "390/390 [==============================] - 55s 141ms/step - loss: 1.0860 - accuracy: 0.6315\n",
      "Epoch 40/40\n",
      "390/390 [==============================] - 54s 139ms/step - loss: 1.0875 - accuracy: 0.6305\n"
     ]
    }
   ],
   "source": [
    "history = model.fit_generator(datagen.flow(input_X_train, output_y_train, batch_size=BATCH_SIZE), \n",
    "                              steps_per_epoch=input_X_train.shape[0]//BATCH_SIZE, epochs=N_EPOCH, verbose=VERBOSE)"
   ]
  },
  {
   "cell_type": "code",
   "execution_count": 35,
   "metadata": {},
   "outputs": [
    {
     "name": "stdout",
     "output_type": "stream",
     "text": [
      "79/79 [==============================] - 3s 32ms/step - loss: 0.9972 - accuracy: 0.6565\n",
      "\n",
      "Test score/loss: 0.9971599578857422\n",
      "Test accuracy: 0.656499981880188\n",
      "dict_keys(['loss', 'accuracy'])\n"
     ]
    },
    {
     "data": {
      "image/png": "[encoded data removed]",
      "text/plain": [
       "<Figure size 640x480 with 1 Axes>"
      ]
     },
     "metadata": {},
     "output_type": "display_data"
    },
    {
     "data": {
      "image/png": "[encoded data removed]",
      "text/plain": [
       "<Figure size 640x480 with 1 Axes>"
      ]
     },
     "metadata": {},
     "output_type": "display_data"
    }
   ],
   "source": [
    "#Testing\n",
    "score = model.evaluate(input_X_test, output_y_test, batch_size=BATCH_SIZE, verbose=VERBOSE)\n",
    "print(\"\\nTest score/loss:\", score[0])\n",
    "print('Test accuracy:', score[1])\n",
    "\n",
    "# list all data in history\n",
    "print(history.history.keys())\n",
    "\n",
    "# summarize history for accuracy\n",
    "#plt.plot(mo)\n",
    "plt.plot(history.history['accuracy'])\n",
    "plt.title('model accuracy')\n",
    "plt.ylabel('accuracy')\n",
    "plt.xlabel('epoch')\n",
    "plt.legend(['train', 'test'], loc='upper left')\n",
    "plt.show()\n",
    "\n",
    "# summarize history for loss\n",
    "plt.plot(history.history['loss'])\n",
    "plt.title('model loss')\n",
    "plt.ylabel('loss')\n",
    "plt.xlabel('epoch')\n",
    "plt.legend(['train', 'test'], loc='upper left')\n",
    "plt.show()"
   ]
  }
 ],
 "metadata": {
  "kernelspec": {
   "display_name": "base",
   "language": "python",
   "name": "python3"
  },
  "language_info": {
   "codemirror_mode": {
    "name": "ipython",
    "version": 3
   },
   "file_extension": ".py",
   "mimetype": "text/x-python",
   "name": "python",
   "nbconvert_exporter": "python",
   "pygments_lexer": "ipython3",
   "version": "3.8.13"
  },
  "orig_nbformat": 4
 },
 "nbformat": 4,
 "nbformat_minor": 2
}
