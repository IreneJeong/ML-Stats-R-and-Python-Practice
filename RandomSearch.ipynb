{
 "cells": [
  {
   "attachments": {},
   "cell_type": "markdown",
   "metadata": {},
   "source": [
    "#### Initial Module importing"
   ]
  },
  {
   "cell_type": "code",
   "execution_count": 2,
   "metadata": {},
   "outputs": [
    {
     "name": "stderr",
     "output_type": "stream",
     "text": [
      "2023-04-11 01:15:32.449184: I tensorflow/core/platform/cpu_feature_guard.cc:193] This TensorFlow binary is optimized with oneAPI Deep Neural Network Library (oneDNN) to use the following CPU instructions in performance-critical operations:  SSE4.1 SSE4.2 AVX AVX2 FMA\n",
      "To enable them in other operations, rebuild TensorFlow with the appropriate compiler flags.\n"
     ]
    }
   ],
   "source": [
    "from keras.models import Sequential,Model\n",
    "from keras.layers import Conv2D,MaxPooling2D,Dense,Flatten,Dropout,Activation\n",
    "from keras import losses\n",
    "from keras.optimizers import Adam, Adagrad, SGD, Adam, RMSprop\n",
    "from keras.callbacks import EarlyStopping\n",
    "from keras import regularizers\n",
    "from sklearn.model_selection import GridSearchCV\n",
    "from tensorflow.keras import utils\n",
    "import keras\n",
    "from keras.layers import BatchNormalization\n",
    "\n",
    "from tensorflow.keras.datasets import cifar10, cifar100\n",
    "\n",
    "import numpy as np\n",
    "import matplotlib.pyplot as plt\n",
    "import os "
   ]
  },
  {
   "attachments": {},
   "cell_type": "markdown",
   "metadata": {},
   "source": [
    "#### Random Seed Setting"
   ]
  },
  {
   "cell_type": "code",
   "execution_count": 3,
   "metadata": {},
   "outputs": [
    {
     "name": "stdout",
     "output_type": "stream",
     "text": [
      "WARNING:tensorflow:From /var/folders/0x/n51_7s_n09dfndljqk4rv2zr0000gn/T/ipykernel_81995/2160276878.py:18: The name tf.keras.backend.set_session is deprecated. Please use tf.compat.v1.keras.backend.set_session instead.\n",
      "\n"
     ]
    }
   ],
   "source": [
    "import random\n",
    "import tensorflow as tf\n",
    "import os\n",
    "\n",
    "\n",
    "def set_seed(seed=42):\n",
    "    '''\n",
    "    Sets the seed of the entire notebook so results are the same every time we run.\n",
    "    This is for REPRODUCIBILITY.\n",
    "    '''\n",
    "    np.random.seed(seed)\n",
    "    random.seed(seed)\n",
    "    tf.random.set_seed(seed)\n",
    "    session_conf = tf.compat.v1.ConfigProto(\n",
    "        intra_op_parallelism_threads=1,\n",
    "        inter_op_parallelism_threads=1)\n",
    "    sess = tf.compat.v1.Session(graph=tf.compat.v1.get_default_graph(), config=session_conf)\n",
    "    tf.compat.v1.keras.backend.set_session(sess)\n",
    "    # Set a fixed value for the hash seed\n",
    "    os.environ['PYTHONHASHSEED'] = str(seed)\n",
    "    \n",
    "set_seed()"
   ]
  },
  {
   "attachments": {},
   "cell_type": "markdown",
   "metadata": {},
   "source": [
    "#### Cifar 10 Data Loading"
   ]
  },
  {
   "cell_type": "code",
   "execution_count": 4,
   "metadata": {},
   "outputs": [
    {
     "name": "stdout",
     "output_type": "stream",
     "text": [
      "input_X_train shape:  (50000, 32, 32, 3)\n",
      "50000 train samples\n",
      "10000 test samples\n"
     ]
    }
   ],
   "source": [
    "(cifar10_X_train, cifar10_y_train),(cifar10_X_test, cifar10_y_test)=cifar10.load_data()\n",
    "\n",
    "print('input_X_train shape: ', cifar10_X_train.shape)\n",
    "print(cifar10_X_train.shape[0], 'train samples')\n",
    "print(cifar10_X_test.shape[0], 'test samples')"
   ]
  },
  {
   "cell_type": "code",
   "execution_count": 5,
   "metadata": {},
   "outputs": [
    {
     "name": "stdout",
     "output_type": "stream",
     "text": [
      "10\n"
     ]
    }
   ],
   "source": [
    "cifar10_N_CLASSES = len(np.unique(cifar10_y_train))\n",
    "print(cifar10_N_CLASSES)"
   ]
  },
  {
   "cell_type": "code",
   "execution_count": 6,
   "metadata": {},
   "outputs": [],
   "source": [
    "# output data one-hot encoding \n",
    "cifar10_y_train=utils.to_categorical(cifar10_y_train, cifar10_N_CLASSES)\n",
    "cifar10_y_test=utils.to_categorical(cifar10_y_test, cifar10_N_CLASSES)\n",
    "\n",
    "# To normalize the value in between 0 and 1 (there are 255 kinds)\n",
    "cifar10_X_train=cifar10_X_train.astype('float32')\n",
    "cifar10_X_test=cifar10_X_test.astype('float32')\n",
    "\n",
    "cifar10_X_train /=255\n",
    "cifar10_X_test /=255"
   ]
  },
  {
   "attachments": {},
   "cell_type": "markdown",
   "metadata": {},
   "source": [
    "#### Cifar 100 Loading"
   ]
  },
  {
   "cell_type": "code",
   "execution_count": 4,
   "metadata": {},
   "outputs": [
    {
     "name": "stdout",
     "output_type": "stream",
     "text": [
      "input_X_train shape:  (50000, 32, 32, 3)\n",
      "50000 train samples\n",
      "10000 test samples\n"
     ]
    }
   ],
   "source": [
    "(cifar100_X_train, cifar100_y_train),(cifar100_X_test, cifar100_y_test)=cifar100.load_data()\n",
    "\n",
    "print('input_X_train shape: ', cifar100_X_train.shape)\n",
    "print(cifar100_X_train.shape[0], 'train samples')\n",
    "print(cifar100_X_test.shape[0], 'test samples')"
   ]
  },
  {
   "cell_type": "code",
   "execution_count": 98,
   "metadata": {},
   "outputs": [
    {
     "name": "stdout",
     "output_type": "stream",
     "text": [
      "100\n"
     ]
    }
   ],
   "source": [
    "cifar100_N_CLASSES=len(np.unique(cifar100_y_train))\n",
    "print(cifar100_N_CLASSES)"
   ]
  },
  {
   "cell_type": "code",
   "execution_count": null,
   "metadata": {},
   "outputs": [],
   "source": [
    "# output data one-hot encoding \n",
    "cifar100_y_train=utils.to_categorical(cifar100_y_train, cifar100_N_CLASSES)\n",
    "cifar100_y_test=utils.to_categorical(cifar100_y_test, cifar100_N_CLASSES)\n",
    "\n",
    "# To normalize the value in between 0 and 1 (there are 255 kinds)\n",
    "cifar100_X_train=cifar100_X_train.astype('float32')\n",
    "cifar100_X_test=cifar100_X_test.astype('float32')\n",
    "\n",
    "cifar100_X_train /=255\n",
    "cifar100_X_test /=255"
   ]
  },
  {
   "attachments": {},
   "cell_type": "markdown",
   "metadata": {},
   "source": [
    "### Model training - Random Search"
   ]
  },
  {
   "cell_type": "code",
   "execution_count": 7,
   "metadata": {},
   "outputs": [],
   "source": [
    "params = {\n",
    "     'learning_rate': (0.1, 0.01,1,0.001 ),\n",
    "     'epochs': [20,30,40,50],\n",
    "     'batch_size':[128, 256, 512],\n",
    "     'dropout': (0, 0.5, 0.8),\n",
    "     'optimizer': [\"Adam\",\"RMSprop\",\"sgd\"],\n",
    "     'decay':(1e-6,1e-4,1e-2),\n",
    "     'momentum':(0.9,0.5,0.2),\n",
    "     'l1': (0.01,0.001,0.0001),\n",
    "     'l2': (0.01,0.001,0.0001),\n",
    "     'No_of_CONV_and_Maxpool_layers':[2,3],\n",
    "     'No_of_Dense_Layers': [2,3,4,5],\n",
    "     'No_of_Units_in_dense_layers':[128,64,256,512],\n",
    "     'Conv2d_filters':[32,64,128,256],\n",
    "     'validation_split':[0.1, 0.2],\n",
    "     'No_of_batch_norm':[True, False]\n",
    "    }\n",
    "\n",
    "IMG_CHANNELS = 3\n",
    "IMAGE_SIZE = cifar10_X_train.shape[1]\n"
   ]
  },
  {
   "cell_type": "code",
   "execution_count": 8,
   "metadata": {},
   "outputs": [],
   "source": [
    "def Randomized_Model(learning_rate=0.001, dropout=0.2, optimizer=\"Adam\", decay=0.0,\n",
    "                      activation=\"relu\", momentum=0.0, l1=0.0, l2=0.0, No_of_batch_norm=False,\n",
    "                      No_of_CONV_and_Maxpool_layers=3, No_of_Dense_Layers=3, No_of_Units_in_dense_layers=24,\n",
    "                      Conv2d_filters=60, batch_size=32, epochs=10, validation_split=0.1):\n",
    "\n",
    "    #model sequential\n",
    "    model = Sequential()\n",
    "    \n",
    "    # input layer\n",
    "    model.add(Conv2D(Conv2d_filters, (3,3), padding='same', input_shape=(IMAGE_SIZE, IMAGE_SIZE, IMG_CHANNELS)))\n",
    "    model.add(Activation(activation))\n",
    "    model.add(MaxPooling2D(pool_size=(2, 2),strides=(2, 2)))\n",
    "    \n",
    "    # Hidden Layer\n",
    "    for i in range(0, No_of_CONV_and_Maxpool_layers):\n",
    "        model.add(Conv2D(Conv2d_filters, (3, 3), padding=\"same\"))\n",
    "        model.add(Activation(activation))\n",
    "        model.add(MaxPooling2D(pool_size=(2, 2), strides=(2, 2)))\n",
    "        model.add(Dropout(dropout))\n",
    "        if No_of_batch_norm == True:\n",
    "            BatchNormalization()\n",
    "        else:\n",
    "            pass\n",
    "        \n",
    "    \n",
    "    # Output Layer\n",
    "    model.add(Flatten())  \n",
    "    for i in range (0,No_of_Dense_Layers):\n",
    "        model.add(Dense(units=No_of_Units_in_dense_layers,activation=activation, kernel_regularizer=regularizers.l2(l2),\n",
    "                  activity_regularizer=regularizers.l1(l1)))\n",
    "        model.add(Dropout(dropout))\n",
    "    model.add(Dense(units=512,activation=activation))     \n",
    "    model.add(Dense(units=cifar10_N_CLASSES, activation='softmax'))\n",
    "        \n",
    "    if optimizer == \"Adam\":\n",
    "        opt = keras.optimizers.Adam(learning_rate=learning_rate, decay=decay)\n",
    "    elif optimizer == \"RMSprop\":\n",
    "        opt = keras.optimizers.RMSprop(learning_rate=learning_rate,momentum=momentum,decay=decay)\n",
    "    elif optimizer == \"sgd\":\n",
    "        opt = keras.optimizers.SGD(learning_rate=learning_rate, momentum=momentum, decay=decay)\n",
    "    \n",
    "    model.compile(loss='categorical_crossentropy', optimizer=opt, metrics=['accuracy'])\n",
    "    #model.summary()\n",
    "\n",
    "    return model\n"
   ]
  },
  {
   "cell_type": "code",
   "execution_count": 9,
   "metadata": {},
   "outputs": [
    {
     "name": "stderr",
     "output_type": "stream",
     "text": [
      "/var/folders/0x/n51_7s_n09dfndljqk4rv2zr0000gn/T/ipykernel_81995/3991797947.py:6: DeprecationWarning: KerasClassifier is deprecated, use Sci-Keras (https://github.com/adriangb/scikeras) instead. See https://www.adriangb.com/scikeras/stable/migration.html for help migrating.\n",
      "  model = KerasClassifier(build_fn=Randomized_Model, epochs=10, batch_size=20, verbose=1)\n"
     ]
    },
    {
     "name": "stdout",
     "output_type": "stream",
     "text": [
      "Fitting 3 folds for each of 10 candidates, totalling 30 fits\n",
      "[CV 1/3; 1/10] START Conv2d_filters=256, No_of_CONV_and_Maxpool_layers=3, No_of_Dense_Layers=2, No_of_Units_in_dense_layers=256, No_of_batch_norm=False, batch_size=512, decay=0.01, dropout=0.8, epochs=30, l1=0.01, l2=0.001, learning_rate=0.01, momentum=0.2, optimizer=Adam, validation_split=0.1\n",
      "Epoch 1/30\n",
      "59/59 [==============================] - 554s 9s/step - loss: 3.0144 - accuracy: 0.0988 - val_loss: 2.5558 - val_accuracy: 0.1056\n",
      "Epoch 2/30\n",
      "59/59 [==============================] - 583s 10s/step - loss: 2.4383 - accuracy: 0.1023 - val_loss: 2.3703 - val_accuracy: 0.1056\n",
      "Epoch 3/30\n",
      "59/59 [==============================] - 576s 10s/step - loss: 2.3471 - accuracy: 0.0994 - val_loss: 2.3311 - val_accuracy: 0.1056\n",
      "Epoch 4/30\n",
      "59/59 [==============================] - 587s 10s/step - loss: 2.3235 - accuracy: 0.0994 - val_loss: 2.3178 - val_accuracy: 0.1056\n",
      "Epoch 5/30\n",
      "59/59 [==============================] - 578s 10s/step - loss: 2.3145 - accuracy: 0.1023 - val_loss: 2.3121 - val_accuracy: 0.1056\n",
      "Epoch 6/30\n",
      "59/59 [==============================] - 569s 10s/step - loss: 2.3103 - accuracy: 0.1023 - val_loss: 2.3090 - val_accuracy: 0.1056\n",
      "Epoch 7/30\n",
      "59/59 [==============================] - 567s 10s/step - loss: 2.3080 - accuracy: 0.1023 - val_loss: 2.3072 - val_accuracy: 0.1056\n",
      "Epoch 8/30\n",
      "11/59 [====>.........................] - ETA: 7:26 - loss: 2.3069 - accuracy: 0.1044"
     ]
    }
   ],
   "source": [
    "from keras.wrappers.scikit_learn import KerasClassifier\n",
    "from sklearn.model_selection import RandomizedSearchCV, KFold\n",
    "from sklearn.metrics import make_scorer\n",
    "\n",
    "# model class to use in the scikit random search CV \n",
    "model = KerasClassifier(build_fn=Randomized_Model, epochs=10, batch_size=20, verbose=1)\n",
    "grid = RandomizedSearchCV(estimator=model, cv=KFold(3), param_distributions=params, \n",
    "                          verbose=20,  n_iter=10, n_jobs=1)\n",
    "\n",
    "grid_result = grid.fit(cifar10_X_train, cifar10_y_train)"
   ]
  },
  {
   "cell_type": "code",
   "execution_count": 125,
   "metadata": {},
   "outputs": [
    {
     "name": "stdout",
     "output_type": "stream",
     "text": [
      "Model: \"sequential_847\"\n",
      "_________________________________________________________________\n",
      " Layer (type)                Output Shape              Param #   \n",
      "=================================================================\n",
      " conv2d_2401 (Conv2D)        (None, 32, 32, 128)       3584      \n",
      "                                                                 \n",
      " activation_2323 (Activation  (None, 32, 32, 128)      0         \n",
      " )                                                               \n",
      "                                                                 \n",
      " max_pooling2d_2293 (MaxPool  (None, 16, 16, 128)      0         \n",
      " ing2D)                                                          \n",
      "                                                                 \n",
      " conv2d_2402 (Conv2D)        (None, 16, 16, 128)       147584    \n",
      "                                                                 \n",
      " activation_2324 (Activation  (None, 16, 16, 128)      0         \n",
      " )                                                               \n",
      "                                                                 \n",
      " max_pooling2d_2294 (MaxPool  (None, 8, 8, 128)        0         \n",
      " ing2D)                                                          \n",
      "                                                                 \n",
      " dropout_1606 (Dropout)      (None, 8, 8, 128)         0         \n",
      "                                                                 \n",
      " conv2d_2403 (Conv2D)        (None, 8, 8, 128)         147584    \n",
      "                                                                 \n",
      " activation_2325 (Activation  (None, 8, 8, 128)        0         \n",
      " )                                                               \n",
      "                                                                 \n",
      " max_pooling2d_2295 (MaxPool  (None, 4, 4, 128)        0         \n",
      " ing2D)                                                          \n",
      "                                                                 \n",
      " dropout_1607 (Dropout)      (None, 4, 4, 128)         0         \n",
      "                                                                 \n",
      " conv2d_2404 (Conv2D)        (None, 4, 4, 128)         147584    \n",
      "                                                                 \n",
      " activation_2326 (Activation  (None, 4, 4, 128)        0         \n",
      " )                                                               \n",
      "                                                                 \n",
      " max_pooling2d_2296 (MaxPool  (None, 2, 2, 128)        0         \n",
      " ing2D)                                                          \n",
      "                                                                 \n",
      " dropout_1608 (Dropout)      (None, 2, 2, 128)         0         \n",
      "                                                                 \n",
      " flatten_769 (Flatten)       (None, 512)               0         \n",
      "                                                                 \n",
      " dense_3838 (Dense)          (None, 64)                32832     \n",
      "                                                                 \n",
      " dropout_1609 (Dropout)      (None, 64)                0         \n",
      "                                                                 \n",
      " dense_3839 (Dense)          (None, 64)                4160      \n",
      "                                                                 \n",
      " dropout_1610 (Dropout)      (None, 64)                0         \n",
      "                                                                 \n",
      " dense_3840 (Dense)          (None, 64)                4160      \n",
      "                                                                 \n",
      " dropout_1611 (Dropout)      (None, 64)                0         \n",
      "                                                                 \n",
      " dense_3841 (Dense)          (None, 64)                4160      \n",
      "                                                                 \n",
      " dropout_1612 (Dropout)      (None, 64)                0         \n",
      "                                                                 \n",
      " dense_3842 (Dense)          (None, 64)                4160      \n",
      "                                                                 \n",
      " dropout_1613 (Dropout)      (None, 64)                0         \n",
      "                                                                 \n",
      " dense_3843 (Dense)          (None, 512)               33280     \n",
      "                                                                 \n",
      " dense_3844 (Dense)          (None, 10)                5130      \n",
      "                                                                 \n",
      "=================================================================\n",
      "Total params: 534,218\n",
      "Trainable params: 534,218\n",
      "Non-trainable params: 0\n",
      "_________________________________________________________________\n",
      "Model: \"sequential_847\"\n",
      "_________________________________________________________________\n",
      " Layer (type)                Output Shape              Param #   \n",
      "=================================================================\n",
      " conv2d_2401 (Conv2D)        (None, 32, 32, 128)       3584      \n",
      "                                                                 \n",
      " activation_2323 (Activation  (None, 32, 32, 128)      0         \n",
      " )                                                               \n",
      "                                                                 \n",
      " max_pooling2d_2293 (MaxPool  (None, 16, 16, 128)      0         \n",
      " ing2D)                                                          \n",
      "                                                                 \n",
      " conv2d_2402 (Conv2D)        (None, 16, 16, 128)       147584    \n",
      "                                                                 \n",
      " activation_2324 (Activation  (None, 16, 16, 128)      0         \n",
      " )                                                               \n",
      "                                                                 \n",
      " max_pooling2d_2294 (MaxPool  (None, 8, 8, 128)        0         \n",
      " ing2D)                                                          \n",
      "                                                                 \n",
      " dropout_1606 (Dropout)      (None, 8, 8, 128)         0         \n",
      "                                                                 \n",
      " conv2d_2403 (Conv2D)        (None, 8, 8, 128)         147584    \n",
      "                                                                 \n",
      " activation_2325 (Activation  (None, 8, 8, 128)        0         \n",
      " )                                                               \n",
      "                                                                 \n",
      " max_pooling2d_2295 (MaxPool  (None, 4, 4, 128)        0         \n",
      " ing2D)                                                          \n",
      "                                                                 \n",
      " dropout_1607 (Dropout)      (None, 4, 4, 128)         0         \n",
      "                                                                 \n",
      " conv2d_2404 (Conv2D)        (None, 4, 4, 128)         147584    \n",
      "                                                                 \n",
      " activation_2326 (Activation  (None, 4, 4, 128)        0         \n",
      " )                                                               \n",
      "                                                                 \n",
      " max_pooling2d_2296 (MaxPool  (None, 2, 2, 128)        0         \n",
      " ing2D)                                                          \n",
      "                                                                 \n",
      " dropout_1608 (Dropout)      (None, 2, 2, 128)         0         \n",
      "                                                                 \n",
      " flatten_769 (Flatten)       (None, 512)               0         \n",
      "                                                                 \n",
      " dense_3838 (Dense)          (None, 64)                32832     \n",
      "                                                                 \n",
      " dropout_1609 (Dropout)      (None, 64)                0         \n",
      "                                                                 \n",
      " dense_3839 (Dense)          (None, 64)                4160      \n",
      "                                                                 \n",
      " dropout_1610 (Dropout)      (None, 64)                0         \n",
      "                                                                 \n",
      " dense_3840 (Dense)          (None, 64)                4160      \n",
      "                                                                 \n",
      " dropout_1611 (Dropout)      (None, 64)                0         \n",
      "                                                                 \n",
      " dense_3841 (Dense)          (None, 64)                4160      \n",
      "                                                                 \n",
      " dropout_1612 (Dropout)      (None, 64)                0         \n",
      "                                                                 \n",
      " dense_3842 (Dense)          (None, 64)                4160      \n",
      "                                                                 \n",
      " dropout_1613 (Dropout)      (None, 64)                0         \n",
      "                                                                 \n",
      " dense_3843 (Dense)          (None, 512)               33280     \n",
      "                                                                 \n",
      " dense_3844 (Dense)          (None, 10)                5130      \n",
      "                                                                 \n",
      "=================================================================\n",
      "Total params: 534,218\n",
      "Trainable params: 534,218\n",
      "Non-trainable params: 0\n",
      "_________________________________________________________________\n",
      "Shape of last layer: (None, 10)\n"
     ]
    }
   ],
   "source": [
    "model = Randomized_Model()\n",
    "model.summary()\n",
    "last_layer_shape = model.layers[-1].output_shape\n",
    "print(\"Shape of last layer:\", last_layer_shape)"
   ]
  },
  {
   "cell_type": "code",
   "execution_count": null,
   "metadata": {},
   "outputs": [],
   "source": [
    "best_params=grid_result.best_params_\n",
    "best_params"
   ]
  },
  {
   "cell_type": "code",
   "execution_count": null,
   "metadata": {},
   "outputs": [],
   "source": [
    "\n",
    "\n",
    "\n"
   ]
  }
 ],
 "metadata": {
  "kernelspec": {
   "display_name": "base",
   "language": "python",
   "name": "python3"
  },
  "language_info": {
   "codemirror_mode": {
    "name": "ipython",
    "version": 3
   },
   "file_extension": ".py",
   "mimetype": "text/x-python",
   "name": "python",
   "nbconvert_exporter": "python",
   "pygments_lexer": "ipython3",
   "version": "3.8.13"
  },
  "orig_nbformat": 4
 },
 "nbformat": 4,
 "nbformat_minor": 2
}
